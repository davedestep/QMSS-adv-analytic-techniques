{
 "cells": [
  {
   "cell_type": "markdown",
   "metadata": {},
   "source": [
    "# Advanced quantitative techniques - Class 11 - Difference-in-differences"
   ]
  },
  {
   "cell_type": "code",
   "execution_count": 2,
   "metadata": {},
   "outputs": [],
   "source": [
    "import pandas as pd\n",
    "import numpy as np\n",
    "import seaborn as sns\n",
    "import matplotlib.pyplot as plt\n",
    "%matplotlib inline\n",
    "import statsmodels.api as sm\n",
    "import statsmodels.formula.api as smf"
   ]
  },
  {
   "cell_type": "code",
   "execution_count": 4,
   "metadata": {},
   "outputs": [
    {
     "data": {
      "text/plain": [
       "Index(['state', 'year', 'urate', 'children', 'nonwhite', 'finc', 'earn', 'age',\n",
       "       'ed', 'work', 'unearn'],\n",
       "      dtype='object')"
      ]
     },
     "execution_count": 4,
     "metadata": {},
     "output_type": "execute_result"
    }
   ],
   "source": [
    "# side 28\n",
    "eitc = pd.read_stata('Data/eitc.dta')\n",
    "eitc.columns"
   ]
  },
  {
   "cell_type": "code",
   "execution_count": 5,
   "metadata": {},
   "outputs": [
    {
     "data": {
      "text/plain": [
       "0.5744896237556942"
      ]
     },
     "execution_count": 5,
     "metadata": {},
     "output_type": "execute_result"
    }
   ],
   "source": [
    "np.mean(eitc[eitc['children'] == 0]['work'])"
   ]
  },
  {
   "cell_type": "code",
   "execution_count": 6,
   "metadata": {},
   "outputs": [
    {
     "data": {
      "text/plain": [
       "0.5376062786134729"
      ]
     },
     "execution_count": 6,
     "metadata": {},
     "output_type": "execute_result"
    }
   ],
   "source": [
    "np.mean(eitc[eitc['children'] == 1]['work'])"
   ]
  },
  {
   "cell_type": "code",
   "execution_count": 7,
   "metadata": {},
   "outputs": [
    {
     "data": {
      "text/plain": [
       "0.4664279319606088"
      ]
     },
     "execution_count": 7,
     "metadata": {},
     "output_type": "execute_result"
    }
   ],
   "source": [
    "np.mean(eitc[eitc['children'] >= 1]['work'])"
   ]
  },
  {
   "cell_type": "code",
   "execution_count": 8,
   "metadata": {},
   "outputs": [],
   "source": [
    "# slide 30\n",
    "eitc['c_earn'] = eitc['earn'] * eitc['work']\n",
    "eitc['c_earn'] = eitc['c_earn'].replace(0, np.nan)\n",
    "\n",
    "eitc['post93'] = (eitc['year'] >= 1994).astype(int) \n",
    "eitc['anykids'] = (eitc['children'] > 0).astype(int)\n",
    "\n",
    "# Take average value of 'work' by year, conditional on anykids\n",
    "minfo = eitc.groupby(['year', 'anykids'], as_index = False).agg({'work': 'mean'})"
   ]
  },
  {
   "cell_type": "code",
   "execution_count": 9,
   "metadata": {},
   "outputs": [
    {
     "data": {
      "text/html": [
       "<div>\n",
       "<style scoped>\n",
       "    .dataframe tbody tr th:only-of-type {\n",
       "        vertical-align: middle;\n",
       "    }\n",
       "\n",
       "    .dataframe tbody tr th {\n",
       "        vertical-align: top;\n",
       "    }\n",
       "\n",
       "    .dataframe thead th {\n",
       "        text-align: right;\n",
       "    }\n",
       "</style>\n",
       "<table border=\"1\" class=\"dataframe\">\n",
       "  <thead>\n",
       "    <tr style=\"text-align: right;\">\n",
       "      <th></th>\n",
       "      <th>YR</th>\n",
       "      <th>Treatment</th>\n",
       "      <th>LFPR</th>\n",
       "      <th>Group</th>\n",
       "    </tr>\n",
       "  </thead>\n",
       "  <tbody>\n",
       "    <tr>\n",
       "      <th>0</th>\n",
       "      <td>1991.0</td>\n",
       "      <td>0</td>\n",
       "      <td>0.583032</td>\n",
       "      <td>Single women, no children</td>\n",
       "    </tr>\n",
       "    <tr>\n",
       "      <th>1</th>\n",
       "      <td>1991.0</td>\n",
       "      <td>1</td>\n",
       "      <td>0.460053</td>\n",
       "      <td>Single women, children</td>\n",
       "    </tr>\n",
       "    <tr>\n",
       "      <th>2</th>\n",
       "      <td>1992.0</td>\n",
       "      <td>0</td>\n",
       "      <td>0.571566</td>\n",
       "      <td>Single women, no children</td>\n",
       "    </tr>\n",
       "    <tr>\n",
       "      <th>3</th>\n",
       "      <td>1992.0</td>\n",
       "      <td>1</td>\n",
       "      <td>0.438920</td>\n",
       "      <td>Single women, children</td>\n",
       "    </tr>\n",
       "    <tr>\n",
       "      <th>4</th>\n",
       "      <td>1993.0</td>\n",
       "      <td>0</td>\n",
       "      <td>0.571144</td>\n",
       "      <td>Single women, no children</td>\n",
       "    </tr>\n",
       "    <tr>\n",
       "      <th>5</th>\n",
       "      <td>1993.0</td>\n",
       "      <td>1</td>\n",
       "      <td>0.437547</td>\n",
       "      <td>Single women, children</td>\n",
       "    </tr>\n",
       "    <tr>\n",
       "      <th>6</th>\n",
       "      <td>1994.0</td>\n",
       "      <td>0</td>\n",
       "      <td>0.590909</td>\n",
       "      <td>Single women, no children</td>\n",
       "    </tr>\n",
       "    <tr>\n",
       "      <th>7</th>\n",
       "      <td>1994.0</td>\n",
       "      <td>1</td>\n",
       "      <td>0.464032</td>\n",
       "      <td>Single women, children</td>\n",
       "    </tr>\n",
       "    <tr>\n",
       "      <th>8</th>\n",
       "      <td>1995.0</td>\n",
       "      <td>0</td>\n",
       "      <td>0.574236</td>\n",
       "      <td>Single women, no children</td>\n",
       "    </tr>\n",
       "    <tr>\n",
       "      <th>9</th>\n",
       "      <td>1995.0</td>\n",
       "      <td>1</td>\n",
       "      <td>0.508127</td>\n",
       "      <td>Single women, children</td>\n",
       "    </tr>\n",
       "    <tr>\n",
       "      <th>10</th>\n",
       "      <td>1996.0</td>\n",
       "      <td>0</td>\n",
       "      <td>0.552480</td>\n",
       "      <td>Single women, no children</td>\n",
       "    </tr>\n",
       "    <tr>\n",
       "      <th>11</th>\n",
       "      <td>1996.0</td>\n",
       "      <td>1</td>\n",
       "      <td>0.502636</td>\n",
       "      <td>Single women, children</td>\n",
       "    </tr>\n",
       "  </tbody>\n",
       "</table>\n",
       "</div>"
      ],
      "text/plain": [
       "        YR  Treatment      LFPR                      Group\n",
       "0   1991.0          0  0.583032  Single women, no children\n",
       "1   1991.0          1  0.460053     Single women, children\n",
       "2   1992.0          0  0.571566  Single women, no children\n",
       "3   1992.0          1  0.438920     Single women, children\n",
       "4   1993.0          0  0.571144  Single women, no children\n",
       "5   1993.0          1  0.437547     Single women, children\n",
       "6   1994.0          0  0.590909  Single women, no children\n",
       "7   1994.0          1  0.464032     Single women, children\n",
       "8   1995.0          0  0.574236  Single women, no children\n",
       "9   1995.0          1  0.508127     Single women, children\n",
       "10  1996.0          0  0.552480  Single women, no children\n",
       "11  1996.0          1  0.502636     Single women, children"
      ]
     },
     "execution_count": 9,
     "metadata": {},
     "output_type": "execute_result"
    }
   ],
   "source": [
    "# Rename columns\n",
    "minfo.columns = ['YR', 'Treatment', 'LFPR']\n",
    "\n",
    "# Add new column with labels\n",
    "minfo['Group'] = np.where(minfo['Treatment'] == 0, 'Single women, no children', 'Single women, children')\n",
    "\n",
    "minfo"
   ]
  },
  {
   "cell_type": "code",
   "execution_count": 10,
   "metadata": {},
   "outputs": [
    {
     "data": {
      "text/plain": [
       "<seaborn.axisgrid.FacetGrid at 0x1c22cd8978>"
      ]
     },
     "execution_count": 10,
     "metadata": {},
     "output_type": "execute_result"
    },
    {
     "data": {
      "image/png": "[encoded data removed]",
      "text/plain": [
       "<Figure size 600.625x432 with 1 Axes>"
      ]
     },
     "metadata": {},
     "output_type": "display_data"
    }
   ],
   "source": [
    "# slide 32\n",
    "g = sns.factorplot(x = 'YR', y = 'LFPR', hue = 'Group', data = minfo, \n",
    "               size = 6, ci = None)\n",
    "(g.set_axis_labels(\"Year\", \"Labor Force Participation Rate\"))"
   ]
  },
  {
   "cell_type": "code",
   "execution_count": 11,
   "metadata": {},
   "outputs": [
    {
     "data": {
      "text/html": [
       "<div>\n",
       "<style scoped>\n",
       "    .dataframe tbody tr th:only-of-type {\n",
       "        vertical-align: middle;\n",
       "    }\n",
       "\n",
       "    .dataframe tbody tr th {\n",
       "        vertical-align: top;\n",
       "    }\n",
       "\n",
       "    .dataframe thead th {\n",
       "        text-align: right;\n",
       "    }\n",
       "</style>\n",
       "<table border=\"1\" class=\"dataframe\">\n",
       "  <thead>\n",
       "    <tr style=\"text-align: right;\">\n",
       "      <th></th>\n",
       "      <th>post93</th>\n",
       "      <th>anykids</th>\n",
       "      <th>work</th>\n",
       "    </tr>\n",
       "  </thead>\n",
       "  <tbody>\n",
       "    <tr>\n",
       "      <th>0</th>\n",
       "      <td>0</td>\n",
       "      <td>0</td>\n",
       "      <td>0.575460</td>\n",
       "    </tr>\n",
       "    <tr>\n",
       "      <th>1</th>\n",
       "      <td>0</td>\n",
       "      <td>1</td>\n",
       "      <td>0.445962</td>\n",
       "    </tr>\n",
       "    <tr>\n",
       "      <th>2</th>\n",
       "      <td>1</td>\n",
       "      <td>0</td>\n",
       "      <td>0.573386</td>\n",
       "    </tr>\n",
       "    <tr>\n",
       "      <th>3</th>\n",
       "      <td>1</td>\n",
       "      <td>1</td>\n",
       "      <td>0.490761</td>\n",
       "    </tr>\n",
       "  </tbody>\n",
       "</table>\n",
       "</div>"
      ],
      "text/plain": [
       "   post93  anykids      work\n",
       "0       0        0  0.575460\n",
       "1       0        1  0.445962\n",
       "2       1        0  0.573386\n",
       "3       1        1  0.490761"
      ]
     },
     "execution_count": 11,
     "metadata": {},
     "output_type": "execute_result"
    }
   ],
   "source": [
    "means = eitc.groupby(['post93', 'anykids'], as_index = False).agg({'work': 'mean'})\n",
    "means"
   ]
  },
  {
   "cell_type": "code",
   "execution_count": 12,
   "metadata": {},
   "outputs": [
    {
     "data": {
      "text/plain": [
       "0.04687313210185562"
      ]
     },
     "execution_count": 12,
     "metadata": {},
     "output_type": "execute_result"
    }
   ],
   "source": [
    "# calculate differences in means by indexing\n",
    "(means.iloc[3, 2] - means.iloc[2, 2]) - (means.iloc[1, 2] - means.iloc[0, 2])"
   ]
  },
  {
   "cell_type": "markdown",
   "metadata": {},
   "source": [
    "### In regression terms"
   ]
  },
  {
   "cell_type": "code",
   "execution_count": 15,
   "metadata": {},
   "outputs": [
    {
     "data": {
      "text/html": [
       "<table class=\"simpletable\">\n",
       "<caption>OLS Regression Results</caption>\n",
       "<tr>\n",
       "  <th>Dep. Variable:</th>          <td>work</td>       <th>  R-squared:         </th> <td>   0.013</td> \n",
       "</tr>\n",
       "<tr>\n",
       "  <th>Model:</th>                   <td>OLS</td>       <th>  Adj. R-squared:    </th> <td>   0.012</td> \n",
       "</tr>\n",
       "<tr>\n",
       "  <th>Method:</th>             <td>Least Squares</td>  <th>  F-statistic:       </th> <td>   58.45</td> \n",
       "</tr>\n",
       "<tr>\n",
       "  <th>Date:</th>             <td>Thu, 16 Aug 2018</td> <th>  Prob (F-statistic):</th> <td>1.54e-37</td> \n",
       "</tr>\n",
       "<tr>\n",
       "  <th>Time:</th>                 <td>14:33:20</td>     <th>  Log-Likelihood:    </th> <td> -9884.9</td> \n",
       "</tr>\n",
       "<tr>\n",
       "  <th>No. Observations:</th>      <td> 13746</td>      <th>  AIC:               </th> <td>1.978e+04</td>\n",
       "</tr>\n",
       "<tr>\n",
       "  <th>Df Residuals:</th>          <td> 13742</td>      <th>  BIC:               </th> <td>1.981e+04</td>\n",
       "</tr>\n",
       "<tr>\n",
       "  <th>Df Model:</th>              <td>     3</td>      <th>                     </th>     <td> </td>    \n",
       "</tr>\n",
       "<tr>\n",
       "  <th>Covariance Type:</th>      <td>nonrobust</td>    <th>                     </th>     <td> </td>    \n",
       "</tr>\n",
       "</table>\n",
       "<table class=\"simpletable\">\n",
       "<tr>\n",
       "         <td></td>           <th>coef</th>     <th>std err</th>      <th>t</th>      <th>P>|t|</th>  <th>[0.025</th>    <th>0.975]</th>  \n",
       "</tr>\n",
       "<tr>\n",
       "  <th>Intercept</th>      <td>    0.5755</td> <td>    0.009</td> <td>   65.060</td> <td> 0.000</td> <td>    0.558</td> <td>    0.593</td>\n",
       "</tr>\n",
       "<tr>\n",
       "  <th>post93</th>         <td>   -0.0021</td> <td>    0.013</td> <td>   -0.160</td> <td> 0.873</td> <td>   -0.027</td> <td>    0.023</td>\n",
       "</tr>\n",
       "<tr>\n",
       "  <th>anykids</th>        <td>   -0.1295</td> <td>    0.012</td> <td>  -11.091</td> <td> 0.000</td> <td>   -0.152</td> <td>   -0.107</td>\n",
       "</tr>\n",
       "<tr>\n",
       "  <th>post93:anykids</th> <td>    0.0469</td> <td>    0.017</td> <td>    2.732</td> <td> 0.006</td> <td>    0.013</td> <td>    0.081</td>\n",
       "</tr>\n",
       "</table>\n",
       "<table class=\"simpletable\">\n",
       "<tr>\n",
       "  <th>Omnibus:</th>       <td> 5.965</td> <th>  Durbin-Watson:     </th> <td>   1.978</td>\n",
       "</tr>\n",
       "<tr>\n",
       "  <th>Prob(Omnibus):</th> <td> 0.051</td> <th>  Jarque-Bera (JB):  </th> <td>2175.929</td>\n",
       "</tr>\n",
       "<tr>\n",
       "  <th>Skew:</th>          <td>-0.051</td> <th>  Prob(JB):          </th> <td>    0.00</td>\n",
       "</tr>\n",
       "<tr>\n",
       "  <th>Kurtosis:</th>      <td> 1.054</td> <th>  Cond. No.          </th> <td>    7.14</td>\n",
       "</tr>\n",
       "</table><br/><br/>Warnings:<br/>[1] Standard Errors assume that the covariance matrix of the errors is correctly specified."
      ],
      "text/plain": [
       "<class 'statsmodels.iolib.summary.Summary'>\n",
       "\"\"\"\n",
       "                            OLS Regression Results                            \n",
       "==============================================================================\n",
       "Dep. Variable:                   work   R-squared:                       0.013\n",
       "Model:                            OLS   Adj. R-squared:                  0.012\n",
       "Method:                 Least Squares   F-statistic:                     58.45\n",
       "Date:                Thu, 16 Aug 2018   Prob (F-statistic):           1.54e-37\n",
       "Time:                        14:33:20   Log-Likelihood:                -9884.9\n",
       "No. Observations:               13746   AIC:                         1.978e+04\n",
       "Df Residuals:                   13742   BIC:                         1.981e+04\n",
       "Df Model:                           3                                         \n",
       "Covariance Type:            nonrobust                                         \n",
       "==================================================================================\n",
       "                     coef    std err          t      P>|t|      [0.025      0.975]\n",
       "----------------------------------------------------------------------------------\n",
       "Intercept          0.5755      0.009     65.060      0.000       0.558       0.593\n",
       "post93            -0.0021      0.013     -0.160      0.873      -0.027       0.023\n",
       "anykids           -0.1295      0.012    -11.091      0.000      -0.152      -0.107\n",
       "post93:anykids     0.0469      0.017      2.732      0.006       0.013       0.081\n",
       "==============================================================================\n",
       "Omnibus:                        5.965   Durbin-Watson:                   1.978\n",
       "Prob(Omnibus):                  0.051   Jarque-Bera (JB):             2175.929\n",
       "Skew:                          -0.051   Prob(JB):                         0.00\n",
       "Kurtosis:                       1.054   Cond. No.                         7.14\n",
       "==============================================================================\n",
       "\n",
       "Warnings:\n",
       "[1] Standard Errors assume that the covariance matrix of the errors is correctly specified.\n",
       "\"\"\""
      ]
     },
     "execution_count": 15,
     "metadata": {},
     "output_type": "execute_result"
    }
   ],
   "source": [
    "# slide 36\n",
    "reg1 = smf.ols('work ~ post93 + anykids + post93:anykids', data = eitc).fit()\n",
    "reg1.summary()"
   ]
  },
  {
   "cell_type": "markdown",
   "metadata": {},
   "source": [
    "### With covariates"
   ]
  },
  {
   "cell_type": "code",
   "execution_count": 22,
   "metadata": {},
   "outputs": [
    {
     "data": {
      "text/html": [
       "<table class=\"simpletable\">\n",
       "<caption>OLS Regression Results</caption>\n",
       "<tr>\n",
       "  <th>Dep. Variable:</th>          <td>work</td>       <th>  R-squared:         </th> <td>   0.194</td> \n",
       "</tr>\n",
       "<tr>\n",
       "  <th>Model:</th>                   <td>OLS</td>       <th>  Adj. R-squared:    </th> <td>   0.193</td> \n",
       "</tr>\n",
       "<tr>\n",
       "  <th>Method:</th>             <td>Least Squares</td>  <th>  F-statistic:       </th> <td>   366.3</td> \n",
       "</tr>\n",
       "<tr>\n",
       "  <th>Date:</th>             <td>Thu, 16 Aug 2018</td> <th>  Prob (F-statistic):</th>  <td>  0.00</td>  \n",
       "</tr>\n",
       "<tr>\n",
       "  <th>Time:</th>                 <td>14:41:25</td>     <th>  Log-Likelihood:    </th> <td> -8493.6</td> \n",
       "</tr>\n",
       "<tr>\n",
       "  <th>No. Observations:</th>      <td> 13746</td>      <th>  AIC:               </th> <td>1.701e+04</td>\n",
       "</tr>\n",
       "<tr>\n",
       "  <th>Df Residuals:</th>          <td> 13736</td>      <th>  BIC:               </th> <td>1.708e+04</td>\n",
       "</tr>\n",
       "<tr>\n",
       "  <th>Df Model:</th>              <td>     9</td>      <th>                     </th>     <td> </td>    \n",
       "</tr>\n",
       "<tr>\n",
       "  <th>Covariance Type:</th>      <td>nonrobust</td>    <th>                     </th>     <td> </td>    \n",
       "</tr>\n",
       "</table>\n",
       "<table class=\"simpletable\">\n",
       "<tr>\n",
       "         <td></td>           <th>coef</th>     <th>std err</th>      <th>t</th>      <th>P>|t|</th>  <th>[0.025</th>    <th>0.975]</th>  \n",
       "</tr>\n",
       "<tr>\n",
       "  <th>Intercept</th>      <td>    0.3496</td> <td>    0.024</td> <td>   14.788</td> <td> 0.000</td> <td>    0.303</td> <td>    0.396</td>\n",
       "</tr>\n",
       "<tr>\n",
       "  <th>anykids</th>        <td>   -0.0544</td> <td>    0.011</td> <td>   -4.972</td> <td> 0.000</td> <td>   -0.076</td> <td>   -0.033</td>\n",
       "</tr>\n",
       "<tr>\n",
       "  <th>post93</th>         <td>   -0.0065</td> <td>    0.012</td> <td>   -0.560</td> <td> 0.576</td> <td>   -0.029</td> <td>    0.016</td>\n",
       "</tr>\n",
       "<tr>\n",
       "  <th>post93:anykids</th> <td>    0.0398</td> <td>    0.016</td> <td>    2.567</td> <td> 0.010</td> <td>    0.009</td> <td>    0.070</td>\n",
       "</tr>\n",
       "<tr>\n",
       "  <th>nonwhite</th>       <td>   -0.0624</td> <td>    0.008</td> <td>   -7.811</td> <td> 0.000</td> <td>   -0.078</td> <td>   -0.047</td>\n",
       "</tr>\n",
       "<tr>\n",
       "  <th>age</th>            <td>    0.0028</td> <td>    0.000</td> <td>    6.889</td> <td> 0.000</td> <td>    0.002</td> <td>    0.004</td>\n",
       "</tr>\n",
       "<tr>\n",
       "  <th>I(age ** 2)</th>    <td> 5.634e-05</td> <td> 5.25e-05</td> <td>    1.073</td> <td> 0.283</td> <td>-4.66e-05</td> <td>    0.000</td>\n",
       "</tr>\n",
       "<tr>\n",
       "  <th>ed</th>             <td>    0.0138</td> <td>    0.001</td> <td>    9.248</td> <td> 0.000</td> <td>    0.011</td> <td>    0.017</td>\n",
       "</tr>\n",
       "<tr>\n",
       "  <th>finc</th>           <td> 8.892e-06</td> <td> 2.13e-07</td> <td>   41.657</td> <td> 0.000</td> <td> 8.47e-06</td> <td> 9.31e-06</td>\n",
       "</tr>\n",
       "<tr>\n",
       "  <th>I(finc - earn)</th> <td> -2.67e-05</td> <td> 5.79e-07</td> <td>  -46.078</td> <td> 0.000</td> <td>-2.78e-05</td> <td>-2.56e-05</td>\n",
       "</tr>\n",
       "</table>\n",
       "<table class=\"simpletable\">\n",
       "<tr>\n",
       "  <th>Omnibus:</th>       <td>49.267</td> <th>  Durbin-Watson:     </th> <td>   1.988</td>\n",
       "</tr>\n",
       "<tr>\n",
       "  <th>Prob(Omnibus):</th> <td> 0.000</td> <th>  Jarque-Bera (JB):  </th> <td>  49.665</td>\n",
       "</tr>\n",
       "<tr>\n",
       "  <th>Skew:</th>          <td>-0.144</td> <th>  Prob(JB):          </th> <td>1.64e-11</td>\n",
       "</tr>\n",
       "<tr>\n",
       "  <th>Kurtosis:</th>      <td> 2.941</td> <th>  Cond. No.          </th> <td>1.65e+05</td>\n",
       "</tr>\n",
       "</table><br/><br/>Warnings:<br/>[1] Standard Errors assume that the covariance matrix of the errors is correctly specified.<br/>[2] The condition number is large, 1.65e+05. This might indicate that there are<br/>strong multicollinearity or other numerical problems."
      ],
      "text/plain": [
       "<class 'statsmodels.iolib.summary.Summary'>\n",
       "\"\"\"\n",
       "                            OLS Regression Results                            \n",
       "==============================================================================\n",
       "Dep. Variable:                   work   R-squared:                       0.194\n",
       "Model:                            OLS   Adj. R-squared:                  0.193\n",
       "Method:                 Least Squares   F-statistic:                     366.3\n",
       "Date:                Thu, 16 Aug 2018   Prob (F-statistic):               0.00\n",
       "Time:                        14:41:25   Log-Likelihood:                -8493.6\n",
       "No. Observations:               13746   AIC:                         1.701e+04\n",
       "Df Residuals:                   13736   BIC:                         1.708e+04\n",
       "Df Model:                           9                                         \n",
       "Covariance Type:            nonrobust                                         \n",
       "==================================================================================\n",
       "                     coef    std err          t      P>|t|      [0.025      0.975]\n",
       "----------------------------------------------------------------------------------\n",
       "Intercept          0.3496      0.024     14.788      0.000       0.303       0.396\n",
       "anykids           -0.0544      0.011     -4.972      0.000      -0.076      -0.033\n",
       "post93            -0.0065      0.012     -0.560      0.576      -0.029       0.016\n",
       "post93:anykids     0.0398      0.016      2.567      0.010       0.009       0.070\n",
       "nonwhite          -0.0624      0.008     -7.811      0.000      -0.078      -0.047\n",
       "age                0.0028      0.000      6.889      0.000       0.002       0.004\n",
       "I(age ** 2)     5.634e-05   5.25e-05      1.073      0.283   -4.66e-05       0.000\n",
       "ed                 0.0138      0.001      9.248      0.000       0.011       0.017\n",
       "finc            8.892e-06   2.13e-07     41.657      0.000    8.47e-06    9.31e-06\n",
       "I(finc - earn)  -2.67e-05   5.79e-07    -46.078      0.000   -2.78e-05   -2.56e-05\n",
       "==============================================================================\n",
       "Omnibus:                       49.267   Durbin-Watson:                   1.988\n",
       "Prob(Omnibus):                  0.000   Jarque-Bera (JB):               49.665\n",
       "Skew:                          -0.144   Prob(JB):                     1.64e-11\n",
       "Kurtosis:                       2.941   Cond. No.                     1.65e+05\n",
       "==============================================================================\n",
       "\n",
       "Warnings:\n",
       "[1] Standard Errors assume that the covariance matrix of the errors is correctly specified.\n",
       "[2] The condition number is large, 1.65e+05. This might indicate that there are\n",
       "strong multicollinearity or other numerical problems.\n",
       "\"\"\""
      ]
     },
     "execution_count": 22,
     "metadata": {},
     "output_type": "execute_result"
    }
   ],
   "source": [
    "reg2 = smf.ols('work ~ anykids + post93 + post93:anykids + nonwhite + age + I(age**2) + ed + finc + I(finc-earn)', data=eitc).fit()\n",
    "reg2.summary()"
   ]
  },
  {
   "cell_type": "markdown",
   "metadata": {},
   "source": [
    "### Placebo treatment"
   ]
  },
  {
   "cell_type": "code",
   "execution_count": 23,
   "metadata": {},
   "outputs": [
    {
     "data": {
      "text/html": [
       "<table class=\"simpletable\">\n",
       "<caption>OLS Regression Results</caption>\n",
       "<tr>\n",
       "  <th>Dep. Variable:</th>          <td>work</td>       <th>  R-squared:         </th> <td>   0.017</td> \n",
       "</tr>\n",
       "<tr>\n",
       "  <th>Model:</th>                   <td>OLS</td>       <th>  Adj. R-squared:    </th> <td>   0.016</td> \n",
       "</tr>\n",
       "<tr>\n",
       "  <th>Method:</th>             <td>Least Squares</td>  <th>  F-statistic:       </th> <td>   41.89</td> \n",
       "</tr>\n",
       "<tr>\n",
       "  <th>Date:</th>             <td>Thu, 16 Aug 2018</td> <th>  Prob (F-statistic):</th> <td>7.77e-27</td> \n",
       "</tr>\n",
       "<tr>\n",
       "  <th>Time:</th>                 <td>14:42:01</td>     <th>  Log-Likelihood:    </th> <td> -5309.2</td> \n",
       "</tr>\n",
       "<tr>\n",
       "  <th>No. Observations:</th>      <td>  7401</td>      <th>  AIC:               </th> <td>1.063e+04</td>\n",
       "</tr>\n",
       "<tr>\n",
       "  <th>Df Residuals:</th>          <td>  7397</td>      <th>  BIC:               </th> <td>1.065e+04</td>\n",
       "</tr>\n",
       "<tr>\n",
       "  <th>Df Model:</th>              <td>     3</td>      <th>                     </th>     <td> </td>    \n",
       "</tr>\n",
       "<tr>\n",
       "  <th>Covariance Type:</th>      <td>nonrobust</td>    <th>                     </th>     <td> </td>    \n",
       "</tr>\n",
       "</table>\n",
       "<table class=\"simpletable\">\n",
       "<tr>\n",
       "         <td></td>           <th>coef</th>     <th>std err</th>      <th>t</th>      <th>P>|t|</th>  <th>[0.025</th>    <th>0.975]</th>  \n",
       "</tr>\n",
       "<tr>\n",
       "  <th>Intercept</th>      <td>    0.5830</td> <td>    0.015</td> <td>   39.132</td> <td> 0.000</td> <td>    0.554</td> <td>    0.612</td>\n",
       "</tr>\n",
       "<tr>\n",
       "  <th>anykids</th>        <td>   -0.1230</td> <td>    0.020</td> <td>   -6.262</td> <td> 0.000</td> <td>   -0.161</td> <td>   -0.084</td>\n",
       "</tr>\n",
       "<tr>\n",
       "  <th>post91</th>         <td>   -0.0117</td> <td>    0.018</td> <td>   -0.631</td> <td> 0.528</td> <td>   -0.048</td> <td>    0.025</td>\n",
       "</tr>\n",
       "<tr>\n",
       "  <th>post91:anykids</th> <td>   -0.0101</td> <td>    0.024</td> <td>   -0.415</td> <td> 0.678</td> <td>   -0.058</td> <td>    0.038</td>\n",
       "</tr>\n",
       "</table>\n",
       "<table class=\"simpletable\">\n",
       "<tr>\n",
       "  <th>Omnibus:</th>       <td> 0.013</td> <th>  Durbin-Watson:     </th> <td>   1.960</td> \n",
       "</tr>\n",
       "<tr>\n",
       "  <th>Prob(Omnibus):</th> <td> 0.993</td> <th>  Jarque-Bera (JB):  </th> <td>1151.244</td> \n",
       "</tr>\n",
       "<tr>\n",
       "  <th>Skew:</th>          <td>-0.003</td> <th>  Prob(JB):          </th> <td>1.02e-250</td>\n",
       "</tr>\n",
       "<tr>\n",
       "  <th>Kurtosis:</th>      <td> 1.068</td> <th>  Cond. No.          </th> <td>    8.86</td> \n",
       "</tr>\n",
       "</table><br/><br/>Warnings:<br/>[1] Standard Errors assume that the covariance matrix of the errors is correctly specified."
      ],
      "text/plain": [
       "<class 'statsmodels.iolib.summary.Summary'>\n",
       "\"\"\"\n",
       "                            OLS Regression Results                            \n",
       "==============================================================================\n",
       "Dep. Variable:                   work   R-squared:                       0.017\n",
       "Model:                            OLS   Adj. R-squared:                  0.016\n",
       "Method:                 Least Squares   F-statistic:                     41.89\n",
       "Date:                Thu, 16 Aug 2018   Prob (F-statistic):           7.77e-27\n",
       "Time:                        14:42:01   Log-Likelihood:                -5309.2\n",
       "No. Observations:                7401   AIC:                         1.063e+04\n",
       "Df Residuals:                    7397   BIC:                         1.065e+04\n",
       "Df Model:                           3                                         \n",
       "Covariance Type:            nonrobust                                         \n",
       "==================================================================================\n",
       "                     coef    std err          t      P>|t|      [0.025      0.975]\n",
       "----------------------------------------------------------------------------------\n",
       "Intercept          0.5830      0.015     39.132      0.000       0.554       0.612\n",
       "anykids           -0.1230      0.020     -6.262      0.000      -0.161      -0.084\n",
       "post91            -0.0117      0.018     -0.631      0.528      -0.048       0.025\n",
       "post91:anykids    -0.0101      0.024     -0.415      0.678      -0.058       0.038\n",
       "==============================================================================\n",
       "Omnibus:                        0.013   Durbin-Watson:                   1.960\n",
       "Prob(Omnibus):                  0.993   Jarque-Bera (JB):             1151.244\n",
       "Skew:                          -0.003   Prob(JB):                    1.02e-250\n",
       "Kurtosis:                       1.068   Cond. No.                         8.86\n",
       "==============================================================================\n",
       "\n",
       "Warnings:\n",
       "[1] Standard Errors assume that the covariance matrix of the errors is correctly specified.\n",
       "\"\"\""
      ]
     },
     "execution_count": 23,
     "metadata": {},
     "output_type": "execute_result"
    }
   ],
   "source": [
    "# slide 39\n",
    "# subset the data to include only years before 1994\n",
    "eitc_sub = eitc.where(eitc['year'] <= 1993)\n",
    "\n",
    "# create a new \"after treatment\" dummy variable and interaction term\n",
    "eitc_sub['post91'] = (eitc_sub['year'] >= 1992).astype(int)\n",
    "\n",
    "# run a placeto regression where placebo treatment = post91*anykids\n",
    "reg3 = smf.ols('work ~ anykids + post91 + post91*anykids', data = eitc_sub).fit()\n",
    "reg3.summary()"
   ]
  },
  {
   "cell_type": "markdown",
   "metadata": {},
   "source": [
    "### The `sumstats` function"
   ]
  },
  {
   "cell_type": "code",
   "execution_count": 24,
   "metadata": {},
   "outputs": [],
   "source": [
    "# slide 41-42\n",
    "def sumstats(x):\n",
    "    # the count() function skips NA's by default\n",
    "    sumtable = x.count().to_frame()\n",
    "    sumtable['mean'] = round(x.mean(numeric_only = True), 2)\n",
    "    sumtable['median'] = round(x.median(numeric_only = True), 2)\n",
    "    sumtable['sd'] = round(x.std(numeric_only = True), 2)\n",
    "    sumtable['min'] = round(x.min(numeric_only = True), 2)\n",
    "    sumtable['max'] = round(x.max(numeric_only = True), 2)\n",
    "    sumtable.columns = ['obs', 'mean', 'median', 'sd', 'min', 'max']\n",
    "    return sumtable"
   ]
  },
  {
   "cell_type": "code",
   "execution_count": 25,
   "metadata": {},
   "outputs": [
    {
     "data": {
      "text/html": [
       "<div>\n",
       "<style scoped>\n",
       "    .dataframe tbody tr th:only-of-type {\n",
       "        vertical-align: middle;\n",
       "    }\n",
       "\n",
       "    .dataframe tbody tr th {\n",
       "        vertical-align: top;\n",
       "    }\n",
       "\n",
       "    .dataframe thead th {\n",
       "        text-align: right;\n",
       "    }\n",
       "</style>\n",
       "<table border=\"1\" class=\"dataframe\">\n",
       "  <thead>\n",
       "    <tr style=\"text-align: right;\">\n",
       "      <th></th>\n",
       "      <th>obs</th>\n",
       "      <th>mean</th>\n",
       "      <th>median</th>\n",
       "      <th>sd</th>\n",
       "      <th>min</th>\n",
       "      <th>max</th>\n",
       "    </tr>\n",
       "  </thead>\n",
       "  <tbody>\n",
       "    <tr>\n",
       "      <th>state</th>\n",
       "      <td>5927</td>\n",
       "      <td>53.40</td>\n",
       "      <td>56.00</td>\n",
       "      <td>26.40</td>\n",
       "      <td>11.00</td>\n",
       "      <td>95.00</td>\n",
       "    </tr>\n",
       "    <tr>\n",
       "      <th>year</th>\n",
       "      <td>5927</td>\n",
       "      <td>1993.37</td>\n",
       "      <td>1993.00</td>\n",
       "      <td>1.70</td>\n",
       "      <td>1991.00</td>\n",
       "      <td>1996.00</td>\n",
       "    </tr>\n",
       "    <tr>\n",
       "      <th>urate</th>\n",
       "      <td>5927</td>\n",
       "      <td>6.66</td>\n",
       "      <td>6.70</td>\n",
       "      <td>1.48</td>\n",
       "      <td>2.60</td>\n",
       "      <td>11.40</td>\n",
       "    </tr>\n",
       "    <tr>\n",
       "      <th>children</th>\n",
       "      <td>5927</td>\n",
       "      <td>0.00</td>\n",
       "      <td>0.00</td>\n",
       "      <td>0.00</td>\n",
       "      <td>0.00</td>\n",
       "      <td>0.00</td>\n",
       "    </tr>\n",
       "    <tr>\n",
       "      <th>nonwhite</th>\n",
       "      <td>5927</td>\n",
       "      <td>0.52</td>\n",
       "      <td>1.00</td>\n",
       "      <td>0.50</td>\n",
       "      <td>0.00</td>\n",
       "      <td>1.00</td>\n",
       "    </tr>\n",
       "    <tr>\n",
       "      <th>finc</th>\n",
       "      <td>5927</td>\n",
       "      <td>18559.86</td>\n",
       "      <td>11912.96</td>\n",
       "      <td>23041.78</td>\n",
       "      <td>0.00</td>\n",
       "      <td>575616.82</td>\n",
       "    </tr>\n",
       "    <tr>\n",
       "      <th>earn</th>\n",
       "      <td>5927</td>\n",
       "      <td>13760.26</td>\n",
       "      <td>7664.01</td>\n",
       "      <td>21301.40</td>\n",
       "      <td>0.00</td>\n",
       "      <td>537880.61</td>\n",
       "    </tr>\n",
       "    <tr>\n",
       "      <th>age</th>\n",
       "      <td>5927</td>\n",
       "      <td>38.50</td>\n",
       "      <td>40.00</td>\n",
       "      <td>11.05</td>\n",
       "      <td>20.00</td>\n",
       "      <td>54.00</td>\n",
       "    </tr>\n",
       "    <tr>\n",
       "      <th>ed</th>\n",
       "      <td>5927</td>\n",
       "      <td>8.55</td>\n",
       "      <td>10.00</td>\n",
       "      <td>2.89</td>\n",
       "      <td>0.00</td>\n",
       "      <td>11.00</td>\n",
       "    </tr>\n",
       "    <tr>\n",
       "      <th>work</th>\n",
       "      <td>5927</td>\n",
       "      <td>0.57</td>\n",
       "      <td>1.00</td>\n",
       "      <td>0.49</td>\n",
       "      <td>0.00</td>\n",
       "      <td>1.00</td>\n",
       "    </tr>\n",
       "    <tr>\n",
       "      <th>unearn</th>\n",
       "      <td>5927</td>\n",
       "      <td>4.80</td>\n",
       "      <td>1.25</td>\n",
       "      <td>8.50</td>\n",
       "      <td>0.00</td>\n",
       "      <td>134.06</td>\n",
       "    </tr>\n",
       "    <tr>\n",
       "      <th>c_earn</th>\n",
       "      <td>3403</td>\n",
       "      <td>19850.59</td>\n",
       "      <td>13905.29</td>\n",
       "      <td>23189.02</td>\n",
       "      <td>1.05</td>\n",
       "      <td>537880.61</td>\n",
       "    </tr>\n",
       "    <tr>\n",
       "      <th>post93</th>\n",
       "      <td>5927</td>\n",
       "      <td>0.47</td>\n",
       "      <td>0.00</td>\n",
       "      <td>0.50</td>\n",
       "      <td>0.00</td>\n",
       "      <td>1.00</td>\n",
       "    </tr>\n",
       "    <tr>\n",
       "      <th>anykids</th>\n",
       "      <td>5927</td>\n",
       "      <td>0.00</td>\n",
       "      <td>0.00</td>\n",
       "      <td>0.00</td>\n",
       "      <td>0.00</td>\n",
       "      <td>0.00</td>\n",
       "    </tr>\n",
       "  </tbody>\n",
       "</table>\n",
       "</div>"
      ],
      "text/plain": [
       "           obs      mean    median        sd      min        max\n",
       "state     5927     53.40     56.00     26.40    11.00      95.00\n",
       "year      5927   1993.37   1993.00      1.70  1991.00    1996.00\n",
       "urate     5927      6.66      6.70      1.48     2.60      11.40\n",
       "children  5927      0.00      0.00      0.00     0.00       0.00\n",
       "nonwhite  5927      0.52      1.00      0.50     0.00       1.00\n",
       "finc      5927  18559.86  11912.96  23041.78     0.00  575616.82\n",
       "earn      5927  13760.26   7664.01  21301.40     0.00  537880.61\n",
       "age       5927     38.50     40.00     11.05    20.00      54.00\n",
       "ed        5927      8.55     10.00      2.89     0.00      11.00\n",
       "work      5927      0.57      1.00      0.49     0.00       1.00\n",
       "unearn    5927      4.80      1.25      8.50     0.00     134.06\n",
       "c_earn    3403  19850.59  13905.29  23189.02     1.05  537880.61\n",
       "post93    5927      0.47      0.00      0.50     0.00       1.00\n",
       "anykids   5927      0.00      0.00      0.00     0.00       0.00"
      ]
     },
     "execution_count": 25,
     "metadata": {},
     "output_type": "execute_result"
    }
   ],
   "source": [
    "sumstats(eitc.where(eitc['children'] == 0))"
   ]
  },
  {
   "cell_type": "markdown",
   "metadata": {},
   "source": [
    "## Example: Does living under an opposing-party President affect Republican happiness more than Democratic happiness?"
   ]
  },
  {
   "cell_type": "code",
   "execution_count": 35,
   "metadata": {},
   "outputs": [],
   "source": [
    "# slide 50\n",
    "gss = pd.read_csv(\"Data/trends-gss.csv\")\n",
    "variables = ['happy', 'partyid', 'year', 'age', 'educ', 'sex', 'realinc', 'polviews', 'race', 'region']\n",
    "sub = gss[variables].copy()\n",
    "\n",
    "sub['n_happy'] = sub['happy'].replace([1, 3], [3, 1])\n",
    "sub['repub'] = np.where(pd.isnull(sub.partyid), np.nan, \n",
    "                       np.where(sub.partyid <= 2, 0, \n",
    "                               np.where((sub.partyid >=4) & (sub.partyid <= 6), 1, np.nan)))"
   ]
  },
  {
   "cell_type": "code",
   "execution_count": 36,
   "metadata": {},
   "outputs": [
    {
     "data": {
      "text/plain": [
       "0.0    27900\n",
       "1.0    19474\n",
       "Name: repub, dtype: int64"
      ]
     },
     "execution_count": 36,
     "metadata": {},
     "output_type": "execute_result"
    }
   ],
   "source": [
    "sub.repub.value_counts()"
   ]
  },
  {
   "cell_type": "code",
   "execution_count": 38,
   "metadata": {},
   "outputs": [
    {
     "data": {
      "text/html": [
       "<table class=\"simpletable\">\n",
       "<caption>OLS Regression Results</caption>\n",
       "<tr>\n",
       "  <th>Dep. Variable:</th>         <td>n_happy</td>     <th>  R-squared:         </th> <td>   0.013</td>\n",
       "</tr>\n",
       "<tr>\n",
       "  <th>Model:</th>                   <td>OLS</td>       <th>  Adj. R-squared:    </th> <td>   0.012</td>\n",
       "</tr>\n",
       "<tr>\n",
       "  <th>Method:</th>             <td>Least Squares</td>  <th>  F-statistic:       </th> <td>   17.52</td>\n",
       "</tr>\n",
       "<tr>\n",
       "  <th>Date:</th>             <td>Thu, 16 Aug 2018</td> <th>  Prob (F-statistic):</th> <td>2.70e-11</td>\n",
       "</tr>\n",
       "<tr>\n",
       "  <th>Time:</th>                 <td>15:07:35</td>     <th>  Log-Likelihood:    </th> <td> -3768.7</td>\n",
       "</tr>\n",
       "<tr>\n",
       "  <th>No. Observations:</th>      <td>  3917</td>      <th>  AIC:               </th> <td>   7545.</td>\n",
       "</tr>\n",
       "<tr>\n",
       "  <th>Df Residuals:</th>          <td>  3913</td>      <th>  BIC:               </th> <td>   7570.</td>\n",
       "</tr>\n",
       "<tr>\n",
       "  <th>Df Model:</th>              <td>     3</td>      <th>                     </th>     <td> </td>   \n",
       "</tr>\n",
       "<tr>\n",
       "  <th>Covariance Type:</th>      <td>nonrobust</td>    <th>                     </th>     <td> </td>   \n",
       "</tr>\n",
       "</table>\n",
       "<table class=\"simpletable\">\n",
       "<tr>\n",
       "            <td></td>               <th>coef</th>     <th>std err</th>      <th>t</th>      <th>P>|t|</th>  <th>[0.025</th>    <th>0.975]</th>  \n",
       "</tr>\n",
       "<tr>\n",
       "  <th>Intercept</th>             <td>    2.1304</td> <td>    0.018</td> <td>  121.411</td> <td> 0.000</td> <td>    2.096</td> <td>    2.165</td>\n",
       "</tr>\n",
       "<tr>\n",
       "  <th>C(year)[T.2010]</th>       <td>   -0.0386</td> <td>    0.027</td> <td>   -1.432</td> <td> 0.152</td> <td>   -0.091</td> <td>    0.014</td>\n",
       "</tr>\n",
       "<tr>\n",
       "  <th>repub</th>                 <td>    0.1542</td> <td>    0.027</td> <td>    5.786</td> <td> 0.000</td> <td>    0.102</td> <td>    0.206</td>\n",
       "</tr>\n",
       "<tr>\n",
       "  <th>C(year)[T.2010]:repub</th> <td>   -0.0950</td> <td>    0.042</td> <td>   -2.278</td> <td> 0.023</td> <td>   -0.177</td> <td>   -0.013</td>\n",
       "</tr>\n",
       "</table>\n",
       "<table class=\"simpletable\">\n",
       "<tr>\n",
       "  <th>Omnibus:</th>       <td>138.696</td> <th>  Durbin-Watson:     </th> <td>   1.914</td>\n",
       "</tr>\n",
       "<tr>\n",
       "  <th>Prob(Omnibus):</th> <td> 0.000</td>  <th>  Jarque-Bera (JB):  </th> <td>  73.787</td>\n",
       "</tr>\n",
       "<tr>\n",
       "  <th>Skew:</th>          <td>-0.156</td>  <th>  Prob(JB):          </th> <td>9.49e-17</td>\n",
       "</tr>\n",
       "<tr>\n",
       "  <th>Kurtosis:</th>      <td> 2.404</td>  <th>  Cond. No.          </th> <td>    6.09</td>\n",
       "</tr>\n",
       "</table><br/><br/>Warnings:<br/>[1] Standard Errors assume that the covariance matrix of the errors is correctly specified."
      ],
      "text/plain": [
       "<class 'statsmodels.iolib.summary.Summary'>\n",
       "\"\"\"\n",
       "                            OLS Regression Results                            \n",
       "==============================================================================\n",
       "Dep. Variable:                n_happy   R-squared:                       0.013\n",
       "Model:                            OLS   Adj. R-squared:                  0.012\n",
       "Method:                 Least Squares   F-statistic:                     17.52\n",
       "Date:                Thu, 16 Aug 2018   Prob (F-statistic):           2.70e-11\n",
       "Time:                        15:07:35   Log-Likelihood:                -3768.7\n",
       "No. Observations:                3917   AIC:                             7545.\n",
       "Df Residuals:                    3913   BIC:                             7570.\n",
       "Df Model:                           3                                         \n",
       "Covariance Type:            nonrobust                                         \n",
       "=========================================================================================\n",
       "                            coef    std err          t      P>|t|      [0.025      0.975]\n",
       "-----------------------------------------------------------------------------------------\n",
       "Intercept                 2.1304      0.018    121.411      0.000       2.096       2.165\n",
       "C(year)[T.2010]          -0.0386      0.027     -1.432      0.152      -0.091       0.014\n",
       "repub                     0.1542      0.027      5.786      0.000       0.102       0.206\n",
       "C(year)[T.2010]:repub    -0.0950      0.042     -2.278      0.023      -0.177      -0.013\n",
       "==============================================================================\n",
       "Omnibus:                      138.696   Durbin-Watson:                   1.914\n",
       "Prob(Omnibus):                  0.000   Jarque-Bera (JB):               73.787\n",
       "Skew:                          -0.156   Prob(JB):                     9.49e-17\n",
       "Kurtosis:                       2.404   Cond. No.                         6.09\n",
       "==============================================================================\n",
       "\n",
       "Warnings:\n",
       "[1] Standard Errors assume that the covariance matrix of the errors is correctly specified.\n",
       "\"\"\""
      ]
     },
     "execution_count": 38,
     "metadata": {},
     "output_type": "execute_result"
    }
   ],
   "source": [
    "# slide 51\n",
    "\n",
    "smf.ols('n_happy ~ C(year)*repub', data=sub[(sub.year==2006) | (sub.year==2010)]).fit().summary()"
   ]
  },
  {
   "cell_type": "code",
   "execution_count": 39,
   "metadata": {},
   "outputs": [
    {
     "data": {
      "text/html": [
       "<table class=\"simpletable\">\n",
       "<caption>OLS Regression Results</caption>\n",
       "<tr>\n",
       "  <th>Dep. Variable:</th>         <td>n_happy</td>     <th>  R-squared:         </th> <td>   0.059</td>\n",
       "</tr>\n",
       "<tr>\n",
       "  <th>Model:</th>                   <td>OLS</td>       <th>  Adj. R-squared:    </th> <td>   0.054</td>\n",
       "</tr>\n",
       "<tr>\n",
       "  <th>Method:</th>             <td>Least Squares</td>  <th>  F-statistic:       </th> <td>   11.91</td>\n",
       "</tr>\n",
       "<tr>\n",
       "  <th>Date:</th>             <td>Thu, 16 Aug 2018</td> <th>  Prob (F-statistic):</th> <td>2.16e-34</td>\n",
       "</tr>\n",
       "<tr>\n",
       "  <th>Time:</th>                 <td>15:08:57</td>     <th>  Log-Likelihood:    </th> <td> -3190.3</td>\n",
       "</tr>\n",
       "<tr>\n",
       "  <th>No. Observations:</th>      <td>  3431</td>      <th>  AIC:               </th> <td>   6419.</td>\n",
       "</tr>\n",
       "<tr>\n",
       "  <th>Df Residuals:</th>          <td>  3412</td>      <th>  BIC:               </th> <td>   6535.</td>\n",
       "</tr>\n",
       "<tr>\n",
       "  <th>Df Model:</th>              <td>    18</td>      <th>                     </th>     <td> </td>   \n",
       "</tr>\n",
       "<tr>\n",
       "  <th>Covariance Type:</th>      <td>nonrobust</td>    <th>                     </th>     <td> </td>   \n",
       "</tr>\n",
       "</table>\n",
       "<table class=\"simpletable\">\n",
       "<tr>\n",
       "            <td></td>               <th>coef</th>     <th>std err</th>      <th>t</th>      <th>P>|t|</th>  <th>[0.025</th>    <th>0.975]</th>  \n",
       "</tr>\n",
       "<tr>\n",
       "  <th>Intercept</th>             <td>    1.5233</td> <td>    0.098</td> <td>   15.566</td> <td> 0.000</td> <td>    1.331</td> <td>    1.715</td>\n",
       "</tr>\n",
       "<tr>\n",
       "  <th>C(year)[T.2010]</th>       <td>   -0.0268</td> <td>    0.028</td> <td>   -0.956</td> <td> 0.339</td> <td>   -0.082</td> <td>    0.028</td>\n",
       "</tr>\n",
       "<tr>\n",
       "  <th>C(race)[T.2]</th>          <td>   -0.0454</td> <td>    0.033</td> <td>   -1.395</td> <td> 0.163</td> <td>   -0.109</td> <td>    0.018</td>\n",
       "</tr>\n",
       "<tr>\n",
       "  <th>C(race)[T.3]</th>          <td>    0.0261</td> <td>    0.038</td> <td>    0.680</td> <td> 0.496</td> <td>   -0.049</td> <td>    0.101</td>\n",
       "</tr>\n",
       "<tr>\n",
       "  <th>C(region)[T.2]</th>        <td>    0.1664</td> <td>    0.063</td> <td>    2.647</td> <td> 0.008</td> <td>    0.043</td> <td>    0.290</td>\n",
       "</tr>\n",
       "<tr>\n",
       "  <th>C(region)[T.3]</th>        <td>    0.0901</td> <td>    0.061</td> <td>    1.481</td> <td> 0.139</td> <td>   -0.029</td> <td>    0.209</td>\n",
       "</tr>\n",
       "<tr>\n",
       "  <th>C(region)[T.4]</th>        <td>    0.1798</td> <td>    0.070</td> <td>    2.586</td> <td> 0.010</td> <td>    0.043</td> <td>    0.316</td>\n",
       "</tr>\n",
       "<tr>\n",
       "  <th>C(region)[T.5]</th>        <td>    0.1266</td> <td>    0.060</td> <td>    2.096</td> <td> 0.036</td> <td>    0.008</td> <td>    0.245</td>\n",
       "</tr>\n",
       "<tr>\n",
       "  <th>C(region)[T.6]</th>        <td>    0.1589</td> <td>    0.072</td> <td>    2.221</td> <td> 0.026</td> <td>    0.019</td> <td>    0.299</td>\n",
       "</tr>\n",
       "<tr>\n",
       "  <th>C(region)[T.7]</th>        <td>    0.1568</td> <td>    0.065</td> <td>    2.408</td> <td> 0.016</td> <td>    0.029</td> <td>    0.284</td>\n",
       "</tr>\n",
       "<tr>\n",
       "  <th>C(region)[T.8]</th>        <td>    0.0870</td> <td>    0.066</td> <td>    1.312</td> <td> 0.190</td> <td>   -0.043</td> <td>    0.217</td>\n",
       "</tr>\n",
       "<tr>\n",
       "  <th>C(region)[T.9]</th>        <td>    0.1113</td> <td>    0.062</td> <td>    1.788</td> <td> 0.074</td> <td>   -0.011</td> <td>    0.233</td>\n",
       "</tr>\n",
       "<tr>\n",
       "  <th>repub</th>                 <td>    0.0860</td> <td>    0.031</td> <td>    2.747</td> <td> 0.006</td> <td>    0.025</td> <td>    0.147</td>\n",
       "</tr>\n",
       "<tr>\n",
       "  <th>C(year)[T.2010]:repub</th> <td>   -0.0973</td> <td>    0.043</td> <td>   -2.249</td> <td> 0.025</td> <td>   -0.182</td> <td>   -0.012</td>\n",
       "</tr>\n",
       "<tr>\n",
       "  <th>age</th>                   <td>    0.0001</td> <td>    0.001</td> <td>    0.232</td> <td> 0.816</td> <td>   -0.001</td> <td>    0.001</td>\n",
       "</tr>\n",
       "<tr>\n",
       "  <th>educ</th>                  <td>    0.0180</td> <td>    0.004</td> <td>    4.728</td> <td> 0.000</td> <td>    0.011</td> <td>    0.026</td>\n",
       "</tr>\n",
       "<tr>\n",
       "  <th>sex</th>                   <td>    0.0408</td> <td>    0.021</td> <td>    1.901</td> <td> 0.057</td> <td>   -0.001</td> <td>    0.083</td>\n",
       "</tr>\n",
       "<tr>\n",
       "  <th>realinc</th>               <td> 3.161e-06</td> <td>  3.6e-07</td> <td>    8.791</td> <td> 0.000</td> <td> 2.46e-06</td> <td> 3.87e-06</td>\n",
       "</tr>\n",
       "<tr>\n",
       "  <th>polviews</th>              <td>    0.0194</td> <td>    0.008</td> <td>    2.329</td> <td> 0.020</td> <td>    0.003</td> <td>    0.036</td>\n",
       "</tr>\n",
       "</table>\n",
       "<table class=\"simpletable\">\n",
       "<tr>\n",
       "  <th>Omnibus:</th>       <td>87.580</td> <th>  Durbin-Watson:     </th> <td>   1.905</td>\n",
       "</tr>\n",
       "<tr>\n",
       "  <th>Prob(Omnibus):</th> <td> 0.000</td> <th>  Jarque-Bera (JB):  </th> <td>  47.268</td>\n",
       "</tr>\n",
       "<tr>\n",
       "  <th>Skew:</th>          <td>-0.091</td> <th>  Prob(JB):          </th> <td>5.44e-11</td>\n",
       "</tr>\n",
       "<tr>\n",
       "  <th>Kurtosis:</th>      <td> 2.455</td> <th>  Cond. No.          </th> <td>7.73e+05</td>\n",
       "</tr>\n",
       "</table><br/><br/>Warnings:<br/>[1] Standard Errors assume that the covariance matrix of the errors is correctly specified.<br/>[2] The condition number is large, 7.73e+05. This might indicate that there are<br/>strong multicollinearity or other numerical problems."
      ],
      "text/plain": [
       "<class 'statsmodels.iolib.summary.Summary'>\n",
       "\"\"\"\n",
       "                            OLS Regression Results                            \n",
       "==============================================================================\n",
       "Dep. Variable:                n_happy   R-squared:                       0.059\n",
       "Model:                            OLS   Adj. R-squared:                  0.054\n",
       "Method:                 Least Squares   F-statistic:                     11.91\n",
       "Date:                Thu, 16 Aug 2018   Prob (F-statistic):           2.16e-34\n",
       "Time:                        15:08:57   Log-Likelihood:                -3190.3\n",
       "No. Observations:                3431   AIC:                             6419.\n",
       "Df Residuals:                    3412   BIC:                             6535.\n",
       "Df Model:                          18                                         \n",
       "Covariance Type:            nonrobust                                         \n",
       "=========================================================================================\n",
       "                            coef    std err          t      P>|t|      [0.025      0.975]\n",
       "-----------------------------------------------------------------------------------------\n",
       "Intercept                 1.5233      0.098     15.566      0.000       1.331       1.715\n",
       "C(year)[T.2010]          -0.0268      0.028     -0.956      0.339      -0.082       0.028\n",
       "C(race)[T.2]             -0.0454      0.033     -1.395      0.163      -0.109       0.018\n",
       "C(race)[T.3]              0.0261      0.038      0.680      0.496      -0.049       0.101\n",
       "C(region)[T.2]            0.1664      0.063      2.647      0.008       0.043       0.290\n",
       "C(region)[T.3]            0.0901      0.061      1.481      0.139      -0.029       0.209\n",
       "C(region)[T.4]            0.1798      0.070      2.586      0.010       0.043       0.316\n",
       "C(region)[T.5]            0.1266      0.060      2.096      0.036       0.008       0.245\n",
       "C(region)[T.6]            0.1589      0.072      2.221      0.026       0.019       0.299\n",
       "C(region)[T.7]            0.1568      0.065      2.408      0.016       0.029       0.284\n",
       "C(region)[T.8]            0.0870      0.066      1.312      0.190      -0.043       0.217\n",
       "C(region)[T.9]            0.1113      0.062      1.788      0.074      -0.011       0.233\n",
       "repub                     0.0860      0.031      2.747      0.006       0.025       0.147\n",
       "C(year)[T.2010]:repub    -0.0973      0.043     -2.249      0.025      -0.182      -0.012\n",
       "age                       0.0001      0.001      0.232      0.816      -0.001       0.001\n",
       "educ                      0.0180      0.004      4.728      0.000       0.011       0.026\n",
       "sex                       0.0408      0.021      1.901      0.057      -0.001       0.083\n",
       "realinc                3.161e-06    3.6e-07      8.791      0.000    2.46e-06    3.87e-06\n",
       "polviews                  0.0194      0.008      2.329      0.020       0.003       0.036\n",
       "==============================================================================\n",
       "Omnibus:                       87.580   Durbin-Watson:                   1.905\n",
       "Prob(Omnibus):                  0.000   Jarque-Bera (JB):               47.268\n",
       "Skew:                          -0.091   Prob(JB):                     5.44e-11\n",
       "Kurtosis:                       2.455   Cond. No.                     7.73e+05\n",
       "==============================================================================\n",
       "\n",
       "Warnings:\n",
       "[1] Standard Errors assume that the covariance matrix of the errors is correctly specified.\n",
       "[2] The condition number is large, 7.73e+05. This might indicate that there are\n",
       "strong multicollinearity or other numerical problems.\n",
       "\"\"\""
      ]
     },
     "execution_count": 39,
     "metadata": {},
     "output_type": "execute_result"
    }
   ],
   "source": [
    "# slide 54\n",
    "\n",
    "smf.ols('n_happy ~ C(year) + repub + age + educ + sex + realinc + polviews + C(race) + C(region) + C(year):repub', \n",
    "       data = sub[(sub.year==2006) | (sub.year==2010)]).fit().summary()"
   ]
  },
  {
   "cell_type": "code",
   "execution_count": 50,
   "metadata": {},
   "outputs": [
    {
     "data": {
      "text/plain": [
       "<seaborn.axisgrid.FacetGrid at 0x1c259c8160>"
      ]
     },
     "execution_count": 50,
     "metadata": {},
     "output_type": "execute_result"
    },
    {
     "data": {
      "image/png": "[encoded data removed]",
      "text/plain": [
       "<Figure size 339.875x288 with 1 Axes>"
      ]
     },
     "metadata": {},
     "output_type": "display_data"
    }
   ],
   "source": [
    "# slide 55\n",
    "\n",
    "happy_by_year = sub.groupby(['year', 'repub'])['n_happy'].mean().to_frame(name='mean')\n",
    "happy_by_year.dropna(inplace=True)\n",
    "happy_by_year.reset_index(drop=False, inplace=True)\n",
    "happy_by_year2 = happy_by_year[(happy_by_year.year==2006) | (happy_by_year.year==2010)]\n",
    "\n",
    "sns.factorplot(x = 'year', y = 'mean', hue = 'repub', data=happy_by_year2) "
   ]
  },
  {
   "cell_type": "code",
   "execution_count": 71,
   "metadata": {},
   "outputs": [
    {
     "data": {
      "text/html": [
       "<div>\n",
       "<style scoped>\n",
       "    .dataframe tbody tr th:only-of-type {\n",
       "        vertical-align: middle;\n",
       "    }\n",
       "\n",
       "    .dataframe tbody tr th {\n",
       "        vertical-align: top;\n",
       "    }\n",
       "\n",
       "    .dataframe thead th {\n",
       "        text-align: right;\n",
       "    }\n",
       "</style>\n",
       "<table border=\"1\" class=\"dataframe\">\n",
       "  <thead>\n",
       "    <tr style=\"text-align: right;\">\n",
       "      <th></th>\n",
       "      <th>year</th>\n",
       "      <th>repub</th>\n",
       "      <th>mean</th>\n",
       "    </tr>\n",
       "  </thead>\n",
       "  <tbody>\n",
       "    <tr>\n",
       "      <th>0</th>\n",
       "      <td>1972</td>\n",
       "      <td>0.0</td>\n",
       "      <td>2.087051</td>\n",
       "    </tr>\n",
       "    <tr>\n",
       "      <th>1</th>\n",
       "      <td>1972</td>\n",
       "      <td>1.0</td>\n",
       "      <td>2.237363</td>\n",
       "    </tr>\n",
       "    <tr>\n",
       "      <th>2</th>\n",
       "      <td>1973</td>\n",
       "      <td>0.0</td>\n",
       "      <td>2.194030</td>\n",
       "    </tr>\n",
       "    <tr>\n",
       "      <th>3</th>\n",
       "      <td>1973</td>\n",
       "      <td>1.0</td>\n",
       "      <td>2.309129</td>\n",
       "    </tr>\n",
       "    <tr>\n",
       "      <th>4</th>\n",
       "      <td>1974</td>\n",
       "      <td>0.0</td>\n",
       "      <td>2.225728</td>\n",
       "    </tr>\n",
       "  </tbody>\n",
       "</table>\n",
       "</div>"
      ],
      "text/plain": [
       "   year  repub      mean\n",
       "0  1972    0.0  2.087051\n",
       "1  1972    1.0  2.237363\n",
       "2  1973    0.0  2.194030\n",
       "3  1973    1.0  2.309129\n",
       "4  1974    0.0  2.225728"
      ]
     },
     "execution_count": 71,
     "metadata": {},
     "output_type": "execute_result"
    }
   ],
   "source": [
    "happy_by_year.head()"
   ]
  },
  {
   "cell_type": "code",
   "execution_count": 73,
   "metadata": {},
   "outputs": [
    {
     "data": {
      "text/plain": [
       "<seaborn.axisgrid.FacetGrid at 0x1c28e368d0>"
      ]
     },
     "execution_count": 73,
     "metadata": {},
     "output_type": "execute_result"
    },
    {
     "data": {
      "image/png": "[encoded data removed]",
      "text/plain": [
       "<Figure size 627.875x288 with 1 Axes>"
      ]
     },
     "metadata": {},
     "output_type": "display_data"
    }
   ],
   "source": [
    "sns.factorplot(x = 'year', y = 'mean', hue = 'repub', data=happy_by_year, aspect=2) \n",
    "#sns.regplot(x = 'year', y = 'mean', data = happy_by_year[happy_by_year.repub==0], scatter = False, ci = None, fit_reg = True)"
   ]
  },
  {
   "cell_type": "code",
   "execution_count": 95,
   "metadata": {},
   "outputs": [],
   "source": [
    "happy_by_year['repub'].replace({0: 'non-Repub', 1: 'Repub'}, inplace = True)\n",
    "\n",
    "happy_by_year_pivot = happy_by_year.pivot(index='year', columns='repub', values='mean')"
   ]
  },
  {
   "cell_type": "code",
   "execution_count": 96,
   "metadata": {},
   "outputs": [
    {
     "ename": "AttributeError",
     "evalue": "'Int64Index' object has no attribute 'mean'",
     "output_type": "error",
     "traceback": [
      "\u001b[0;31m---------------------------------------------------------------------------\u001b[0m",
      "\u001b[0;31mAttributeError\u001b[0m                            Traceback (most recent call last)",
      "\u001b[0;32m<ipython-input-96-9f84306a0c1f>\u001b[0m in \u001b[0;36m<module>\u001b[0;34m()\u001b[0m\n\u001b[1;32m      2\u001b[0m \u001b[0max\u001b[0m \u001b[0;34m=\u001b[0m \u001b[0mhappy_by_year_pivot\u001b[0m\u001b[0;34m.\u001b[0m\u001b[0mplot\u001b[0m\u001b[0;34m(\u001b[0m\u001b[0;34m)\u001b[0m\u001b[0;34m\u001b[0m\u001b[0m\n\u001b[1;32m      3\u001b[0m sns.regplot(x = happy_by_year_pivot.index, y = 'non-Repub', data = happy_by_year_pivot,\n\u001b[0;32m----> 4\u001b[0;31m             scatter = False, ci = None, fit_reg = True)\n\u001b[0m\u001b[1;32m      5\u001b[0m sns.regplot(x = happy_by_year_pivot.index, y = 'Repub', data = happy_by_year_pivot,\n\u001b[1;32m      6\u001b[0m             scatter = False, ci = None, fit_reg = True)\n",
      "\u001b[0;32m~/anaconda/envs/py36/lib/python3.6/site-packages/seaborn/regression.py\u001b[0m in \u001b[0;36mregplot\u001b[0;34m(x, y, data, x_estimator, x_bins, x_ci, scatter, fit_reg, ci, n_boot, units, order, logistic, lowess, robust, logx, x_partial, y_partial, truncate, dropna, x_jitter, y_jitter, label, color, marker, scatter_kws, line_kws, ax)\u001b[0m\n\u001b[1;32m    788\u001b[0m     \u001b[0mscatter_kws\u001b[0m\u001b[0;34m[\u001b[0m\u001b[0;34m\"marker\"\u001b[0m\u001b[0;34m]\u001b[0m \u001b[0;34m=\u001b[0m \u001b[0mmarker\u001b[0m\u001b[0;34m\u001b[0m\u001b[0m\n\u001b[1;32m    789\u001b[0m     \u001b[0mline_kws\u001b[0m \u001b[0;34m=\u001b[0m \u001b[0;34m{\u001b[0m\u001b[0;34m}\u001b[0m \u001b[0;32mif\u001b[0m \u001b[0mline_kws\u001b[0m \u001b[0;32mis\u001b[0m \u001b[0;32mNone\u001b[0m \u001b[0;32melse\u001b[0m \u001b[0mcopy\u001b[0m\u001b[0;34m.\u001b[0m\u001b[0mcopy\u001b[0m\u001b[0;34m(\u001b[0m\u001b[0mline_kws\u001b[0m\u001b[0;34m)\u001b[0m\u001b[0;34m\u001b[0m\u001b[0m\n\u001b[0;32m--> 790\u001b[0;31m     \u001b[0mplotter\u001b[0m\u001b[0;34m.\u001b[0m\u001b[0mplot\u001b[0m\u001b[0;34m(\u001b[0m\u001b[0max\u001b[0m\u001b[0;34m,\u001b[0m \u001b[0mscatter_kws\u001b[0m\u001b[0;34m,\u001b[0m \u001b[0mline_kws\u001b[0m\u001b[0;34m)\u001b[0m\u001b[0;34m\u001b[0m\u001b[0m\n\u001b[0m\u001b[1;32m    791\u001b[0m     \u001b[0;32mreturn\u001b[0m \u001b[0max\u001b[0m\u001b[0;34m\u001b[0m\u001b[0m\n\u001b[1;32m    792\u001b[0m \u001b[0;34m\u001b[0m\u001b[0m\n",
      "\u001b[0;32m~/anaconda/envs/py36/lib/python3.6/site-packages/seaborn/regression.py\u001b[0m in \u001b[0;36mplot\u001b[0;34m(self, ax, scatter_kws, line_kws)\u001b[0m\n\u001b[1;32m    323\u001b[0m         \u001b[0;31m# Use the current color cycle state as a default\u001b[0m\u001b[0;34m\u001b[0m\u001b[0;34m\u001b[0m\u001b[0m\n\u001b[1;32m    324\u001b[0m         \u001b[0;32mif\u001b[0m \u001b[0mself\u001b[0m\u001b[0;34m.\u001b[0m\u001b[0mcolor\u001b[0m \u001b[0;32mis\u001b[0m \u001b[0;32mNone\u001b[0m\u001b[0;34m:\u001b[0m\u001b[0;34m\u001b[0m\u001b[0m\n\u001b[0;32m--> 325\u001b[0;31m             \u001b[0mlines\u001b[0m\u001b[0;34m,\u001b[0m \u001b[0;34m=\u001b[0m \u001b[0mplt\u001b[0m\u001b[0;34m.\u001b[0m\u001b[0mplot\u001b[0m\u001b[0;34m(\u001b[0m\u001b[0mself\u001b[0m\u001b[0;34m.\u001b[0m\u001b[0mx\u001b[0m\u001b[0;34m.\u001b[0m\u001b[0mmean\u001b[0m\u001b[0;34m(\u001b[0m\u001b[0;34m)\u001b[0m\u001b[0;34m,\u001b[0m \u001b[0mself\u001b[0m\u001b[0;34m.\u001b[0m\u001b[0my\u001b[0m\u001b[0;34m.\u001b[0m\u001b[0mmean\u001b[0m\u001b[0;34m(\u001b[0m\u001b[0;34m)\u001b[0m\u001b[0;34m)\u001b[0m\u001b[0;34m\u001b[0m\u001b[0m\n\u001b[0m\u001b[1;32m    326\u001b[0m             \u001b[0mcolor\u001b[0m \u001b[0;34m=\u001b[0m \u001b[0mlines\u001b[0m\u001b[0;34m.\u001b[0m\u001b[0mget_color\u001b[0m\u001b[0;34m(\u001b[0m\u001b[0;34m)\u001b[0m\u001b[0;34m\u001b[0m\u001b[0m\n\u001b[1;32m    327\u001b[0m             \u001b[0mlines\u001b[0m\u001b[0;34m.\u001b[0m\u001b[0mremove\u001b[0m\u001b[0;34m(\u001b[0m\u001b[0;34m)\u001b[0m\u001b[0;34m\u001b[0m\u001b[0m\n",
      "\u001b[0;31mAttributeError\u001b[0m: 'Int64Index' object has no attribute 'mean'"
     ]
    },
    {
     "data": {
      "image/png": "[encoded data removed]",
      "text/plain": [
       "<Figure size 432x288 with 1 Axes>"
      ]
     },
     "metadata": {},
     "output_type": "display_data"
    }
   ],
   "source": [
    "# plot the two regression lines\n",
    "ax = happy_by_year_pivot.plot()\n",
    "sns.regplot(x = happy_by_year_pivot.index, y = 'non-Repub', data = happy_by_year_pivot,\n",
    "            scatter = False, ci = None, fit_reg = True)\n",
    "sns.regplot(x = happy_by_year_pivot.index, y = 'Repub', data = happy_by_year_pivot,\n",
    "            scatter = False, ci = None, fit_reg = True)\n"
   ]
  },
  {
   "cell_type": "code",
   "execution_count": null,
   "metadata": {},
   "outputs": [],
   "source": []
  }
 ],
 "metadata": {
  "kernelspec": {
   "display_name": "py36",
   "language": "python",
   "name": "py36"
  },
  "language_info": {
   "codemirror_mode": {
    "name": "ipython",
    "version": 3
   },
   "file_extension": ".py",
   "mimetype": "text/x-python",
   "name": "python",
   "nbconvert_exporter": "python",
   "pygments_lexer": "ipython3",
   "version": "3.6.5"
  }
 },
 "nbformat": 4,
 "nbformat_minor": 2
}
