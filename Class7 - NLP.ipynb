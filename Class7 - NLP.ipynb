{
 "cells": [
  {
   "cell_type": "markdown",
   "metadata": {},
   "source": [
    "# Advanced quantitative techniques - Class 7 - NLP"
   ]
  },
  {
   "cell_type": "markdown",
   "metadata": {},
   "source": [
    "## Reading text from html"
   ]
  },
  {
   "cell_type": "code",
   "execution_count": 19,
   "metadata": {},
   "outputs": [],
   "source": [
    "import requests\n",
    "\n",
    "data = requests.get('http://www.presidency.ucsb.edu/ws/index.php?pid=58746')\n",
    "html_doc = data.text.encode('utf-8')"
   ]
  },
  {
   "cell_type": "code",
   "execution_count": 43,
   "metadata": {},
   "outputs": [],
   "source": [
    "from bs4 import BeautifulSoup\n",
    "\n",
    "# create BeautifulSoup object\n",
    "soup = BeautifulSoup(html_doc, 'html.parser')\n",
    "\n",
    "# Accessing the text within the 'p' tag in the BeautifulSoup object \n",
    "text = soup.p.text"
   ]
  },
  {
   "cell_type": "code",
   "execution_count": 44,
   "metadata": {},
   "outputs": [],
   "source": [
    "# make lower case\n",
    "text = text.lower()"
   ]
  },
  {
   "cell_type": "code",
   "execution_count": 45,
   "metadata": {},
   "outputs": [],
   "source": [
    "# remove stop words\n",
    "from nltk.corpus import stopwords\n",
    "stop = stopwords.words('english')\n",
    "\n",
    "text = ' '.join([word for word in text.split() if word not in stop])"
   ]
  },
  {
   "cell_type": "code",
   "execution_count": 46,
   "metadata": {},
   "outputs": [],
   "source": [
    "# remove punctuations\n",
    "import string\n",
    "\n",
    "translator = str.maketrans('', '', string.punctuation)\n",
    "text = text.translate(translator)"
   ]
  },
  {
   "cell_type": "code",
   "execution_count": 47,
   "metadata": {},
   "outputs": [
    {
     "data": {
      "text/plain": [
       "'new congress gathers us elected branches government share great privilege weve placed office votes people serve tonight privilege share newly elected leaders afghanistan palestinian territories ukraine free sovereign iraq two weeks ago stood steps capitol renewed commitment nation guiding ideal liberty all evening set forth policies advance ideal home around world tonight healthy growing economy americans going back work nation active force good world state union confident strong generation blessed expansion opportunity advances medicine security purchased parents sacrifice now see little gray mirror—or lot gray— laughter—and watch children moving adulthood ask question state union members congress choices make together answer question next several months issue issue let us americans always done build better world children grandchildren first must good stewards economy renew great institutions millions fellow citizens rely americas economy fastest growing major industrialized nation past 4 years weve provided tax relief every person pays income taxes overcome recession opened new markets abroad prosecuted corporate criminals raised homeownership highest level history last year alone united states added 23 million new jobs action needed congress delivered nation grateful must add achievements making economy flexible innovative competitive keep america economic leader world americas prosperity requires restraining spending appetite federal government welcome bipartisan enthusiasm spending discipline send budget holds growth discretionary spending inflation makes tax relief permanent stays track cut deficit half 2009 budget substantially reduces eliminates 150 government programs getting results duplicate current efforts fulfill essential priorities principle clear taxpayer dollars must spent wisely all make economy stronger dynamic must prepare rising generation fill jobs 21st century child left behind act standards higher test scores rise were closing achievement gap minority students must demand better results high schools every high school diploma ticket success help additional 200000 workers get training better career reforming job training system strengthening americas community colleges well make easier americans afford college education increasing size pell grants make economy stronger competitive america must reward punish efforts dreams entrepreneurs small business path advancement especially women minorities must free small businesses needless regulation protect honest jobcreators junk lawsuits justice distorted economy held back irresponsible class actions frivolous asbestos claims urge congress pass legal reforms year make economy stronger productive must make health care affordable give families greater access good coverage control health decisions ask congress move forward comprehensive health care agenda tax credits help lowincome workers buy insurance community health center every poor county improved information technology prevent medical error needless costs association health plans small businesses employees expanded health savings accounts medical liability reform reduce health care costs make sure patients doctors care need keep economy growing also need reliable supplies affordable environmentally responsible energy nearly 4 years ago submitted comprehensive energy strategy encourages conservation alternative sources modernized electricity grid production home including safe clean nuclear energy clear skies legislation cut powerplant pollution improve health citizens budget provides strong funding leadingedge technology hydrogenfueled cars clean coal renewable sources ethanol four years debate enough urge congress pass legislation makes america secure less dependent foreign energy proposals essential expand economy add new jobs beginning duty build prosperity future generations must update institutions created meet needs earlier time year year americans burdened archaic incoherent federal tax code ive appointed bipartisan panel examine tax code top bottom recommendations delivered work together give nation tax code progrowth easy understand fair all americas immigration system also outdated unsuited needs economy values country content laws punish hardworking people want provide families deny businesses willing workers invite chaos border time immigration policy permits temporaryguest workers fill jobs americans take rejects amnesty tells us entering leaving country closes border drug dealers terrorists one americas important institutions symbol trust generations also need wise effective reform social security great moral success 20th century must honor great purposes new century system however current path headed toward bankruptcy must join together strengthen save social security today 45 million americans receive social security benefits millions nearing retirement system sound fiscally strong message every american 55 older let anyone mislead you you social security system change way younger workers social security system serious problems grow worse time social security created decades ago different era days people live long benefits much lower today half century ago 16 workers paid system person drawing benefits society changed ways founders social security could foreseen todays world people living longer and therefore drawing benefits longer benefits scheduled rise dramatically next decades instead 16 workers paying every beneficiary right 3 workers next decades number fall 2 workers per beneficiary passing year fewer workers paying everhigher benefits everlarger number retirees result thirteen years now 2018 social security paying takes in every year afterward bring new shortfall bigger year before example year 2027 government somehow come extra 200 billion keep system afloat 2033 annual shortfall would 300 billion year 2042 entire system would exhausted bankrupt steps taken avert outcome solutions would dramatically higher taxes massive new borrowing sudden severe cuts social security benefits government programs recognize 2018 2042 may seem long way off dates distant parent tell you 5yearold already concerned pay college tuition 13 years road got children twenties us do idea social security collapsing retire seem like small matter small matter united states congress share responsibility must pass reforms solve financial problems social security all fixing social security permanently require open candid review options suggested limiting benefits wealthy retirees former congressman tim penny raised possibility indexing benefits prices rather wages 1990s predecessor president clinton spoke increasing retirement age former senator john breaux suggested discouraging early collection social security benefits late senator daniel patrick moynihan recommended changing way benefits calculated ideas table know none reforms would easy move ahead courage honesty childrens retirement security important partisan politics work members congress find effective combination reforms listen anyone good idea offer must however guided basic principles must make social security permanently sound leave task another day must jeopardize economic strength increasing payroll taxes must ensure lower income americans get help need dignity peace mind retirement must guarantee change retired nearing retirement must take care changes system gradual younger workers years prepare plan future fix social security also responsibility make system better deal younger workers best way reach goal voluntary personal retirement accounts idea works right now set portion money earn taken paycheck pay social security benefits todays retirees younger worker believe able set aside part money retirement account build nest egg future heres personal accounts better deal money grow time greater rate anything current system deliver account provide money retirement check receive social security addition able pass along money accumulates personal account wish children and—or grandchildren best all money account yours government never take away goal greater security retirement set careful guidelines personal accounts well make sure money go conservative mix bonds stock funds well make sure earnings eaten hidden wall street fees well make sure good options protect investments sudden market swings eve retirement well make sure personal account cannot emptied rather paid time addition traditional social security benefits well make sure plan fiscally responsible starting personal retirement accounts gradually raising yearly limits contributions time eventually permitting workers set aside 4 percentage points payroll taxes accounts personal retirement accounts familiar federal employees already something similar called thrift savings plan lets workers deposit portion paychecks five different broadly based investment funds time extend security choice ownership young americans second great responsibility children grandchildren honor pass along values sustain free society many generation long journey come home family faith determined bring responsible moral children government source values government never undermine them marriage sacred institution foundation society redefined activist judges good families children society support constitutional amendment protect institution marriage society measured treats weak vulnerable must strive build culture life medical research help us reach goal developing treatments cures save lives help people overcome disabilities thank congress doubling funding national institutes health build culture life must also ensure scientific advances always serve human dignity take advantage lives benefit others able agree clear standards work congress ensure human embryos created experimentation grown body parts human life never bought sold commodity america continue lead world medical research ambitious aggressive always ethical courts must always deliver impartial justice judges duty faithfully interpret law legislate bench president constitutional responsibility nominate men women understand role courts democracy wellqualified serve bench done so constitution also gives senate responsibility every judicial nominee deserves upordown vote one deepest values country compassion must never turn away citizen feels isolated opportunities america government continue support faithbased community groups bring hope harsh places need focus giving young people especially young men cities better options apathy gangs jail tonight propose 3year initiative help organizations keep young people gangs show young men ideal manhood respects women rejects violence taking gang life one part broader outreach atrisk youth involves parents pastors coaches community leaders programs ranging literacy sports proud leader nationwide effort first lady laura bush hivaids brings suffering fear many lives ask reauthorize ryan white act encourage prevention provide care treatment victims disease update important law must focus efforts fellow citizens highest rates new cases african american men women one main sources national unity belief equal justice need make sure americans races backgrounds confidence system provides justice america must make doubly sure person held account crime commit dramatically expanding use dna evidence prevent wrongful conviction soon send congress proposal fund special training defense counsel capital cases people trial lives must competent lawyers side third responsibility future generations leave america safe danger protected peacewe pass along children freedoms enjoy chief among freedom fear 3 12 years since september 11th 2001 taken unprecedented actions protect americans weve created new department government defend homeland focused fbi preventing terrorism begun reform intelligence agencies broken terror cells across country expanded research defenses biological chemical attack improved border security trained half million firstresponders police firefighters air marshals researchers many others working every day make homeland safer thank all nation working allies friends also confronted enemy abroad measures determined successful continuing al qaida terror network attacked country still leaders many top commanders removed still governments sponsor harbor terrorists number declined still regimes seeking weapons mass destruction longer without attention without consequence country still target terrorists want kill many intimidate us all stay offensive fight won pursuing enemies vital commitment war terror thank congress providing service men women resources needed time war must continue support military give tools victory nations around globe stood us afghanistan international force helping provide security iraq 28 countries troops ground united nations european union provided technical assistance elections nato leading mission help train iraqi officers were cooperating 60 governments proliferation security initiative detect stop transit dangerous materials were working closely governments asia convince north korea abandon nuclear ambitions pakistan saudi arabia nine countries captured detained al qaida terrorists next 4 years administration continue build coalitions defeat dangers time long term peace seek achieved eliminating conditions feed radicalism ideologies murder whole regions world remain despair grow hatred recruiting grounds terror terror stalk america free nations decades force powerful enough stop rise tyranny terror replace hatred hope force human freedom enemies know this terrorist zarqawi recently declared war called evil principle democracy weve declared intention america stand allies freedom support democratic movements middle east beyond ultimate goal ending tyranny world united states right desire intention impose form government anyone else one main differences us enemies seek impose expand empire oppression tiny group brutal selfappointed rulers control every aspect every life aim build preserve community free independent nations governments answer citizens reflect cultures democracies respect people neighbors advance freedom lead peace advance great momentum time shown women voting afghanistan palestinians choosing new direction people ukraine asserting democratic rights electing president witnessing landmark events history liberty coming years add story beginnings reform democracy palestinian territories showing power freedom break old patterns violence failure tomorrow morning secretary state rice departs trip take israel west bank meetings prime minister sharon president abbas discuss friends help palestinian people end terror build institutions peaceful independent democratic state promote democracy ask congress 350 million support palestinian political economic security reforms goal two democratic states israel palestine living side side peace within reach america help achieve goal promote peace stability broader middle east united states work friends region fight common threat terror encourage higher standard freedom hopeful reform already taking hold arc morocco jordan bahrain government saudi arabia demonstrate leadership region expanding role people determining future great proud nation egypt showed way toward peace middle east show way toward democracy middle east promote peace broader middle east must confront regimes continue harbor terrorists pursue weapons mass murder syria still allows territory parts lebanon used terrorists seek destroy every chance peace region passed applying syrian accountability act expect syrian government end support terror open door freedom today iran remains worlds primary state sponsor terror pursuing nuclear weapons depriving people freedom seek deserve working european allies make clear iranian regime must give uranium enrichment program plutonium reprocessing end support terror iranian people say tonight stand liberty america stands you generational commitment advance freedom especially middle east tested honored iraq country vital front war terror terrorists chosen make stand there men women uniform fighting terrorists iraq face home victory freedom iraq strengthen new ally war terror inspire democratic reformers damascus tehran bring hope progress troubled region thereby lift terrible threat lives children grandchildren succeed iraqi people value liberty showed world last sunday across iraq often great risk millions citizens went polls elected 275 men women represent new transitional national assembly young woman baghdad told waking sound mortar fire election day wondering might dangerous vote said hearing explosions occurred me insurgents weak afraid democracy losing got husband got parents came voted together americans recognize spirit liberty share it nation casting vote act civic responsibility millions iraqis also act personal courage earned respect us all one iraqs leading democracy human rights advocates safia taleb alsuhail says country we occupied 35 years saddam hussein real occupation thank american people paid cost but all soldiers eleven years ago safias father assassinated saddams intelligence service three days ago baghdad safia finally able vote leaders country honored us tonight terrorists insurgents violently opposed democracy continue attack it yet terrorists powerful myth destroyed whole world seeing car bombers assassins fighting coalition forces trying destroy hopes iraqis expressed free elections whole world knows small group extremists overturn iraqi people succeed iraq iraqis determined fight freedom write history prime minister allawi said speech congress last september ordinary iraqis anxious shoulder security burdens country quickly possible natural desire independent nation also stated mission coalition iraq new political situation iraq opens new phase work country recommendation commanders ground consultation iraqi government increasingly focus efforts helping prepare capable iraqi security forces forces skilled officers effective command structure forces become selfreliant take greater security responsibilities america coalition partners increasingly supporting role end iraqis must able defend country help proud new nation secure liberty recently iraqi interpreter said reporter tell america abandon us iraqis certain military strategy adapting circumstances commitment remains firm unchanging standing freedom iraqi friends freedom iraq make america safer generations come set artificial timetable leaving iraq would embolden terrorists make believe wait us out iraq achieve result country democratic representative people peace neighbors able defend itself result achieved men women serving iraq return home honor earned right now americans uniform serving posts across world often taking great risks orders given training equipment given us example idealism character makes every american proud volunteers military unrelenting battle unwavering loyalty unmatched honor decency every day theyre making nation secure service men women survived terrible injuries grateful country everything help recover said farewell good men women died freedom whose memory nation honor forever one name honor marine corps sergeant byron norwood pflugerville texas killed assault fallujah mom janet sent letter told much byron loved marine proud frontline terror wrote when byron home last time said wanted protect like since born hugged said youve done job mom turn protect you ladies gentlemen grateful hearts honor freedoms defenders military families represented evening sergeant norwoods mom dad janet bill norwood at point first ladys box guest safia taleb alsuhail embraced guest janet norwood 4 years americans seen unfolding large events known times sorrow hours uncertainty days victory history even disagreed seen threads purpose unite us attack freedom world reaffirmed confidence freedoms power change world part great venture extend promise freedom country renew values sustain liberty spread peace freedom brings franklin roosevelt reminded americans each age dream dying one coming birth live country biggest dreams born abolition slavery dream fulfilled liberation europe fascism dream achieved fall imperial communism dream until one day accomplished generation dreams own also go forward confidence road providence uneven unpredictable yet know leads leads freedom thank you may god bless america'"
      ]
     },
     "execution_count": 47,
     "metadata": {},
     "output_type": "execute_result"
    }
   ],
   "source": [
    "text"
   ]
  },
  {
   "cell_type": "code",
   "execution_count": null,
   "metadata": {},
   "outputs": [],
   "source": []
  }
 ],
 "metadata": {
  "kernelspec": {
   "display_name": "py36",
   "language": "python",
   "name": "py36"
  },
  "language_info": {
   "codemirror_mode": {
    "name": "ipython",
    "version": 3
   },
   "file_extension": ".py",
   "mimetype": "text/x-python",
   "name": "python",
   "nbconvert_exporter": "python",
   "pygments_lexer": "ipython3",
   "version": "3.6.5"
  }
 },
 "nbformat": 4,
 "nbformat_minor": 2
}
