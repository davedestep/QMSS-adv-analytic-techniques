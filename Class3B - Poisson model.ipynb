{
 "cells": [
  {
   "cell_type": "markdown",
   "metadata": {},
   "source": [
    "# Advanced quantitative techniques - Class 3B - More Poisson"
   ]
  },
  {
   "cell_type": "code",
   "execution_count": 18,
   "metadata": {},
   "outputs": [],
   "source": [
    "import pandas as pd\n",
    "import numpy as np\n",
    "import seaborn as sns\n",
    "import matplotlib.pyplot as plt\n",
    "%matplotlib inline\n",
    "import statsmodels.api as sm\n",
    "import statsmodels.formula.api as smf"
   ]
  },
  {
   "cell_type": "code",
   "execution_count": 2,
   "metadata": {},
   "outputs": [],
   "source": [
    "d = pd.read_csv(\"Data/GSS_2006.csv\")"
   ]
  },
  {
   "cell_type": "code",
   "execution_count": 3,
   "metadata": {},
   "outputs": [
    {
     "data": {
      "text/plain": [
       "count    2306.000000\n",
       "mean        9.479185\n",
       "std        62.054323\n",
       "min         0.000000\n",
       "25%         0.000000\n",
       "50%         0.000000\n",
       "75%         4.000000\n",
       "max       997.000000\n",
       "Name: numwomen, dtype: float64"
      ]
     },
     "execution_count": 3,
     "metadata": {},
     "output_type": "execute_result"
    }
   ],
   "source": [
    "d.numwomen.describe()"
   ]
  },
  {
   "cell_type": "code",
   "execution_count": 4,
   "metadata": {},
   "outputs": [
    {
     "data": {
      "text/plain": [
       "count    2298.000000\n",
       "mean        6.049173\n",
       "std        21.711985\n",
       "min         0.000000\n",
       "25%         0.000000\n",
       "50%         0.000000\n",
       "75%         4.000000\n",
       "max       500.000000\n",
       "Name: numwomen, dtype: float64"
      ]
     },
     "execution_count": 4,
     "metadata": {},
     "output_type": "execute_result"
    }
   ],
   "source": [
    "d.loc[d.numwomen<990, 'numwomen'].describe()"
   ]
  },
  {
   "cell_type": "code",
   "execution_count": 7,
   "metadata": {},
   "outputs": [
    {
     "data": {
      "text/plain": [
       "<matplotlib.axes._subplots.AxesSubplot at 0x1a1b479400>"
      ]
     },
     "execution_count": 7,
     "metadata": {},
     "output_type": "execute_result"
    },
    {
     "data": {
      "image/png": "[encoded data removed]",
      "text/plain": [
       "<Figure size 432x288 with 1 Axes>"
      ]
     },
     "metadata": {},
     "output_type": "display_data"
    }
   ],
   "source": [
    "d.loc[d.numwomen<990, 'numwomen'].hist(bins=150, density=True)"
   ]
  },
  {
   "cell_type": "markdown",
   "metadata": {},
   "source": [
    "## OLS model"
   ]
  },
  {
   "cell_type": "code",
   "execution_count": 9,
   "metadata": {},
   "outputs": [
    {
     "data": {
      "text/html": [
       "<table class=\"simpletable\">\n",
       "<caption>OLS Regression Results</caption>\n",
       "<tr>\n",
       "  <th>Dep. Variable:</th>        <td>numwomen</td>     <th>  R-squared:         </th> <td>   0.111</td> \n",
       "</tr>\n",
       "<tr>\n",
       "  <th>Model:</th>                   <td>OLS</td>       <th>  Adj. R-squared:    </th> <td>   0.109</td> \n",
       "</tr>\n",
       "<tr>\n",
       "  <th>Method:</th>             <td>Least Squares</td>  <th>  F-statistic:       </th> <td>   47.82</td> \n",
       "</tr>\n",
       "<tr>\n",
       "  <th>Date:</th>             <td>Fri, 17 Aug 2018</td> <th>  Prob (F-statistic):</th> <td>1.68e-55</td> \n",
       "</tr>\n",
       "<tr>\n",
       "  <th>Time:</th>                 <td>14:17:16</td>     <th>  Log-Likelihood:    </th> <td> -10181.</td> \n",
       "</tr>\n",
       "<tr>\n",
       "  <th>No. Observations:</th>      <td>  2294</td>      <th>  AIC:               </th> <td>2.038e+04</td>\n",
       "</tr>\n",
       "<tr>\n",
       "  <th>Df Residuals:</th>          <td>  2287</td>      <th>  BIC:               </th> <td>2.042e+04</td>\n",
       "</tr>\n",
       "<tr>\n",
       "  <th>Df Model:</th>              <td>     6</td>      <th>                     </th>     <td> </td>    \n",
       "</tr>\n",
       "<tr>\n",
       "  <th>Covariance Type:</th>      <td>nonrobust</td>    <th>                     </th>     <td> </td>    \n",
       "</tr>\n",
       "</table>\n",
       "<table class=\"simpletable\">\n",
       "<tr>\n",
       "          <td></td>             <th>coef</th>     <th>std err</th>      <th>t</th>      <th>P>|t|</th>  <th>[0.025</th>    <th>0.975]</th>  \n",
       "</tr>\n",
       "<tr>\n",
       "  <th>Intercept</th>         <td>   10.3950</td> <td>    1.713</td> <td>    6.069</td> <td> 0.000</td> <td>    7.036</td> <td>   13.754</td>\n",
       "</tr>\n",
       "<tr>\n",
       "  <th>C(sex)[T.2]</th>       <td>  -14.0753</td> <td>    0.882</td> <td>  -15.951</td> <td> 0.000</td> <td>  -15.806</td> <td>  -12.345</td>\n",
       "</tr>\n",
       "<tr>\n",
       "  <th>C(marital)[T.2.0]</th> <td>    2.6561</td> <td>    1.778</td> <td>    1.494</td> <td> 0.135</td> <td>   -0.830</td> <td>    6.142</td>\n",
       "</tr>\n",
       "<tr>\n",
       "  <th>C(marital)[T.3.0]</th> <td>    5.8833</td> <td>    1.219</td> <td>    4.826</td> <td> 0.000</td> <td>    3.493</td> <td>    8.274</td>\n",
       "</tr>\n",
       "<tr>\n",
       "  <th>C(marital)[T.4.0]</th> <td>    5.7211</td> <td>    2.501</td> <td>    2.287</td> <td> 0.022</td> <td>    0.816</td> <td>   10.626</td>\n",
       "</tr>\n",
       "<tr>\n",
       "  <th>C(marital)[T.5.0]</th> <td>    2.9650</td> <td>    1.143</td> <td>    2.593</td> <td> 0.010</td> <td>    0.723</td> <td>    5.207</td>\n",
       "</tr>\n",
       "<tr>\n",
       "  <th>age</th>               <td>    0.0371</td> <td>    0.031</td> <td>    1.203</td> <td> 0.229</td> <td>   -0.023</td> <td>    0.098</td>\n",
       "</tr>\n",
       "</table>\n",
       "<table class=\"simpletable\">\n",
       "<tr>\n",
       "  <th>Omnibus:</th>       <td>3872.344</td> <th>  Durbin-Watson:     </th>  <td>   1.958</td>  \n",
       "</tr>\n",
       "<tr>\n",
       "  <th>Prob(Omnibus):</th>  <td> 0.000</td>  <th>  Jarque-Bera (JB):  </th> <td>3501083.931</td>\n",
       "</tr>\n",
       "<tr>\n",
       "  <th>Skew:</th>           <td>11.213</td>  <th>  Prob(JB):          </th>  <td>    0.00</td>  \n",
       "</tr>\n",
       "<tr>\n",
       "  <th>Kurtosis:</th>       <td>193.068</td> <th>  Cond. No.          </th>  <td>    294.</td>  \n",
       "</tr>\n",
       "</table><br/><br/>Warnings:<br/>[1] Standard Errors assume that the covariance matrix of the errors is correctly specified."
      ],
      "text/plain": [
       "<class 'statsmodels.iolib.summary.Summary'>\n",
       "\"\"\"\n",
       "                            OLS Regression Results                            \n",
       "==============================================================================\n",
       "Dep. Variable:               numwomen   R-squared:                       0.111\n",
       "Model:                            OLS   Adj. R-squared:                  0.109\n",
       "Method:                 Least Squares   F-statistic:                     47.82\n",
       "Date:                Fri, 17 Aug 2018   Prob (F-statistic):           1.68e-55\n",
       "Time:                        14:17:16   Log-Likelihood:                -10181.\n",
       "No. Observations:                2294   AIC:                         2.038e+04\n",
       "Df Residuals:                    2287   BIC:                         2.042e+04\n",
       "Df Model:                           6                                         \n",
       "Covariance Type:            nonrobust                                         \n",
       "=====================================================================================\n",
       "                        coef    std err          t      P>|t|      [0.025      0.975]\n",
       "-------------------------------------------------------------------------------------\n",
       "Intercept            10.3950      1.713      6.069      0.000       7.036      13.754\n",
       "C(sex)[T.2]         -14.0753      0.882    -15.951      0.000     -15.806     -12.345\n",
       "C(marital)[T.2.0]     2.6561      1.778      1.494      0.135      -0.830       6.142\n",
       "C(marital)[T.3.0]     5.8833      1.219      4.826      0.000       3.493       8.274\n",
       "C(marital)[T.4.0]     5.7211      2.501      2.287      0.022       0.816      10.626\n",
       "C(marital)[T.5.0]     2.9650      1.143      2.593      0.010       0.723       5.207\n",
       "age                   0.0371      0.031      1.203      0.229      -0.023       0.098\n",
       "==============================================================================\n",
       "Omnibus:                     3872.344   Durbin-Watson:                   1.958\n",
       "Prob(Omnibus):                  0.000   Jarque-Bera (JB):          3501083.931\n",
       "Skew:                          11.213   Prob(JB):                         0.00\n",
       "Kurtosis:                     193.068   Cond. No.                         294.\n",
       "==============================================================================\n",
       "\n",
       "Warnings:\n",
       "[1] Standard Errors assume that the covariance matrix of the errors is correctly specified.\n",
       "\"\"\""
      ]
     },
     "execution_count": 9,
     "metadata": {},
     "output_type": "execute_result"
    }
   ],
   "source": [
    "# slide 4\n",
    "from statsmodels.regression.linear_model import OLS\n",
    "\n",
    "m1 = OLS.from_formula('numwomen ~ C(sex) + age + C(marital)', data=d, subset=d.numwomen<990).fit()\n",
    "m1.summary()"
   ]
  },
  {
   "cell_type": "code",
   "execution_count": 94,
   "metadata": {},
   "outputs": [
    {
     "data": {
      "text/plain": [
       "count    4489.000000\n",
       "mean        6.384656\n",
       "std         7.274181\n",
       "min        -2.975128\n",
       "25%        -0.748272\n",
       "50%         3.947417\n",
       "75%        12.918769\n",
       "max        19.433057\n",
       "dtype: float64"
      ]
     },
     "execution_count": 94,
     "metadata": {},
     "output_type": "execute_result"
    }
   ],
   "source": [
    "m1.predict(d[['sex', 'age', 'marital']]).describe()"
   ]
  },
  {
   "cell_type": "markdown",
   "metadata": {},
   "source": [
    "## Poisson model"
   ]
  },
  {
   "cell_type": "code",
   "execution_count": 104,
   "metadata": {},
   "outputs": [
    {
     "name": "stdout",
     "output_type": "stream",
     "text": [
      "Optimization terminated successfully.\n",
      "         Current function value: 6.724257\n",
      "         Iterations 8\n"
     ]
    },
    {
     "data": {
      "text/html": [
       "<table class=\"simpletable\">\n",
       "<caption>Poisson Regression Results</caption>\n",
       "<tr>\n",
       "  <th>Dep. Variable:</th>     <td>numwomen</td>     <th>  No. Observations:  </th>  <td>  2294</td> \n",
       "</tr>\n",
       "<tr>\n",
       "  <th>Model:</th>              <td>Poisson</td>     <th>  Df Residuals:      </th>  <td>  2287</td> \n",
       "</tr>\n",
       "<tr>\n",
       "  <th>Method:</th>               <td>MLE</td>       <th>  Df Model:          </th>  <td>     6</td> \n",
       "</tr>\n",
       "<tr>\n",
       "  <th>Date:</th>          <td>Fri, 17 Aug 2018</td> <th>  Pseudo R-squ.:     </th>  <td>0.4263</td> \n",
       "</tr>\n",
       "<tr>\n",
       "  <th>Time:</th>              <td>16:27:43</td>     <th>  Log-Likelihood:    </th> <td> -15425.</td>\n",
       "</tr>\n",
       "<tr>\n",
       "  <th>converged:</th>           <td>True</td>       <th>  LL-Null:           </th> <td> -26887.</td>\n",
       "</tr>\n",
       "<tr>\n",
       "  <th> </th>                      <td> </td>        <th>  LLR p-value:       </th>  <td> 0.000</td> \n",
       "</tr>\n",
       "</table>\n",
       "<table class=\"simpletable\">\n",
       "<tr>\n",
       "          <td></td>             <th>coef</th>     <th>std err</th>      <th>z</th>      <th>P>|z|</th>  <th>[0.025</th>    <th>0.975]</th>  \n",
       "</tr>\n",
       "<tr>\n",
       "  <th>Intercept</th>         <td>    1.8575</td> <td>    0.035</td> <td>   52.413</td> <td> 0.000</td> <td>    1.788</td> <td>    1.927</td>\n",
       "</tr>\n",
       "<tr>\n",
       "  <th>C(sex)[T.2]</th>       <td>   -4.0259</td> <td>    0.054</td> <td>  -74.777</td> <td> 0.000</td> <td>   -4.131</td> <td>   -3.920</td>\n",
       "</tr>\n",
       "<tr>\n",
       "  <th>C(marital)[T.2.0]</th> <td>    0.6797</td> <td>    0.042</td> <td>   16.229</td> <td> 0.000</td> <td>    0.598</td> <td>    0.762</td>\n",
       "</tr>\n",
       "<tr>\n",
       "  <th>C(marital)[T.3.0]</th> <td>    0.9068</td> <td>    0.022</td> <td>   40.897</td> <td> 0.000</td> <td>    0.863</td> <td>    0.950</td>\n",
       "</tr>\n",
       "<tr>\n",
       "  <th>C(marital)[T.4.0]</th> <td>    0.9060</td> <td>    0.041</td> <td>   21.836</td> <td> 0.000</td> <td>    0.825</td> <td>    0.987</td>\n",
       "</tr>\n",
       "<tr>\n",
       "  <th>C(marital)[T.5.0]</th> <td>    0.5810</td> <td>    0.024</td> <td>   24.404</td> <td> 0.000</td> <td>    0.534</td> <td>    0.628</td>\n",
       "</tr>\n",
       "<tr>\n",
       "  <th>age</th>               <td>    0.0077</td> <td>    0.001</td> <td>   12.344</td> <td> 0.000</td> <td>    0.006</td> <td>    0.009</td>\n",
       "</tr>\n",
       "</table>"
      ],
      "text/plain": [
       "<class 'statsmodels.iolib.summary.Summary'>\n",
       "\"\"\"\n",
       "                          Poisson Regression Results                          \n",
       "==============================================================================\n",
       "Dep. Variable:               numwomen   No. Observations:                 2294\n",
       "Model:                        Poisson   Df Residuals:                     2287\n",
       "Method:                           MLE   Df Model:                            6\n",
       "Date:                Fri, 17 Aug 2018   Pseudo R-squ.:                  0.4263\n",
       "Time:                        16:27:43   Log-Likelihood:                -15425.\n",
       "converged:                       True   LL-Null:                       -26887.\n",
       "                                        LLR p-value:                     0.000\n",
       "=====================================================================================\n",
       "                        coef    std err          z      P>|z|      [0.025      0.975]\n",
       "-------------------------------------------------------------------------------------\n",
       "Intercept             1.8575      0.035     52.413      0.000       1.788       1.927\n",
       "C(sex)[T.2]          -4.0259      0.054    -74.777      0.000      -4.131      -3.920\n",
       "C(marital)[T.2.0]     0.6797      0.042     16.229      0.000       0.598       0.762\n",
       "C(marital)[T.3.0]     0.9068      0.022     40.897      0.000       0.863       0.950\n",
       "C(marital)[T.4.0]     0.9060      0.041     21.836      0.000       0.825       0.987\n",
       "C(marital)[T.5.0]     0.5810      0.024     24.404      0.000       0.534       0.628\n",
       "age                   0.0077      0.001     12.344      0.000       0.006       0.009\n",
       "=====================================================================================\n",
       "\"\"\""
      ]
     },
     "execution_count": 104,
     "metadata": {},
     "output_type": "execute_result"
    }
   ],
   "source": [
    "# slide 6\n",
    "m3 = Poisson.from_formula('numwomen ~ C(sex) + age + C(marital)', data=d, subset=d.numwomen<990).fit()\n",
    "m3.summary()"
   ]
  },
  {
   "cell_type": "code",
   "execution_count": 106,
   "metadata": {},
   "outputs": [
    {
     "data": {
      "text/plain": [
       "count    2294.000000\n",
       "mean        6.054490\n",
       "std         7.767452\n",
       "min         0.133298\n",
       "25%         0.203592\n",
       "50%         0.406581\n",
       "75%        10.708770\n",
       "max        30.442875\n",
       "dtype: float64"
      ]
     },
     "execution_count": 106,
     "metadata": {},
     "output_type": "execute_result"
    }
   ],
   "source": [
    "np.exp(m3.fittedvalues).describe()"
   ]
  },
  {
   "cell_type": "markdown",
   "metadata": {},
   "source": [
    "<br>\n",
    "OLS did better than Poisson because the data is not Poisson-distributed"
   ]
  },
  {
   "cell_type": "code",
   "execution_count": 25,
   "metadata": {},
   "outputs": [
    {
     "data": {
      "text/plain": [
       "471.41029317765583"
      ]
     },
     "execution_count": 25,
     "metadata": {},
     "output_type": "execute_result"
    }
   ],
   "source": [
    "# variance of \"numwomen\"\n",
    "d.loc[d.numwomen<990, 'numwomen'].var()"
   ]
  },
  {
   "cell_type": "markdown",
   "metadata": {},
   "source": [
    "## Negative binomial"
   ]
  },
  {
   "cell_type": "code",
   "execution_count": 101,
   "metadata": {},
   "outputs": [
    {
     "name": "stdout",
     "output_type": "stream",
     "text": [
      "Warning: Maximum number of iterations has been exceeded.\n",
      "         Current function value: 1.808377\n",
      "         Iterations: 35\n",
      "         Function evaluations: 66\n",
      "         Gradient evaluations: 66\n"
     ]
    },
    {
     "name": "stderr",
     "output_type": "stream",
     "text": [
      "/Users/melindasong/anaconda/envs/py36/lib/python3.6/site-packages/statsmodels/base/model.py:508: ConvergenceWarning: Maximum Likelihood optimization failed to converge. Check mle_retvals\n",
      "  \"Check mle_retvals\", ConvergenceWarning)\n"
     ]
    },
    {
     "data": {
      "text/html": [
       "<table class=\"simpletable\">\n",
       "<caption>NegativeBinomial Regression Results</caption>\n",
       "<tr>\n",
       "  <th>Dep. Variable:</th>     <td>numwomen</td>     <th>  No. Observations:  </th>  <td>  2294</td> \n",
       "</tr>\n",
       "<tr>\n",
       "  <th>Model:</th>         <td>NegativeBinomial</td> <th>  Df Residuals:      </th>  <td>  2287</td> \n",
       "</tr>\n",
       "<tr>\n",
       "  <th>Method:</th>               <td>MLE</td>       <th>  Df Model:          </th>  <td>     6</td> \n",
       "</tr>\n",
       "<tr>\n",
       "  <th>Date:</th>          <td>Fri, 17 Aug 2018</td> <th>  Pseudo R-squ.:     </th>  <td>0.1592</td> \n",
       "</tr>\n",
       "<tr>\n",
       "  <th>Time:</th>              <td>16:25:57</td>     <th>  Log-Likelihood:    </th> <td> -4148.4</td>\n",
       "</tr>\n",
       "<tr>\n",
       "  <th>converged:</th>           <td>False</td>      <th>  LL-Null:           </th> <td> -4934.1</td>\n",
       "</tr>\n",
       "<tr>\n",
       "  <th> </th>                      <td> </td>        <th>  LLR p-value:       </th>  <td> 0.000</td> \n",
       "</tr>\n",
       "</table>\n",
       "<table class=\"simpletable\">\n",
       "<tr>\n",
       "          <td></td>             <th>coef</th>     <th>std err</th>      <th>z</th>      <th>P>|z|</th>  <th>[0.025</th>    <th>0.975]</th>  \n",
       "</tr>\n",
       "<tr>\n",
       "  <th>Intercept</th>         <td>    1.8244</td> <td>    0.159</td> <td>   11.475</td> <td> 0.000</td> <td>    1.513</td> <td>    2.136</td>\n",
       "</tr>\n",
       "<tr>\n",
       "  <th>C(sex)[T.2]</th>       <td>   -4.0484</td> <td>    0.085</td> <td>  -47.606</td> <td> 0.000</td> <td>   -4.215</td> <td>   -3.882</td>\n",
       "</tr>\n",
       "<tr>\n",
       "  <th>C(marital)[T.2.0]</th> <td>    0.0708</td> <td>    0.173</td> <td>    0.410</td> <td> 0.682</td> <td>   -0.267</td> <td>    0.409</td>\n",
       "</tr>\n",
       "<tr>\n",
       "  <th>C(marital)[T.3.0]</th> <td>    0.7551</td> <td>    0.107</td> <td>    7.066</td> <td> 0.000</td> <td>    0.546</td> <td>    0.964</td>\n",
       "</tr>\n",
       "<tr>\n",
       "  <th>C(marital)[T.4.0]</th> <td>    1.4841</td> <td>    0.221</td> <td>    6.721</td> <td> 0.000</td> <td>    1.051</td> <td>    1.917</td>\n",
       "</tr>\n",
       "<tr>\n",
       "  <th>C(marital)[T.5.0]</th> <td>    0.9089</td> <td>    0.103</td> <td>    8.866</td> <td> 0.000</td> <td>    0.708</td> <td>    1.110</td>\n",
       "</tr>\n",
       "<tr>\n",
       "  <th>age</th>               <td>    0.0077</td> <td>    0.003</td> <td>    2.465</td> <td> 0.014</td> <td>    0.002</td> <td>    0.014</td>\n",
       "</tr>\n",
       "<tr>\n",
       "  <th>alpha</th>             <td>    2.0713</td> <td>    0.094</td> <td>   22.114</td> <td> 0.000</td> <td>    1.888</td> <td>    2.255</td>\n",
       "</tr>\n",
       "</table>"
      ],
      "text/plain": [
       "<class 'statsmodels.iolib.summary.Summary'>\n",
       "\"\"\"\n",
       "                     NegativeBinomial Regression Results                      \n",
       "==============================================================================\n",
       "Dep. Variable:               numwomen   No. Observations:                 2294\n",
       "Model:               NegativeBinomial   Df Residuals:                     2287\n",
       "Method:                           MLE   Df Model:                            6\n",
       "Date:                Fri, 17 Aug 2018   Pseudo R-squ.:                  0.1592\n",
       "Time:                        16:25:57   Log-Likelihood:                -4148.4\n",
       "converged:                      False   LL-Null:                       -4934.1\n",
       "                                        LLR p-value:                     0.000\n",
       "=====================================================================================\n",
       "                        coef    std err          z      P>|z|      [0.025      0.975]\n",
       "-------------------------------------------------------------------------------------\n",
       "Intercept             1.8244      0.159     11.475      0.000       1.513       2.136\n",
       "C(sex)[T.2]          -4.0484      0.085    -47.606      0.000      -4.215      -3.882\n",
       "C(marital)[T.2.0]     0.0708      0.173      0.410      0.682      -0.267       0.409\n",
       "C(marital)[T.3.0]     0.7551      0.107      7.066      0.000       0.546       0.964\n",
       "C(marital)[T.4.0]     1.4841      0.221      6.721      0.000       1.051       1.917\n",
       "C(marital)[T.5.0]     0.9089      0.103      8.866      0.000       0.708       1.110\n",
       "age                   0.0077      0.003      2.465      0.014       0.002       0.014\n",
       "alpha                 2.0713      0.094     22.114      0.000       1.888       2.255\n",
       "=====================================================================================\n",
       "\"\"\""
      ]
     },
     "execution_count": 101,
     "metadata": {},
     "output_type": "execute_result"
    }
   ],
   "source": [
    "from statsmodels.discrete.discrete_model import NegativeBinomial\n",
    "m6 = NegativeBinomial.from_formula('numwomen ~ C(sex) + age + C(marital)', data=d, subset=d.numwomen<990).fit()\n",
    "m6.summary()"
   ]
  },
  {
   "cell_type": "code",
   "execution_count": 102,
   "metadata": {},
   "outputs": [
    {
     "data": {
      "text/plain": [
       "count    2294.000000\n",
       "mean        6.407947\n",
       "std         8.561061\n",
       "min         0.126072\n",
       "25%         0.182410\n",
       "50%         0.361589\n",
       "75%        10.274783\n",
       "max        45.670934\n",
       "dtype: float64"
      ]
     },
     "execution_count": 102,
     "metadata": {},
     "output_type": "execute_result"
    }
   ],
   "source": [
    "np.exp(m6.fittedvalues).describe()"
   ]
  },
  {
   "cell_type": "code",
   "execution_count": 103,
   "metadata": {},
   "outputs": [
    {
     "data": {
      "text/plain": [
       "count    2298.000000\n",
       "mean        6.049173\n",
       "std        21.711985\n",
       "min         0.000000\n",
       "25%         0.000000\n",
       "50%         0.000000\n",
       "75%         4.000000\n",
       "max       500.000000\n",
       "Name: numwomen, dtype: float64"
      ]
     },
     "execution_count": 103,
     "metadata": {},
     "output_type": "execute_result"
    }
   ],
   "source": [
    "d.loc[d.numwomen<990, 'numwomen'].describe()"
   ]
  },
  {
   "cell_type": "markdown",
   "metadata": {},
   "source": [
    "### Poisson with offset"
   ]
  },
  {
   "cell_type": "code",
   "execution_count": 107,
   "metadata": {},
   "outputs": [
    {
     "name": "stdout",
     "output_type": "stream",
     "text": [
      "Optimization terminated successfully.\n",
      "         Current function value: 6.742149\n",
      "         Iterations 8\n"
     ]
    },
    {
     "data": {
      "text/html": [
       "<table class=\"simpletable\">\n",
       "<caption>Poisson Regression Results</caption>\n",
       "<tr>\n",
       "  <th>Dep. Variable:</th>     <td>numwomen</td>     <th>  No. Observations:  </th>  <td>  2294</td> \n",
       "</tr>\n",
       "<tr>\n",
       "  <th>Model:</th>              <td>Poisson</td>     <th>  Df Residuals:      </th>  <td>  2288</td> \n",
       "</tr>\n",
       "<tr>\n",
       "  <th>Method:</th>               <td>MLE</td>       <th>  Df Model:          </th>  <td>     5</td> \n",
       "</tr>\n",
       "<tr>\n",
       "  <th>Date:</th>          <td>Fri, 17 Aug 2018</td> <th>  Pseudo R-squ.:     </th>  <td>0.4337</td> \n",
       "</tr>\n",
       "<tr>\n",
       "  <th>Time:</th>              <td>16:29:38</td>     <th>  Log-Likelihood:    </th> <td> -15466.</td>\n",
       "</tr>\n",
       "<tr>\n",
       "  <th>converged:</th>           <td>True</td>       <th>  LL-Null:           </th> <td> -27311.</td>\n",
       "</tr>\n",
       "<tr>\n",
       "  <th> </th>                      <td> </td>        <th>  LLR p-value:       </th>  <td> 0.000</td> \n",
       "</tr>\n",
       "</table>\n",
       "<table class=\"simpletable\">\n",
       "<tr>\n",
       "          <td></td>             <th>coef</th>     <th>std err</th>      <th>z</th>      <th>P>|z|</th>  <th>[0.025</th>    <th>0.975]</th>  \n",
       "</tr>\n",
       "<tr>\n",
       "  <th>Intercept</th>         <td>   -1.6611</td> <td>    0.015</td> <td> -109.229</td> <td> 0.000</td> <td>   -1.691</td> <td>   -1.631</td>\n",
       "</tr>\n",
       "<tr>\n",
       "  <th>C(sex)[T.2]</th>       <td>   -4.0095</td> <td>    0.054</td> <td>  -74.474</td> <td> 0.000</td> <td>   -4.115</td> <td>   -3.904</td>\n",
       "</tr>\n",
       "<tr>\n",
       "  <th>C(marital)[T.2.0]</th> <td>    0.4783</td> <td>    0.040</td> <td>   12.006</td> <td> 0.000</td> <td>    0.400</td> <td>    0.556</td>\n",
       "</tr>\n",
       "<tr>\n",
       "  <th>C(marital)[T.3.0]</th> <td>    0.8968</td> <td>    0.022</td> <td>   40.447</td> <td> 0.000</td> <td>    0.853</td> <td>    0.940</td>\n",
       "</tr>\n",
       "<tr>\n",
       "  <th>C(marital)[T.4.0]</th> <td>    0.9519</td> <td>    0.041</td> <td>   22.995</td> <td> 0.000</td> <td>    0.871</td> <td>    1.033</td>\n",
       "</tr>\n",
       "<tr>\n",
       "  <th>C(marital)[T.5.0]</th> <td>    0.8476</td> <td>    0.022</td> <td>   39.418</td> <td> 0.000</td> <td>    0.805</td> <td>    0.890</td>\n",
       "</tr>\n",
       "</table>"
      ],
      "text/plain": [
       "<class 'statsmodels.iolib.summary.Summary'>\n",
       "\"\"\"\n",
       "                          Poisson Regression Results                          \n",
       "==============================================================================\n",
       "Dep. Variable:               numwomen   No. Observations:                 2294\n",
       "Model:                        Poisson   Df Residuals:                     2288\n",
       "Method:                           MLE   Df Model:                            5\n",
       "Date:                Fri, 17 Aug 2018   Pseudo R-squ.:                  0.4337\n",
       "Time:                        16:29:38   Log-Likelihood:                -15466.\n",
       "converged:                       True   LL-Null:                       -27311.\n",
       "                                        LLR p-value:                     0.000\n",
       "=====================================================================================\n",
       "                        coef    std err          z      P>|z|      [0.025      0.975]\n",
       "-------------------------------------------------------------------------------------\n",
       "Intercept            -1.6611      0.015   -109.229      0.000      -1.691      -1.631\n",
       "C(sex)[T.2]          -4.0095      0.054    -74.474      0.000      -4.115      -3.904\n",
       "C(marital)[T.2.0]     0.4783      0.040     12.006      0.000       0.400       0.556\n",
       "C(marital)[T.3.0]     0.8968      0.022     40.447      0.000       0.853       0.940\n",
       "C(marital)[T.4.0]     0.9519      0.041     22.995      0.000       0.871       1.033\n",
       "C(marital)[T.5.0]     0.8476      0.022     39.418      0.000       0.805       0.890\n",
       "=====================================================================================\n",
       "\"\"\""
      ]
     },
     "execution_count": 107,
     "metadata": {},
     "output_type": "execute_result"
    }
   ],
   "source": [
    "# slide 14\n",
    "m5 = Poisson.from_formula('numwomen ~ C(sex) + C(marital)', data=d, subset=d.numwomen<990, \n",
    "      offset=np.log(d.loc[d.numwomen<990, 'age'])).fit()\n",
    "m5.summary()"
   ]
  },
  {
   "cell_type": "markdown",
   "metadata": {},
   "source": [
    "### Comparing fit"
   ]
  },
  {
   "cell_type": "code",
   "execution_count": 112,
   "metadata": {},
   "outputs": [],
   "source": [
    "def augment(fit, data, y):\n",
    "    df = data.copy()\n",
    "    df['fitted'] = fit.fittedvalues\n",
    "    df['absdiff'] = np.abs(df.fitted - df[y])\n",
    "    return df"
   ]
  },
  {
   "cell_type": "code",
   "execution_count": 113,
   "metadata": {},
   "outputs": [],
   "source": [
    "data = d[['sex', 'age', 'marital', 'numwomen']].copy()\n",
    "data = data[data.numwomen<990]\n",
    "\n",
    "a = augment(m1, data, 'numwomen')\n",
    "b = augment(m3_2, data, 'numwomen')\n",
    "c = augment(m6, data, 'numwomen')"
   ]
  },
  {
   "cell_type": "code",
   "execution_count": 114,
   "metadata": {},
   "outputs": [
    {
     "data": {
      "text/html": [
       "<div>\n",
       "<style scoped>\n",
       "    .dataframe tbody tr th:only-of-type {\n",
       "        vertical-align: middle;\n",
       "    }\n",
       "\n",
       "    .dataframe tbody tr th {\n",
       "        vertical-align: top;\n",
       "    }\n",
       "\n",
       "    .dataframe thead th {\n",
       "        text-align: right;\n",
       "    }\n",
       "</style>\n",
       "<table border=\"1\" class=\"dataframe\">\n",
       "  <thead>\n",
       "    <tr style=\"text-align: right;\">\n",
       "      <th></th>\n",
       "      <th>Negative binomial</th>\n",
       "      <th>OLS</th>\n",
       "      <th>Poisson</th>\n",
       "    </tr>\n",
       "  </thead>\n",
       "  <tbody>\n",
       "    <tr>\n",
       "      <th>count</th>\n",
       "      <td>2294.000000</td>\n",
       "      <td>2294.000000</td>\n",
       "      <td>2294.000000</td>\n",
       "    </tr>\n",
       "    <tr>\n",
       "      <th>mean</th>\n",
       "      <td>6.182420</td>\n",
       "      <td>7.239642</td>\n",
       "      <td>6.147733</td>\n",
       "    </tr>\n",
       "    <tr>\n",
       "      <th>std</th>\n",
       "      <td>21.043408</td>\n",
       "      <td>19.159904</td>\n",
       "      <td>21.054678</td>\n",
       "    </tr>\n",
       "    <tr>\n",
       "      <th>min</th>\n",
       "      <td>0.000527</td>\n",
       "      <td>0.009088</td>\n",
       "      <td>0.001911</td>\n",
       "    </tr>\n",
       "    <tr>\n",
       "      <th>25%</th>\n",
       "      <td>1.132093</td>\n",
       "      <td>1.674569</td>\n",
       "      <td>1.103455</td>\n",
       "    </tr>\n",
       "    <tr>\n",
       "      <th>50%</th>\n",
       "      <td>1.810584</td>\n",
       "      <td>2.826671</td>\n",
       "      <td>1.739205</td>\n",
       "    </tr>\n",
       "    <tr>\n",
       "      <th>75%</th>\n",
       "      <td>2.767926</td>\n",
       "      <td>8.966672</td>\n",
       "      <td>2.665649</td>\n",
       "    </tr>\n",
       "    <tr>\n",
       "      <th>max</th>\n",
       "      <td>497.561223</td>\n",
       "      <td>484.313760</td>\n",
       "      <td>496.918606</td>\n",
       "    </tr>\n",
       "  </tbody>\n",
       "</table>\n",
       "</div>"
      ],
      "text/plain": [
       "       Negative binomial          OLS      Poisson\n",
       "count        2294.000000  2294.000000  2294.000000\n",
       "mean            6.182420     7.239642     6.147733\n",
       "std            21.043408    19.159904    21.054678\n",
       "min             0.000527     0.009088     0.001911\n",
       "25%             1.132093     1.674569     1.103455\n",
       "50%             1.810584     2.826671     1.739205\n",
       "75%             2.767926     8.966672     2.665649\n",
       "max           497.561223   484.313760   496.918606"
      ]
     },
     "execution_count": 114,
     "metadata": {},
     "output_type": "execute_result"
    }
   ],
   "source": [
    "pd.concat({'OLS': a.absdiff.describe(), 'Poisson': b.absdiff.describe(), 'Negative binomial': c.absdiff.describe()}, axis=1)"
   ]
  },
  {
   "cell_type": "code",
   "execution_count": null,
   "metadata": {},
   "outputs": [],
   "source": []
  }
 ],
 "metadata": {
  "kernelspec": {
   "display_name": "py36",
   "language": "python",
   "name": "py36"
  },
  "language_info": {
   "codemirror_mode": {
    "name": "ipython",
    "version": 3
   },
   "file_extension": ".py",
   "mimetype": "text/x-python",
   "name": "python",
   "nbconvert_exporter": "python",
   "pygments_lexer": "ipython3",
   "version": "3.6.5"
  }
 },
 "nbformat": 4,
 "nbformat_minor": 2
}
