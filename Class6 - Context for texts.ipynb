{
 "cells": [
  {
   "cell_type": "markdown",
   "metadata": {},
   "source": [
    "# Advanced quantitative techniques - Class 6 - Context for texts"
   ]
  },
  {
   "cell_type": "code",
   "execution_count": 1,
   "metadata": {},
   "outputs": [],
   "source": [
    "import pandas as pd\n",
    "import numpy as np\n",
    "import matplotlib.pyplot as plt\n",
    "%matplotlib inline"
   ]
  },
  {
   "cell_type": "code",
   "execution_count": 2,
   "metadata": {},
   "outputs": [],
   "source": [
    "files = ['Trump.Inaug.2017', 'Obama.Inaug.2009']\n",
    "paper_words = {}\n",
    "\n",
    "for d in files: \n",
    "    file_path = 'Data/' + str(d) + '.txt'\n",
    "    with open(file_path, 'rb') as f:\n",
    "        f = [f.read().decode('utf8', 'ignore').replace('\\r\\n', \" \").replace('\\ufeff', '')]\n",
    "        paper_words[d] = f"
   ]
  },
  {
   "cell_type": "markdown",
   "metadata": {},
   "source": [
    "### Collect bigrams"
   ]
  },
  {
   "cell_type": "code",
   "execution_count": 21,
   "metadata": {},
   "outputs": [],
   "source": [
    "import string\n",
    "from textblob import TextBlob\n",
    "\n",
    "bigrams_by_doc = {}\n",
    "for docid, text in paper_words.items():\n",
    "    # convert list to string\n",
    "    text = ' '.join(text)\n",
    "    \n",
    "    # to lower case\n",
    "    text = text.lower()\n",
    "    \n",
    "    # remove punctuations\n",
    "    translator = str.maketrans('', '', string.punctuation)\n",
    "    text = text.translate(translator)\n",
    "    \n",
    "    # get bigrams\n",
    "    blob = TextBlob(text)\n",
    "    ngram_var = blob.ngrams(n=2)\n",
    "    \n",
    "    bigrams_by_doc[docid] = ngram_var"
   ]
  },
  {
   "cell_type": "markdown",
   "metadata": {},
   "source": [
    "### Filter out bigrams containing stopwords"
   ]
  },
  {
   "cell_type": "code",
   "execution_count": 4,
   "metadata": {},
   "outputs": [],
   "source": [
    "from nltk.corpus import stopwords\n",
    "stop = stopwords.words('english')\n",
    "\n",
    "bigrams_filtered = {}\n",
    "\n",
    "# filter out bigrams that contain stopwords\n",
    "for k, v in bigrams_by_doc.items():\n",
    "    b = [i for i in v if i[0] not in stop and i[1] not in stop]\n",
    "    bigrams_filtered[k] = b"
   ]
  },
  {
   "cell_type": "markdown",
   "metadata": {},
   "source": [
    "### Construct document-term matrix"
   ]
  },
  {
   "cell_type": "code",
   "execution_count": 5,
   "metadata": {},
   "outputs": [],
   "source": [
    "# count the frequency of each bigram, at the corpus level and at the document level\n",
    "from collections import Counter\n",
    "\n",
    "corpus_count = Counter([tuple(b) for v in bigrams_filtered.values() for b in v])\n",
    "\n",
    "Obama_count = Counter([tuple(b) for b in bigrams_filtered['Obama.Inaug.2009']])\n",
    "Trump_count = Counter([tuple(b) for b in bigrams_filtered['Trump.Inaug.2017']])"
   ]
  },
  {
   "cell_type": "code",
   "execution_count": 6,
   "metadata": {},
   "outputs": [],
   "source": [
    "# construct term-document matrix\n",
    "tdm = pd.DataFrame.from_dict(corpus_count, orient='index', columns=['corpus'])\n",
    "\n",
    "tdm['Obama'] = pd.Series(Obama_count)\n",
    "tdm['Trump'] = pd.Series(Trump_count)\n",
    "\n",
    "tdm.fillna(0, inplace=True)\n",
    "\n",
    "# document-term matrix\n",
    "dtm = tdm.T"
   ]
  },
  {
   "cell_type": "markdown",
   "metadata": {},
   "source": [
    "### Calculate term frequency"
   ]
  },
  {
   "cell_type": "code",
   "execution_count": 7,
   "metadata": {},
   "outputs": [],
   "source": [
    "tdm['Obama_prop'] = tdm['Obama'].apply(lambda x: x/tdm['Obama'].sum())\n",
    "tdm['Trump_prop'] = tdm['Trump'].apply(lambda x: x/tdm['Trump'].sum())\n",
    "tdm['Obama_over_Trump'] = tdm['Obama_prop'] - tdm['Trump_prop']"
   ]
  },
  {
   "cell_type": "code",
   "execution_count": 8,
   "metadata": {},
   "outputs": [],
   "source": [
    "tdm.reset_index(drop=False, inplace=True)\n",
    "\n",
    "tdm.rename(columns={'index': 'bigrams'}, inplace=True)"
   ]
  },
  {
   "cell_type": "code",
   "execution_count": 9,
   "metadata": {},
   "outputs": [],
   "source": [
    "# concatenate bigrams\n",
    "## a ValueError was encountered possibly due to encoding of the txt files. Added 'try' 'except' in order to bypass this error\n",
    "\n",
    "for index, bigram in enumerate(tdm.bigrams):\n",
    "    try:\n",
    "        e1, e2 = bigram\n",
    "        tdm.loc[index, 'bigrams_concat'] = str(e1) + ' ' + str(e2)\n",
    "    except ValueError:\n",
    "        tdm.loc[index, 'bigrams_concat'] = bigram"
   ]
  },
  {
   "cell_type": "code",
   "execution_count": 10,
   "metadata": {},
   "outputs": [
    {
     "data": {
      "image/png": "[encoded data removed]",
      "text/plain": [
       "<Figure size 432x288 with 1 Axes>"
      ]
     },
     "metadata": {},
     "output_type": "display_data"
    }
   ],
   "source": [
    "fig, ax = plt.subplots()\n",
    "plt.scatter(tdm.Obama_prop, tdm.Trump_prop)\n",
    "plt.xlim(0, 0.015)\n",
    "plt.ylim(0, 0.02)\n",
    "\n",
    "for i, txt in enumerate(tdm.bigrams_concat):\n",
    "    ax.annotate(txt, (tdm.Obama_prop[i], tdm.Trump_prop[i]))"
   ]
  },
  {
   "cell_type": "markdown",
   "metadata": {},
   "source": [
    "### Most Obama-like bigrams"
   ]
  },
  {
   "cell_type": "code",
   "execution_count": 11,
   "metadata": {},
   "outputs": [
    {
     "data": {
      "text/html": [
       "<div>\n",
       "<style scoped>\n",
       "    .dataframe tbody tr th:only-of-type {\n",
       "        vertical-align: middle;\n",
       "    }\n",
       "\n",
       "    .dataframe tbody tr th {\n",
       "        vertical-align: top;\n",
       "    }\n",
       "\n",
       "    .dataframe thead th {\n",
       "        text-align: right;\n",
       "    }\n",
       "</style>\n",
       "<table border=\"1\" class=\"dataframe\">\n",
       "  <thead>\n",
       "    <tr style=\"text-align: right;\">\n",
       "      <th></th>\n",
       "      <th>bigrams</th>\n",
       "      <th>corpus</th>\n",
       "      <th>Obama</th>\n",
       "      <th>Trump</th>\n",
       "      <th>Obama_prop</th>\n",
       "      <th>Trump_prop</th>\n",
       "      <th>Obama_over_Trump</th>\n",
       "      <th>bigrams_concat</th>\n",
       "    </tr>\n",
       "  </thead>\n",
       "  <tbody>\n",
       "    <tr>\n",
       "      <th>376</th>\n",
       "      <td>(still, believe)</td>\n",
       "      <td>3</td>\n",
       "      <td>3.0</td>\n",
       "      <td>0.0</td>\n",
       "      <td>0.008929</td>\n",
       "      <td>0.0</td>\n",
       "      <td>0.008929</td>\n",
       "      <td>still believe</td>\n",
       "    </tr>\n",
       "    <tr>\n",
       "      <th>375</th>\n",
       "      <td>(people, still)</td>\n",
       "      <td>3</td>\n",
       "      <td>3.0</td>\n",
       "      <td>0.0</td>\n",
       "      <td>0.008929</td>\n",
       "      <td>0.0</td>\n",
       "      <td>0.008929</td>\n",
       "      <td>people still</td>\n",
       "    </tr>\n",
       "    <tr>\n",
       "      <th>260</th>\n",
       "      <td>(created, equal)</td>\n",
       "      <td>3</td>\n",
       "      <td>3.0</td>\n",
       "      <td>0.0</td>\n",
       "      <td>0.008929</td>\n",
       "      <td>0.0</td>\n",
       "      <td>0.008929</td>\n",
       "      <td>created equal</td>\n",
       "    </tr>\n",
       "    <tr>\n",
       "      <th>275</th>\n",
       "      <td>(blood, drawn)</td>\n",
       "      <td>2</td>\n",
       "      <td>2.0</td>\n",
       "      <td>0.0</td>\n",
       "      <td>0.005952</td>\n",
       "      <td>0.0</td>\n",
       "      <td>0.005952</td>\n",
       "      <td>blood drawn</td>\n",
       "    </tr>\n",
       "    <tr>\n",
       "      <th>539</th>\n",
       "      <td>(let, us)</td>\n",
       "      <td>2</td>\n",
       "      <td>2.0</td>\n",
       "      <td>0.0</td>\n",
       "      <td>0.005952</td>\n",
       "      <td>0.0</td>\n",
       "      <td>0.005952</td>\n",
       "      <td>let us</td>\n",
       "    </tr>\n",
       "    <tr>\n",
       "      <th>457</th>\n",
       "      <td>(compel, us)</td>\n",
       "      <td>2</td>\n",
       "      <td>2.0</td>\n",
       "      <td>0.0</td>\n",
       "      <td>0.005952</td>\n",
       "      <td>0.0</td>\n",
       "      <td>0.005952</td>\n",
       "      <td>compel us</td>\n",
       "    </tr>\n",
       "    <tr>\n",
       "      <th>326</th>\n",
       "      <td>(new, jobs)</td>\n",
       "      <td>2</td>\n",
       "      <td>2.0</td>\n",
       "      <td>0.0</td>\n",
       "      <td>0.005952</td>\n",
       "      <td>0.0</td>\n",
       "      <td>0.005952</td>\n",
       "      <td>new jobs</td>\n",
       "    </tr>\n",
       "    <tr>\n",
       "      <th>505</th>\n",
       "      <td>(require, us)</td>\n",
       "      <td>2</td>\n",
       "      <td>2.0</td>\n",
       "      <td>0.0</td>\n",
       "      <td>0.005952</td>\n",
       "      <td>0.0</td>\n",
       "      <td>0.005952</td>\n",
       "      <td>require us</td>\n",
       "    </tr>\n",
       "    <tr>\n",
       "      <th>518</th>\n",
       "      <td>(must, act)</td>\n",
       "      <td>2</td>\n",
       "      <td>2.0</td>\n",
       "      <td>0.0</td>\n",
       "      <td>0.005952</td>\n",
       "      <td>0.0</td>\n",
       "      <td>0.005952</td>\n",
       "      <td>must act</td>\n",
       "    </tr>\n",
       "    <tr>\n",
       "      <th>519</th>\n",
       "      <td>(act, knowing)</td>\n",
       "      <td>2</td>\n",
       "      <td>2.0</td>\n",
       "      <td>0.0</td>\n",
       "      <td>0.005952</td>\n",
       "      <td>0.0</td>\n",
       "      <td>0.005952</td>\n",
       "      <td>act knowing</td>\n",
       "    </tr>\n",
       "  </tbody>\n",
       "</table>\n",
       "</div>"
      ],
      "text/plain": [
       "              bigrams  corpus  Obama  Trump  Obama_prop  Trump_prop  \\\n",
       "376  (still, believe)       3    3.0    0.0    0.008929         0.0   \n",
       "375   (people, still)       3    3.0    0.0    0.008929         0.0   \n",
       "260  (created, equal)       3    3.0    0.0    0.008929         0.0   \n",
       "275    (blood, drawn)       2    2.0    0.0    0.005952         0.0   \n",
       "539         (let, us)       2    2.0    0.0    0.005952         0.0   \n",
       "457      (compel, us)       2    2.0    0.0    0.005952         0.0   \n",
       "326       (new, jobs)       2    2.0    0.0    0.005952         0.0   \n",
       "505     (require, us)       2    2.0    0.0    0.005952         0.0   \n",
       "518       (must, act)       2    2.0    0.0    0.005952         0.0   \n",
       "519    (act, knowing)       2    2.0    0.0    0.005952         0.0   \n",
       "\n",
       "     Obama_over_Trump bigrams_concat  \n",
       "376          0.008929  still believe  \n",
       "375          0.008929   people still  \n",
       "260          0.008929  created equal  \n",
       "275          0.005952    blood drawn  \n",
       "539          0.005952         let us  \n",
       "457          0.005952      compel us  \n",
       "326          0.005952       new jobs  \n",
       "505          0.005952     require us  \n",
       "518          0.005952       must act  \n",
       "519          0.005952    act knowing  "
      ]
     },
     "execution_count": 11,
     "metadata": {},
     "output_type": "execute_result"
    }
   ],
   "source": [
    "tdm.sort_values('Obama_over_Trump', ascending=False)[:10]"
   ]
  },
  {
   "cell_type": "markdown",
   "metadata": {},
   "source": [
    "### Most Trump-like bigrams"
   ]
  },
  {
   "cell_type": "code",
   "execution_count": 12,
   "metadata": {},
   "outputs": [
    {
     "data": {
      "text/html": [
       "<div>\n",
       "<style scoped>\n",
       "    .dataframe tbody tr th:only-of-type {\n",
       "        vertical-align: middle;\n",
       "    }\n",
       "\n",
       "    .dataframe tbody tr th {\n",
       "        vertical-align: top;\n",
       "    }\n",
       "\n",
       "    .dataframe thead th {\n",
       "        text-align: right;\n",
       "    }\n",
       "</style>\n",
       "<table border=\"1\" class=\"dataframe\">\n",
       "  <thead>\n",
       "    <tr style=\"text-align: right;\">\n",
       "      <th></th>\n",
       "      <th>bigrams</th>\n",
       "      <th>corpus</th>\n",
       "      <th>Obama</th>\n",
       "      <th>Trump</th>\n",
       "      <th>Obama_prop</th>\n",
       "      <th>Trump_prop</th>\n",
       "      <th>Obama_over_Trump</th>\n",
       "      <th>bigrams_concat</th>\n",
       "    </tr>\n",
       "  </thead>\n",
       "  <tbody>\n",
       "    <tr>\n",
       "      <th>232</th>\n",
       "      <td>(make, america)</td>\n",
       "      <td>5</td>\n",
       "      <td>0.0</td>\n",
       "      <td>5.0</td>\n",
       "      <td>0.000000</td>\n",
       "      <td>0.019531</td>\n",
       "      <td>-0.019531</td>\n",
       "      <td>make america</td>\n",
       "    </tr>\n",
       "    <tr>\n",
       "      <th>157</th>\n",
       "      <td>(bring, back)</td>\n",
       "      <td>4</td>\n",
       "      <td>0.0</td>\n",
       "      <td>4.0</td>\n",
       "      <td>0.000000</td>\n",
       "      <td>0.015625</td>\n",
       "      <td>-0.015625</td>\n",
       "      <td>bring back</td>\n",
       "    </tr>\n",
       "    <tr>\n",
       "      <th>33</th>\n",
       "      <td>(transferring, power)</td>\n",
       "      <td>2</td>\n",
       "      <td>0.0</td>\n",
       "      <td>2.0</td>\n",
       "      <td>0.000000</td>\n",
       "      <td>0.007812</td>\n",
       "      <td>-0.007812</td>\n",
       "      <td>transferring power</td>\n",
       "    </tr>\n",
       "    <tr>\n",
       "      <th>134</th>\n",
       "      <td>(every, city)</td>\n",
       "      <td>2</td>\n",
       "      <td>0.0</td>\n",
       "      <td>2.0</td>\n",
       "      <td>0.000000</td>\n",
       "      <td>0.007812</td>\n",
       "      <td>-0.007812</td>\n",
       "      <td>every city</td>\n",
       "    </tr>\n",
       "    <tr>\n",
       "      <th>39</th>\n",
       "      <td>(nations, capital)</td>\n",
       "      <td>2</td>\n",
       "      <td>0.0</td>\n",
       "      <td>2.0</td>\n",
       "      <td>0.000000</td>\n",
       "      <td>0.007812</td>\n",
       "      <td>-0.007812</td>\n",
       "      <td>nations capital</td>\n",
       "    </tr>\n",
       "    <tr>\n",
       "      <th>127</th>\n",
       "      <td>(american, workers)</td>\n",
       "      <td>2</td>\n",
       "      <td>0.0</td>\n",
       "      <td>2.0</td>\n",
       "      <td>0.000000</td>\n",
       "      <td>0.007812</td>\n",
       "      <td>-0.007812</td>\n",
       "      <td>american workers</td>\n",
       "    </tr>\n",
       "    <tr>\n",
       "      <th>96</th>\n",
       "      <td>(stops, right)</td>\n",
       "      <td>2</td>\n",
       "      <td>0.0</td>\n",
       "      <td>2.0</td>\n",
       "      <td>0.000000</td>\n",
       "      <td>0.007812</td>\n",
       "      <td>-0.007812</td>\n",
       "      <td>stops right</td>\n",
       "    </tr>\n",
       "    <tr>\n",
       "      <th>9</th>\n",
       "      <td>(president, obama)</td>\n",
       "      <td>2</td>\n",
       "      <td>0.0</td>\n",
       "      <td>2.0</td>\n",
       "      <td>0.000000</td>\n",
       "      <td>0.007812</td>\n",
       "      <td>-0.007812</td>\n",
       "      <td>president obama</td>\n",
       "    </tr>\n",
       "    <tr>\n",
       "      <th>239</th>\n",
       "      <td>(god, bless)</td>\n",
       "      <td>3</td>\n",
       "      <td>1.0</td>\n",
       "      <td>2.0</td>\n",
       "      <td>0.002976</td>\n",
       "      <td>0.007812</td>\n",
       "      <td>-0.004836</td>\n",
       "      <td>god bless</td>\n",
       "    </tr>\n",
       "    <tr>\n",
       "      <th>158</th>\n",
       "      <td>(build, new)</td>\n",
       "      <td>1</td>\n",
       "      <td>0.0</td>\n",
       "      <td>1.0</td>\n",
       "      <td>0.000000</td>\n",
       "      <td>0.003906</td>\n",
       "      <td>-0.003906</td>\n",
       "      <td>build new</td>\n",
       "    </tr>\n",
       "  </tbody>\n",
       "</table>\n",
       "</div>"
      ],
      "text/plain": [
       "                   bigrams  corpus  Obama  Trump  Obama_prop  Trump_prop  \\\n",
       "232        (make, america)       5    0.0    5.0    0.000000    0.019531   \n",
       "157          (bring, back)       4    0.0    4.0    0.000000    0.015625   \n",
       "33   (transferring, power)       2    0.0    2.0    0.000000    0.007812   \n",
       "134          (every, city)       2    0.0    2.0    0.000000    0.007812   \n",
       "39      (nations, capital)       2    0.0    2.0    0.000000    0.007812   \n",
       "127    (american, workers)       2    0.0    2.0    0.000000    0.007812   \n",
       "96          (stops, right)       2    0.0    2.0    0.000000    0.007812   \n",
       "9       (president, obama)       2    0.0    2.0    0.000000    0.007812   \n",
       "239           (god, bless)       3    1.0    2.0    0.002976    0.007812   \n",
       "158           (build, new)       1    0.0    1.0    0.000000    0.003906   \n",
       "\n",
       "     Obama_over_Trump      bigrams_concat  \n",
       "232         -0.019531        make america  \n",
       "157         -0.015625          bring back  \n",
       "33          -0.007812  transferring power  \n",
       "134         -0.007812          every city  \n",
       "39          -0.007812     nations capital  \n",
       "127         -0.007812    american workers  \n",
       "96          -0.007812         stops right  \n",
       "9           -0.007812     president obama  \n",
       "239         -0.004836           god bless  \n",
       "158         -0.003906           build new  "
      ]
     },
     "execution_count": 12,
     "metadata": {},
     "output_type": "execute_result"
    }
   ],
   "source": [
    "tdm.sort_values('Obama_over_Trump')[:10]"
   ]
  },
  {
   "cell_type": "markdown",
   "metadata": {},
   "source": [
    "### Correlation"
   ]
  },
  {
   "cell_type": "code",
   "execution_count": 13,
   "metadata": {},
   "outputs": [
    {
     "data": {
      "text/html": [
       "<div>\n",
       "<style scoped>\n",
       "    .dataframe tbody tr th:only-of-type {\n",
       "        vertical-align: middle;\n",
       "    }\n",
       "\n",
       "    .dataframe tbody tr th {\n",
       "        vertical-align: top;\n",
       "    }\n",
       "\n",
       "    .dataframe thead th {\n",
       "        text-align: right;\n",
       "    }\n",
       "</style>\n",
       "<table border=\"1\" class=\"dataframe\">\n",
       "  <thead>\n",
       "    <tr style=\"text-align: right;\">\n",
       "      <th></th>\n",
       "      <th>Obama</th>\n",
       "      <th>Trump</th>\n",
       "    </tr>\n",
       "  </thead>\n",
       "  <tbody>\n",
       "    <tr>\n",
       "      <th>Obama</th>\n",
       "      <td>1.000000</td>\n",
       "      <td>-0.798603</td>\n",
       "    </tr>\n",
       "    <tr>\n",
       "      <th>Trump</th>\n",
       "      <td>-0.798603</td>\n",
       "      <td>1.000000</td>\n",
       "    </tr>\n",
       "  </tbody>\n",
       "</table>\n",
       "</div>"
      ],
      "text/plain": [
       "          Obama     Trump\n",
       "Obama  1.000000 -0.798603\n",
       "Trump -0.798603  1.000000"
      ]
     },
     "execution_count": 13,
     "metadata": {},
     "output_type": "execute_result"
    }
   ],
   "source": [
    "tdm[['Obama', 'Trump']].corr(method='pearson')"
   ]
  },
  {
   "cell_type": "markdown",
   "metadata": {},
   "source": [
    "## Network graphs"
   ]
  },
  {
   "cell_type": "code",
   "execution_count": 14,
   "metadata": {},
   "outputs": [],
   "source": [
    "# separate bigrams into 'from' and 'to' in order to graph the network\n",
    "tdm['bigrams_1'] = tdm.bigrams_concat.apply(lambda x: x.split()[0])\n",
    "\n",
    "# need to add a conditional because the last bigram seems to only contain one word\n",
    "tdm['bigrams_2'] = tdm.bigrams_concat.apply(lambda x: x.split()[1] if len(x.split())>1 else \"\")\n",
    "\n",
    "# filter for bigrams that appear more than once in the corpus\n",
    "bigram_graph = tdm[tdm.corpus>1].copy()"
   ]
  },
  {
   "cell_type": "code",
   "execution_count": 15,
   "metadata": {},
   "outputs": [
    {
     "data": {
      "image/png": "[encoded data removed]",
      "text/plain": [
       "<Figure size 432x288 with 1 Axes>"
      ]
     },
     "metadata": {},
     "output_type": "display_data"
    }
   ],
   "source": [
    "import networkx as nx\n",
    "\n",
    "G = nx.from_pandas_edgelist(bigram_graph, source='bigrams_1', target='bigrams_2')\n",
    "\n",
    "nx.draw(G, with_labels=True, font_size=10, pos=nx.spring_layout(G, k=0.35))"
   ]
  },
  {
   "cell_type": "markdown",
   "metadata": {},
   "source": [
    "## Sentiment analysis - bigrams with negation"
   ]
  },
  {
   "cell_type": "code",
   "execution_count": 52,
   "metadata": {},
   "outputs": [],
   "source": [
    "# get bigram if the first word of the bigram is 'not' (nested list comprehension)\n",
    "bigrams_not = [b[0]+ ' ' + b[1] for v in bigrams_by_doc.values() for b in v if b[0]=='not']\n",
    "\n",
    "# remove duplicated bigrams\n",
    "bigrams_not = set(bigrams_not)"
   ]
  },
  {
   "cell_type": "markdown",
   "metadata": {},
   "source": [
    "side note: the above nested list comprehension is equivalent to the following"
   ]
  },
  {
   "cell_type": "code",
   "execution_count": 53,
   "metadata": {},
   "outputs": [],
   "source": [
    "bigrams_not = []\n",
    "for v in bigrams_by_doc.values():\n",
    "    for b in v:\n",
    "        if b[0]=='not':\n",
    "            bigrams_not.append(b[0]+ ' ' + b[1])"
   ]
  },
  {
   "cell_type": "code",
   "execution_count": 55,
   "metadata": {},
   "outputs": [
    {
     "data": {
      "text/plain": [
       "{'no more': -1.0,\n",
       " 'not succeed': 3.0,\n",
       " 'no single': -1.0,\n",
       " 'no citizen': -1.0,\n",
       " 'no action': -1.0,\n",
       " 'not fail': -2.0,\n",
       " 'not mistake': -2.0,\n",
       " 'no union': -1.0,\n",
       " 'no longer': -1.0,\n",
       " 'no room': -1.0,\n",
       " 'no challenge': -2.0,\n",
       " 'no one': -1.0,\n",
       " 'not fight': -1.0,\n",
       " 'no fear': -3.0,\n",
       " 'not share': 1.0,\n",
       " 'never forget': -1.0}"
      ]
     },
     "execution_count": 55,
     "metadata": {},
     "output_type": "execute_result"
    }
   ],
   "source": [
    "from afinn import Afinn\n",
    "\n",
    "afinn = Afinn()\n",
    "\n",
    "negation_words = ['not', 'no', 'never', 'without']\n",
    "\n",
    "bigrams_neg = [b[0]+ ' ' + b[1] for v in bigrams_by_doc.values() for b in v if b[0] in negation_words ]\n",
    "bigrams_neg = set(bigrams_neg)\n",
    "\n",
    "negated_words = {b: afinn.score(b) for b in bigrams_neg if afinn.score(b) != 0}\n",
    "negated_words"
   ]
  },
  {
   "cell_type": "markdown",
   "metadata": {},
   "source": [
    "## Tri-grams"
   ]
  },
  {
   "cell_type": "code",
   "execution_count": 56,
   "metadata": {},
   "outputs": [],
   "source": [
    "trigrams_by_doc = {}\n",
    "for docid, text in paper_words.items():\n",
    "    # convert list to string\n",
    "    text = ' '.join(text)\n",
    "    \n",
    "    # to lower case\n",
    "    text = text.lower()\n",
    "    \n",
    "    # remove punctuations\n",
    "    translator = str.maketrans('', '', string.punctuation)\n",
    "    text = text.translate(translator)\n",
    "    \n",
    "    # get bigrams\n",
    "    blob = TextBlob(text)\n",
    "    ngram_var = blob.ngrams(n=3)\n",
    "    \n",
    "    trigrams_by_doc[docid] = ngram_var"
   ]
  },
  {
   "cell_type": "code",
   "execution_count": 57,
   "metadata": {},
   "outputs": [],
   "source": [
    "trigrams_filtered = {}\n",
    "\n",
    "# filter out trigrams that contain stopwords\n",
    "for k, v in trigrams_by_doc.items():\n",
    "    b = [i for i in v if i[0] not in stop and i[1] not in stop and i[2] not in stop]\n",
    "    trigrams_filtered[k] = b"
   ]
  },
  {
   "cell_type": "code",
   "execution_count": 58,
   "metadata": {},
   "outputs": [],
   "source": [
    "corpus_trigram_count = Counter([tuple(b) for v in trigrams_filtered.values() for b in v])\n",
    "Obama_trigram_count = Counter([tuple(b) for b in trigrams_filtered['Obama.Inaug.2009']])\n",
    "Trump_trigram_count = Counter([tuple(b) for b in trigrams_filtered['Trump.Inaug.2017']])"
   ]
  },
  {
   "cell_type": "code",
   "execution_count": 60,
   "metadata": {},
   "outputs": [],
   "source": [
    "# construct term-document matrix\n",
    "tdm_tri = pd.DataFrame.from_dict(corpus_trigram_count, orient='index', columns=['corpus'])\n",
    "\n",
    "tdm_tri['Obama'] = pd.Series(Obama_trigram_count)\n",
    "tdm_tri['Trump'] = pd.Series(Trump_trigram_count)\n",
    "\n",
    "tdm_tri = tdm_tri.fillna(0)\n",
    "\n",
    "tdm_tri['Obama_prop'] = tdm_tri['Obama'].apply(lambda x: x/tdm_tri['Obama'].sum())\n",
    "tdm_tri['Trump_prop'] = tdm_tri['Trump'].apply(lambda x: x/tdm_tri['Trump'].sum())\n",
    "tdm_tri['Obama_over_Trump'] = tdm_tri['Obama_prop'] - tdm_tri['Trump_prop']\n",
    "\n",
    "tdm_tri.reset_index(drop=False, inplace=True)\n",
    "tdm_tri.rename(columns={'index': 'trigrams'}, inplace=True)"
   ]
  },
  {
   "cell_type": "code",
   "execution_count": 63,
   "metadata": {},
   "outputs": [
    {
     "data": {
      "text/html": [
       "<div>\n",
       "<style scoped>\n",
       "    .dataframe tbody tr th:only-of-type {\n",
       "        vertical-align: middle;\n",
       "    }\n",
       "\n",
       "    .dataframe tbody tr th {\n",
       "        vertical-align: top;\n",
       "    }\n",
       "\n",
       "    .dataframe thead th {\n",
       "        text-align: right;\n",
       "    }\n",
       "</style>\n",
       "<table border=\"1\" class=\"dataframe\">\n",
       "  <thead>\n",
       "    <tr style=\"text-align: right;\">\n",
       "      <th></th>\n",
       "      <th>trigrams</th>\n",
       "      <th>corpus</th>\n",
       "      <th>Obama</th>\n",
       "      <th>Trump</th>\n",
       "      <th>Obama_prop</th>\n",
       "      <th>Trump_prop</th>\n",
       "      <th>Obama_over_Trump</th>\n",
       "    </tr>\n",
       "  </thead>\n",
       "  <tbody>\n",
       "    <tr>\n",
       "      <th>0</th>\n",
       "      <td>(chief, justice, roberts)</td>\n",
       "      <td>1</td>\n",
       "      <td>0.0</td>\n",
       "      <td>1.0</td>\n",
       "      <td>0.0</td>\n",
       "      <td>0.010753</td>\n",
       "      <td>-0.010753</td>\n",
       "    </tr>\n",
       "    <tr>\n",
       "      <th>59</th>\n",
       "      <td>(first, every, decision)</td>\n",
       "      <td>1</td>\n",
       "      <td>0.0</td>\n",
       "      <td>1.0</td>\n",
       "      <td>0.0</td>\n",
       "      <td>0.010753</td>\n",
       "      <td>-0.010753</td>\n",
       "    </tr>\n",
       "    <tr>\n",
       "      <th>68</th>\n",
       "      <td>(reinforce, old, alliances)</td>\n",
       "      <td>1</td>\n",
       "      <td>0.0</td>\n",
       "      <td>1.0</td>\n",
       "      <td>0.0</td>\n",
       "      <td>0.010753</td>\n",
       "      <td>-0.010753</td>\n",
       "    </tr>\n",
       "    <tr>\n",
       "      <th>67</th>\n",
       "      <td>(rules, buy, american)</td>\n",
       "      <td>1</td>\n",
       "      <td>0.0</td>\n",
       "      <td>1.0</td>\n",
       "      <td>0.0</td>\n",
       "      <td>0.010753</td>\n",
       "      <td>-0.010753</td>\n",
       "    </tr>\n",
       "    <tr>\n",
       "      <th>66</th>\n",
       "      <td>(simple, rules, buy)</td>\n",
       "      <td>1</td>\n",
       "      <td>0.0</td>\n",
       "      <td>1.0</td>\n",
       "      <td>0.0</td>\n",
       "      <td>0.010753</td>\n",
       "      <td>-0.010753</td>\n",
       "    </tr>\n",
       "    <tr>\n",
       "      <th>65</th>\n",
       "      <td>(two, simple, rules)</td>\n",
       "      <td>1</td>\n",
       "      <td>0.0</td>\n",
       "      <td>1.0</td>\n",
       "      <td>0.0</td>\n",
       "      <td>0.010753</td>\n",
       "      <td>-0.010753</td>\n",
       "    </tr>\n",
       "    <tr>\n",
       "      <th>64</th>\n",
       "      <td>(follow, two, simple)</td>\n",
       "      <td>1</td>\n",
       "      <td>0.0</td>\n",
       "      <td>1.0</td>\n",
       "      <td>0.0</td>\n",
       "      <td>0.010753</td>\n",
       "      <td>-0.010753</td>\n",
       "    </tr>\n",
       "    <tr>\n",
       "      <th>63</th>\n",
       "      <td>(build, new, roads)</td>\n",
       "      <td>1</td>\n",
       "      <td>0.0</td>\n",
       "      <td>1.0</td>\n",
       "      <td>0.0</td>\n",
       "      <td>0.010753</td>\n",
       "      <td>-0.010753</td>\n",
       "    </tr>\n",
       "    <tr>\n",
       "      <th>62</th>\n",
       "      <td>(winning, like, never)</td>\n",
       "      <td>1</td>\n",
       "      <td>0.0</td>\n",
       "      <td>1.0</td>\n",
       "      <td>0.0</td>\n",
       "      <td>0.010753</td>\n",
       "      <td>-0.010753</td>\n",
       "    </tr>\n",
       "    <tr>\n",
       "      <th>61</th>\n",
       "      <td>(never, ever, let)</td>\n",
       "      <td>1</td>\n",
       "      <td>0.0</td>\n",
       "      <td>1.0</td>\n",
       "      <td>0.0</td>\n",
       "      <td>0.010753</td>\n",
       "      <td>-0.010753</td>\n",
       "    </tr>\n",
       "  </tbody>\n",
       "</table>\n",
       "</div>"
      ],
      "text/plain": [
       "                       trigrams  corpus  Obama  Trump  Obama_prop  Trump_prop  \\\n",
       "0     (chief, justice, roberts)       1    0.0    1.0         0.0    0.010753   \n",
       "59     (first, every, decision)       1    0.0    1.0         0.0    0.010753   \n",
       "68  (reinforce, old, alliances)       1    0.0    1.0         0.0    0.010753   \n",
       "67       (rules, buy, american)       1    0.0    1.0         0.0    0.010753   \n",
       "66         (simple, rules, buy)       1    0.0    1.0         0.0    0.010753   \n",
       "65         (two, simple, rules)       1    0.0    1.0         0.0    0.010753   \n",
       "64        (follow, two, simple)       1    0.0    1.0         0.0    0.010753   \n",
       "63          (build, new, roads)       1    0.0    1.0         0.0    0.010753   \n",
       "62       (winning, like, never)       1    0.0    1.0         0.0    0.010753   \n",
       "61           (never, ever, let)       1    0.0    1.0         0.0    0.010753   \n",
       "\n",
       "    Obama_over_Trump  \n",
       "0          -0.010753  \n",
       "59         -0.010753  \n",
       "68         -0.010753  \n",
       "67         -0.010753  \n",
       "66         -0.010753  \n",
       "65         -0.010753  \n",
       "64         -0.010753  \n",
       "63         -0.010753  \n",
       "62         -0.010753  \n",
       "61         -0.010753  "
      ]
     },
     "execution_count": 63,
     "metadata": {},
     "output_type": "execute_result"
    }
   ],
   "source": [
    "tdm_tri.sort_values('Trump_prop', ascending=False)[:10]"
   ]
  },
  {
   "cell_type": "code",
   "execution_count": 64,
   "metadata": {},
   "outputs": [
    {
     "data": {
      "text/html": [
       "<div>\n",
       "<style scoped>\n",
       "    .dataframe tbody tr th:only-of-type {\n",
       "        vertical-align: middle;\n",
       "    }\n",
       "\n",
       "    .dataframe tbody tr th {\n",
       "        vertical-align: top;\n",
       "    }\n",
       "\n",
       "    .dataframe thead th {\n",
       "        text-align: right;\n",
       "    }\n",
       "</style>\n",
       "<table border=\"1\" class=\"dataframe\">\n",
       "  <thead>\n",
       "    <tr style=\"text-align: right;\">\n",
       "      <th></th>\n",
       "      <th>trigrams</th>\n",
       "      <th>corpus</th>\n",
       "      <th>Obama</th>\n",
       "      <th>Trump</th>\n",
       "      <th>Obama_prop</th>\n",
       "      <th>Trump_prop</th>\n",
       "      <th>Obama_over_Trump</th>\n",
       "    </tr>\n",
       "  </thead>\n",
       "  <tbody>\n",
       "    <tr>\n",
       "      <th>149</th>\n",
       "      <td>(people, still, believe)</td>\n",
       "      <td>3</td>\n",
       "      <td>3.0</td>\n",
       "      <td>0.0</td>\n",
       "      <td>0.030303</td>\n",
       "      <td>0.0</td>\n",
       "      <td>0.030303</td>\n",
       "    </tr>\n",
       "    <tr>\n",
       "      <th>181</th>\n",
       "      <td>(must, act, knowing)</td>\n",
       "      <td>2</td>\n",
       "      <td>2.0</td>\n",
       "      <td>0.0</td>\n",
       "      <td>0.020202</td>\n",
       "      <td>0.0</td>\n",
       "      <td>0.020202</td>\n",
       "    </tr>\n",
       "    <tr>\n",
       "      <th>94</th>\n",
       "      <td>(president, biden, mr)</td>\n",
       "      <td>1</td>\n",
       "      <td>1.0</td>\n",
       "      <td>0.0</td>\n",
       "      <td>0.010101</td>\n",
       "      <td>0.0</td>\n",
       "      <td>0.010101</td>\n",
       "    </tr>\n",
       "    <tr>\n",
       "      <th>130</th>\n",
       "      <td>(world, without, boundaries)</td>\n",
       "      <td>1</td>\n",
       "      <td>1.0</td>\n",
       "      <td>0.0</td>\n",
       "      <td>0.010101</td>\n",
       "      <td>0.0</td>\n",
       "      <td>0.010101</td>\n",
       "    </tr>\n",
       "    <tr>\n",
       "      <th>121</th>\n",
       "      <td>(individual, freedoms, ultimately)</td>\n",
       "      <td>1</td>\n",
       "      <td>1.0</td>\n",
       "      <td>0.0</td>\n",
       "      <td>0.010101</td>\n",
       "      <td>0.0</td>\n",
       "      <td>0.010101</td>\n",
       "    </tr>\n",
       "    <tr>\n",
       "      <th>122</th>\n",
       "      <td>(freedoms, ultimately, requires)</td>\n",
       "      <td>1</td>\n",
       "      <td>1.0</td>\n",
       "      <td>0.0</td>\n",
       "      <td>0.010101</td>\n",
       "      <td>0.0</td>\n",
       "      <td>0.010101</td>\n",
       "    </tr>\n",
       "    <tr>\n",
       "      <th>123</th>\n",
       "      <td>(ultimately, requires, collective)</td>\n",
       "      <td>1</td>\n",
       "      <td>1.0</td>\n",
       "      <td>0.0</td>\n",
       "      <td>0.010101</td>\n",
       "      <td>0.0</td>\n",
       "      <td>0.010101</td>\n",
       "    </tr>\n",
       "    <tr>\n",
       "      <th>124</th>\n",
       "      <td>(requires, collective, action)</td>\n",
       "      <td>1</td>\n",
       "      <td>1.0</td>\n",
       "      <td>0.0</td>\n",
       "      <td>0.010101</td>\n",
       "      <td>0.0</td>\n",
       "      <td>0.010101</td>\n",
       "    </tr>\n",
       "    <tr>\n",
       "      <th>125</th>\n",
       "      <td>(american, soldiers, could)</td>\n",
       "      <td>1</td>\n",
       "      <td>1.0</td>\n",
       "      <td>0.0</td>\n",
       "      <td>0.010101</td>\n",
       "      <td>0.0</td>\n",
       "      <td>0.010101</td>\n",
       "    </tr>\n",
       "    <tr>\n",
       "      <th>126</th>\n",
       "      <td>(science, teachers, well)</td>\n",
       "      <td>1</td>\n",
       "      <td>1.0</td>\n",
       "      <td>0.0</td>\n",
       "      <td>0.010101</td>\n",
       "      <td>0.0</td>\n",
       "      <td>0.010101</td>\n",
       "    </tr>\n",
       "  </tbody>\n",
       "</table>\n",
       "</div>"
      ],
      "text/plain": [
       "                               trigrams  corpus  Obama  Trump  Obama_prop  \\\n",
       "149            (people, still, believe)       3    3.0    0.0    0.030303   \n",
       "181                (must, act, knowing)       2    2.0    0.0    0.020202   \n",
       "94               (president, biden, mr)       1    1.0    0.0    0.010101   \n",
       "130        (world, without, boundaries)       1    1.0    0.0    0.010101   \n",
       "121  (individual, freedoms, ultimately)       1    1.0    0.0    0.010101   \n",
       "122    (freedoms, ultimately, requires)       1    1.0    0.0    0.010101   \n",
       "123  (ultimately, requires, collective)       1    1.0    0.0    0.010101   \n",
       "124      (requires, collective, action)       1    1.0    0.0    0.010101   \n",
       "125         (american, soldiers, could)       1    1.0    0.0    0.010101   \n",
       "126           (science, teachers, well)       1    1.0    0.0    0.010101   \n",
       "\n",
       "     Trump_prop  Obama_over_Trump  \n",
       "149         0.0          0.030303  \n",
       "181         0.0          0.020202  \n",
       "94          0.0          0.010101  \n",
       "130         0.0          0.010101  \n",
       "121         0.0          0.010101  \n",
       "122         0.0          0.010101  \n",
       "123         0.0          0.010101  \n",
       "124         0.0          0.010101  \n",
       "125         0.0          0.010101  \n",
       "126         0.0          0.010101  "
      ]
     },
     "execution_count": 64,
     "metadata": {},
     "output_type": "execute_result"
    }
   ],
   "source": [
    "tdm_tri.sort_values('Obama_prop', ascending=False)[:10]"
   ]
  },
  {
   "cell_type": "markdown",
   "metadata": {},
   "source": [
    "# Topic models - NYT headlines"
   ]
  },
  {
   "cell_type": "code",
   "execution_count": 8,
   "metadata": {},
   "outputs": [],
   "source": [
    "# slide 68\n",
    "# using data extracted from the R package\n",
    "NYT = pd.read_csv('Data/NYTimes.csv')\n",
    "data = NYT.sample(n=1000, random_state=11)"
   ]
  },
  {
   "cell_type": "code",
   "execution_count": 10,
   "metadata": {},
   "outputs": [],
   "source": [
    "# perform preprocessing steps on the headlines\n",
    "from shorttext.utils import standard_text_preprocessor_1\n",
    "preprocessor1 = standard_text_preprocessor_1()\n",
    "\n",
    "data['preprocessed_title'] = data.Title.apply(preprocessor1)\n",
    "data['preprocessed_title'] = data.preprocessed_title.apply(lambda x: x.split())"
   ]
  },
  {
   "cell_type": "code",
   "execution_count": 12,
   "metadata": {},
   "outputs": [],
   "source": [
    "import gensim\n",
    "\n",
    "# create dictionary that maps each word to an integer id\n",
    "dictionary = gensim.corpora.Dictionary(data['preprocessed_title'])\n",
    "\n",
    "# convert document to bag-of-words format of (token_id, token_count) where token_id corresponds to id in dictionary\n",
    "bow_corpus = [dictionary.doc2bow(doc) for doc in data.preprocessed_title] \n",
    "\n",
    "# train the LDA model with 27 topics\n",
    "lda_model = gensim.models.LdaModel(bow_corpus, num_topics=27, id2word=dictionary)"
   ]
  },
  {
   "cell_type": "markdown",
   "metadata": {},
   "source": [
    "**Note: Results here are different from slides due to a different set of randomly selected samples**"
   ]
  },
  {
   "cell_type": "code",
   "execution_count": 25,
   "metadata": {},
   "outputs": [
    {
     "name": "stdout",
     "output_type": "stream",
     "text": [
      "Topic: 1 \n",
      "Words: 0.014*\"drug\" + 0.010*\"challeng\" + 0.010*\"rebel\" + 0.010*\"kill\" + 0.010*\"file\" + 0.010*\"us\"\n",
      "Topic: 2 \n",
      "Words: 0.012*\"take\" + 0.009*\"bush\" + 0.009*\"polit\" + 0.009*\"us\" + 0.009*\"power\" + 0.006*\"test\"\n",
      "Topic: 3 \n",
      "Words: 0.012*\"mideast\" + 0.012*\"test\" + 0.008*\"air\" + 0.008*\"hope\" + 0.008*\"presid\" + 0.008*\"overview\"\n",
      "Topic: 4 \n",
      "Words: 0.019*\"overview\" + 0.019*\"us\" + 0.009*\"say\" + 0.006*\"bomb\" + 0.006*\"death\" + 0.006*\"israel\"\n",
      "Topic: 5 \n",
      "Words: 0.014*\"bush\" + 0.011*\"elect\" + 0.007*\"hous\" + 0.007*\"face\" + 0.007*\"top\" + 0.007*\"get\"\n",
      "Topic: 6 \n",
      "Words: 0.020*\"us\" + 0.012*\"campaign\" + 0.012*\"parti\" + 0.008*\"pay\" + 0.008*\"govern\" + 0.008*\"suspect\"\n",
      "Topic: 7 \n",
      "Words: 0.022*\"us\" + 0.013*\"clinton\" + 0.011*\"citi\" + 0.009*\"new\" + 0.009*\"rule\" + 0.009*\"back\"\n",
      "Topic: 8 \n",
      "Words: 0.026*\"new\" + 0.012*\"presid\" + 0.012*\"challeng\" + 0.012*\"terror\" + 0.009*\"nation\" + 0.009*\"seek\"\n",
      "Topic: 9 \n",
      "Words: 0.007*\"tax\" + 0.007*\"tribun\" + 0.007*\"seek\" + 0.007*\"overview\" + 0.007*\"tortur\" + 0.007*\"bill\"\n",
      "Topic: 10 \n",
      "Words: 0.019*\"new\" + 0.016*\"china\" + 0.016*\"bush\" + 0.010*\"us\" + 0.010*\"terror\" + 0.010*\"iraq\"\n",
      "Topic: 11 \n",
      "Words: 0.012*\"us\" + 0.009*\"new\" + 0.009*\"last\" + 0.009*\"plan\" + 0.009*\"year\" + 0.009*\"kill\"\n",
      "Topic: 12 \n",
      "Words: 0.014*\"us\" + 0.011*\"cut\" + 0.011*\"gop\" + 0.011*\"report\" + 0.007*\"call\" + 0.007*\"fault\"\n",
      "Topic: 13 \n",
      "Words: 0.011*\"tie\" + 0.011*\"presid\" + 0.011*\"warn\" + 0.011*\"prison\" + 0.011*\"inquiri\" + 0.007*\"day\"\n",
      "Topic: 14 \n",
      "Words: 0.020*\"isra\" + 0.015*\"special\" + 0.013*\"bush\" + 0.011*\"report\" + 0.010*\"win\" + 0.010*\"gaza\"\n",
      "Topic: 15 \n",
      "Words: 0.018*\"job\" + 0.014*\"may\" + 0.011*\"nation\" + 0.011*\"us\" + 0.007*\"trail\" + 0.007*\"face\"\n",
      "Topic: 16 \n",
      "Words: 0.027*\"new\" + 0.015*\"plan\" + 0.012*\"polit\" + 0.012*\"york\" + 0.012*\"us\" + 0.009*\"jersey\"\n",
      "Topic: 17 \n",
      "Words: 0.015*\"us\" + 0.015*\"new\" + 0.012*\"iraqi\" + 0.008*\"care\" + 0.008*\"case\" + 0.008*\"use\"\n",
      "Topic: 18 \n",
      "Words: 0.015*\"us\" + 0.011*\"rival\" + 0.011*\"campaign\" + 0.007*\"york\" + 0.007*\"plan\" + 0.007*\"rise\"\n",
      "Topic: 19 \n",
      "Words: 0.016*\"us\" + 0.010*\"iraq\" + 0.010*\"senat\" + 0.010*\"find\" + 0.010*\"law\" + 0.010*\"new\"\n",
      "Topic: 20 \n",
      "Words: 0.020*\"fire\" + 0.010*\"aid\" + 0.010*\"teenag\" + 0.010*\"campaign\" + 0.010*\"presid\" + 0.010*\"congress\"\n",
      "Topic: 21 \n",
      "Words: 0.015*\"bush\" + 0.015*\"leader\" + 0.015*\"new\" + 0.012*\"us\" + 0.009*\"fall\" + 0.009*\"york\"\n",
      "Topic: 22 \n",
      "Words: 0.011*\"call\" + 0.011*\"new\" + 0.011*\"road\" + 0.006*\"overhaul\" + 0.006*\"big\" + 0.006*\"suspect\"\n",
      "Topic: 23 \n",
      "Words: 0.012*\"bush\" + 0.009*\"case\" + 0.009*\"aid\" + 0.009*\"big\" + 0.008*\"chief\" + 0.006*\"demand\"\n",
      "Topic: 24 \n",
      "Words: 0.015*\"us\" + 0.012*\"push\" + 0.009*\"florida\" + 0.009*\"plan\" + 0.009*\"back\" + 0.009*\"hous\"\n",
      "Topic: 25 \n",
      "Words: 0.014*\"isra\" + 0.012*\"fight\" + 0.010*\"children\" + 0.010*\"kill\" + 0.010*\"new\" + 0.010*\"vow\"\n",
      "Topic: 26 \n",
      "Words: 0.019*\"us\" + 0.013*\"nation\" + 0.013*\"challeng\" + 0.013*\"say\" + 0.011*\"power\" + 0.011*\"bill\"\n",
      "Topic: 27 \n",
      "Words: 0.013*\"presid\" + 0.010*\"special\" + 0.010*\"new\" + 0.010*\"iraq\" + 0.010*\"report\" + 0.010*\"children\"\n"
     ]
    }
   ],
   "source": [
    "# print top 6 words for each topic\n",
    "for idx, topic in lda_model.print_topics(num_topics=-1, num_words=6):\n",
    "    print('Topic: {} \\nWords: {}'.format(idx+1, topic))"
   ]
  },
  {
   "cell_type": "code",
   "execution_count": 40,
   "metadata": {},
   "outputs": [],
   "source": [
    "# for each document, get the topic assigned by LdaModel\n",
    "data['lda_topic'] = data['preprocessed_title'].apply(lambda x: lda_model[dictionary.doc2bow(x)][0][0])"
   ]
  },
  {
   "cell_type": "code",
   "execution_count": 59,
   "metadata": {},
   "outputs": [],
   "source": [
    "pd.options.display.max_colwidth = 110"
   ]
  },
  {
   "cell_type": "code",
   "execution_count": 53,
   "metadata": {},
   "outputs": [
    {
     "data": {
      "text/plain": [
       "2223                                              PALESTINIAN MOB ATTACKS POLLSTER\n",
       "73      POLITICS: IN CONGRESS; The Speaker's Gruff No. 2 Takes Charge in the House\n",
       "2341                                 Bush Signs Law To Cover Drugs For the Elderly\n",
       "2383         Mayor Joins Mourners at Funeral for Teenager Killed by Police Officer\n",
       "2048                                 Lott Apologizes Again on Words About '48 Race\n",
       "Name: Title, dtype: object"
      ]
     },
     "execution_count": 53,
     "metadata": {},
     "output_type": "execute_result"
    }
   ],
   "source": [
    "# display a sample of 5 headlines classified as topic 1 by LdaModel\n",
    "data.loc[data.lda_topic==1, 'Title'].sample(5, random_state=11)"
   ]
  },
  {
   "cell_type": "code",
   "execution_count": 60,
   "metadata": {},
   "outputs": [
    {
     "data": {
      "text/plain": [
       "3080                                                                                A Kick, a Push and a Quick Escape\n",
       "1669    U.S. VS. Microsoft: The Overview; U.S. Abandoning Its Efforts To Break Apart Microsoft, Saying It Seeks Re...\n",
       "1501                                                             U.S. Is Beginning Criminal Inquiry In Pardon Of Rich\n",
       "729                                                                          Schumer Racing D'Amato for Campaign Cash\n",
       "2617                                                That Line at the Ferrari Dealer? It's Bonus Season on Wall Street\n",
       "Name: Title, dtype: object"
      ]
     },
     "execution_count": 60,
     "metadata": {},
     "output_type": "execute_result"
    }
   ],
   "source": [
    "data.loc[data.lda_topic==3, 'Title'].sample(5, random_state=11)"
   ]
  },
  {
   "cell_type": "markdown",
   "metadata": {},
   "source": [
    "## Topic models - Amazon reviews"
   ]
  },
  {
   "cell_type": "markdown",
   "metadata": {},
   "source": [
    "For an example involving over 20k Amazon reviews, check out this ipynb: https://gist.github.com/kevindavenport/d704e37e9f9d175303b1eb083f8e749e#file-topic_modeling_amazon_reviews-ipynb"
   ]
  },
  {
   "cell_type": "markdown",
   "metadata": {},
   "source": [
    "# Adverbs"
   ]
  },
  {
   "cell_type": "code",
   "execution_count": 2,
   "metadata": {},
   "outputs": [
    {
     "name": "stderr",
     "output_type": "stream",
     "text": [
      "b'Skipping line 233: expected 5 fields, saw 300\\n'\n"
     ]
    }
   ],
   "source": [
    "sou = pd.read_csv('Data/sou-texts.csv', error_bad_lines=False)\n",
    "presidents = pd.read_csv('Data/presidents - Sheet1.csv')"
   ]
  },
  {
   "cell_type": "code",
   "execution_count": 3,
   "metadata": {},
   "outputs": [],
   "source": [
    "presidents.set_index('president', inplace=True)\n",
    "\n",
    "# append party affiliation\n",
    "sou = sou.join(presidents, on=['president'])"
   ]
  },
  {
   "cell_type": "code",
   "execution_count": 4,
   "metadata": {},
   "outputs": [],
   "source": [
    "# import adverbs\n",
    "POS = pd.read_csv('Data/SUBTLEX_PoS.csv')\n",
    "\n",
    "POS2 = POS[POS.pos=='Adverb']\n",
    "\n",
    "# make a list of the adverbs\n",
    "adverbs = [w for w in POS2.word]"
   ]
  },
  {
   "cell_type": "code",
   "execution_count": 5,
   "metadata": {},
   "outputs": [],
   "source": [
    "# keep the columns that we need\n",
    "sou = sou[['president', 'date', 'text', 'party']].copy()\n",
    "\n",
    "# lower case the speeches\n",
    "sou['text'] = sou['text'].apply(lambda x: x.lower())\n",
    "\n",
    "# tokenize the speeches\n",
    "from nltk.tokenize import word_tokenize\n",
    "sou['tokens'] = sou['text'].apply(lambda x: word_tokenize(x))"
   ]
  },
  {
   "cell_type": "code",
   "execution_count": 6,
   "metadata": {},
   "outputs": [],
   "source": [
    "# get list of adverbs for each speech\n",
    "sou['adverbs'] = sou['tokens'].apply(lambda x: [w for w in x if w in adverbs])"
   ]
  },
  {
   "cell_type": "markdown",
   "metadata": {},
   "source": [
    "### Graph adverb usage trend"
   ]
  },
  {
   "cell_type": "code",
   "execution_count": 7,
   "metadata": {},
   "outputs": [],
   "source": [
    "# calculate proportion of adverbs in each speech\n",
    "sou['speech_len'] = sou['tokens'].apply(lambda x: len(x))\n",
    "sou['n_adverbs'] = sou['adverbs'].apply(lambda x: len(x))\n",
    "sou['prop_adverbs'] = sou.n_adverbs/sou.speech_len"
   ]
  },
  {
   "cell_type": "code",
   "execution_count": 152,
   "metadata": {},
   "outputs": [
    {
     "data": {
      "text/plain": [
       "Text(0,0.5,'proportion of adverbs')"
      ]
     },
     "execution_count": 152,
     "metadata": {},
     "output_type": "execute_result"
    },
    {
     "data": {
      "image/png": "[encoded data removed]",
      "text/plain": [
       "<Figure size 432x288 with 1 Axes>"
      ]
     },
     "metadata": {},
     "output_type": "display_data"
    }
   ],
   "source": [
    "plt.scatter(sou.index, sou['prop_adverbs'])\n",
    "plt.ylabel('proportion of adverbs')"
   ]
  },
  {
   "cell_type": "markdown",
   "metadata": {},
   "source": [
    "### Most common adverbs overall"
   ]
  },
  {
   "cell_type": "code",
   "execution_count": 153,
   "metadata": {},
   "outputs": [
    {
     "data": {
      "text/plain": [
       "[('so', 3881),\n",
       " ('now', 3343),\n",
       " ('only', 2468),\n",
       " ('most', 2332),\n",
       " ('also', 1844),\n",
       " ('over', 1574),\n",
       " ('out', 1425),\n",
       " ('well', 1419),\n",
       " ('very', 1265),\n",
       " ('just', 1239),\n",
       " ('right', 1190),\n",
       " ('where', 1084),\n",
       " ('up', 1082),\n",
       " ('still', 1071),\n",
       " ('far', 1071),\n",
       " ('long', 1004),\n",
       " ('already', 968),\n",
       " ('yet', 956),\n",
       " ('even', 936),\n",
       " ('less', 930)]"
      ]
     },
     "execution_count": 153,
     "metadata": {},
     "output_type": "execute_result"
    }
   ],
   "source": [
    "adverb_count = Counter()\n",
    "\n",
    "for doc in sou['adverbs']:\n",
    "    adverb_count.update(doc)\n",
    "\n",
    "adverb_count.most_common(20)"
   ]
  },
  {
   "cell_type": "markdown",
   "metadata": {},
   "source": [
    "### Common adverbs in early SOUs"
   ]
  },
  {
   "cell_type": "code",
   "execution_count": 78,
   "metadata": {},
   "outputs": [
    {
     "data": {
      "text/plain": [
       "[('so', 2431),\n",
       " ('now', 1683),\n",
       " ('only', 1523),\n",
       " ('most', 1462),\n",
       " ('also', 923),\n",
       " ('well', 866),\n",
       " ('over', 785),\n",
       " ('thus', 736),\n",
       " ('far', 736),\n",
       " ('very', 689),\n",
       " ('however', 678),\n",
       " ('out', 670),\n",
       " ('just', 667),\n",
       " ('right', 654),\n",
       " ('yet', 654),\n",
       " ('less', 634),\n",
       " ('still', 578),\n",
       " ('where', 577),\n",
       " ('long', 567),\n",
       " ('already', 559)]"
      ]
     },
     "execution_count": 78,
     "metadata": {},
     "output_type": "execute_result"
    }
   ],
   "source": [
    "early_sous = sou[sou.index<120].copy()\n",
    "\n",
    "early_adverbs = Counter()\n",
    "for doc in early_sous['adverbs']:\n",
    "    early_adverbs.update(doc)\n",
    "    \n",
    "early_adverbs.most_common(20)"
   ]
  },
  {
   "cell_type": "markdown",
   "metadata": {},
   "source": [
    "### Common adverbs in late SOUs"
   ]
  },
  {
   "cell_type": "code",
   "execution_count": 79,
   "metadata": {},
   "outputs": [
    {
     "data": {
      "text/plain": [
       "[('now', 1634),\n",
       " ('so', 1423),\n",
       " ('only', 931),\n",
       " ('also', 904),\n",
       " ('most', 854),\n",
       " ('over', 783),\n",
       " ('out', 740),\n",
       " ('up', 666),\n",
       " ('just', 569),\n",
       " ('very', 565),\n",
       " ('well', 540),\n",
       " ('together', 535),\n",
       " ('right', 535),\n",
       " ('today', 527),\n",
       " ('tonight', 523),\n",
       " ('better', 518),\n",
       " ('here', 513),\n",
       " ('where', 499),\n",
       " ('still', 489),\n",
       " ('home', 452)]"
      ]
     },
     "execution_count": 79,
     "metadata": {},
     "output_type": "execute_result"
    }
   ],
   "source": [
    "late_sous = sou[sou.index>120].copy()\n",
    "\n",
    "late_adverbs = Counter()\n",
    "for doc in late_sous['adverbs']:\n",
    "    late_adverbs.update(doc)\n",
    "    \n",
    "late_adverbs.most_common(20)"
   ]
  },
  {
   "cell_type": "markdown",
   "metadata": {},
   "source": [
    "## Adverbs ending in -ly"
   ]
  },
  {
   "cell_type": "code",
   "execution_count": 35,
   "metadata": {},
   "outputs": [],
   "source": [
    "bing = pd.read_csv('Data/bing.csv')\n",
    "bing_words = list(bing.word)"
   ]
  },
  {
   "cell_type": "code",
   "execution_count": 64,
   "metadata": {},
   "outputs": [],
   "source": [
    "# get words that are in bing\n",
    "sou['sentiment_words'] = sou['tokens'].apply(lambda x: [w for w in x if w in bing_words])"
   ]
  },
  {
   "cell_type": "raw",
   "metadata": {},
   "source": [
    "# create dict of bing words as key and associated sentiment as value\n",
    "bing_dict = {row['word']:row['sentiment'] for i, row in bing.iterrows()}"
   ]
  },
  {
   "cell_type": "raw",
   "metadata": {},
   "source": [
    "sou['prop_pos'] = sou['sentiment_words'].apply(lambda x: len([w for w in x if bing_dict[w]=='positive'])/len(x))"
   ]
  },
  {
   "cell_type": "code",
   "execution_count": 65,
   "metadata": {},
   "outputs": [],
   "source": [
    "# get adverbs that are in bing and end in -ly\n",
    "sou['words_ly'] = sou['sentiment_words'].apply(lambda x: [w for w in x if w.endswith(\"ly\")])"
   ]
  },
  {
   "cell_type": "code",
   "execution_count": 75,
   "metadata": {},
   "outputs": [],
   "source": [
    "# calculate number of adverbs that end in -ly\n",
    "sou['n_words_ly'] = sou['words_ly'].apply(lambda x: len(x))\n",
    "\n",
    "sou['prop_words_ly'] = sou.n_words_ly/sou.n_adverbs"
   ]
  },
  {
   "cell_type": "code",
   "execution_count": 76,
   "metadata": {},
   "outputs": [
    {
     "data": {
      "text/plain": [
       "Text(0,0.5,'adverbs ending in -ly out of all words')"
      ]
     },
     "execution_count": 76,
     "metadata": {},
     "output_type": "execute_result"
    },
    {
     "data": {
      "image/png": "[encoded data removed]",
      "text/plain": [
       "<Figure size 432x288 with 1 Axes>"
      ]
     },
     "metadata": {},
     "output_type": "display_data"
    }
   ],
   "source": [
    "plt.scatter(sou.index, sou['prop_words_ly'])\n",
    "plt.ylabel('adverbs ending in -ly out of all adverbs')"
   ]
  },
  {
   "cell_type": "code",
   "execution_count": 68,
   "metadata": {},
   "outputs": [
    {
     "data": {
      "text/plain": [
       "[('friendly', 448),\n",
       " ('earnestly', 282),\n",
       " ('promptly', 234),\n",
       " ('clearly', 182),\n",
       " ('properly', 177),\n",
       " ('successfully', 137),\n",
       " ('justly', 128),\n",
       " ('wisely', 109),\n",
       " ('effectively', 106),\n",
       " ('scarcely', 104),\n",
       " ('speedily', 101),\n",
       " ('fairly', 99),\n",
       " ('happily', 94),\n",
       " ('sufficiently', 91),\n",
       " ('respectfully', 90),\n",
       " ('safely', 82),\n",
       " ('unfortunately', 79),\n",
       " ('readily', 76),\n",
       " ('faithfully', 76),\n",
       " ('inevitably', 76)]"
      ]
     },
     "execution_count": 68,
     "metadata": {},
     "output_type": "execute_result"
    }
   ],
   "source": [
    "adverb_ly_count = Counter()\n",
    "\n",
    "for doc in sou['words_ly']:\n",
    "    adverb_ly_count.update(doc)\n",
    "\n",
    "adverb_ly_count.most_common(20)"
   ]
  },
  {
   "cell_type": "code",
   "execution_count": 81,
   "metadata": {},
   "outputs": [
    {
     "data": {
      "text/plain": [
       "[('friendly', 389),\n",
       " ('earnestly', 223),\n",
       " ('promptly', 148),\n",
       " ('properly', 121),\n",
       " ('justly', 119),\n",
       " ('scarcely', 100),\n",
       " ('clearly', 91),\n",
       " ('speedily', 87),\n",
       " ('respectfully', 82),\n",
       " ('happily', 78),\n",
       " ('successfully', 77),\n",
       " ('sufficiently', 72),\n",
       " ('faithfully', 68),\n",
       " ('fairly', 67),\n",
       " ('wisely', 65),\n",
       " ('readily', 62),\n",
       " ('safely', 62),\n",
       " ('peculiarly', 50),\n",
       " ('reasonably', 50),\n",
       " ('unfortunately', 50)]"
      ]
     },
     "execution_count": 81,
     "metadata": {},
     "output_type": "execute_result"
    }
   ],
   "source": [
    "early_ly_adverbs = Counter()\n",
    "for doc in early_sous['words_ly']:\n",
    "    early_ly_adverbs.update(doc)\n",
    "    \n",
    "early_ly_adverbs.most_common(20)"
   ]
  },
  {
   "cell_type": "code",
   "execution_count": 82,
   "metadata": {},
   "outputs": [
    {
     "data": {
      "text/plain": [
       "[('clearly', 90),\n",
       " ('promptly', 84),\n",
       " ('effectively', 64),\n",
       " ('successfully', 60),\n",
       " ('friendly', 57),\n",
       " ('earnestly', 53),\n",
       " ('properly', 51),\n",
       " ('orderly', 44),\n",
       " ('wisely', 44),\n",
       " ('costly', 43),\n",
       " ('fairly', 32),\n",
       " ('unfortunately', 29),\n",
       " ('inevitably', 25),\n",
       " ('exceedingly', 23),\n",
       " ('slowly', 20),\n",
       " ('safely', 20),\n",
       " ('deadly', 20),\n",
       " ('sufficiently', 19),\n",
       " ('reasonably', 17),\n",
       " ('consistently', 17)]"
      ]
     },
     "execution_count": 82,
     "metadata": {},
     "output_type": "execute_result"
    }
   ],
   "source": [
    "late_ly_adverbs = Counter()\n",
    "for doc in late_sous['words_ly']:\n",
    "    late_ly_adverbs.update(doc)\n",
    "    \n",
    "late_ly_adverbs.most_common(20)"
   ]
  }
 ],
 "metadata": {
  "kernelspec": {
   "display_name": "py36",
   "language": "python",
   "name": "py36"
  },
  "language_info": {
   "codemirror_mode": {
    "name": "ipython",
    "version": 3
   },
   "file_extension": ".py",
   "mimetype": "text/x-python",
   "name": "python",
   "nbconvert_exporter": "python",
   "pygments_lexer": "ipython3",
   "version": "3.6.5"
  }
 },
 "nbformat": 4,
 "nbformat_minor": 2
}
