{
 "cells": [
  {
   "cell_type": "markdown",
   "metadata": {},
   "source": [
    "# Advanced quantitative techniques - Class 2 - OLS, Logit, and Multinomial models"
   ]
  },
  {
   "cell_type": "code",
   "execution_count": 29,
   "metadata": {},
   "outputs": [],
   "source": [
    "import pandas as pd\n",
    "import numpy as np\n",
    "import seaborn as sns\n",
    "import matplotlib.pyplot as plt\n",
    "%matplotlib inline\n",
    "import statsmodels.api as sm\n",
    "import statsmodels.formula.api as smf\n",
    "from statsmodels.compat import lzip\n",
    "import scipy as sp"
   ]
  },
  {
   "cell_type": "markdown",
   "metadata": {},
   "source": [
    "## 1. Review of the OLS model"
   ]
  },
  {
   "cell_type": "code",
   "execution_count": 2,
   "metadata": {},
   "outputs": [],
   "source": [
    "# Importing and preparing the data\n",
    "# slide 5\n",
    "gss = pd.read_csv(\"Data/trends-gss.csv\")\n",
    "variables = ['happy', 'realinc', 'year']\n",
    "d = gss[variables].copy()\n",
    "\n",
    "d['rhappy'] = 4 - d.happy\n",
    "d['inc10k'] = d.realinc/10000\n",
    "d['loginc'] = np.log(d.realinc)"
   ]
  },
  {
   "cell_type": "code",
   "execution_count": 3,
   "metadata": {},
   "outputs": [
    {
     "data": {
      "text/html": [
       "<table class=\"simpletable\">\n",
       "<caption>OLS Regression Results</caption>\n",
       "<tr>\n",
       "  <th>Dep. Variable:</th>         <td>rhappy</td>      <th>  R-squared:         </th> <td>   0.029</td> \n",
       "</tr>\n",
       "<tr>\n",
       "  <th>Model:</th>                   <td>OLS</td>       <th>  Adj. R-squared:    </th> <td>   0.029</td> \n",
       "</tr>\n",
       "<tr>\n",
       "  <th>Method:</th>             <td>Least Squares</td>  <th>  F-statistic:       </th> <td>   1413.</td> \n",
       "</tr>\n",
       "<tr>\n",
       "  <th>Date:</th>             <td>Fri, 04 Jan 2019</td> <th>  Prob (F-statistic):</th> <td>1.16e-304</td>\n",
       "</tr>\n",
       "<tr>\n",
       "  <th>Time:</th>                 <td>21:10:13</td>     <th>  Log-Likelihood:    </th> <td> -44675.</td> \n",
       "</tr>\n",
       "<tr>\n",
       "  <th>No. Observations:</th>      <td> 47120</td>      <th>  AIC:               </th> <td>8.935e+04</td>\n",
       "</tr>\n",
       "<tr>\n",
       "  <th>Df Residuals:</th>          <td> 47118</td>      <th>  BIC:               </th> <td>8.937e+04</td>\n",
       "</tr>\n",
       "<tr>\n",
       "  <th>Df Model:</th>              <td>     1</td>      <th>                     </th>     <td> </td>    \n",
       "</tr>\n",
       "<tr>\n",
       "  <th>Covariance Type:</th>      <td>nonrobust</td>    <th>                     </th>     <td> </td>    \n",
       "</tr>\n",
       "</table>\n",
       "<table class=\"simpletable\">\n",
       "<tr>\n",
       "      <td></td>         <th>coef</th>     <th>std err</th>      <th>t</th>      <th>P>|t|</th>  <th>[0.025</th>    <th>0.975]</th>  \n",
       "</tr>\n",
       "<tr>\n",
       "  <th>Intercept</th> <td>    2.0715</td> <td>    0.004</td> <td>  484.720</td> <td> 0.000</td> <td>    2.063</td> <td>    2.080</td>\n",
       "</tr>\n",
       "<tr>\n",
       "  <th>inc10k</th>    <td>    0.0381</td> <td>    0.001</td> <td>   37.587</td> <td> 0.000</td> <td>    0.036</td> <td>    0.040</td>\n",
       "</tr>\n",
       "</table>\n",
       "<table class=\"simpletable\">\n",
       "<tr>\n",
       "  <th>Omnibus:</th>       <td>1784.423</td> <th>  Durbin-Watson:     </th> <td>   1.934</td> \n",
       "</tr>\n",
       "<tr>\n",
       "  <th>Prob(Omnibus):</th>  <td> 0.000</td>  <th>  Jarque-Bera (JB):  </th> <td> 911.385</td> \n",
       "</tr>\n",
       "<tr>\n",
       "  <th>Skew:</th>           <td>-0.152</td>  <th>  Prob(JB):          </th> <td>1.25e-198</td>\n",
       "</tr>\n",
       "<tr>\n",
       "  <th>Kurtosis:</th>       <td> 2.390</td>  <th>  Cond. No.          </th> <td>    6.45</td> \n",
       "</tr>\n",
       "</table><br/><br/>Warnings:<br/>[1] Standard Errors assume that the covariance matrix of the errors is correctly specified."
      ],
      "text/plain": [
       "<class 'statsmodels.iolib.summary.Summary'>\n",
       "\"\"\"\n",
       "                            OLS Regression Results                            \n",
       "==============================================================================\n",
       "Dep. Variable:                 rhappy   R-squared:                       0.029\n",
       "Model:                            OLS   Adj. R-squared:                  0.029\n",
       "Method:                 Least Squares   F-statistic:                     1413.\n",
       "Date:                Fri, 04 Jan 2019   Prob (F-statistic):          1.16e-304\n",
       "Time:                        21:10:13   Log-Likelihood:                -44675.\n",
       "No. Observations:               47120   AIC:                         8.935e+04\n",
       "Df Residuals:                   47118   BIC:                         8.937e+04\n",
       "Df Model:                           1                                         \n",
       "Covariance Type:            nonrobust                                         \n",
       "==============================================================================\n",
       "                 coef    std err          t      P>|t|      [0.025      0.975]\n",
       "------------------------------------------------------------------------------\n",
       "Intercept      2.0715      0.004    484.720      0.000       2.063       2.080\n",
       "inc10k         0.0381      0.001     37.587      0.000       0.036       0.040\n",
       "==============================================================================\n",
       "Omnibus:                     1784.423   Durbin-Watson:                   1.934\n",
       "Prob(Omnibus):                  0.000   Jarque-Bera (JB):              911.385\n",
       "Skew:                          -0.152   Prob(JB):                    1.25e-198\n",
       "Kurtosis:                       2.390   Cond. No.                         6.45\n",
       "==============================================================================\n",
       "\n",
       "Warnings:\n",
       "[1] Standard Errors assume that the covariance matrix of the errors is correctly specified.\n",
       "\"\"\""
      ]
     },
     "execution_count": 3,
     "metadata": {},
     "output_type": "execute_result"
    }
   ],
   "source": [
    "# the simplest regression \n",
    "from statsmodels.regression.linear_model import OLS\n",
    "\n",
    "lm1 = OLS.from_formula('rhappy ~ inc10k', data=d).fit()\n",
    "lm1.summary()"
   ]
  },
  {
   "cell_type": "markdown",
   "metadata": {},
   "source": [
    "### Testing for heteroskedasticity"
   ]
  },
  {
   "cell_type": "code",
   "execution_count": 4,
   "metadata": {},
   "outputs": [
    {
     "data": {
      "text/plain": [
       "[('BP', 133.47399902855602),\n",
       " ('p-value', 7.12092031508595e-31),\n",
       " ('f-value', 133.84747546770265),\n",
       " ('f p-value', 6.496153223033921e-31)]"
      ]
     },
     "execution_count": 4,
     "metadata": {},
     "output_type": "execute_result"
    }
   ],
   "source": [
    "# slide 13\n",
    "from statsmodels.stats.diagnostic import het_breuschpagan\n",
    "\n",
    "name = ['BP', 'p-value', 'f-value', 'f p-value']\n",
    "\n",
    "test = het_breuschpagan(lm1.resid, lm1.model.exog)\n",
    "lzip(name, test)"
   ]
  },
  {
   "cell_type": "markdown",
   "metadata": {},
   "source": [
    "### Correcting for heteroskedasticity\n",
    "To apply robust (Huber-White, sandwich) standard error, specify `cov_type = 'HC1'` when fitting the model"
   ]
  },
  {
   "cell_type": "code",
   "execution_count": 5,
   "metadata": {},
   "outputs": [
    {
     "data": {
      "text/html": [
       "<table class=\"simpletable\">\n",
       "<caption>OLS Regression Results</caption>\n",
       "<tr>\n",
       "  <th>Dep. Variable:</th>         <td>rhappy</td>      <th>  R-squared:         </th> <td>   0.029</td> \n",
       "</tr>\n",
       "<tr>\n",
       "  <th>Model:</th>                   <td>OLS</td>       <th>  Adj. R-squared:    </th> <td>   0.029</td> \n",
       "</tr>\n",
       "<tr>\n",
       "  <th>Method:</th>             <td>Least Squares</td>  <th>  F-statistic:       </th> <td>   1445.</td> \n",
       "</tr>\n",
       "<tr>\n",
       "  <th>Date:</th>             <td>Fri, 04 Jan 2019</td> <th>  Prob (F-statistic):</th> <td>1.90e-311</td>\n",
       "</tr>\n",
       "<tr>\n",
       "  <th>Time:</th>                 <td>21:10:20</td>     <th>  Log-Likelihood:    </th> <td> -44675.</td> \n",
       "</tr>\n",
       "<tr>\n",
       "  <th>No. Observations:</th>      <td> 47120</td>      <th>  AIC:               </th> <td>8.935e+04</td>\n",
       "</tr>\n",
       "<tr>\n",
       "  <th>Df Residuals:</th>          <td> 47118</td>      <th>  BIC:               </th> <td>8.937e+04</td>\n",
       "</tr>\n",
       "<tr>\n",
       "  <th>Df Model:</th>              <td>     1</td>      <th>                     </th>     <td> </td>    \n",
       "</tr>\n",
       "<tr>\n",
       "  <th>Covariance Type:</th>         <td>HC1</td>       <th>                     </th>     <td> </td>    \n",
       "</tr>\n",
       "</table>\n",
       "<table class=\"simpletable\">\n",
       "<tr>\n",
       "      <td></td>         <th>coef</th>     <th>std err</th>      <th>z</th>      <th>P>|z|</th>  <th>[0.025</th>    <th>0.975]</th>  \n",
       "</tr>\n",
       "<tr>\n",
       "  <th>Intercept</th> <td>    2.0715</td> <td>    0.004</td> <td>  472.973</td> <td> 0.000</td> <td>    2.063</td> <td>    2.080</td>\n",
       "</tr>\n",
       "<tr>\n",
       "  <th>inc10k</th>    <td>    0.0381</td> <td>    0.001</td> <td>   38.012</td> <td> 0.000</td> <td>    0.036</td> <td>    0.040</td>\n",
       "</tr>\n",
       "</table>\n",
       "<table class=\"simpletable\">\n",
       "<tr>\n",
       "  <th>Omnibus:</th>       <td>1784.423</td> <th>  Durbin-Watson:     </th> <td>   1.934</td> \n",
       "</tr>\n",
       "<tr>\n",
       "  <th>Prob(Omnibus):</th>  <td> 0.000</td>  <th>  Jarque-Bera (JB):  </th> <td> 911.385</td> \n",
       "</tr>\n",
       "<tr>\n",
       "  <th>Skew:</th>           <td>-0.152</td>  <th>  Prob(JB):          </th> <td>1.25e-198</td>\n",
       "</tr>\n",
       "<tr>\n",
       "  <th>Kurtosis:</th>       <td> 2.390</td>  <th>  Cond. No.          </th> <td>    6.45</td> \n",
       "</tr>\n",
       "</table><br/><br/>Warnings:<br/>[1] Standard Errors are heteroscedasticity robust (HC1)"
      ],
      "text/plain": [
       "<class 'statsmodels.iolib.summary.Summary'>\n",
       "\"\"\"\n",
       "                            OLS Regression Results                            \n",
       "==============================================================================\n",
       "Dep. Variable:                 rhappy   R-squared:                       0.029\n",
       "Model:                            OLS   Adj. R-squared:                  0.029\n",
       "Method:                 Least Squares   F-statistic:                     1445.\n",
       "Date:                Fri, 04 Jan 2019   Prob (F-statistic):          1.90e-311\n",
       "Time:                        21:10:20   Log-Likelihood:                -44675.\n",
       "No. Observations:               47120   AIC:                         8.935e+04\n",
       "Df Residuals:                   47118   BIC:                         8.937e+04\n",
       "Df Model:                           1                                         \n",
       "Covariance Type:                  HC1                                         \n",
       "==============================================================================\n",
       "                 coef    std err          z      P>|z|      [0.025      0.975]\n",
       "------------------------------------------------------------------------------\n",
       "Intercept      2.0715      0.004    472.973      0.000       2.063       2.080\n",
       "inc10k         0.0381      0.001     38.012      0.000       0.036       0.040\n",
       "==============================================================================\n",
       "Omnibus:                     1784.423   Durbin-Watson:                   1.934\n",
       "Prob(Omnibus):                  0.000   Jarque-Bera (JB):              911.385\n",
       "Skew:                          -0.152   Prob(JB):                    1.25e-198\n",
       "Kurtosis:                       2.390   Cond. No.                         6.45\n",
       "==============================================================================\n",
       "\n",
       "Warnings:\n",
       "[1] Standard Errors are heteroscedasticity robust (HC1)\n",
       "\"\"\""
      ]
     },
     "execution_count": 5,
     "metadata": {},
     "output_type": "execute_result"
    }
   ],
   "source": [
    "OLS.from_formula('rhappy ~ inc10k', data=d).fit(cov_type = 'HC1').summary()"
   ]
  },
  {
   "cell_type": "markdown",
   "metadata": {},
   "source": [
    "### A slightly more complex regression"
   ]
  },
  {
   "cell_type": "code",
   "execution_count": 6,
   "metadata": {},
   "outputs": [
    {
     "data": {
      "text/html": [
       "<table class=\"simpletable\">\n",
       "<caption>OLS Regression Results</caption>\n",
       "<tr>\n",
       "  <th>Dep. Variable:</th>         <td>rhappy</td>      <th>  R-squared:         </th> <td>   0.038</td> \n",
       "</tr>\n",
       "<tr>\n",
       "  <th>Model:</th>                   <td>OLS</td>       <th>  Adj. R-squared:    </th> <td>   0.038</td> \n",
       "</tr>\n",
       "<tr>\n",
       "  <th>Method:</th>             <td>Least Squares</td>  <th>  F-statistic:       </th> <td>   1838.</td> \n",
       "</tr>\n",
       "<tr>\n",
       "  <th>Date:</th>             <td>Fri, 04 Jan 2019</td> <th>  Prob (F-statistic):</th>  <td>  0.00</td>  \n",
       "</tr>\n",
       "<tr>\n",
       "  <th>Time:</th>                 <td>21:10:25</td>     <th>  Log-Likelihood:    </th> <td> -44469.</td> \n",
       "</tr>\n",
       "<tr>\n",
       "  <th>No. Observations:</th>      <td> 47120</td>      <th>  AIC:               </th> <td>8.894e+04</td>\n",
       "</tr>\n",
       "<tr>\n",
       "  <th>Df Residuals:</th>          <td> 47118</td>      <th>  BIC:               </th> <td>8.896e+04</td>\n",
       "</tr>\n",
       "<tr>\n",
       "  <th>Df Model:</th>              <td>     1</td>      <th>                     </th>     <td> </td>    \n",
       "</tr>\n",
       "<tr>\n",
       "  <th>Covariance Type:</th>      <td>nonrobust</td>    <th>                     </th>     <td> </td>    \n",
       "</tr>\n",
       "</table>\n",
       "<table class=\"simpletable\">\n",
       "<tr>\n",
       "      <td></td>         <th>coef</th>     <th>std err</th>      <th>t</th>      <th>P>|t|</th>  <th>[0.025</th>    <th>0.975]</th>  \n",
       "</tr>\n",
       "<tr>\n",
       "  <th>Intercept</th> <td>    0.9675</td> <td>    0.029</td> <td>   33.752</td> <td> 0.000</td> <td>    0.911</td> <td>    1.024</td>\n",
       "</tr>\n",
       "<tr>\n",
       "  <th>loginc</th>    <td>    0.1230</td> <td>    0.003</td> <td>   42.872</td> <td> 0.000</td> <td>    0.117</td> <td>    0.129</td>\n",
       "</tr>\n",
       "</table>\n",
       "<table class=\"simpletable\">\n",
       "<tr>\n",
       "  <th>Omnibus:</th>       <td>1666.278</td> <th>  Durbin-Watson:     </th> <td>   1.940</td> \n",
       "</tr>\n",
       "<tr>\n",
       "  <th>Prob(Omnibus):</th>  <td> 0.000</td>  <th>  Jarque-Bera (JB):  </th> <td> 847.342</td> \n",
       "</tr>\n",
       "<tr>\n",
       "  <th>Skew:</th>           <td>-0.134</td>  <th>  Prob(JB):          </th> <td>1.00e-184</td>\n",
       "</tr>\n",
       "<tr>\n",
       "  <th>Kurtosis:</th>       <td> 2.400</td>  <th>  Cond. No.          </th> <td>    101.</td> \n",
       "</tr>\n",
       "</table><br/><br/>Warnings:<br/>[1] Standard Errors assume that the covariance matrix of the errors is correctly specified."
      ],
      "text/plain": [
       "<class 'statsmodels.iolib.summary.Summary'>\n",
       "\"\"\"\n",
       "                            OLS Regression Results                            \n",
       "==============================================================================\n",
       "Dep. Variable:                 rhappy   R-squared:                       0.038\n",
       "Model:                            OLS   Adj. R-squared:                  0.038\n",
       "Method:                 Least Squares   F-statistic:                     1838.\n",
       "Date:                Fri, 04 Jan 2019   Prob (F-statistic):               0.00\n",
       "Time:                        21:10:25   Log-Likelihood:                -44469.\n",
       "No. Observations:               47120   AIC:                         8.894e+04\n",
       "Df Residuals:                   47118   BIC:                         8.896e+04\n",
       "Df Model:                           1                                         \n",
       "Covariance Type:            nonrobust                                         \n",
       "==============================================================================\n",
       "                 coef    std err          t      P>|t|      [0.025      0.975]\n",
       "------------------------------------------------------------------------------\n",
       "Intercept      0.9675      0.029     33.752      0.000       0.911       1.024\n",
       "loginc         0.1230      0.003     42.872      0.000       0.117       0.129\n",
       "==============================================================================\n",
       "Omnibus:                     1666.278   Durbin-Watson:                   1.940\n",
       "Prob(Omnibus):                  0.000   Jarque-Bera (JB):              847.342\n",
       "Skew:                          -0.134   Prob(JB):                    1.00e-184\n",
       "Kurtosis:                       2.400   Cond. No.                         101.\n",
       "==============================================================================\n",
       "\n",
       "Warnings:\n",
       "[1] Standard Errors assume that the covariance matrix of the errors is correctly specified.\n",
       "\"\"\""
      ]
     },
     "execution_count": 6,
     "metadata": {},
     "output_type": "execute_result"
    }
   ],
   "source": [
    "lm2 = OLS.from_formula('rhappy ~ loginc', data=d).fit()\n",
    "lm2.summary()"
   ]
  },
  {
   "cell_type": "markdown",
   "metadata": {},
   "source": [
    "## 2. Review of the Logit model"
   ]
  },
  {
   "cell_type": "markdown",
   "metadata": {},
   "source": [
    "### First, a simple OLS model"
   ]
  },
  {
   "cell_type": "code",
   "execution_count": 7,
   "metadata": {},
   "outputs": [
    {
     "data": {
      "text/html": [
       "<table class=\"simpletable\">\n",
       "<caption>OLS Regression Results</caption>\n",
       "<tr>\n",
       "  <th>Dep. Variable:</th>          <td>very</td>       <th>  R-squared:         </th> <td>   0.018</td> \n",
       "</tr>\n",
       "<tr>\n",
       "  <th>Model:</th>                   <td>OLS</td>       <th>  Adj. R-squared:    </th> <td>   0.018</td> \n",
       "</tr>\n",
       "<tr>\n",
       "  <th>Method:</th>             <td>Least Squares</td>  <th>  F-statistic:       </th> <td>   884.2</td> \n",
       "</tr>\n",
       "<tr>\n",
       "  <th>Date:</th>             <td>Fri, 04 Jan 2019</td> <th>  Prob (F-statistic):</th> <td>1.62e-192</td>\n",
       "</tr>\n",
       "<tr>\n",
       "  <th>Time:</th>                 <td>21:10:32</td>     <th>  Log-Likelihood:    </th> <td> -30256.</td> \n",
       "</tr>\n",
       "<tr>\n",
       "  <th>No. Observations:</th>      <td> 47120</td>      <th>  AIC:               </th> <td>6.052e+04</td>\n",
       "</tr>\n",
       "<tr>\n",
       "  <th>Df Residuals:</th>          <td> 47118</td>      <th>  BIC:               </th> <td>6.053e+04</td>\n",
       "</tr>\n",
       "<tr>\n",
       "  <th>Df Model:</th>              <td>     1</td>      <th>                     </th>     <td> </td>    \n",
       "</tr>\n",
       "<tr>\n",
       "  <th>Covariance Type:</th>      <td>nonrobust</td>    <th>                     </th>     <td> </td>    \n",
       "</tr>\n",
       "</table>\n",
       "<table class=\"simpletable\">\n",
       "<tr>\n",
       "      <td></td>         <th>coef</th>     <th>std err</th>      <th>t</th>      <th>P>|t|</th>  <th>[0.025</th>    <th>0.975]</th>  \n",
       "</tr>\n",
       "<tr>\n",
       "  <th>Intercept</th> <td>    0.2449</td> <td>    0.003</td> <td>   77.816</td> <td> 0.000</td> <td>    0.239</td> <td>    0.251</td>\n",
       "</tr>\n",
       "<tr>\n",
       "  <th>inc10k</th>    <td>    0.0222</td> <td>    0.001</td> <td>   29.735</td> <td> 0.000</td> <td>    0.021</td> <td>    0.024</td>\n",
       "</tr>\n",
       "</table>\n",
       "<table class=\"simpletable\">\n",
       "<tr>\n",
       "  <th>Omnibus:</th>       <td>166672.986</td> <th>  Durbin-Watson:     </th> <td>   1.953</td>\n",
       "</tr>\n",
       "<tr>\n",
       "  <th>Prob(Omnibus):</th>   <td> 0.000</td>   <th>  Jarque-Bera (JB):  </th> <td>8106.925</td>\n",
       "</tr>\n",
       "<tr>\n",
       "  <th>Skew:</th>            <td> 0.783</td>   <th>  Prob(JB):          </th> <td>    0.00</td>\n",
       "</tr>\n",
       "<tr>\n",
       "  <th>Kurtosis:</th>        <td> 1.704</td>   <th>  Cond. No.          </th> <td>    6.45</td>\n",
       "</tr>\n",
       "</table><br/><br/>Warnings:<br/>[1] Standard Errors assume that the covariance matrix of the errors is correctly specified."
      ],
      "text/plain": [
       "<class 'statsmodels.iolib.summary.Summary'>\n",
       "\"\"\"\n",
       "                            OLS Regression Results                            \n",
       "==============================================================================\n",
       "Dep. Variable:                   very   R-squared:                       0.018\n",
       "Model:                            OLS   Adj. R-squared:                  0.018\n",
       "Method:                 Least Squares   F-statistic:                     884.2\n",
       "Date:                Fri, 04 Jan 2019   Prob (F-statistic):          1.62e-192\n",
       "Time:                        21:10:32   Log-Likelihood:                -30256.\n",
       "No. Observations:               47120   AIC:                         6.052e+04\n",
       "Df Residuals:                   47118   BIC:                         6.053e+04\n",
       "Df Model:                           1                                         \n",
       "Covariance Type:            nonrobust                                         \n",
       "==============================================================================\n",
       "                 coef    std err          t      P>|t|      [0.025      0.975]\n",
       "------------------------------------------------------------------------------\n",
       "Intercept      0.2449      0.003     77.816      0.000       0.239       0.251\n",
       "inc10k         0.0222      0.001     29.735      0.000       0.021       0.024\n",
       "==============================================================================\n",
       "Omnibus:                   166672.986   Durbin-Watson:                   1.953\n",
       "Prob(Omnibus):                  0.000   Jarque-Bera (JB):             8106.925\n",
       "Skew:                           0.783   Prob(JB):                         0.00\n",
       "Kurtosis:                       1.704   Cond. No.                         6.45\n",
       "==============================================================================\n",
       "\n",
       "Warnings:\n",
       "[1] Standard Errors assume that the covariance matrix of the errors is correctly specified.\n",
       "\"\"\""
      ]
     },
     "execution_count": 7,
     "metadata": {},
     "output_type": "execute_result"
    }
   ],
   "source": [
    "# slide 20\n",
    "# Unlike R, Python doesn't automatically ignore NA's, so we have to first take care of the case with NA\n",
    "d['very'] = np.where(pd.isnull(d.rhappy), np.nan, \n",
    "                    np.where(d.rhappy>2, 1, 0))\n",
    "\n",
    "lm3 = OLS.from_formula('very ~ inc10k', data=d).fit()\n",
    "lm3.summary()"
   ]
  },
  {
   "cell_type": "markdown",
   "metadata": {},
   "source": [
    "### A simple logit"
   ]
  },
  {
   "cell_type": "code",
   "execution_count": 8,
   "metadata": {},
   "outputs": [
    {
     "data": {
      "text/html": [
       "<table class=\"simpletable\">\n",
       "<caption>Generalized Linear Model Regression Results</caption>\n",
       "<tr>\n",
       "  <th>Dep. Variable:</th>        <td>very</td>       <th>  No. Observations:  </th>  <td> 47120</td>  \n",
       "</tr>\n",
       "<tr>\n",
       "  <th>Model:</th>                 <td>GLM</td>       <th>  Df Residuals:      </th>  <td> 47118</td>  \n",
       "</tr>\n",
       "<tr>\n",
       "  <th>Model Family:</th>       <td>Binomial</td>     <th>  Df Model:          </th>  <td>     1</td>  \n",
       "</tr>\n",
       "<tr>\n",
       "  <th>Link Function:</th>        <td>logit</td>      <th>  Scale:             </th> <td>  1.0000</td> \n",
       "</tr>\n",
       "<tr>\n",
       "  <th>Method:</th>               <td>IRLS</td>       <th>  Log-Likelihood:    </th> <td> -28910.</td> \n",
       "</tr>\n",
       "<tr>\n",
       "  <th>Date:</th>           <td>Fri, 04 Jan 2019</td> <th>  Deviance:          </th> <td>  57820.</td> \n",
       "</tr>\n",
       "<tr>\n",
       "  <th>Time:</th>               <td>21:10:36</td>     <th>  Pearson chi2:      </th> <td>4.70e+04</td> \n",
       "</tr>\n",
       "<tr>\n",
       "  <th>No. Iterations:</th>         <td>5</td>        <th>  Covariance Type:   </th> <td>nonrobust</td>\n",
       "</tr>\n",
       "</table>\n",
       "<table class=\"simpletable\">\n",
       "<tr>\n",
       "      <td></td>         <th>coef</th>     <th>std err</th>      <th>z</th>      <th>P>|z|</th>  <th>[0.025</th>    <th>0.975]</th>  \n",
       "</tr>\n",
       "<tr>\n",
       "  <th>Intercept</th> <td>   -1.0956</td> <td>    0.015</td> <td>  -72.883</td> <td> 0.000</td> <td>   -1.125</td> <td>   -1.066</td>\n",
       "</tr>\n",
       "<tr>\n",
       "  <th>inc10k</th>    <td>    0.0973</td> <td>    0.003</td> <td>   28.797</td> <td> 0.000</td> <td>    0.091</td> <td>    0.104</td>\n",
       "</tr>\n",
       "</table>"
      ],
      "text/plain": [
       "<class 'statsmodels.iolib.summary.Summary'>\n",
       "\"\"\"\n",
       "                 Generalized Linear Model Regression Results                  \n",
       "==============================================================================\n",
       "Dep. Variable:                   very   No. Observations:                47120\n",
       "Model:                            GLM   Df Residuals:                    47118\n",
       "Model Family:                Binomial   Df Model:                            1\n",
       "Link Function:                  logit   Scale:                          1.0000\n",
       "Method:                          IRLS   Log-Likelihood:                -28910.\n",
       "Date:                Fri, 04 Jan 2019   Deviance:                       57820.\n",
       "Time:                        21:10:36   Pearson chi2:                 4.70e+04\n",
       "No. Iterations:                     5   Covariance Type:             nonrobust\n",
       "==============================================================================\n",
       "                 coef    std err          z      P>|z|      [0.025      0.975]\n",
       "------------------------------------------------------------------------------\n",
       "Intercept     -1.0956      0.015    -72.883      0.000      -1.125      -1.066\n",
       "inc10k         0.0973      0.003     28.797      0.000       0.091       0.104\n",
       "==============================================================================\n",
       "\"\"\""
      ]
     },
     "execution_count": 8,
     "metadata": {},
     "output_type": "execute_result"
    }
   ],
   "source": [
    "# slide 22\n",
    "ll = smf.glm('very ~ inc10k', data=d, family=sm.families.Binomial()).fit()\n",
    "ll.summary()"
   ]
  },
  {
   "cell_type": "code",
   "execution_count": 17,
   "metadata": {},
   "outputs": [
    {
     "data": {
      "text/plain": [
       "Intercept    0.334331\n",
       "inc10k       1.102244\n",
       "dtype: float64"
      ]
     },
     "execution_count": 17,
     "metadata": {},
     "output_type": "execute_result"
    }
   ],
   "source": [
    "# slide 25\n",
    "# interpreting the logistic regression parameters\n",
    "np.exp(ll.params)"
   ]
  },
  {
   "cell_type": "markdown",
   "metadata": {},
   "source": [
    "## 3. The ordinal logit"
   ]
  },
  {
   "cell_type": "markdown",
   "metadata": {},
   "source": [
    "At the time of this writing, there is no robust statistical tools to perform ordinal logistic regression in Python. However, we do have the option of calling R functions within ipython notebook. This can be achieved with the `rpy2` module.\n",
    "\n",
    "First we load the package `ordinal` from R and the necessary extension. Note that `ordinal` must be installed in R in order for this to work. You might also need to install the Python version of the R package in your virtual environment. For example, the `ordinal` package for Python can be installed with the command `conda install -c conda-forge r-ordinal`."
   ]
  },
  {
   "cell_type": "code",
   "execution_count": 9,
   "metadata": {},
   "outputs": [],
   "source": [
    "from rpy2.robjects.packages import importr\n",
    "\n",
    "ordinal = importr('ordinal')\n",
    "\n",
    "%load_ext rpy2.ipython"
   ]
  },
  {
   "cell_type": "code",
   "execution_count": 10,
   "metadata": {},
   "outputs": [],
   "source": [
    "# create new dataframe with missing values dropped\n",
    "d_noNA = d.dropna()"
   ]
  },
  {
   "cell_type": "markdown",
   "metadata": {},
   "source": [
    "`%%` means that the entire cell will be evaluated in R mode. `-i` is to import existing variable in the environment. Here we are importing our existing Pandas dataframe `d_noNA`. "
   ]
  },
  {
   "cell_type": "code",
   "execution_count": 11,
   "metadata": {},
   "outputs": [
    {
     "name": "stderr",
     "output_type": "stream",
     "text": [
      "/Users/melindasong/anaconda/envs/py36/lib/python3.6/site-packages/rpy2/robjects/pandas2ri.py:191: FutureWarning: from_items is deprecated. Please use DataFrame.from_dict(dict(items), ...) instead. DataFrame.from_dict(OrderedDict(items)) may be used to preserve the key order.\n",
      "  res = PandasDataFrame.from_items(items)\n"
     ]
    },
    {
     "data": {
      "text/plain": [
       "formula: as.factor(rhappy) ~ inc10k\n",
       "data:    d_noNA\n",
       "\n",
       " link  threshold nobs  logLik    AIC      niter max.grad cond.H \n",
       " logit flexible  47120 -43918.69 87843.37 6(0)  6.25e-12 8.5e+01\n",
       "\n",
       "Coefficients:\n",
       "       Estimate Std. Error z value Pr(>|z|)    \n",
       "inc10k  0.11633    0.00325    35.8   <2e-16 ***\n",
       "---\n",
       "Signif. codes:  0 ‘***’ 0.001 ‘**’ 0.01 ‘*’ 0.05 ‘.’ 0.1 ‘ ’ 1\n",
       "\n",
       "Threshold coefficients:\n",
       "    Estimate Std. Error z value\n",
       "1|2 -1.62773    0.01652  -98.52\n",
       "2|3  1.16450    0.01480   78.70\n"
      ]
     },
     "metadata": {},
     "output_type": "display_data"
    }
   ],
   "source": [
    "%%R -i d_noNA\n",
    "\n",
    "fm1 = clm(as.factor(rhappy) ~ inc10k, data=d_noNA)\n",
    "summary(fm1)"
   ]
  },
  {
   "cell_type": "code",
   "execution_count": 71,
   "metadata": {},
   "outputs": [
    {
     "data": {
      "text/plain": [
       "     1|2      2|3   inc10k \n",
       "0.196374 3.204331 1.123370 \n"
      ]
     },
     "metadata": {},
     "output_type": "display_data"
    }
   ],
   "source": [
    "%%R \n",
    "exp(coef(fm1))"
   ]
  },
  {
   "cell_type": "code",
   "execution_count": 54,
   "metadata": {},
   "outputs": [
    {
     "data": {
      "text/plain": [
       "formula: as.factor(rhappy) ~ 1\n",
       "nominal: ~inc10k\n",
       "data:    d_noNA\n",
       "\n",
       " link  threshold nobs  logLik    AIC      niter max.grad cond.H \n",
       " logit flexible  47120 -43779.71 87567.43 7(0)  1.27e-10 1.1e+02\n",
       "\n",
       "Threshold coefficients:\n",
       "                 Estimate Std. Error z value\n",
       "1|2.(Intercept) -1.389929   0.021824  -63.69\n",
       "2|3.(Intercept)  1.101608   0.015141   72.76\n",
       "1|2.inc10k      -0.220927   0.007744  -28.53\n",
       "2|3.inc10k      -0.099330   0.003424  -29.01\n"
      ]
     },
     "metadata": {},
     "output_type": "display_data"
    }
   ],
   "source": [
    "# slide 35\n",
    "%%R -i d_noNA\n",
    "\n",
    "fm2 = clm(as.factor(rhappy) ~ 1, nominal=~inc10k, data=d_noNA)\n",
    "summary(fm2)"
   ]
  },
  {
   "cell_type": "code",
   "execution_count": 72,
   "metadata": {},
   "outputs": [
    {
     "data": {
      "text/plain": [
       "1|2.(Intercept) 2|3.(Intercept)      1|2.inc10k      2|3.inc10k \n",
       "      0.2490929       3.0090014       0.8017752       0.9054435 \n"
      ]
     },
     "metadata": {},
     "output_type": "display_data"
    }
   ],
   "source": [
    "%%R \n",
    "exp(coef(fm2))"
   ]
  },
  {
   "cell_type": "code",
   "execution_count": 73,
   "metadata": {},
   "outputs": [
    {
     "data": {
      "text/plain": [
       "Likelihood ratio tests of cumulative link models:\n",
       " \n",
       "    formula:                   nominal: link: threshold:\n",
       "fm1 as.factor(rhappy) ~ inc10k ~1       logit flexible  \n",
       "fm2 as.factor(rhappy) ~ 1      ~inc10k  logit flexible  \n",
       "\n",
       "    no.par   AIC logLik LR.stat df Pr(>Chisq)    \n",
       "fm1      3 87843 -43919                          \n",
       "fm2      4 87567 -43780  277.94  1  < 2.2e-16 ***\n",
       "---\n",
       "Signif. codes:  0 ‘***’ 0.001 ‘**’ 0.01 ‘*’ 0.05 ‘.’ 0.1 ‘ ’ 1\n"
      ]
     },
     "metadata": {},
     "output_type": "display_data"
    }
   ],
   "source": [
    "# slide 37\n",
    "%%R\n",
    "anova(fm1, fm2)"
   ]
  },
  {
   "cell_type": "markdown",
   "metadata": {},
   "source": [
    "## 4. Multinomial logit regression"
   ]
  },
  {
   "cell_type": "code",
   "execution_count": 23,
   "metadata": {},
   "outputs": [],
   "source": [
    "# Make '2.0' the reference level for 'rhappy'\n",
    "\n",
    "d['rhappy'] = d['rhappy'].astype('category')\n",
    "d['rhappy'].cat.reorder_categories([2, 1, 3], inplace=True)"
   ]
  },
  {
   "cell_type": "code",
   "execution_count": 34,
   "metadata": {},
   "outputs": [
    {
     "name": "stdout",
     "output_type": "stream",
     "text": [
      "Optimization terminated successfully.\n",
      "         Current function value: 0.928690\n",
      "         Iterations 7\n"
     ]
    },
    {
     "data": {
      "text/html": [
       "<table class=\"simpletable\">\n",
       "<caption>MNLogit Regression Results</caption>\n",
       "<tr>\n",
       "  <th>Dep. Variable:</th>         <td>y</td>        <th>  No. Observations:  </th>  <td> 47120</td> \n",
       "</tr>\n",
       "<tr>\n",
       "  <th>Model:</th>              <td>MNLogit</td>     <th>  Df Residuals:      </th>  <td> 47116</td> \n",
       "</tr>\n",
       "<tr>\n",
       "  <th>Method:</th>               <td>MLE</td>       <th>  Df Model:          </th>  <td>     2</td> \n",
       "</tr>\n",
       "<tr>\n",
       "  <th>Date:</th>          <td>Fri, 04 Jan 2019</td> <th>  Pseudo R-squ.:     </th>  <td>0.01847</td>\n",
       "</tr>\n",
       "<tr>\n",
       "  <th>Time:</th>              <td>21:50:41</td>     <th>  Log-Likelihood:    </th> <td> -43760.</td>\n",
       "</tr>\n",
       "<tr>\n",
       "  <th>converged:</th>           <td>True</td>       <th>  LL-Null:           </th> <td> -44583.</td>\n",
       "</tr>\n",
       "<tr>\n",
       "  <th> </th>                      <td> </td>        <th>  LLR p-value:       </th>  <td> 0.000</td> \n",
       "</tr>\n",
       "</table>\n",
       "<table class=\"simpletable\">\n",
       "<tr>\n",
       "  <th>y=rhappy[1]</th>    <th>coef</th>     <th>std err</th>      <th>z</th>      <th>P>|z|</th>  <th>[0.025</th>    <th>0.975]</th>  \n",
       "</tr>\n",
       "<tr>\n",
       "  <th>Intercept</th>   <td>   -1.0002</td> <td>    0.023</td> <td>  -43.428</td> <td> 0.000</td> <td>   -1.045</td> <td>   -0.955</td>\n",
       "</tr>\n",
       "<tr>\n",
       "  <th>inc10k</th>      <td>   -0.2068</td> <td>    0.008</td> <td>  -25.203</td> <td> 0.000</td> <td>   -0.223</td> <td>   -0.191</td>\n",
       "</tr>\n",
       "<tr>\n",
       "  <th>y=rhappy[3]</th>    <th>coef</th>     <th>std err</th>      <th>z</th>      <th>P>|z|</th>  <th>[0.025</th>    <th>0.975]</th>  \n",
       "</tr>\n",
       "<tr>\n",
       "  <th>Intercept</th>   <td>   -0.8293</td> <td>    0.016</td> <td>  -53.377</td> <td> 0.000</td> <td>   -0.860</td> <td>   -0.799</td>\n",
       "</tr>\n",
       "<tr>\n",
       "  <th>inc10k</th>      <td>    0.0742</td> <td>    0.003</td> <td>   21.614</td> <td> 0.000</td> <td>    0.067</td> <td>    0.081</td>\n",
       "</tr>\n",
       "</table>"
      ],
      "text/plain": [
       "<class 'statsmodels.iolib.summary.Summary'>\n",
       "\"\"\"\n",
       "                          MNLogit Regression Results                          \n",
       "==============================================================================\n",
       "Dep. Variable:                      y   No. Observations:                47120\n",
       "Model:                        MNLogit   Df Residuals:                    47116\n",
       "Method:                           MLE   Df Model:                            2\n",
       "Date:                Fri, 04 Jan 2019   Pseudo R-squ.:                 0.01847\n",
       "Time:                        21:50:41   Log-Likelihood:                -43760.\n",
       "converged:                       True   LL-Null:                       -44583.\n",
       "                                        LLR p-value:                     0.000\n",
       "===============================================================================\n",
       "y=rhappy[1]       coef    std err          z      P>|z|      [0.025      0.975]\n",
       "-------------------------------------------------------------------------------\n",
       "Intercept      -1.0002      0.023    -43.428      0.000      -1.045      -0.955\n",
       "inc10k         -0.2068      0.008    -25.203      0.000      -0.223      -0.191\n",
       "-------------------------------------------------------------------------------\n",
       "y=rhappy[3]       coef    std err          z      P>|z|      [0.025      0.975]\n",
       "-------------------------------------------------------------------------------\n",
       "Intercept      -0.8293      0.016    -53.377      0.000      -0.860      -0.799\n",
       "inc10k          0.0742      0.003     21.614      0.000       0.067       0.081\n",
       "===============================================================================\n",
       "\"\"\""
      ]
     },
     "execution_count": 34,
     "metadata": {},
     "output_type": "execute_result"
    }
   ],
   "source": [
    "from statsmodels.discrete.discrete_model import MNLogit\n",
    "\n",
    "ml1 = MNLogit.from_formula('rhappy ~ 1 + inc10k', data=d).fit()\n",
    "ml1.summary()"
   ]
  },
  {
   "cell_type": "code",
   "execution_count": 31,
   "metadata": {},
   "outputs": [
    {
     "data": {
      "text/plain": [
       "1.51917949635592e-50"
      ]
     },
     "execution_count": 31,
     "metadata": {},
     "output_type": "execute_result"
    }
   ],
   "source": [
    "# slide 45\n",
    "sp.stats.chi2.pdf(222.1808, 1)"
   ]
  },
  {
   "cell_type": "code",
   "execution_count": 32,
   "metadata": {},
   "outputs": [
    {
     "data": {
      "text/html": [
       "<div>\n",
       "<style scoped>\n",
       "    .dataframe tbody tr th:only-of-type {\n",
       "        vertical-align: middle;\n",
       "    }\n",
       "\n",
       "    .dataframe tbody tr th {\n",
       "        vertical-align: top;\n",
       "    }\n",
       "\n",
       "    .dataframe thead th {\n",
       "        text-align: right;\n",
       "    }\n",
       "</style>\n",
       "<table border=\"1\" class=\"dataframe\">\n",
       "  <thead>\n",
       "    <tr style=\"text-align: right;\">\n",
       "      <th></th>\n",
       "      <th>0</th>\n",
       "      <th>1</th>\n",
       "    </tr>\n",
       "  </thead>\n",
       "  <tbody>\n",
       "    <tr>\n",
       "      <th>Intercept</th>\n",
       "      <td>0.367792</td>\n",
       "      <td>0.436367</td>\n",
       "    </tr>\n",
       "    <tr>\n",
       "      <th>inc10k</th>\n",
       "      <td>0.813160</td>\n",
       "      <td>1.077048</td>\n",
       "    </tr>\n",
       "  </tbody>\n",
       "</table>\n",
       "</div>"
      ],
      "text/plain": [
       "                  0         1\n",
       "Intercept  0.367792  0.436367\n",
       "inc10k     0.813160  1.077048"
      ]
     },
     "execution_count": 32,
     "metadata": {},
     "output_type": "execute_result"
    }
   ],
   "source": [
    "# slide 47\n",
    "np.exp(ml1.params)"
   ]
  },
  {
   "cell_type": "code",
   "execution_count": 33,
   "metadata": {},
   "outputs": [
    {
     "name": "stdout",
     "output_type": "stream",
     "text": [
      "Optimization terminated successfully.\n",
      "         Current function value: 0.926534\n",
      "         Iterations 6\n"
     ]
    },
    {
     "data": {
      "text/html": [
       "<table class=\"simpletable\">\n",
       "<caption>MNLogit Regression Results</caption>\n",
       "<tr>\n",
       "  <th>Dep. Variable:</th>         <td>y</td>        <th>  No. Observations:  </th>  <td> 47120</td> \n",
       "</tr>\n",
       "<tr>\n",
       "  <th>Model:</th>              <td>MNLogit</td>     <th>  Df Residuals:      </th>  <td> 47116</td> \n",
       "</tr>\n",
       "<tr>\n",
       "  <th>Method:</th>               <td>MLE</td>       <th>  Df Model:          </th>  <td>     2</td> \n",
       "</tr>\n",
       "<tr>\n",
       "  <th>Date:</th>          <td>Fri, 04 Jan 2019</td> <th>  Pseudo R-squ.:     </th>  <td>0.02075</td>\n",
       "</tr>\n",
       "<tr>\n",
       "  <th>Time:</th>              <td>21:50:32</td>     <th>  Log-Likelihood:    </th> <td> -43658.</td>\n",
       "</tr>\n",
       "<tr>\n",
       "  <th>converged:</th>           <td>True</td>       <th>  LL-Null:           </th> <td> -44583.</td>\n",
       "</tr>\n",
       "<tr>\n",
       "  <th> </th>                      <td> </td>        <th>  LLR p-value:       </th>  <td> 0.000</td> \n",
       "</tr>\n",
       "</table>\n",
       "<table class=\"simpletable\">\n",
       "<tr>\n",
       "  <th>y=rhappy[1]</th>    <th>coef</th>     <th>std err</th>      <th>z</th>      <th>P>|z|</th>  <th>[0.025</th>    <th>0.975]</th>  \n",
       "</tr>\n",
       "<tr>\n",
       "  <th>Intercept</th>   <td>    2.3599</td> <td>    0.128</td> <td>   18.402</td> <td> 0.000</td> <td>    2.109</td> <td>    2.611</td>\n",
       "</tr>\n",
       "<tr>\n",
       "  <th>loginc</th>      <td>   -0.3986</td> <td>    0.013</td> <td>  -30.019</td> <td> 0.000</td> <td>   -0.425</td> <td>   -0.373</td>\n",
       "</tr>\n",
       "<tr>\n",
       "  <th>y=rhappy[3]</th>    <th>coef</th>     <th>std err</th>      <th>z</th>      <th>P>|z|</th>  <th>[0.025</th>    <th>0.975]</th>  \n",
       "</tr>\n",
       "<tr>\n",
       "  <th>Intercept</th>   <td>   -3.1056</td> <td>    0.114</td> <td>  -27.131</td> <td> 0.000</td> <td>   -3.330</td> <td>   -2.881</td>\n",
       "</tr>\n",
       "<tr>\n",
       "  <th>loginc</th>      <td>    0.2513</td> <td>    0.011</td> <td>   22.214</td> <td> 0.000</td> <td>    0.229</td> <td>    0.273</td>\n",
       "</tr>\n",
       "</table>"
      ],
      "text/plain": [
       "<class 'statsmodels.iolib.summary.Summary'>\n",
       "\"\"\"\n",
       "                          MNLogit Regression Results                          \n",
       "==============================================================================\n",
       "Dep. Variable:                      y   No. Observations:                47120\n",
       "Model:                        MNLogit   Df Residuals:                    47116\n",
       "Method:                           MLE   Df Model:                            2\n",
       "Date:                Fri, 04 Jan 2019   Pseudo R-squ.:                 0.02075\n",
       "Time:                        21:50:32   Log-Likelihood:                -43658.\n",
       "converged:                       True   LL-Null:                       -44583.\n",
       "                                        LLR p-value:                     0.000\n",
       "===============================================================================\n",
       "y=rhappy[1]       coef    std err          z      P>|z|      [0.025      0.975]\n",
       "-------------------------------------------------------------------------------\n",
       "Intercept       2.3599      0.128     18.402      0.000       2.109       2.611\n",
       "loginc         -0.3986      0.013    -30.019      0.000      -0.425      -0.373\n",
       "-------------------------------------------------------------------------------\n",
       "y=rhappy[3]       coef    std err          z      P>|z|      [0.025      0.975]\n",
       "-------------------------------------------------------------------------------\n",
       "Intercept      -3.1056      0.114    -27.131      0.000      -3.330      -2.881\n",
       "loginc          0.2513      0.011     22.214      0.000       0.229       0.273\n",
       "===============================================================================\n",
       "\"\"\""
      ]
     },
     "execution_count": 33,
     "metadata": {},
     "output_type": "execute_result"
    }
   ],
   "source": [
    "# slide 55\n",
    "\n",
    "ml2 = MNLogit.from_formula('rhappy ~ 1 + loginc', data=d).fit()\n",
    "ml2.summary()"
   ]
  },
  {
   "cell_type": "markdown",
   "metadata": {},
   "source": [
    "## 5. Interaction with the logit model"
   ]
  },
  {
   "cell_type": "code",
   "execution_count": 36,
   "metadata": {},
   "outputs": [
    {
     "data": {
      "text/plain": [
       "4.0    1064\n",
       "5.0     191\n",
       "Name: colhomo, dtype: int64"
      ]
     },
     "execution_count": 36,
     "metadata": {},
     "output_type": "execute_result"
    }
   ],
   "source": [
    "# slide 68\n",
    "GSS_2010 = gss[gss.year==2010].copy()\n",
    "GSS_2010.colhomo.value_counts()"
   ]
  },
  {
   "cell_type": "code",
   "execution_count": 37,
   "metadata": {},
   "outputs": [],
   "source": [
    "GSS_2010['n_colhomo'] = np.where(pd.isnull(GSS_2010.colhomo), np.nan, \n",
    "                                np.where(GSS_2010.colhomo==5, 1, 0))\n",
    "\n",
    "GSS_2010['n_fund'] = GSS_2010.fund.map({1: 'Fundamentalist', 2: 'moderate', 3: 'liberal'})\n",
    "GSS_2010['n_fund'] = GSS_2010.n_fund.astype('category')"
   ]
  },
  {
   "cell_type": "code",
   "execution_count": 38,
   "metadata": {},
   "outputs": [
    {
     "data": {
      "text/html": [
       "<table class=\"simpletable\">\n",
       "<caption>Generalized Linear Model Regression Results</caption>\n",
       "<tr>\n",
       "  <th>Dep. Variable:</th>      <td>n_colhomo</td>    <th>  No. Observations:  </th>  <td>  1193</td>  \n",
       "</tr>\n",
       "<tr>\n",
       "  <th>Model:</th>                 <td>GLM</td>       <th>  Df Residuals:      </th>  <td>  1189</td>  \n",
       "</tr>\n",
       "<tr>\n",
       "  <th>Model Family:</th>       <td>Binomial</td>     <th>  Df Model:          </th>  <td>     3</td>  \n",
       "</tr>\n",
       "<tr>\n",
       "  <th>Link Function:</th>        <td>logit</td>      <th>  Scale:             </th> <td>  1.0000</td> \n",
       "</tr>\n",
       "<tr>\n",
       "  <th>Method:</th>               <td>IRLS</td>       <th>  Log-Likelihood:    </th> <td> -448.76</td> \n",
       "</tr>\n",
       "<tr>\n",
       "  <th>Date:</th>           <td>Fri, 04 Jan 2019</td> <th>  Deviance:          </th> <td>  897.51</td> \n",
       "</tr>\n",
       "<tr>\n",
       "  <th>Time:</th>               <td>22:01:41</td>     <th>  Pearson chi2:      </th> <td>1.17e+03</td> \n",
       "</tr>\n",
       "<tr>\n",
       "  <th>No. Iterations:</th>         <td>5</td>        <th>  Covariance Type:   </th> <td>nonrobust</td>\n",
       "</tr>\n",
       "</table>\n",
       "<table class=\"simpletable\">\n",
       "<tr>\n",
       "      <td></td>         <th>coef</th>     <th>std err</th>      <th>z</th>      <th>P>|z|</th>  <th>[0.025</th>    <th>0.975]</th>  \n",
       "</tr>\n",
       "<tr>\n",
       "  <th>Intercept</th> <td>    0.2594</td> <td>    0.482</td> <td>    0.538</td> <td> 0.591</td> <td>   -0.686</td> <td>    1.205</td>\n",
       "</tr>\n",
       "<tr>\n",
       "  <th>fund</th>      <td>   -0.5388</td> <td>    0.115</td> <td>   -4.699</td> <td> 0.000</td> <td>   -0.764</td> <td>   -0.314</td>\n",
       "</tr>\n",
       "<tr>\n",
       "  <th>educ</th>      <td>   -0.1652</td> <td>    0.028</td> <td>   -5.905</td> <td> 0.000</td> <td>   -0.220</td> <td>   -0.110</td>\n",
       "</tr>\n",
       "<tr>\n",
       "  <th>age</th>       <td>    0.0234</td> <td>    0.005</td> <td>    4.760</td> <td> 0.000</td> <td>    0.014</td> <td>    0.033</td>\n",
       "</tr>\n",
       "</table>"
      ],
      "text/plain": [
       "<class 'statsmodels.iolib.summary.Summary'>\n",
       "\"\"\"\n",
       "                 Generalized Linear Model Regression Results                  \n",
       "==============================================================================\n",
       "Dep. Variable:              n_colhomo   No. Observations:                 1193\n",
       "Model:                            GLM   Df Residuals:                     1189\n",
       "Model Family:                Binomial   Df Model:                            3\n",
       "Link Function:                  logit   Scale:                          1.0000\n",
       "Method:                          IRLS   Log-Likelihood:                -448.76\n",
       "Date:                Fri, 04 Jan 2019   Deviance:                       897.51\n",
       "Time:                        22:01:41   Pearson chi2:                 1.17e+03\n",
       "No. Iterations:                     5   Covariance Type:             nonrobust\n",
       "==============================================================================\n",
       "                 coef    std err          z      P>|z|      [0.025      0.975]\n",
       "------------------------------------------------------------------------------\n",
       "Intercept      0.2594      0.482      0.538      0.591      -0.686       1.205\n",
       "fund          -0.5388      0.115     -4.699      0.000      -0.764      -0.314\n",
       "educ          -0.1652      0.028     -5.905      0.000      -0.220      -0.110\n",
       "age            0.0234      0.005      4.760      0.000       0.014       0.033\n",
       "==============================================================================\n",
       "\"\"\""
      ]
     },
     "execution_count": 38,
     "metadata": {},
     "output_type": "execute_result"
    }
   ],
   "source": [
    "# slide 70\n",
    "logit_colhomo = smf.glm('n_colhomo ~ fund + educ + age', data=GSS_2010, family=sm.families.Binomial()).fit()\n",
    "\n",
    "logit_colhomo.summary()"
   ]
  },
  {
   "cell_type": "code",
   "execution_count": 39,
   "metadata": {},
   "outputs": [
    {
     "data": {
      "text/html": [
       "<table class=\"simpletable\">\n",
       "<caption>Generalized Linear Model Regression Results</caption>\n",
       "<tr>\n",
       "  <th>Dep. Variable:</th>      <td>n_colhomo</td>    <th>  No. Observations:  </th>  <td>  1193</td>  \n",
       "</tr>\n",
       "<tr>\n",
       "  <th>Model:</th>                 <td>GLM</td>       <th>  Df Residuals:      </th>  <td>  1186</td>  \n",
       "</tr>\n",
       "<tr>\n",
       "  <th>Model Family:</th>       <td>Binomial</td>     <th>  Df Model:          </th>  <td>     6</td>  \n",
       "</tr>\n",
       "<tr>\n",
       "  <th>Link Function:</th>        <td>logit</td>      <th>  Scale:             </th> <td>  1.0000</td> \n",
       "</tr>\n",
       "<tr>\n",
       "  <th>Method:</th>               <td>IRLS</td>       <th>  Log-Likelihood:    </th> <td> -439.29</td> \n",
       "</tr>\n",
       "<tr>\n",
       "  <th>Date:</th>           <td>Fri, 04 Jan 2019</td> <th>  Deviance:          </th> <td>  878.57</td> \n",
       "</tr>\n",
       "<tr>\n",
       "  <th>Time:</th>               <td>22:01:45</td>     <th>  Pearson chi2:      </th> <td>1.26e+03</td> \n",
       "</tr>\n",
       "<tr>\n",
       "  <th>No. Iterations:</th>         <td>6</td>        <th>  Covariance Type:   </th> <td>nonrobust</td>\n",
       "</tr>\n",
       "</table>\n",
       "<table class=\"simpletable\">\n",
       "<tr>\n",
       "             <td></td>                <th>coef</th>     <th>std err</th>      <th>z</th>      <th>P>|z|</th>  <th>[0.025</th>    <th>0.975]</th>  \n",
       "</tr>\n",
       "<tr>\n",
       "  <th>Intercept</th>               <td>   -0.6006</td> <td>    0.700</td> <td>   -0.858</td> <td> 0.391</td> <td>   -1.972</td> <td>    0.771</td>\n",
       "</tr>\n",
       "<tr>\n",
       "  <th>n_fund[T.liberal]</th>       <td>    1.8766</td> <td>    1.046</td> <td>    1.794</td> <td> 0.073</td> <td>   -0.174</td> <td>    3.927</td>\n",
       "</tr>\n",
       "<tr>\n",
       "  <th>n_fund[T.moderate]</th>      <td>   -1.3704</td> <td>    0.826</td> <td>   -1.659</td> <td> 0.097</td> <td>   -2.989</td> <td>    0.249</td>\n",
       "</tr>\n",
       "<tr>\n",
       "  <th>educ</th>                    <td>   -0.1318</td> <td>    0.049</td> <td>   -2.672</td> <td> 0.008</td> <td>   -0.229</td> <td>   -0.035</td>\n",
       "</tr>\n",
       "<tr>\n",
       "  <th>n_fund[T.liberal]:educ</th>  <td>   -0.2245</td> <td>    0.083</td> <td>   -2.712</td> <td> 0.007</td> <td>   -0.387</td> <td>   -0.062</td>\n",
       "</tr>\n",
       "<tr>\n",
       "  <th>n_fund[T.moderate]:educ</th> <td>    0.0332</td> <td>    0.065</td> <td>    0.511</td> <td> 0.609</td> <td>   -0.094</td> <td>    0.160</td>\n",
       "</tr>\n",
       "<tr>\n",
       "  <th>age</th>                     <td>    0.0242</td> <td>    0.005</td> <td>    4.817</td> <td> 0.000</td> <td>    0.014</td> <td>    0.034</td>\n",
       "</tr>\n",
       "</table>"
      ],
      "text/plain": [
       "<class 'statsmodels.iolib.summary.Summary'>\n",
       "\"\"\"\n",
       "                 Generalized Linear Model Regression Results                  \n",
       "==============================================================================\n",
       "Dep. Variable:              n_colhomo   No. Observations:                 1193\n",
       "Model:                            GLM   Df Residuals:                     1186\n",
       "Model Family:                Binomial   Df Model:                            6\n",
       "Link Function:                  logit   Scale:                          1.0000\n",
       "Method:                          IRLS   Log-Likelihood:                -439.29\n",
       "Date:                Fri, 04 Jan 2019   Deviance:                       878.57\n",
       "Time:                        22:01:45   Pearson chi2:                 1.26e+03\n",
       "No. Iterations:                     6   Covariance Type:             nonrobust\n",
       "===========================================================================================\n",
       "                              coef    std err          z      P>|z|      [0.025      0.975]\n",
       "-------------------------------------------------------------------------------------------\n",
       "Intercept                  -0.6006      0.700     -0.858      0.391      -1.972       0.771\n",
       "n_fund[T.liberal]           1.8766      1.046      1.794      0.073      -0.174       3.927\n",
       "n_fund[T.moderate]         -1.3704      0.826     -1.659      0.097      -2.989       0.249\n",
       "educ                       -0.1318      0.049     -2.672      0.008      -0.229      -0.035\n",
       "n_fund[T.liberal]:educ     -0.2245      0.083     -2.712      0.007      -0.387      -0.062\n",
       "n_fund[T.moderate]:educ     0.0332      0.065      0.511      0.609      -0.094       0.160\n",
       "age                         0.0242      0.005      4.817      0.000       0.014       0.034\n",
       "===========================================================================================\n",
       "\"\"\""
      ]
     },
     "execution_count": 39,
     "metadata": {},
     "output_type": "execute_result"
    }
   ],
   "source": [
    "# slide 73\n",
    "logit_colhomo2 = smf.glm('n_colhomo ~ n_fund*educ + age', data=GSS_2010, family=sm.families.Binomial()).fit()\n",
    "logit_colhomo2.summary()"
   ]
  },
  {
   "cell_type": "code",
   "execution_count": 61,
   "metadata": {},
   "outputs": [],
   "source": [
    "logit_colhomo2_df = pd.DataFrame(np.arange(21), columns=['educ'])"
   ]
  },
  {
   "cell_type": "code",
   "execution_count": 62,
   "metadata": {},
   "outputs": [],
   "source": [
    "logit_colhomo2_df['fundamentalist'] = 1 + logit_colhomo2.params[0] + logit_colhomo2_df.educ*logit_colhomo2.params[3]\n",
    "logit_colhomo2_df['moderate'] = 1 + logit_colhomo2.params[0] + logit_colhomo2.params[2] + \\\n",
    "                                logit_colhomo2_df.educ*logit_colhomo2.params[3] + logit_colhomo2_df.educ*logit_colhomo2.params[5]\n",
    "logit_colhomo2_df['liberal'] = 1 + logit_colhomo2.params[0] + logit_colhomo2.params[1] + \\\n",
    "                                logit_colhomo2_df.educ*logit_colhomo2.params[3] + logit_colhomo2_df.educ*logit_colhomo2.params[4]"
   ]
  },
  {
   "cell_type": "code",
   "execution_count": 63,
   "metadata": {},
   "outputs": [
    {
     "data": {
      "text/plain": [
       "([<matplotlib.axis.XTick at 0x1c334d6828>,\n",
       "  <matplotlib.axis.XTick at 0x1c334d6160>,\n",
       "  <matplotlib.axis.XTick at 0x1c33aa8198>,\n",
       "  <matplotlib.axis.XTick at 0x1c33aa8710>,\n",
       "  <matplotlib.axis.XTick at 0x1c33aa8e10>],\n",
       " <a list of 5 Text xticklabel objects>)"
      ]
     },
     "execution_count": 63,
     "metadata": {},
     "output_type": "execute_result"
    },
    {
     "data": {
      "image/png": "[encoded data removed]",
      "text/plain": [
       "<Figure size 432x288 with 1 Axes>"
      ]
     },
     "metadata": {},
     "output_type": "display_data"
    }
   ],
   "source": [
    "logit_colhomo2_df['fundamentalist'].plot(color='r')\n",
    "logit_colhomo2_df['moderate'].plot(color='g')\n",
    "logit_colhomo2_df['liberal'].plot(color='b')\n",
    "plt.xticks(np.arange(min(logit_colhomo2_df.educ), max(logit_colhomo2_df.educ)+1, 5))"
   ]
  },
  {
   "cell_type": "markdown",
   "metadata": {},
   "source": [
    "### Plotting the probabilities:"
   ]
  },
  {
   "cell_type": "code",
   "execution_count": 123,
   "metadata": {},
   "outputs": [],
   "source": [
    "def get_probabilities(y_hat):\n",
    "    return np.exp(y_hat)/(1 + np.exp(y_hat))"
   ]
  },
  {
   "cell_type": "code",
   "execution_count": 127,
   "metadata": {},
   "outputs": [],
   "source": [
    "logit_colhomo2_df['prob_fundamentalist'] = get_probabilities(logit_colhomo2_df.fundamentalist)\n",
    "logit_colhomo2_df['prob_moderate'] = get_probabilities(logit_colhomo2_df.moderate)\n",
    "logit_colhomo2_df['prob_liberal'] = get_probabilities(logit_colhomo2_df.liberal)"
   ]
  },
  {
   "cell_type": "code",
   "execution_count": 130,
   "metadata": {},
   "outputs": [
    {
     "data": {
      "text/plain": [
       "<matplotlib.axes._subplots.AxesSubplot at 0x1c24974c50>"
      ]
     },
     "execution_count": 130,
     "metadata": {},
     "output_type": "execute_result"
    },
    {
     "data": {
      "image/png": "[encoded data removed]",
      "text/plain": [
       "<Figure size 432x288 with 1 Axes>"
      ]
     },
     "metadata": {},
     "output_type": "display_data"
    }
   ],
   "source": [
    "logit_colhomo2_df['prob_fundamentalist'].plot(color='r')\n",
    "logit_colhomo2_df['prob_moderate'].plot(color='g')\n",
    "logit_colhomo2_df['prob_liberal'].plot(color='b')"
   ]
  },
  {
   "cell_type": "code",
   "execution_count": null,
   "metadata": {},
   "outputs": [],
   "source": []
  }
 ],
 "metadata": {
  "kernelspec": {
   "display_name": "py36",
   "language": "python",
   "name": "py36"
  },
  "language_info": {
   "codemirror_mode": {
    "name": "ipython",
    "version": 3
   },
   "file_extension": ".py",
   "mimetype": "text/x-python",
   "name": "python",
   "nbconvert_exporter": "python",
   "pygments_lexer": "ipython3",
   "version": "3.6.5"
  }
 },
 "nbformat": 4,
 "nbformat_minor": 2
}
