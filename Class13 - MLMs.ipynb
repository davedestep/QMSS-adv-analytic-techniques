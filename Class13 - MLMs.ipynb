{
 "cells": [
  {
   "cell_type": "markdown",
   "metadata": {},
   "source": [
    "# Advanced quantitative techniques - Class 13 - Multilevel models"
   ]
  },
  {
   "cell_type": "code",
   "execution_count": 1,
   "metadata": {},
   "outputs": [],
   "source": [
    "import pandas as pd\n",
    "import numpy as np\n",
    "import seaborn as sns\n",
    "import matplotlib.pyplot as plt\n",
    "%matplotlib inline\n",
    "import statsmodels.api as sm\n",
    "import statsmodels.formula.api as smf\n",
    "import QMSS as qmss"
   ]
  },
  {
   "cell_type": "markdown",
   "metadata": {},
   "source": [
    "## 1. Multilevel modeling"
   ]
  },
  {
   "cell_type": "code",
   "execution_count": 275,
   "metadata": {},
   "outputs": [],
   "source": [
    "sub = pd.read_csv('Data/GSS_Cum.csv', usecols=['sampcode', 'year', 'closeblk', 'race', 'age'])"
   ]
  },
  {
   "cell_type": "code",
   "execution_count": 276,
   "metadata": {},
   "outputs": [],
   "source": [
    "# create community IDs\n",
    "sub['sampyear'] = sub.sampcode*(10**4) + sub.year"
   ]
  },
  {
   "cell_type": "markdown",
   "metadata": {},
   "source": [
    "#### The dependent variable - how close does one feel to blacks"
   ]
  },
  {
   "cell_type": "code",
   "execution_count": 163,
   "metadata": {},
   "outputs": [
    {
     "data": {
      "text/plain": [
       "5.0    5235\n",
       "9.0    1854\n",
       "7.0    1479\n",
       "6.0    1020\n",
       "8.0     698\n",
       "1.0     686\n",
       "4.0     502\n",
       "3.0     490\n",
       "2.0     333\n",
       "Name: closeblk, dtype: int64"
      ]
     },
     "execution_count": 163,
     "metadata": {},
     "output_type": "execute_result"
    }
   ],
   "source": [
    "sub.closeblk.value_counts()"
   ]
  },
  {
   "cell_type": "markdown",
   "metadata": {},
   "source": [
    "#### Calculate the percentage of African Americans in each community"
   ]
  },
  {
   "cell_type": "code",
   "execution_count": 277,
   "metadata": {},
   "outputs": [],
   "source": [
    "# get race-level total for each sampyear\n",
    "perc_black = sub.groupby('sampyear')['race'].value_counts().to_frame('pct_black')\n",
    "\n",
    "# calculate percentage of each race out of total\n",
    "perc_black = perc_black.groupby(level=0).apply(lambda x: 100*x/x.sum()).reset_index(drop=False)\n",
    "\n",
    "perc_black = perc_black[perc_black.race==2]"
   ]
  },
  {
   "cell_type": "code",
   "execution_count": 278,
   "metadata": {},
   "outputs": [],
   "source": [
    "sub = pd.merge(sub, perc_black[['sampyear', 'pct_black']], on='sampyear', how='left')\n",
    "sub['pct_black'] = sub.pct_black.fillna(0)"
   ]
  },
  {
   "cell_type": "code",
   "execution_count": 279,
   "metadata": {},
   "outputs": [
    {
     "data": {
      "text/html": [
       "<div>\n",
       "<style scoped>\n",
       "    .dataframe tbody tr th:only-of-type {\n",
       "        vertical-align: middle;\n",
       "    }\n",
       "\n",
       "    .dataframe tbody tr th {\n",
       "        vertical-align: top;\n",
       "    }\n",
       "\n",
       "    .dataframe thead th {\n",
       "        text-align: right;\n",
       "    }\n",
       "</style>\n",
       "<table border=\"1\" class=\"dataframe\">\n",
       "  <thead>\n",
       "    <tr style=\"text-align: right;\">\n",
       "      <th></th>\n",
       "      <th>count</th>\n",
       "      <th>mean</th>\n",
       "      <th>std</th>\n",
       "      <th>min</th>\n",
       "      <th>25%</th>\n",
       "      <th>50%</th>\n",
       "      <th>75%</th>\n",
       "      <th>max</th>\n",
       "    </tr>\n",
       "    <tr>\n",
       "      <th>race</th>\n",
       "      <th></th>\n",
       "      <th></th>\n",
       "      <th></th>\n",
       "      <th></th>\n",
       "      <th></th>\n",
       "      <th></th>\n",
       "      <th></th>\n",
       "      <th></th>\n",
       "    </tr>\n",
       "  </thead>\n",
       "  <tbody>\n",
       "    <tr>\n",
       "      <th>1</th>\n",
       "      <td>46350.0</td>\n",
       "      <td>9.929576</td>\n",
       "      <td>13.541160</td>\n",
       "      <td>0.0</td>\n",
       "      <td>0.000000</td>\n",
       "      <td>4.347826</td>\n",
       "      <td>16.000000</td>\n",
       "      <td>89.473684</td>\n",
       "    </tr>\n",
       "    <tr>\n",
       "      <th>2</th>\n",
       "      <td>7926.0</td>\n",
       "      <td>34.311056</td>\n",
       "      <td>22.235277</td>\n",
       "      <td>0.0</td>\n",
       "      <td>18.750000</td>\n",
       "      <td>31.250000</td>\n",
       "      <td>45.714286</td>\n",
       "      <td>100.000000</td>\n",
       "    </tr>\n",
       "    <tr>\n",
       "      <th>3</th>\n",
       "      <td>2785.0</td>\n",
       "      <td>12.321257</td>\n",
       "      <td>12.776410</td>\n",
       "      <td>0.0</td>\n",
       "      <td>1.960784</td>\n",
       "      <td>7.692308</td>\n",
       "      <td>19.354839</td>\n",
       "      <td>68.750000</td>\n",
       "    </tr>\n",
       "  </tbody>\n",
       "</table>\n",
       "</div>"
      ],
      "text/plain": [
       "        count       mean        std  min        25%        50%        75%  \\\n",
       "race                                                                        \n",
       "1     46350.0   9.929576  13.541160  0.0   0.000000   4.347826  16.000000   \n",
       "2      7926.0  34.311056  22.235277  0.0  18.750000  31.250000  45.714286   \n",
       "3      2785.0  12.321257  12.776410  0.0   1.960784   7.692308  19.354839   \n",
       "\n",
       "             max  \n",
       "race              \n",
       "1      89.473684  \n",
       "2     100.000000  \n",
       "3      68.750000  "
      ]
     },
     "execution_count": 279,
     "metadata": {},
     "output_type": "execute_result"
    }
   ],
   "source": [
    "sub.groupby('race')['pct_black'].describe()"
   ]
  },
  {
   "cell_type": "code",
   "execution_count": 280,
   "metadata": {},
   "outputs": [],
   "source": [
    "# calculate number of observations in each cluster ('sampyear')\n",
    "N_count = sub.groupby('sampyear')['year'].count().to_frame('N').reset_index(drop=False)\n",
    "sub = pd.merge(sub, N_count[['sampyear', 'N']], on='sampyear', how='left')\n",
    "\n",
    "# give each observation in a cluster a number from 1 through N\n",
    "sub['n'] = sub.groupby('sampyear').cumcount()+1"
   ]
  },
  {
   "cell_type": "markdown",
   "metadata": {},
   "source": [
    "### Naive OLS"
   ]
  },
  {
   "cell_type": "code",
   "execution_count": 281,
   "metadata": {},
   "outputs": [],
   "source": [
    "# slide 15\n",
    "sub = sub[sub.race!=3].copy()\n",
    "sub['white'] = np.where(pd.isnull(sub.race), np.nan, \n",
    "                       np.where(sub.race==1, 1, 0))\n",
    "\n",
    "# drop NA's\n",
    "sub = sub.dropna()"
   ]
  },
  {
   "cell_type": "code",
   "execution_count": 291,
   "metadata": {},
   "outputs": [
    {
     "data": {
      "text/html": [
       "<table class=\"simpletable\">\n",
       "<caption>PooledOLS Estimation Summary</caption>\n",
       "<tr>\n",
       "  <th>Dep. Variable:</th>        <td>closeblk</td>     <th>  R-squared:         </th>     <td>0.1636</td>  \n",
       "</tr>\n",
       "<tr>\n",
       "  <th>Estimator:</th>            <td>PooledOLS</td>    <th>  R-squared (Between):</th>    <td>0.5560</td>  \n",
       "</tr>\n",
       "<tr>\n",
       "  <th>No. Observations:</th>       <td>11260</td>      <th>  R-squared (Within):</th>     <td>0.1214</td>  \n",
       "</tr>\n",
       "<tr>\n",
       "  <th>Date:</th>             <td>Thu, Aug 23 2018</td> <th>  R-squared (Overall):</th>    <td>0.1636</td>  \n",
       "</tr>\n",
       "<tr>\n",
       "  <th>Time:</th>                 <td>14:55:42</td>     <th>  Log-likelihood     </th>   <td>-2.321e+04</td>\n",
       "</tr>\n",
       "<tr>\n",
       "  <th>Cov. Estimator:</th>       <td>Clustered</td>    <th>                     </th>        <td></td>     \n",
       "</tr>\n",
       "<tr>\n",
       "  <th></th>                          <td></td>         <th>  F-statistic:       </th>     <td>550.39</td>  \n",
       "</tr>\n",
       "<tr>\n",
       "  <th>Entities:</th>                <td>255</td>       <th>  P-value            </th>     <td>0.0000</td>  \n",
       "</tr>\n",
       "<tr>\n",
       "  <th>Avg Obs:</th>               <td>44.157</td>      <th>  Distribution:      </th>   <td>F(4,11255)</td>\n",
       "</tr>\n",
       "<tr>\n",
       "  <th>Min Obs:</th>               <td>4.0000</td>      <th>                     </th>        <td></td>     \n",
       "</tr>\n",
       "<tr>\n",
       "  <th>Max Obs:</th>               <td>320.00</td>      <th>  F-statistic (robust):</th>   <td>303.39</td>  \n",
       "</tr>\n",
       "<tr>\n",
       "  <th></th>                          <td></td>         <th>  P-value            </th>     <td>0.0000</td>  \n",
       "</tr>\n",
       "<tr>\n",
       "  <th>Time periods:</th>             <td>9</td>        <th>  Distribution:      </th>   <td>F(4,11255)</td>\n",
       "</tr>\n",
       "<tr>\n",
       "  <th>Avg Obs:</th>               <td>1251.1</td>      <th>                     </th>        <td></td>     \n",
       "</tr>\n",
       "<tr>\n",
       "  <th>Min Obs:</th>               <td>826.00</td>      <th>                     </th>        <td></td>     \n",
       "</tr>\n",
       "<tr>\n",
       "  <th>Max Obs:</th>               <td>1731.0</td>      <th>                     </th>        <td></td>     \n",
       "</tr>\n",
       "<tr>\n",
       "  <th></th>                          <td></td>         <th>                     </th>        <td></td>     \n",
       "</tr>\n",
       "</table>\n",
       "<table class=\"simpletable\">\n",
       "<caption>Parameter Estimates</caption>\n",
       "<tr>\n",
       "      <td></td>      <th>Parameter</th> <th>Std. Err.</th> <th>T-stat</th>  <th>P-value</th> <th>Lower CI</th> <th>Upper CI</th>\n",
       "</tr>\n",
       "<tr>\n",
       "  <th>Intercept</th>  <td>-66.954</td>   <td>8.7731</td>   <td>-7.6317</td> <td>0.0000</td>   <td>-84.150</td>  <td>-49.757</td>\n",
       "</tr>\n",
       "<tr>\n",
       "  <th>white</th>      <td>-2.0131</td>   <td>0.0704</td>   <td>-28.579</td> <td>0.0000</td>   <td>-2.1512</td>  <td>-1.8750</td>\n",
       "</tr>\n",
       "<tr>\n",
       "  <th>pct_black</th>  <td>0.0077</td>    <td>0.0017</td>   <td>4.5137</td>  <td>0.0000</td>   <td>0.0043</td>   <td>0.0110</td> \n",
       "</tr>\n",
       "<tr>\n",
       "  <th>age</th>        <td>-0.0099</td>   <td>0.0011</td>   <td>-9.2135</td> <td>0.0000</td>   <td>-0.0120</td>  <td>-0.0078</td>\n",
       "</tr>\n",
       "<tr>\n",
       "  <th>year</th>       <td>0.0373</td>    <td>0.0044</td>   <td>8.5124</td>  <td>0.0000</td>   <td>0.0287</td>   <td>0.0459</td> \n",
       "</tr>\n",
       "</table>"
      ],
      "text/plain": [
       "<class 'linearmodels.compat.statsmodels.Summary'>\n",
       "\"\"\"\n",
       "                          PooledOLS Estimation Summary                          \n",
       "================================================================================\n",
       "Dep. Variable:               closeblk   R-squared:                        0.1636\n",
       "Estimator:                  PooledOLS   R-squared (Between):              0.5560\n",
       "No. Observations:               11260   R-squared (Within):               0.1214\n",
       "Date:                Thu, Aug 23 2018   R-squared (Overall):              0.1636\n",
       "Time:                        14:55:42   Log-likelihood                -2.321e+04\n",
       "Cov. Estimator:             Clustered                                           \n",
       "                                        F-statistic:                      550.39\n",
       "Entities:                         255   P-value                           0.0000\n",
       "Avg Obs:                       44.157   Distribution:                 F(4,11255)\n",
       "Min Obs:                       4.0000                                           \n",
       "Max Obs:                       320.00   F-statistic (robust):             303.39\n",
       "                                        P-value                           0.0000\n",
       "Time periods:                       9   Distribution:                 F(4,11255)\n",
       "Avg Obs:                       1251.1                                           \n",
       "Min Obs:                       826.00                                           \n",
       "Max Obs:                       1731.0                                           \n",
       "                                                                                \n",
       "                             Parameter Estimates                              \n",
       "==============================================================================\n",
       "            Parameter  Std. Err.     T-stat    P-value    Lower CI    Upper CI\n",
       "------------------------------------------------------------------------------\n",
       "Intercept     -66.954     8.7731    -7.6317     0.0000     -84.150     -49.757\n",
       "white         -2.0131     0.0704    -28.579     0.0000     -2.1512     -1.8750\n",
       "pct_black      0.0077     0.0017     4.5137     0.0000      0.0043      0.0110\n",
       "age           -0.0099     0.0011    -9.2135     0.0000     -0.0120     -0.0078\n",
       "year           0.0373     0.0044     8.5124     0.0000      0.0287      0.0459\n",
       "==============================================================================\n",
       "\"\"\""
      ]
     },
     "execution_count": 291,
     "metadata": {},
     "output_type": "execute_result"
    }
   ],
   "source": [
    "from linearmodels import PooledOLS\n",
    "\n",
    "# PooledOLS requires a multi-index dataframe where the level 0 index contains the entities and the level 1 contains the time\n",
    "sub_panel = sub.set_index(['sampcode', 'year'], drop=False)\n",
    "\n",
    "lm_closeblk = PooledOLS.from_formula('closeblk ~ 1 + white + pct_black + age + year', data=sub_panel).fit(cov_type='clustered', cluster_entity=True)\n",
    "lm_closeblk.summary"
   ]
  },
  {
   "cell_type": "code",
   "execution_count": 283,
   "metadata": {},
   "outputs": [
    {
     "data": {
      "text/plain": [
       "white       -0.349219\n",
       "pct_black    0.056510\n",
       "age         -0.082684\n",
       "year         0.091318\n",
       "dtype: float64"
      ]
     },
     "execution_count": 283,
     "metadata": {},
     "output_type": "execute_result"
    }
   ],
   "source": [
    "# To obtain the standardized coefficients, we need to feed in a dataframe containing the variables we used to fit the model, starting with the dependent variable\n",
    "data = sub[['closeblk', 'white', 'pct_black', 'age', 'year']].copy()\n",
    "\n",
    "qmss.standardized_coef(lm_closeblk, data)"
   ]
  },
  {
   "cell_type": "markdown",
   "metadata": {},
   "source": [
    "## Random intercept model"
   ]
  },
  {
   "cell_type": "markdown",
   "metadata": {},
   "source": [
    "### Start with the \"empty\" random intercept model"
   ]
  },
  {
   "cell_type": "code",
   "execution_count": 286,
   "metadata": {},
   "outputs": [
    {
     "data": {
      "text/html": [
       "<table class=\"simpletable\">\n",
       "<tr>\n",
       "       <td>Model:</td>       <td>MixedLM</td> <td>Dependent Variable:</td>  <td>closeblk</td>  \n",
       "</tr>\n",
       "<tr>\n",
       "  <td>No. Observations:</td>  <td>11260</td>        <td>Method:</td>           <td>ML</td>     \n",
       "</tr>\n",
       "<tr>\n",
       "     <td>No. Groups:</td>      <td>792</td>         <td>Scale:</td>          <td>4.0365</td>   \n",
       "</tr>\n",
       "<tr>\n",
       "  <td>Min. group size:</td>     <td>1</td>        <td>Likelihood:</td>     <td>-24102.0938</td>\n",
       "</tr>\n",
       "<tr>\n",
       "  <td>Max. group size:</td>    <td>107</td>       <td>Converged:</td>          <td>Yes</td>    \n",
       "</tr>\n",
       "<tr>\n",
       "  <td>Mean group size:</td>   <td>14.2</td>            <td></td>                <td></td>      \n",
       "</tr>\n",
       "</table>\n",
       "<table class=\"simpletable\">\n",
       "<tr>\n",
       "      <td></td>      <th>Coef.</th> <th>Std.Err.</th>    <th>z</th>    <th>P>|z|</th> <th>[0.025</th> <th>0.975]</th>\n",
       "</tr>\n",
       "<tr>\n",
       "  <th>Intercept</th> <td>5.671</td>   <td>0.028</td>  <td>200.015</td> <td>0.000</td>  <td>5.616</td>  <td>5.727</td>\n",
       "</tr>\n",
       "<tr>\n",
       "  <th>Group Var</th> <td>0.302</td>   <td>0.016</td>     <td></td>       <td></td>       <td></td>       <td></td>   \n",
       "</tr>\n",
       "</table>"
      ],
      "text/plain": [
       "<class 'statsmodels.iolib.summary2.Summary'>\n",
       "\"\"\"\n",
       "          Mixed Linear Model Regression Results\n",
       "=========================================================\n",
       "Model:            MixedLM Dependent Variable: closeblk   \n",
       "No. Observations: 11260   Method:             ML         \n",
       "No. Groups:       792     Scale:              4.0365     \n",
       "Min. group size:  1       Likelihood:         -24102.0938\n",
       "Max. group size:  107     Converged:          Yes        \n",
       "Mean group size:  14.2                                   \n",
       "----------------------------------------------------------\n",
       "           Coef.  Std.Err.     z     P>|z|  [0.025  0.975]\n",
       "----------------------------------------------------------\n",
       "Intercept  5.671     0.028  200.015  0.000   5.616   5.727\n",
       "Group Var  0.302     0.016                                \n",
       "=========================================================\n",
       "\n",
       "\"\"\""
      ]
     },
     "execution_count": 286,
     "metadata": {},
     "output_type": "execute_result"
    }
   ],
   "source": [
    "# slide 20\n",
    "\n",
    "nullmodel = smf.mixedlm('closeblk ~ 1', data=sub, groups=sub['sampyear']).fit(reml=False)\n",
    "nullmodel.summary()"
   ]
  },
  {
   "cell_type": "markdown",
   "metadata": {},
   "source": [
    "The coefficient displayed for \"Group Var\" is the variance of the random effects intercept. We can easily obtain the standard deviation by taking the square root of the variance. "
   ]
  },
  {
   "cell_type": "code",
   "execution_count": 292,
   "metadata": {},
   "outputs": [
    {
     "data": {
      "text/plain": [
       "0.5494026054646307"
      ]
     },
     "execution_count": 292,
     "metadata": {},
     "output_type": "execute_result"
    }
   ],
   "source": [
    "np.sqrt(nullmodel.cov_re.iloc[0, 0])"
   ]
  },
  {
   "cell_type": "code",
   "execution_count": 289,
   "metadata": {},
   "outputs": [
    {
     "data": {
      "text/plain": [
       "48210.18767310554"
      ]
     },
     "execution_count": 289,
     "metadata": {},
     "output_type": "execute_result"
    }
   ],
   "source": [
    "nullmodel.aic"
   ]
  },
  {
   "cell_type": "code",
   "execution_count": 287,
   "metadata": {},
   "outputs": [
    {
     "data": {
      "text/plain": [
       "0.07180038050231945"
      ]
     },
     "execution_count": 287,
     "metadata": {},
     "output_type": "execute_result"
    }
   ],
   "source": [
    "# slide 21\n",
    "\n",
    "# random effects variance\n",
    "re_var = nullmodel.cov_re.iloc[0, 0]\n",
    "\n",
    "# residual variance\n",
    "resid_var = nullmodel.resid.var()\n",
    "\n",
    "rho = re_var/(re_var + resid_var)\n",
    "rho"
   ]
  },
  {
   "cell_type": "markdown",
   "metadata": {},
   "source": [
    "### Random intercept model with covariates"
   ]
  },
  {
   "cell_type": "markdown",
   "metadata": {},
   "source": [
    "We will turn off the warning outputs here so we don't see all the convergence warnings and etc. Turning off warnings is not recommended but we will do it here since we're just comparing our model results to those produced by R.  "
   ]
  },
  {
   "cell_type": "code",
   "execution_count": 303,
   "metadata": {},
   "outputs": [],
   "source": [
    "import warnings\n",
    "warnings.filterwarnings(\"ignore\")"
   ]
  },
  {
   "cell_type": "code",
   "execution_count": 305,
   "metadata": {},
   "outputs": [
    {
     "data": {
      "text/html": [
       "<table class=\"simpletable\">\n",
       "<tr>\n",
       "       <td>Model:</td>       <td>MixedLM</td> <td>Dependent Variable:</td>  <td>closeblk</td>  \n",
       "</tr>\n",
       "<tr>\n",
       "  <td>No. Observations:</td>  <td>11260</td>        <td>Method:</td>           <td>ML</td>     \n",
       "</tr>\n",
       "<tr>\n",
       "     <td>No. Groups:</td>      <td>792</td>         <td>Scale:</td>          <td>3.5045</td>   \n",
       "</tr>\n",
       "<tr>\n",
       "  <td>Min. group size:</td>     <td>1</td>        <td>Likelihood:</td>     <td>-23205.0644</td>\n",
       "</tr>\n",
       "<tr>\n",
       "  <td>Max. group size:</td>    <td>107</td>       <td>Converged:</td>          <td>No</td>     \n",
       "</tr>\n",
       "<tr>\n",
       "  <td>Mean group size:</td>   <td>14.2</td>            <td></td>                <td></td>      \n",
       "</tr>\n",
       "</table>\n",
       "<table class=\"simpletable\">\n",
       "<tr>\n",
       "      <td></td>       <th>Coef.</th>  <th>Std.Err.</th>    <th>z</th>    <th>P>|z|</th> <th>[0.025</th>  <th>0.975]</th> \n",
       "</tr>\n",
       "<tr>\n",
       "  <th>Intercept</th> <td>-65.570</td>   <td>8.966</td>  <td>-7.313</td>  <td>0.000</td> <td>-83.143</td> <td>-47.996</td>\n",
       "</tr>\n",
       "<tr>\n",
       "  <th>white</th>     <td>-2.015</td>    <td>0.055</td>  <td>-36.603</td> <td>0.000</td> <td>-2.123</td>  <td>-1.907</td> \n",
       "</tr>\n",
       "<tr>\n",
       "  <th>pct_black</th>  <td>0.008</td>    <td>0.002</td>   <td>5.171</td>  <td>0.000</td>  <td>0.005</td>   <td>0.011</td> \n",
       "</tr>\n",
       "<tr>\n",
       "  <th>age</th>       <td>-0.010</td>    <td>0.001</td>  <td>-9.174</td>  <td>0.000</td> <td>-0.012</td>  <td>-0.008</td> \n",
       "</tr>\n",
       "<tr>\n",
       "  <th>year</th>       <td>0.037</td>    <td>0.004</td>   <td>8.173</td>  <td>0.000</td>  <td>0.028</td>   <td>0.045</td> \n",
       "</tr>\n",
       "<tr>\n",
       "  <th>Group Var</th>  <td>0.139</td>    <td>0.014</td>     <td></td>       <td></td>       <td></td>        <td></td>    \n",
       "</tr>\n",
       "</table>"
      ],
      "text/plain": [
       "<class 'statsmodels.iolib.summary2.Summary'>\n",
       "\"\"\"\n",
       "          Mixed Linear Model Regression Results\n",
       "=========================================================\n",
       "Model:            MixedLM Dependent Variable: closeblk   \n",
       "No. Observations: 11260   Method:             ML         \n",
       "No. Groups:       792     Scale:              3.5045     \n",
       "Min. group size:  1       Likelihood:         -23205.0644\n",
       "Max. group size:  107     Converged:          No         \n",
       "Mean group size:  14.2                                   \n",
       "---------------------------------------------------------\n",
       "            Coef.  Std.Err.    z    P>|z|  [0.025  0.975]\n",
       "---------------------------------------------------------\n",
       "Intercept  -65.570    8.966  -7.313 0.000 -83.143 -47.996\n",
       "white       -2.015    0.055 -36.603 0.000  -2.123  -1.907\n",
       "pct_black    0.008    0.002   5.171 0.000   0.005   0.011\n",
       "age         -0.010    0.001  -9.174 0.000  -0.012  -0.008\n",
       "year         0.037    0.004   8.173 0.000   0.028   0.045\n",
       "Group Var    0.139    0.014                              \n",
       "=========================================================\n",
       "\n",
       "\"\"\""
      ]
     },
     "execution_count": 305,
     "metadata": {},
     "output_type": "execute_result"
    }
   ],
   "source": [
    "# slide 23\n",
    "\n",
    "rim_closeblk1 = smf.mixedlm('closeblk ~ white + pct_black + age + year', data=sub, groups=sub['sampyear']).fit(reml=False)\n",
    "rim_closeblk1.summary()"
   ]
  },
  {
   "cell_type": "code",
   "execution_count": 290,
   "metadata": {},
   "outputs": [
    {
     "data": {
      "text/plain": [
       "0.03879026600451736"
      ]
     },
     "execution_count": 290,
     "metadata": {},
     "output_type": "execute_result"
    }
   ],
   "source": [
    "re_var = rim_closeblk1.cov_re.iloc[0, 0]\n",
    "resid_var = rim_closeblk1.resid.var()\n",
    "rho = re_var/(re_var + resid_var)\n",
    "rho"
   ]
  },
  {
   "cell_type": "code",
   "execution_count": 296,
   "metadata": {},
   "outputs": [
    {
     "name": "stdout",
     "output_type": "stream",
     "text": [
      "sigma_u: 0.37244\n",
      "sigma_e: 1.85395\n"
     ]
    }
   ],
   "source": [
    "# slide 26\n",
    "print(f'sigma_u: {round(np.sqrt(rim_closeblk1.cov_re.iloc[0, 0]), 5)}')\n",
    "\n",
    "print(f'sigma_e: {round(np.sqrt(rim_closeblk1.resid.var()), 5)}')"
   ]
  },
  {
   "cell_type": "markdown",
   "metadata": {},
   "source": [
    "### Random intercept model with covariates and setting 1972 as the baseline for the \"year\" variable"
   ]
  },
  {
   "cell_type": "code",
   "execution_count": 447,
   "metadata": {},
   "outputs": [
    {
     "data": {
      "text/html": [
       "<table class=\"simpletable\">\n",
       "<tr>\n",
       "       <td>Model:</td>       <td>MixedLM</td> <td>Dependent Variable:</td>  <td>closeblk</td>  \n",
       "</tr>\n",
       "<tr>\n",
       "  <td>No. Observations:</td>  <td>11260</td>        <td>Method:</td>           <td>ML</td>     \n",
       "</tr>\n",
       "<tr>\n",
       "     <td>No. Groups:</td>      <td>792</td>         <td>Scale:</td>          <td>3.5045</td>   \n",
       "</tr>\n",
       "<tr>\n",
       "  <td>Min. group size:</td>     <td>1</td>        <td>Likelihood:</td>     <td>-23205.0644</td>\n",
       "</tr>\n",
       "<tr>\n",
       "  <td>Max. group size:</td>    <td>107</td>       <td>Converged:</td>          <td>No</td>     \n",
       "</tr>\n",
       "<tr>\n",
       "  <td>Mean group size:</td>   <td>14.2</td>            <td></td>                <td></td>      \n",
       "</tr>\n",
       "</table>\n",
       "<table class=\"simpletable\">\n",
       "<tr>\n",
       "      <td></td>       <th>Coef.</th> <th>Std.Err.</th>    <th>z</th>    <th>P>|z|</th> <th>[0.025</th> <th>0.975]</th>\n",
       "</tr>\n",
       "<tr>\n",
       "  <th>Intercept</th>  <td>6.571</td>   <td>0.159</td>  <td>41.241</td>  <td>0.000</td>  <td>6.259</td>  <td>6.883</td>\n",
       "</tr>\n",
       "<tr>\n",
       "  <th>white</th>     <td>-2.015</td>   <td>0.055</td>  <td>-36.603</td> <td>0.000</td> <td>-2.123</td> <td>-1.907</td>\n",
       "</tr>\n",
       "<tr>\n",
       "  <th>pct_black</th>  <td>0.008</td>   <td>0.002</td>   <td>5.171</td>  <td>0.000</td>  <td>0.005</td>  <td>0.011</td>\n",
       "</tr>\n",
       "<tr>\n",
       "  <th>age</th>       <td>-0.010</td>   <td>0.001</td>  <td>-9.174</td>  <td>0.000</td> <td>-0.012</td> <td>-0.008</td>\n",
       "</tr>\n",
       "<tr>\n",
       "  <th>n_year</th>     <td>0.037</td>   <td>0.004</td>   <td>8.173</td>  <td>0.000</td>  <td>0.028</td>  <td>0.045</td>\n",
       "</tr>\n",
       "<tr>\n",
       "  <th>Group Var</th>  <td>0.139</td>   <td>0.014</td>     <td></td>       <td></td>       <td></td>       <td></td>   \n",
       "</tr>\n",
       "</table>"
      ],
      "text/plain": [
       "<class 'statsmodels.iolib.summary2.Summary'>\n",
       "\"\"\"\n",
       "          Mixed Linear Model Regression Results\n",
       "=========================================================\n",
       "Model:            MixedLM Dependent Variable: closeblk   \n",
       "No. Observations: 11260   Method:             ML         \n",
       "No. Groups:       792     Scale:              3.5045     \n",
       "Min. group size:  1       Likelihood:         -23205.0644\n",
       "Max. group size:  107     Converged:          No         \n",
       "Mean group size:  14.2                                   \n",
       "---------------------------------------------------------\n",
       "              Coef.  Std.Err.    z    P>|z| [0.025 0.975]\n",
       "---------------------------------------------------------\n",
       "Intercept      6.571    0.159  41.241 0.000  6.259  6.883\n",
       "white         -2.015    0.055 -36.603 0.000 -2.123 -1.907\n",
       "pct_black      0.008    0.002   5.171 0.000  0.005  0.011\n",
       "age           -0.010    0.001  -9.174 0.000 -0.012 -0.008\n",
       "n_year         0.037    0.004   8.173 0.000  0.028  0.045\n",
       "Group Var      0.139    0.014                            \n",
       "=========================================================\n",
       "\n",
       "\"\"\""
      ]
     },
     "execution_count": 447,
     "metadata": {},
     "output_type": "execute_result"
    }
   ],
   "source": [
    "# slide 28\n",
    "\n",
    "sub['n_year'] = sub.year - 1972\n",
    "\n",
    "rim_closeblk1 = smf.mixedlm('closeblk ~ white + pct_black + age + n_year', data=sub, groups=sub['sampyear']).fit(reml=False)\n",
    "rim_closeblk1.summary()"
   ]
  },
  {
   "cell_type": "markdown",
   "metadata": {},
   "source": [
    "## Random intercept and random slope model"
   ]
  },
  {
   "cell_type": "code",
   "execution_count": 407,
   "metadata": {},
   "outputs": [],
   "source": [
    "# slide 32-34\n",
    "\n",
    "samps = list(sub.sampyear.unique())\n",
    "\n",
    "samp_results = pd.DataFrame(columns=['sampyear', 'intercept', 'b_white', 'mean_fitted'])\n",
    "for i, s in enumerate(samps):\n",
    "    lm = smf.ols('closeblk ~ white + age', data=sub[sub.sampyear==s]).fit()\n",
    "    \n",
    "    # need to add the following conditional because statsmodels OLS does not automatically drop \n",
    "    # non-intercept variables that are constant throughout, as it does in R. \n",
    "    # Some groups have no variation in the 'white' variable. \n",
    "    if len(sub.loc[sub.sampyear==s, 'white'].unique())>1:\n",
    "        samp_results.loc[i] = [s, lm.params[0], lm.params[1], lm.fittedvalues.mean()]\n",
    "    else: \n",
    "        samp_results.loc[i] = [s, lm.params[0]+lm.params[1], np.nan, lm.fittedvalues.mean()]"
   ]
  },
  {
   "cell_type": "code",
   "execution_count": 411,
   "metadata": {},
   "outputs": [
    {
     "data": {
      "text/plain": [
       "<matplotlib.collections.PathCollection at 0x1c1a5a32e8>"
      ]
     },
     "execution_count": 411,
     "metadata": {},
     "output_type": "execute_result"
    },
    {
     "data": {
      "image/png": "[encoded data removed]",
      "text/plain": [
       "<Figure size 432x288 with 1 Axes>"
      ]
     },
     "metadata": {},
     "output_type": "display_data"
    }
   ],
   "source": [
    "plt.scatter(x='b_white', y='mean_fitted', data=samp_results)\n",
    "plt.scatter(x=samp_results.b_white.mean(), y=samp_results.mean_fitted.mean(), color='r')"
   ]
  },
  {
   "cell_type": "markdown",
   "metadata": {},
   "source": [
    "### The mixed effects model"
   ]
  },
  {
   "cell_type": "code",
   "execution_count": 445,
   "metadata": {},
   "outputs": [
    {
     "data": {
      "text/html": [
       "<table class=\"simpletable\">\n",
       "<tr>\n",
       "       <td>Model:</td>       <td>MixedLM</td> <td>Dependent Variable:</td>  <td>closeblk</td>  \n",
       "</tr>\n",
       "<tr>\n",
       "  <td>No. Observations:</td>  <td>11260</td>        <td>Method:</td>           <td>ML</td>     \n",
       "</tr>\n",
       "<tr>\n",
       "     <td>No. Groups:</td>      <td>792</td>         <td>Scale:</td>          <td>3.5103</td>   \n",
       "</tr>\n",
       "<tr>\n",
       "  <td>Min. group size:</td>     <td>1</td>        <td>Likelihood:</td>     <td>-23187.1553</td>\n",
       "</tr>\n",
       "<tr>\n",
       "  <td>Max. group size:</td>    <td>107</td>       <td>Converged:</td>          <td>Yes</td>    \n",
       "</tr>\n",
       "<tr>\n",
       "  <td>Mean group size:</td>   <td>14.2</td>            <td></td>                <td></td>      \n",
       "</tr>\n",
       "</table>\n",
       "<table class=\"simpletable\">\n",
       "<tr>\n",
       "          <td></td>           <th>Coef.</th> <th>Std.Err.</th>    <th>z</th>    <th>P>|z|</th> <th>[0.025</th> <th>0.975]</th>\n",
       "</tr>\n",
       "<tr>\n",
       "  <th>Intercept</th>          <td>6.517</td>   <td>0.151</td>  <td>43.131</td>  <td>0.000</td>  <td>6.221</td>  <td>6.814</td>\n",
       "</tr>\n",
       "<tr>\n",
       "  <th>white</th>             <td>-1.993</td>   <td>0.065</td>  <td>-30.786</td> <td>0.000</td> <td>-2.120</td> <td>-1.866</td>\n",
       "</tr>\n",
       "<tr>\n",
       "  <th>pct_black</th>          <td>0.009</td>   <td>0.001</td>   <td>5.935</td>  <td>0.000</td>  <td>0.006</td>  <td>0.012</td>\n",
       "</tr>\n",
       "<tr>\n",
       "  <th>age</th>               <td>-0.010</td>   <td>0.001</td>  <td>-9.364</td>  <td>0.000</td> <td>-0.012</td> <td>-0.008</td>\n",
       "</tr>\n",
       "<tr>\n",
       "  <th>n_year</th>             <td>0.038</td>   <td>0.004</td>   <td>9.338</td>  <td>0.000</td>  <td>0.030</td>  <td>0.046</td>\n",
       "</tr>\n",
       "<tr>\n",
       "  <th>Group Var</th>          <td>0.337</td>   <td>0.046</td>     <td></td>       <td></td>       <td></td>       <td></td>   \n",
       "</tr>\n",
       "<tr>\n",
       "  <th>Group x white Cov</th> <td>-0.316</td>   <td>0.049</td>     <td></td>       <td></td>       <td></td>       <td></td>   \n",
       "</tr>\n",
       "<tr>\n",
       "  <th>white Var</th>          <td>0.359</td>   <td>0.060</td>     <td></td>       <td></td>       <td></td>       <td></td>   \n",
       "</tr>\n",
       "</table>"
      ],
      "text/plain": [
       "<class 'statsmodels.iolib.summary2.Summary'>\n",
       "\"\"\"\n",
       "            Mixed Linear Model Regression Results\n",
       "=============================================================\n",
       "Model:              MixedLM  Dependent Variable:  closeblk   \n",
       "No. Observations:   11260    Method:              ML         \n",
       "No. Groups:         792      Scale:               3.5103     \n",
       "Min. group size:    1        Likelihood:          -23187.1553\n",
       "Max. group size:    107      Converged:           Yes        \n",
       "Mean group size:    14.2                                     \n",
       "-------------------------------------------------------------\n",
       "                  Coef.  Std.Err.    z    P>|z| [0.025 0.975]\n",
       "-------------------------------------------------------------\n",
       "Intercept          6.517    0.151  43.131 0.000  6.221  6.814\n",
       "white             -1.993    0.065 -30.786 0.000 -2.120 -1.866\n",
       "pct_black          0.009    0.001   5.935 0.000  0.006  0.012\n",
       "age               -0.010    0.001  -9.364 0.000 -0.012 -0.008\n",
       "n_year             0.038    0.004   9.338 0.000  0.030  0.046\n",
       "Group Var          0.337    0.046                            \n",
       "Group x white Cov -0.316    0.049                            \n",
       "white Var          0.359    0.060                            \n",
       "=============================================================\n",
       "\n",
       "\"\"\""
      ]
     },
     "execution_count": 445,
     "metadata": {},
     "output_type": "execute_result"
    }
   ],
   "source": [
    "# slide 35\n",
    "rim_closeblk2 = smf.mixedlm('closeblk ~ white + pct_black + age + n_year', data=sub, \n",
    "                            groups=sub['sampyear'], re_formula='~white').fit(reml=False)\n",
    "rim_closeblk2.summary()"
   ]
  },
  {
   "cell_type": "code",
   "execution_count": 414,
   "metadata": {},
   "outputs": [
    {
     "name": "stdout",
     "output_type": "stream",
     "text": [
      "sigma_u_intercept: 0.5804\n",
      "sigma_u_white: 0.59897\n",
      "sigma_e: 1.85365\n"
     ]
    }
   ],
   "source": [
    "print(f'sigma_u_intercept: {round(np.sqrt(rim_closeblk2.cov_re.iloc[0, 0]), 5)}')\n",
    "print(f'sigma_u_white: {round(np.sqrt(rim_closeblk2.cov_re.iloc[1, 1]), 5)}')\n",
    "print(f'sigma_e: {round(np.sqrt(rim_closeblk2.resid.var()), 5)}')"
   ]
  },
  {
   "cell_type": "code",
   "execution_count": 418,
   "metadata": {},
   "outputs": [
    {
     "data": {
      "text/plain": [
       "array([[ 1.        , -0.88044514],\n",
       "       [-0.88044514,  1.        ]])"
      ]
     },
     "execution_count": 418,
     "metadata": {},
     "output_type": "execute_result"
    }
   ],
   "source": [
    "# slide 39\n",
    "rim_closeblk2_re = rim_closeblk2.random_effects\n",
    "\n",
    "# make array of all random effect intercepts\n",
    "re_intercepts = np.asarray([i[0] for i in rim_closeblk2_re.values()])\n",
    "\n",
    "# make an array of all random effect slopes\n",
    "re_slopes = np.asarray([i[1] for i in rim_closeblk2_re.values()])\n",
    "\n",
    "# compute correlation\n",
    "np.corrcoef(re_intercepts, re_slopes)"
   ]
  },
  {
   "cell_type": "raw",
   "metadata": {},
   "source": [
    "# make a dictionary of random effect intercept for each group\n",
    "re_intercepts = {k:v[0] for k,v in rim_closeblk2_re.items()}\n",
    "\n",
    "# make a dictionary of random effect slope for each group\n",
    "re_slopes = {k:v[1] for k,v in rim_closeblk2_re.items()}"
   ]
  },
  {
   "cell_type": "raw",
   "metadata": {},
   "source": [
    "overall = sub['sampyear'].to_frame()\n",
    "overall['fitted'] = rim_closeblk2.fittedvalues\n",
    "\n",
    "overall['const_fe'] = rim_closeblk2.params[0]\n",
    "overall['const_re'] = overall['sampyear'].apply(lambda x: re_intercepts[x])\n",
    "overall['b_const'] = overall.const_fe + overall.const_re\n",
    "\n",
    "overall['white_fe'] = rim_closeblk2.params[1]\n",
    "overall['white_re'] = overall['sampyear'].apply(lambda x: re_slopes[x])\n",
    "overall['b_white'] = overall.white_fe + overall.white_re"
   ]
  },
  {
   "cell_type": "code",
   "execution_count": 427,
   "metadata": {},
   "outputs": [
    {
     "data": {
      "text/plain": [
       "<seaborn.axisgrid.FacetGrid at 0x1c1ab18710>"
      ]
     },
     "execution_count": 427,
     "metadata": {},
     "output_type": "execute_result"
    },
    {
     "data": {
      "image/png": "[encoded data removed]",
      "text/plain": [
       "<Figure size 360x360 with 1 Axes>"
      ]
     },
     "metadata": {},
     "output_type": "display_data"
    }
   ],
   "source": [
    "sns.lmplot(x='b_white', y='intercept', data=samp_results, ci=False)"
   ]
  },
  {
   "cell_type": "markdown",
   "metadata": {},
   "source": [
    "### Are random slopes necessary?"
   ]
  },
  {
   "cell_type": "markdown",
   "metadata": {},
   "source": [
    "Since the `mixedlm` module does not come with an anova method, we can calculate the chi-sq statistic and associated p-value by hand:"
   ]
  },
  {
   "cell_type": "code",
   "execution_count": 473,
   "metadata": {},
   "outputs": [],
   "source": [
    "# chisq = (-2)*loglikelihood(model1) + 2*loglikelihood(model2)\n",
    "chisq = -2*rim_closeblk1.llf + 2*rim_closeblk2.llf\n",
    "\n",
    "# degree of freedom in model1 - degree of freedom in model2\n",
    "deg_fr = (rim_closeblk1.df_resid - rim_closeblk1.df_modelwc) - (rim_closeblk2.df_resid - rim_closeblk2.df_modelwc)"
   ]
  },
  {
   "cell_type": "code",
   "execution_count": 474,
   "metadata": {},
   "outputs": [
    {
     "data": {
      "text/plain": [
       "1.667863624987831e-08"
      ]
     },
     "execution_count": 474,
     "metadata": {},
     "output_type": "execute_result"
    }
   ],
   "source": [
    "from scipy import stats\n",
    "\n",
    "# p-value\n",
    "1 - stats.chi2.cdf(chisq, deg_fr)"
   ]
  },
  {
   "cell_type": "markdown",
   "metadata": {},
   "source": [
    "## Adding cross-level interaction"
   ]
  },
  {
   "cell_type": "code",
   "execution_count": 452,
   "metadata": {},
   "outputs": [
    {
     "data": {
      "text/html": [
       "<table class=\"simpletable\">\n",
       "<tr>\n",
       "       <td>Model:</td>       <td>MixedLM</td> <td>Dependent Variable:</td>  <td>closeblk</td>  \n",
       "</tr>\n",
       "<tr>\n",
       "  <td>No. Observations:</td>  <td>11260</td>        <td>Method:</td>           <td>ML</td>     \n",
       "</tr>\n",
       "<tr>\n",
       "     <td>No. Groups:</td>      <td>792</td>         <td>Scale:</td>          <td>3.5123</td>   \n",
       "</tr>\n",
       "<tr>\n",
       "  <td>Min. group size:</td>     <td>1</td>        <td>Likelihood:</td>     <td>-23183.8644</td>\n",
       "</tr>\n",
       "<tr>\n",
       "  <td>Max. group size:</td>    <td>107</td>       <td>Converged:</td>          <td>Yes</td>    \n",
       "</tr>\n",
       "<tr>\n",
       "  <td>Mean group size:</td>   <td>14.2</td>            <td></td>                <td></td>      \n",
       "</tr>\n",
       "</table>\n",
       "<table class=\"simpletable\">\n",
       "<tr>\n",
       "          <td></td>           <th>Coef.</th> <th>Std.Err.</th>    <th>z</th>    <th>P>|z|</th> <th>[0.025</th> <th>0.975]</th>\n",
       "</tr>\n",
       "<tr>\n",
       "  <th>Intercept</th>          <td>6.753</td>   <td>0.175</td>  <td>38.648</td>  <td>0.000</td>  <td>6.410</td>  <td>7.095</td>\n",
       "</tr>\n",
       "<tr>\n",
       "  <th>white</th>             <td>-2.229</td>   <td>0.111</td>  <td>-20.035</td> <td>0.000</td> <td>-2.447</td> <td>-2.011</td>\n",
       "</tr>\n",
       "<tr>\n",
       "  <th>pct_black</th>          <td>0.001</td>   <td>0.003</td>   <td>0.437</td>  <td>0.662</td> <td>-0.005</td>  <td>0.008</td>\n",
       "</tr>\n",
       "<tr>\n",
       "  <th>white:pct_black</th>    <td>0.009</td>   <td>0.004</td>   <td>2.589</td>  <td>0.010</td>  <td>0.002</td>  <td>0.016</td>\n",
       "</tr>\n",
       "<tr>\n",
       "  <th>age</th>               <td>-0.010</td>   <td>0.001</td>  <td>-9.290</td>  <td>0.000</td> <td>-0.012</td> <td>-0.008</td>\n",
       "</tr>\n",
       "<tr>\n",
       "  <th>n_year</th>             <td>0.037</td>   <td>0.004</td>   <td>9.175</td>  <td>0.000</td>  <td>0.029</td>  <td>0.045</td>\n",
       "</tr>\n",
       "<tr>\n",
       "  <th>Group Var</th>          <td>0.297</td>   <td>0.045</td>     <td></td>       <td></td>       <td></td>       <td></td>   \n",
       "</tr>\n",
       "<tr>\n",
       "  <th>Group x white Cov</th> <td>-0.286</td>   <td>0.048</td>     <td></td>       <td></td>       <td></td>       <td></td>   \n",
       "</tr>\n",
       "<tr>\n",
       "  <th>white Var</th>          <td>0.338</td>   <td>0.059</td>     <td></td>       <td></td>       <td></td>       <td></td>   \n",
       "</tr>\n",
       "</table>"
      ],
      "text/plain": [
       "<class 'statsmodels.iolib.summary2.Summary'>\n",
       "\"\"\"\n",
       "            Mixed Linear Model Regression Results\n",
       "=============================================================\n",
       "Model:              MixedLM  Dependent Variable:  closeblk   \n",
       "No. Observations:   11260    Method:              ML         \n",
       "No. Groups:         792      Scale:               3.5123     \n",
       "Min. group size:    1        Likelihood:          -23183.8644\n",
       "Max. group size:    107      Converged:           Yes        \n",
       "Mean group size:    14.2                                     \n",
       "-------------------------------------------------------------\n",
       "                  Coef.  Std.Err.    z    P>|z| [0.025 0.975]\n",
       "-------------------------------------------------------------\n",
       "Intercept          6.753    0.175  38.648 0.000  6.410  7.095\n",
       "white             -2.229    0.111 -20.035 0.000 -2.447 -2.011\n",
       "pct_black          0.001    0.003   0.437 0.662 -0.005  0.008\n",
       "white:pct_black    0.009    0.004   2.589 0.010  0.002  0.016\n",
       "age               -0.010    0.001  -9.290 0.000 -0.012 -0.008\n",
       "n_year             0.037    0.004   9.175 0.000  0.029  0.045\n",
       "Group Var          0.297    0.045                            \n",
       "Group x white Cov -0.286    0.048                            \n",
       "white Var          0.338    0.059                            \n",
       "=============================================================\n",
       "\n",
       "\"\"\""
      ]
     },
     "execution_count": 452,
     "metadata": {},
     "output_type": "execute_result"
    }
   ],
   "source": [
    "# slide 47\n",
    "rim_closeblk3 = smf.mixedlm('closeblk ~ white*pct_black + age + n_year', data=sub, \n",
    "                            groups=sub['sampyear'], re_formula='~white').fit(reml=False)\n",
    "rim_closeblk3.summary()"
   ]
  },
  {
   "cell_type": "code",
   "execution_count": 464,
   "metadata": {},
   "outputs": [
    {
     "data": {
      "text/plain": [
       "<seaborn.axisgrid.FacetGrid at 0x1c1ef55358>"
      ]
     },
     "execution_count": 464,
     "metadata": {},
     "output_type": "execute_result"
    },
    {
     "data": {
      "image/png": "[encoded data removed]",
      "text/plain": [
       "<Figure size 411.875x360 with 1 Axes>"
      ]
     },
     "metadata": {},
     "output_type": "display_data"
    }
   ],
   "source": [
    "# slide 49\n",
    "plotdata = sub[['sampyear', 'pct_black', 'white']].copy()\n",
    "plotdata['fitted'] = rim_closeblk3.fittedvalues\n",
    "\n",
    "sns.lmplot(x='pct_black', y='fitted', hue='white', data=plotdata, scatter=False)"
   ]
  },
  {
   "cell_type": "code",
   "execution_count": null,
   "metadata": {},
   "outputs": [],
   "source": []
  }
 ],
 "metadata": {
  "kernelspec": {
   "display_name": "py36",
   "language": "python",
   "name": "py36"
  },
  "language_info": {
   "codemirror_mode": {
    "name": "ipython",
    "version": 3
   },
   "file_extension": ".py",
   "mimetype": "text/x-python",
   "name": "python",
   "nbconvert_exporter": "python",
   "pygments_lexer": "ipython3",
   "version": "3.6.5"
  }
 },
 "nbformat": 4,
 "nbformat_minor": 2
}
