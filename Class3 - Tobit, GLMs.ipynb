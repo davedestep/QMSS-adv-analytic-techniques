{
 "cells": [
  {
   "cell_type": "markdown",
   "metadata": {},
   "source": [
    "# Advanced quantitative techniques - Class 3 - Tobit, GLMs"
   ]
  },
  {
   "cell_type": "code",
   "execution_count": 2,
   "metadata": {},
   "outputs": [],
   "source": [
    "import pandas as pd\n",
    "import numpy as np\n",
    "import seaborn as sns\n",
    "import matplotlib.pyplot as plt\n",
    "%matplotlib inline\n",
    "import statsmodels.api as sm\n",
    "import statsmodels.formula.api as smf"
   ]
  },
  {
   "cell_type": "markdown",
   "metadata": {},
   "source": [
    "## A poisson question"
   ]
  },
  {
   "cell_type": "code",
   "execution_count": 31,
   "metadata": {},
   "outputs": [],
   "source": [
    "gss_2006 = pd.read_csv(\"Data/GSS_2006.csv\")\n",
    "variables = ['numwomen', 'sex', 'age', 'year', 'marital', 'id']\n",
    "sub = gss_2006[variables].copy()"
   ]
  },
  {
   "cell_type": "code",
   "execution_count": 6,
   "metadata": {},
   "outputs": [
    {
     "data": {
      "text/plain": [
       "count    2306.000000\n",
       "mean        9.479185\n",
       "std        62.054323\n",
       "min         0.000000\n",
       "25%         0.000000\n",
       "50%         0.000000\n",
       "75%         4.000000\n",
       "max       997.000000\n",
       "Name: numwomen, dtype: float64"
      ]
     },
     "execution_count": 6,
     "metadata": {},
     "output_type": "execute_result"
    }
   ],
   "source": [
    "sub.numwomen.describe()"
   ]
  },
  {
   "cell_type": "code",
   "execution_count": 46,
   "metadata": {},
   "outputs": [
    {
     "data": {
      "text/plain": [
       "count    2298.000000\n",
       "mean        6.049173\n",
       "std        21.711985\n",
       "min         0.000000\n",
       "25%         0.000000\n",
       "50%         0.000000\n",
       "75%         4.000000\n",
       "max       500.000000\n",
       "Name: numwomen, dtype: float64"
      ]
     },
     "execution_count": 46,
     "metadata": {},
     "output_type": "execute_result"
    }
   ],
   "source": [
    "sub = sub[sub.numwomen < 990]\n",
    "sub.numwomen.describe()"
   ]
  },
  {
   "cell_type": "code",
   "execution_count": 8,
   "metadata": {},
   "outputs": [
    {
     "data": {
      "text/plain": [
       "<matplotlib.axes._subplots.AxesSubplot at 0x103190208>"
      ]
     },
     "execution_count": 8,
     "metadata": {},
     "output_type": "execute_result"
    },
    {
     "data": {
      "image/png": "[encoded data removed]",
      "text/plain": [
       "<Figure size 432x288 with 1 Axes>"
      ]
     },
     "metadata": {},
     "output_type": "display_data"
    }
   ],
   "source": [
    "sub.numwomen.hist()"
   ]
  },
  {
   "cell_type": "code",
   "execution_count": 77,
   "metadata": {},
   "outputs": [
    {
     "data": {
      "text/html": [
       "<table class=\"simpletable\">\n",
       "<caption>OLS Regression Results</caption>\n",
       "<tr>\n",
       "  <th>Dep. Variable:</th>        <td>numwomen</td>     <th>  R-squared:         </th> <td>   0.111</td> \n",
       "</tr>\n",
       "<tr>\n",
       "  <th>Model:</th>                   <td>OLS</td>       <th>  Adj. R-squared:    </th> <td>   0.109</td> \n",
       "</tr>\n",
       "<tr>\n",
       "  <th>Method:</th>             <td>Least Squares</td>  <th>  F-statistic:       </th> <td>   47.82</td> \n",
       "</tr>\n",
       "<tr>\n",
       "  <th>Date:</th>             <td>Fri, 17 Aug 2018</td> <th>  Prob (F-statistic):</th> <td>1.68e-55</td> \n",
       "</tr>\n",
       "<tr>\n",
       "  <th>Time:</th>                 <td>09:11:05</td>     <th>  Log-Likelihood:    </th> <td> -10181.</td> \n",
       "</tr>\n",
       "<tr>\n",
       "  <th>No. Observations:</th>      <td>  2294</td>      <th>  AIC:               </th> <td>2.038e+04</td>\n",
       "</tr>\n",
       "<tr>\n",
       "  <th>Df Residuals:</th>          <td>  2287</td>      <th>  BIC:               </th> <td>2.042e+04</td>\n",
       "</tr>\n",
       "<tr>\n",
       "  <th>Df Model:</th>              <td>     6</td>      <th>                     </th>     <td> </td>    \n",
       "</tr>\n",
       "<tr>\n",
       "  <th>Covariance Type:</th>      <td>nonrobust</td>    <th>                     </th>     <td> </td>    \n",
       "</tr>\n",
       "</table>\n",
       "<table class=\"simpletable\">\n",
       "<tr>\n",
       "          <td></td>             <th>coef</th>     <th>std err</th>      <th>t</th>      <th>P>|t|</th>  <th>[0.025</th>    <th>0.975]</th>  \n",
       "</tr>\n",
       "<tr>\n",
       "  <th>Intercept</th>         <td> 2.583e-06</td> <td> 4.26e-07</td> <td>    6.069</td> <td> 0.000</td> <td> 1.75e-06</td> <td> 3.42e-06</td>\n",
       "</tr>\n",
       "<tr>\n",
       "  <th>C(sex)[T.2]</th>       <td>  -14.0753</td> <td>    0.882</td> <td>  -15.951</td> <td> 0.000</td> <td>  -15.806</td> <td>  -12.345</td>\n",
       "</tr>\n",
       "<tr>\n",
       "  <th>C(marital)[T.2.0]</th> <td>    2.6561</td> <td>    1.778</td> <td>    1.494</td> <td> 0.135</td> <td>   -0.830</td> <td>    6.142</td>\n",
       "</tr>\n",
       "<tr>\n",
       "  <th>C(marital)[T.3.0]</th> <td>    5.8833</td> <td>    1.219</td> <td>    4.826</td> <td> 0.000</td> <td>    3.493</td> <td>    8.274</td>\n",
       "</tr>\n",
       "<tr>\n",
       "  <th>C(marital)[T.4.0]</th> <td>    5.7211</td> <td>    2.501</td> <td>    2.287</td> <td> 0.022</td> <td>    0.816</td> <td>   10.626</td>\n",
       "</tr>\n",
       "<tr>\n",
       "  <th>C(marital)[T.5.0]</th> <td>    2.9650</td> <td>    1.143</td> <td>    2.593</td> <td> 0.010</td> <td>    0.723</td> <td>    5.207</td>\n",
       "</tr>\n",
       "<tr>\n",
       "  <th>age</th>               <td>    0.0371</td> <td>    0.031</td> <td>    1.203</td> <td> 0.229</td> <td>   -0.023</td> <td>    0.098</td>\n",
       "</tr>\n",
       "<tr>\n",
       "  <th>year</th>              <td>    0.0052</td> <td>    0.001</td> <td>    6.069</td> <td> 0.000</td> <td>    0.004</td> <td>    0.007</td>\n",
       "</tr>\n",
       "</table>\n",
       "<table class=\"simpletable\">\n",
       "<tr>\n",
       "  <th>Omnibus:</th>       <td>3872.344</td> <th>  Durbin-Watson:     </th>  <td>   1.958</td>  \n",
       "</tr>\n",
       "<tr>\n",
       "  <th>Prob(Omnibus):</th>  <td> 0.000</td>  <th>  Jarque-Bera (JB):  </th> <td>3501083.931</td>\n",
       "</tr>\n",
       "<tr>\n",
       "  <th>Skew:</th>           <td>11.213</td>  <th>  Prob(JB):          </th>  <td>    0.00</td>  \n",
       "</tr>\n",
       "<tr>\n",
       "  <th>Kurtosis:</th>       <td>193.068</td> <th>  Cond. No.          </th>  <td>3.43e+17</td>  \n",
       "</tr>\n",
       "</table><br/><br/>Warnings:<br/>[1] Standard Errors assume that the covariance matrix of the errors is correctly specified.<br/>[2] The smallest eigenvalue is 7.85e-26. This might indicate that there are<br/>strong multicollinearity problems or that the design matrix is singular."
      ],
      "text/plain": [
       "<class 'statsmodels.iolib.summary.Summary'>\n",
       "\"\"\"\n",
       "                            OLS Regression Results                            \n",
       "==============================================================================\n",
       "Dep. Variable:               numwomen   R-squared:                       0.111\n",
       "Model:                            OLS   Adj. R-squared:                  0.109\n",
       "Method:                 Least Squares   F-statistic:                     47.82\n",
       "Date:                Fri, 17 Aug 2018   Prob (F-statistic):           1.68e-55\n",
       "Time:                        09:11:05   Log-Likelihood:                -10181.\n",
       "No. Observations:                2294   AIC:                         2.038e+04\n",
       "Df Residuals:                    2287   BIC:                         2.042e+04\n",
       "Df Model:                           6                                         \n",
       "Covariance Type:            nonrobust                                         \n",
       "=====================================================================================\n",
       "                        coef    std err          t      P>|t|      [0.025      0.975]\n",
       "-------------------------------------------------------------------------------------\n",
       "Intercept          2.583e-06   4.26e-07      6.069      0.000    1.75e-06    3.42e-06\n",
       "C(sex)[T.2]         -14.0753      0.882    -15.951      0.000     -15.806     -12.345\n",
       "C(marital)[T.2.0]     2.6561      1.778      1.494      0.135      -0.830       6.142\n",
       "C(marital)[T.3.0]     5.8833      1.219      4.826      0.000       3.493       8.274\n",
       "C(marital)[T.4.0]     5.7211      2.501      2.287      0.022       0.816      10.626\n",
       "C(marital)[T.5.0]     2.9650      1.143      2.593      0.010       0.723       5.207\n",
       "age                   0.0371      0.031      1.203      0.229      -0.023       0.098\n",
       "year                  0.0052      0.001      6.069      0.000       0.004       0.007\n",
       "==============================================================================\n",
       "Omnibus:                     3872.344   Durbin-Watson:                   1.958\n",
       "Prob(Omnibus):                  0.000   Jarque-Bera (JB):          3501083.931\n",
       "Skew:                          11.213   Prob(JB):                         0.00\n",
       "Kurtosis:                     193.068   Cond. No.                     3.43e+17\n",
       "==============================================================================\n",
       "\n",
       "Warnings:\n",
       "[1] Standard Errors assume that the covariance matrix of the errors is correctly specified.\n",
       "[2] The smallest eigenvalue is 7.85e-26. This might indicate that there are\n",
       "strong multicollinearity problems or that the design matrix is singular.\n",
       "\"\"\""
      ]
     },
     "execution_count": 77,
     "metadata": {},
     "output_type": "execute_result"
    }
   ],
   "source": [
    "# slide 12\n",
    "from statsmodels.regression.linear_model import OLS\n",
    "\n",
    "lm_numwomen = OLS.from_formula('numwomen ~ C(sex) + age + year + C(marital)', data=sub).fit()\n",
    "lm_numwomen.summary()"
   ]
  },
  {
   "cell_type": "code",
   "execution_count": 48,
   "metadata": {},
   "outputs": [
    {
     "data": {
      "text/plain": [
       "count    2294.000000\n",
       "mean        6.054490\n",
       "std         7.254798\n",
       "min        -2.938014\n",
       "25%        -0.887451\n",
       "50%         3.687617\n",
       "75%        12.881654\n",
       "max        19.433057\n",
       "dtype: float64"
      ]
     },
     "execution_count": 48,
     "metadata": {},
     "output_type": "execute_result"
    }
   ],
   "source": [
    "lm_numwomen.fittedvalues.describe()"
   ]
  },
  {
   "cell_type": "code",
   "execution_count": 69,
   "metadata": {},
   "outputs": [
    {
     "name": "stdout",
     "output_type": "stream",
     "text": [
      "Warning: Maximum number of iterations has been exceeded.\n",
      "         Current function value: 6.724257\n",
      "         Iterations: 35\n"
     ]
    },
    {
     "name": "stderr",
     "output_type": "stream",
     "text": [
      "/Users/melindasong/anaconda/envs/py36/lib/python3.6/site-packages/statsmodels/base/model.py:508: ConvergenceWarning: Maximum Likelihood optimization failed to converge. Check mle_retvals\n",
      "  \"Check mle_retvals\", ConvergenceWarning)\n",
      "/Users/melindasong/anaconda/envs/py36/lib/python3.6/site-packages/statsmodels/base/model.py:1092: RuntimeWarning: invalid value encountered in sqrt\n",
      "  bse_ = np.sqrt(np.diag(self.cov_params()))\n",
      "/Users/melindasong/anaconda/envs/py36/lib/python3.6/site-packages/scipy/stats/_distn_infrastructure.py:879: RuntimeWarning: invalid value encountered in greater\n",
      "  return (self.a < x) & (x < self.b)\n",
      "/Users/melindasong/anaconda/envs/py36/lib/python3.6/site-packages/scipy/stats/_distn_infrastructure.py:879: RuntimeWarning: invalid value encountered in less\n",
      "  return (self.a < x) & (x < self.b)\n",
      "/Users/melindasong/anaconda/envs/py36/lib/python3.6/site-packages/scipy/stats/_distn_infrastructure.py:1821: RuntimeWarning: invalid value encountered in less_equal\n",
      "  cond2 = cond0 & (x <= self.a)\n"
     ]
    },
    {
     "data": {
      "text/html": [
       "<table class=\"simpletable\">\n",
       "<caption>Poisson Regression Results</caption>\n",
       "<tr>\n",
       "  <th>Dep. Variable:</th>     <td>numwomen</td>     <th>  No. Observations:  </th>  <td>  2294</td> \n",
       "</tr>\n",
       "<tr>\n",
       "  <th>Model:</th>              <td>Poisson</td>     <th>  Df Residuals:      </th>  <td>  2287</td> \n",
       "</tr>\n",
       "<tr>\n",
       "  <th>Method:</th>               <td>MLE</td>       <th>  Df Model:          </th>  <td>     6</td> \n",
       "</tr>\n",
       "<tr>\n",
       "  <th>Date:</th>          <td>Fri, 17 Aug 2018</td> <th>  Pseudo R-squ.:     </th>  <td>0.4263</td> \n",
       "</tr>\n",
       "<tr>\n",
       "  <th>Time:</th>              <td>09:04:49</td>     <th>  Log-Likelihood:    </th> <td> -15425.</td>\n",
       "</tr>\n",
       "<tr>\n",
       "  <th>converged:</th>           <td>False</td>      <th>  LL-Null:           </th> <td> -26887.</td>\n",
       "</tr>\n",
       "<tr>\n",
       "  <th> </th>                      <td> </td>        <th>  LLR p-value:       </th>  <td> 0.000</td> \n",
       "</tr>\n",
       "</table>\n",
       "<table class=\"simpletable\">\n",
       "<tr>\n",
       "          <td></td>             <th>coef</th>     <th>std err</th>      <th>z</th>      <th>P>|z|</th>  <th>[0.025</th>    <th>0.975]</th>  \n",
       "</tr>\n",
       "<tr>\n",
       "  <th>Intercept</th>         <td>    1.8010</td> <td>      nan</td> <td>      nan</td> <td>   nan</td> <td>      nan</td> <td>      nan</td>\n",
       "</tr>\n",
       "<tr>\n",
       "  <th>C(sex)[T.2]</th>       <td>   -4.0259</td> <td>    0.054</td> <td>  -74.777</td> <td> 0.000</td> <td>   -4.131</td> <td>   -3.920</td>\n",
       "</tr>\n",
       "<tr>\n",
       "  <th>C(marital)[T.2.0]</th> <td>    0.6797</td> <td>    0.042</td> <td>   16.229</td> <td> 0.000</td> <td>    0.598</td> <td>    0.762</td>\n",
       "</tr>\n",
       "<tr>\n",
       "  <th>C(marital)[T.3.0]</th> <td>    0.9068</td> <td>    0.022</td> <td>   40.897</td> <td> 0.000</td> <td>    0.863</td> <td>    0.950</td>\n",
       "</tr>\n",
       "<tr>\n",
       "  <th>C(marital)[T.4.0]</th> <td>    0.9060</td> <td>    0.041</td> <td>   21.836</td> <td> 0.000</td> <td>    0.825</td> <td>    0.987</td>\n",
       "</tr>\n",
       "<tr>\n",
       "  <th>C(marital)[T.5.0]</th> <td>    0.5810</td> <td>    0.024</td> <td>   24.404</td> <td> 0.000</td> <td>    0.534</td> <td>    0.628</td>\n",
       "</tr>\n",
       "<tr>\n",
       "  <th>age</th>               <td>    0.0077</td> <td>    0.001</td> <td>   12.344</td> <td> 0.000</td> <td>    0.006</td> <td>    0.009</td>\n",
       "</tr>\n",
       "<tr>\n",
       "  <th>year</th>              <td> 2.816e-05</td> <td>      nan</td> <td>      nan</td> <td>   nan</td> <td>      nan</td> <td>      nan</td>\n",
       "</tr>\n",
       "</table>"
      ],
      "text/plain": [
       "<class 'statsmodels.iolib.summary.Summary'>\n",
       "\"\"\"\n",
       "                          Poisson Regression Results                          \n",
       "==============================================================================\n",
       "Dep. Variable:               numwomen   No. Observations:                 2294\n",
       "Model:                        Poisson   Df Residuals:                     2287\n",
       "Method:                           MLE   Df Model:                            6\n",
       "Date:                Fri, 17 Aug 2018   Pseudo R-squ.:                  0.4263\n",
       "Time:                        09:04:49   Log-Likelihood:                -15425.\n",
       "converged:                      False   LL-Null:                       -26887.\n",
       "                                        LLR p-value:                     0.000\n",
       "=====================================================================================\n",
       "                        coef    std err          z      P>|z|      [0.025      0.975]\n",
       "-------------------------------------------------------------------------------------\n",
       "Intercept             1.8010        nan        nan        nan         nan         nan\n",
       "C(sex)[T.2]          -4.0259      0.054    -74.777      0.000      -4.131      -3.920\n",
       "C(marital)[T.2.0]     0.6797      0.042     16.229      0.000       0.598       0.762\n",
       "C(marital)[T.3.0]     0.9068      0.022     40.897      0.000       0.863       0.950\n",
       "C(marital)[T.4.0]     0.9060      0.041     21.836      0.000       0.825       0.987\n",
       "C(marital)[T.5.0]     0.5810      0.024     24.404      0.000       0.534       0.628\n",
       "age                   0.0077      0.001     12.344      0.000       0.006       0.009\n",
       "year               2.816e-05        nan        nan        nan         nan         nan\n",
       "=====================================================================================\n",
       "\"\"\""
      ]
     },
     "execution_count": 69,
     "metadata": {},
     "output_type": "execute_result"
    }
   ],
   "source": [
    "# slide 15\n",
    "from statsmodels.discrete.count_model import Poisson\n",
    "\n",
    "pois_numwomen = Poisson.from_formula('numwomen ~ C(sex) + age + year + C(marital)', data=sub).fit()\n",
    "pois_numwomen.summary()"
   ]
  },
  {
   "cell_type": "code",
   "execution_count": 50,
   "metadata": {},
   "outputs": [
    {
     "data": {
      "text/plain": [
       "Intercept            1.000000\n",
       "C(sex)[T.2]          0.017847\n",
       "C(marital)[T.2.0]    1.973222\n",
       "C(marital)[T.3.0]    2.476400\n",
       "C(marital)[T.4.0]    2.474389\n",
       "C(marital)[T.5.0]    1.787882\n",
       "age                  1.007695\n",
       "year                 1.000926\n",
       "dtype: float64"
      ]
     },
     "execution_count": 50,
     "metadata": {},
     "output_type": "execute_result"
    }
   ],
   "source": [
    "# slide 17\n",
    "np.exp(pois_numwomen.params)"
   ]
  },
  {
   "cell_type": "code",
   "execution_count": 51,
   "metadata": {},
   "outputs": [
    {
     "data": {
      "text/plain": [
       "0    9.142739\n",
       "1    0.163166\n",
       "dtype: float64"
      ]
     },
     "execution_count": 51,
     "metadata": {},
     "output_type": "execute_result"
    }
   ],
   "source": [
    "newdata = pd.DataFrame({'year': sub.year.mean(), \n",
    "                        'age': sub.age.mean(), \n",
    "                        'marital': 1,\n",
    "                        'sex': [1, 2]})\n",
    "\n",
    "pois_numwomen.predict(newdata)"
   ]
  },
  {
   "cell_type": "code",
   "execution_count": 33,
   "metadata": {},
   "outputs": [],
   "source": [
    "sub2 = sub[~pd.isnull(sub.numwomen)]"
   ]
  },
  {
   "cell_type": "code",
   "execution_count": 71,
   "metadata": {},
   "outputs": [
    {
     "name": "stdout",
     "output_type": "stream",
     "text": [
      "Warning: Maximum number of iterations has been exceeded.\n",
      "         Current function value: 6.742149\n",
      "         Iterations: 35\n"
     ]
    },
    {
     "name": "stderr",
     "output_type": "stream",
     "text": [
      "/Users/melindasong/anaconda/envs/py36/lib/python3.6/site-packages/statsmodels/base/model.py:508: ConvergenceWarning: Maximum Likelihood optimization failed to converge. Check mle_retvals\n",
      "  \"Check mle_retvals\", ConvergenceWarning)\n",
      "/Users/melindasong/anaconda/envs/py36/lib/python3.6/site-packages/statsmodels/base/model.py:1092: RuntimeWarning: invalid value encountered in sqrt\n",
      "  bse_ = np.sqrt(np.diag(self.cov_params()))\n",
      "/Users/melindasong/anaconda/envs/py36/lib/python3.6/site-packages/scipy/stats/_distn_infrastructure.py:879: RuntimeWarning: invalid value encountered in greater\n",
      "  return (self.a < x) & (x < self.b)\n",
      "/Users/melindasong/anaconda/envs/py36/lib/python3.6/site-packages/scipy/stats/_distn_infrastructure.py:879: RuntimeWarning: invalid value encountered in less\n",
      "  return (self.a < x) & (x < self.b)\n",
      "/Users/melindasong/anaconda/envs/py36/lib/python3.6/site-packages/scipy/stats/_distn_infrastructure.py:1821: RuntimeWarning: invalid value encountered in less_equal\n",
      "  cond2 = cond0 & (x <= self.a)\n"
     ]
    },
    {
     "data": {
      "text/html": [
       "<table class=\"simpletable\">\n",
       "<caption>Poisson Regression Results</caption>\n",
       "<tr>\n",
       "  <th>Dep. Variable:</th>     <td>numwomen</td>     <th>  No. Observations:  </th>  <td>  2294</td> \n",
       "</tr>\n",
       "<tr>\n",
       "  <th>Model:</th>              <td>Poisson</td>     <th>  Df Residuals:      </th>  <td>  2288</td> \n",
       "</tr>\n",
       "<tr>\n",
       "  <th>Method:</th>               <td>MLE</td>       <th>  Df Model:          </th>  <td>     5</td> \n",
       "</tr>\n",
       "<tr>\n",
       "  <th>Date:</th>          <td>Fri, 17 Aug 2018</td> <th>  Pseudo R-squ.:     </th>  <td>0.4337</td> \n",
       "</tr>\n",
       "<tr>\n",
       "  <th>Time:</th>              <td>09:06:12</td>     <th>  Log-Likelihood:    </th> <td> -15466.</td>\n",
       "</tr>\n",
       "<tr>\n",
       "  <th>converged:</th>           <td>False</td>      <th>  LL-Null:           </th> <td> -27311.</td>\n",
       "</tr>\n",
       "<tr>\n",
       "  <th> </th>                      <td> </td>        <th>  LLR p-value:       </th>  <td> 0.000</td> \n",
       "</tr>\n",
       "</table>\n",
       "<table class=\"simpletable\">\n",
       "<tr>\n",
       "          <td></td>             <th>coef</th>     <th>std err</th>      <th>z</th>      <th>P>|z|</th>  <th>[0.025</th>    <th>0.975]</th>  \n",
       "</tr>\n",
       "<tr>\n",
       "  <th>Intercept</th>         <td>   -1.9512</td> <td>      nan</td> <td>      nan</td> <td>   nan</td> <td>      nan</td> <td>      nan</td>\n",
       "</tr>\n",
       "<tr>\n",
       "  <th>C(sex)[T.2]</th>       <td>   -4.0095</td> <td>    0.054</td> <td>  -74.474</td> <td> 0.000</td> <td>   -4.115</td> <td>   -3.904</td>\n",
       "</tr>\n",
       "<tr>\n",
       "  <th>C(marital)[T.2.0]</th> <td>    0.4783</td> <td>    0.040</td> <td>   12.006</td> <td> 0.000</td> <td>    0.400</td> <td>    0.556</td>\n",
       "</tr>\n",
       "<tr>\n",
       "  <th>C(marital)[T.3.0]</th> <td>    0.8968</td> <td>    0.022</td> <td>   40.447</td> <td> 0.000</td> <td>    0.853</td> <td>    0.940</td>\n",
       "</tr>\n",
       "<tr>\n",
       "  <th>C(marital)[T.4.0]</th> <td>    0.9519</td> <td>    0.041</td> <td>   22.995</td> <td> 0.000</td> <td>    0.871</td> <td>    1.033</td>\n",
       "</tr>\n",
       "<tr>\n",
       "  <th>C(marital)[T.5.0]</th> <td>    0.8476</td> <td>    0.022</td> <td>   39.418</td> <td> 0.000</td> <td>    0.805</td> <td>    0.890</td>\n",
       "</tr>\n",
       "<tr>\n",
       "  <th>year</th>              <td>    0.0001</td> <td>      nan</td> <td>      nan</td> <td>   nan</td> <td>      nan</td> <td>      nan</td>\n",
       "</tr>\n",
       "</table>"
      ],
      "text/plain": [
       "<class 'statsmodels.iolib.summary.Summary'>\n",
       "\"\"\"\n",
       "                          Poisson Regression Results                          \n",
       "==============================================================================\n",
       "Dep. Variable:               numwomen   No. Observations:                 2294\n",
       "Model:                        Poisson   Df Residuals:                     2288\n",
       "Method:                           MLE   Df Model:                            5\n",
       "Date:                Fri, 17 Aug 2018   Pseudo R-squ.:                  0.4337\n",
       "Time:                        09:06:12   Log-Likelihood:                -15466.\n",
       "converged:                      False   LL-Null:                       -27311.\n",
       "                                        LLR p-value:                     0.000\n",
       "=====================================================================================\n",
       "                        coef    std err          z      P>|z|      [0.025      0.975]\n",
       "-------------------------------------------------------------------------------------\n",
       "Intercept            -1.9512        nan        nan        nan         nan         nan\n",
       "C(sex)[T.2]          -4.0095      0.054    -74.474      0.000      -4.115      -3.904\n",
       "C(marital)[T.2.0]     0.4783      0.040     12.006      0.000       0.400       0.556\n",
       "C(marital)[T.3.0]     0.8968      0.022     40.447      0.000       0.853       0.940\n",
       "C(marital)[T.4.0]     0.9519      0.041     22.995      0.000       0.871       1.033\n",
       "C(marital)[T.5.0]     0.8476      0.022     39.418      0.000       0.805       0.890\n",
       "year                  0.0001        nan        nan        nan         nan         nan\n",
       "=====================================================================================\n",
       "\"\"\""
      ]
     },
     "execution_count": 71,
     "metadata": {},
     "output_type": "execute_result"
    }
   ],
   "source": [
    "# slide 19\n",
    "Poisson.from_formula('numwomen ~ C(sex) + year + C(marital)', data=sub, offset= np.log(sub.age)).fit().summary()"
   ]
  },
  {
   "cell_type": "code",
   "execution_count": 55,
   "metadata": {},
   "outputs": [
    {
     "name": "stdout",
     "output_type": "stream",
     "text": [
      "mean: 6.04917319408181\n",
      "var: 471.41029317765583\n"
     ]
    }
   ],
   "source": [
    "print('mean:', sub.numwomen.mean())\n",
    "print('var:', sub.numwomen.var())"
   ]
  },
  {
   "cell_type": "markdown",
   "metadata": {},
   "source": [
    "### The negative binomial regression"
   ]
  },
  {
   "cell_type": "code",
   "execution_count": 76,
   "metadata": {},
   "outputs": [
    {
     "name": "stdout",
     "output_type": "stream",
     "text": [
      "Warning: Maximum number of iterations has been exceeded.\n",
      "         Current function value: 1.808377\n",
      "         Iterations: 35\n",
      "         Function evaluations: 66\n",
      "         Gradient evaluations: 66\n"
     ]
    },
    {
     "name": "stderr",
     "output_type": "stream",
     "text": [
      "/Users/melindasong/anaconda/envs/py36/lib/python3.6/site-packages/statsmodels/base/model.py:508: ConvergenceWarning: Maximum Likelihood optimization failed to converge. Check mle_retvals\n",
      "  \"Check mle_retvals\", ConvergenceWarning)\n"
     ]
    },
    {
     "data": {
      "text/html": [
       "<table class=\"simpletable\">\n",
       "<caption>NegativeBinomial Regression Results</caption>\n",
       "<tr>\n",
       "  <th>Dep. Variable:</th>     <td>numwomen</td>     <th>  No. Observations:  </th>  <td>  2294</td> \n",
       "</tr>\n",
       "<tr>\n",
       "  <th>Model:</th>         <td>NegativeBinomial</td> <th>  Df Residuals:      </th>  <td>  2287</td> \n",
       "</tr>\n",
       "<tr>\n",
       "  <th>Method:</th>               <td>MLE</td>       <th>  Df Model:          </th>  <td>     6</td> \n",
       "</tr>\n",
       "<tr>\n",
       "  <th>Date:</th>          <td>Fri, 17 Aug 2018</td> <th>  Pseudo R-squ.:     </th>  <td>0.1592</td> \n",
       "</tr>\n",
       "<tr>\n",
       "  <th>Time:</th>              <td>09:10:10</td>     <th>  Log-Likelihood:    </th> <td> -4148.4</td>\n",
       "</tr>\n",
       "<tr>\n",
       "  <th>converged:</th>           <td>False</td>      <th>  LL-Null:           </th> <td> -4934.1</td>\n",
       "</tr>\n",
       "<tr>\n",
       "  <th> </th>                      <td> </td>        <th>  LLR p-value:       </th>  <td> 0.000</td> \n",
       "</tr>\n",
       "</table>\n",
       "<table class=\"simpletable\">\n",
       "<tr>\n",
       "          <td></td>             <th>coef</th>     <th>std err</th>      <th>z</th>      <th>P>|z|</th>  <th>[0.025</th>    <th>0.975]</th>  \n",
       "</tr>\n",
       "<tr>\n",
       "  <th>Intercept</th>         <td>    1.8244</td> <td>    0.159</td> <td>   11.475</td> <td> 0.000</td> <td>    1.513</td> <td>    2.136</td>\n",
       "</tr>\n",
       "<tr>\n",
       "  <th>C(sex)[T.2]</th>       <td>   -4.0484</td> <td>    0.085</td> <td>  -47.606</td> <td> 0.000</td> <td>   -4.215</td> <td>   -3.882</td>\n",
       "</tr>\n",
       "<tr>\n",
       "  <th>C(marital)[T.2.0]</th> <td>    0.0708</td> <td>    0.173</td> <td>    0.410</td> <td> 0.682</td> <td>   -0.267</td> <td>    0.409</td>\n",
       "</tr>\n",
       "<tr>\n",
       "  <th>C(marital)[T.3.0]</th> <td>    0.7551</td> <td>    0.107</td> <td>    7.066</td> <td> 0.000</td> <td>    0.546</td> <td>    0.964</td>\n",
       "</tr>\n",
       "<tr>\n",
       "  <th>C(marital)[T.4.0]</th> <td>    1.4841</td> <td>    0.221</td> <td>    6.721</td> <td> 0.000</td> <td>    1.051</td> <td>    1.917</td>\n",
       "</tr>\n",
       "<tr>\n",
       "  <th>C(marital)[T.5.0]</th> <td>    0.9089</td> <td>    0.103</td> <td>    8.866</td> <td> 0.000</td> <td>    0.708</td> <td>    1.110</td>\n",
       "</tr>\n",
       "<tr>\n",
       "  <th>age</th>               <td>    0.0077</td> <td>    0.003</td> <td>    2.465</td> <td> 0.014</td> <td>    0.002</td> <td>    0.014</td>\n",
       "</tr>\n",
       "<tr>\n",
       "  <th>alpha</th>             <td>    2.0713</td> <td>    0.094</td> <td>   22.114</td> <td> 0.000</td> <td>    1.888</td> <td>    2.255</td>\n",
       "</tr>\n",
       "</table>"
      ],
      "text/plain": [
       "<class 'statsmodels.iolib.summary.Summary'>\n",
       "\"\"\"\n",
       "                     NegativeBinomial Regression Results                      \n",
       "==============================================================================\n",
       "Dep. Variable:               numwomen   No. Observations:                 2294\n",
       "Model:               NegativeBinomial   Df Residuals:                     2287\n",
       "Method:                           MLE   Df Model:                            6\n",
       "Date:                Fri, 17 Aug 2018   Pseudo R-squ.:                  0.1592\n",
       "Time:                        09:10:10   Log-Likelihood:                -4148.4\n",
       "converged:                      False   LL-Null:                       -4934.1\n",
       "                                        LLR p-value:                     0.000\n",
       "=====================================================================================\n",
       "                        coef    std err          z      P>|z|      [0.025      0.975]\n",
       "-------------------------------------------------------------------------------------\n",
       "Intercept             1.8244      0.159     11.475      0.000       1.513       2.136\n",
       "C(sex)[T.2]          -4.0484      0.085    -47.606      0.000      -4.215      -3.882\n",
       "C(marital)[T.2.0]     0.0708      0.173      0.410      0.682      -0.267       0.409\n",
       "C(marital)[T.3.0]     0.7551      0.107      7.066      0.000       0.546       0.964\n",
       "C(marital)[T.4.0]     1.4841      0.221      6.721      0.000       1.051       1.917\n",
       "C(marital)[T.5.0]     0.9089      0.103      8.866      0.000       0.708       1.110\n",
       "age                   0.0077      0.003      2.465      0.014       0.002       0.014\n",
       "alpha                 2.0713      0.094     22.114      0.000       1.888       2.255\n",
       "=====================================================================================\n",
       "\"\"\""
      ]
     },
     "execution_count": 76,
     "metadata": {},
     "output_type": "execute_result"
    }
   ],
   "source": [
    "# slide 24\n",
    "from statsmodels.discrete.discrete_model import NegativeBinomial\n",
    "\n",
    "# removed variable 'year' to bypass fitting problems \n",
    "negbin_numwomen = NegativeBinomial.from_formula('numwomen ~ C(sex) + age + C(marital)', data=sub).fit()\n",
    "negbin_numwomen.summary()"
   ]
  },
  {
   "cell_type": "markdown",
   "metadata": {},
   "source": [
    "### Zero-inflated negative binomial"
   ]
  },
  {
   "cell_type": "code",
   "execution_count": 87,
   "metadata": {},
   "outputs": [
    {
     "name": "stderr",
     "output_type": "stream",
     "text": [
      "/Users/melindasong/anaconda/envs/py36/lib/python3.6/site-packages/statsmodels/discrete/discrete_model.py:2929: RuntimeWarning: invalid value encountered in log\n",
      "  a1 * np.log(a1) + y * np.log(mu) -\n",
      "/Users/melindasong/anaconda/envs/py36/lib/python3.6/site-packages/statsmodels/discrete/discrete_model.py:2930: RuntimeWarning: invalid value encountered in log\n",
      "  (y + a1) * np.log(a2))\n"
     ]
    },
    {
     "name": "stdout",
     "output_type": "stream",
     "text": [
      "Warning: Maximum number of iterations has been exceeded.\n",
      "         Current function value: 1.808543\n",
      "         Iterations: 35\n",
      "         Function evaluations: 39\n",
      "         Gradient evaluations: 39\n"
     ]
    },
    {
     "name": "stderr",
     "output_type": "stream",
     "text": [
      "/Users/melindasong/anaconda/envs/py36/lib/python3.6/site-packages/statsmodels/base/model.py:508: ConvergenceWarning: Maximum Likelihood optimization failed to converge. Check mle_retvals\n",
      "  \"Check mle_retvals\", ConvergenceWarning)\n"
     ]
    },
    {
     "data": {
      "text/html": [
       "<table class=\"simpletable\">\n",
       "<caption>ZeroInflatedNegativeBinomialP Regression Results</caption>\n",
       "<tr>\n",
       "  <th>Dep. Variable:</th>           <td>numwomen</td>            <th>  No. Observations:  </th>  <td>  2294</td> \n",
       "</tr>\n",
       "<tr>\n",
       "  <th>Model:</th>         <td>ZeroInflatedNegativeBinomialP</td> <th>  Df Residuals:      </th>  <td>  2287</td> \n",
       "</tr>\n",
       "<tr>\n",
       "  <th>Method:</th>                     <td>MLE</td>              <th>  Df Model:          </th>  <td>     6</td> \n",
       "</tr>\n",
       "<tr>\n",
       "  <th>Date:</th>                <td>Fri, 17 Aug 2018</td>        <th>  Pseudo R-squ.:     </th>  <td>0.1592</td> \n",
       "</tr>\n",
       "<tr>\n",
       "  <th>Time:</th>                    <td>10:53:35</td>            <th>  Log-Likelihood:    </th> <td> -4148.8</td>\n",
       "</tr>\n",
       "<tr>\n",
       "  <th>converged:</th>                 <td>False</td>             <th>  LL-Null:           </th> <td> -4934.1</td>\n",
       "</tr>\n",
       "<tr>\n",
       "  <th> </th>                            <td> </td>               <th>  LLR p-value:       </th>  <td> 0.000</td> \n",
       "</tr>\n",
       "</table>\n",
       "<table class=\"simpletable\">\n",
       "<tr>\n",
       "          <td></td>             <th>coef</th>     <th>std err</th>      <th>z</th>      <th>P>|z|</th>  <th>[0.025</th>    <th>0.975]</th>  \n",
       "</tr>\n",
       "<tr>\n",
       "  <th>inflate_const</th>     <td>   -7.6529</td> <td>    2.040</td> <td>   -3.752</td> <td> 0.000</td> <td>  -11.650</td> <td>   -3.655</td>\n",
       "</tr>\n",
       "<tr>\n",
       "  <th>Intercept</th>         <td>    1.7547</td> <td>    0.158</td> <td>   11.087</td> <td> 0.000</td> <td>    1.445</td> <td>    2.065</td>\n",
       "</tr>\n",
       "<tr>\n",
       "  <th>C(sex)[T.2]</th>       <td>   -4.0453</td> <td>    0.085</td> <td>  -47.634</td> <td> 0.000</td> <td>   -4.212</td> <td>   -3.879</td>\n",
       "</tr>\n",
       "<tr>\n",
       "  <th>C(marital)[T.2.0]</th> <td>    0.0245</td> <td>    0.172</td> <td>    0.143</td> <td> 0.886</td> <td>   -0.312</td> <td>    0.361</td>\n",
       "</tr>\n",
       "<tr>\n",
       "  <th>C(marital)[T.3.0]</th> <td>    0.7547</td> <td>    0.107</td> <td>    7.086</td> <td> 0.000</td> <td>    0.546</td> <td>    0.963</td>\n",
       "</tr>\n",
       "<tr>\n",
       "  <th>C(marital)[T.4.0]</th> <td>    1.5211</td> <td>    0.222</td> <td>    6.859</td> <td> 0.000</td> <td>    1.087</td> <td>    1.956</td>\n",
       "</tr>\n",
       "<tr>\n",
       "  <th>C(marital)[T.5.0]</th> <td>    0.9288</td> <td>    0.102</td> <td>    9.078</td> <td> 0.000</td> <td>    0.728</td> <td>    1.129</td>\n",
       "</tr>\n",
       "<tr>\n",
       "  <th>age</th>               <td>    0.0090</td> <td>    0.003</td> <td>    2.904</td> <td> 0.004</td> <td>    0.003</td> <td>    0.015</td>\n",
       "</tr>\n",
       "<tr>\n",
       "  <th>alpha</th>             <td>    2.0570</td> <td>    0.093</td> <td>   22.221</td> <td> 0.000</td> <td>    1.876</td> <td>    2.238</td>\n",
       "</tr>\n",
       "</table>"
      ],
      "text/plain": [
       "<class 'statsmodels.iolib.summary.Summary'>\n",
       "\"\"\"\n",
       "                     ZeroInflatedNegativeBinomialP Regression Results                    \n",
       "=========================================================================================\n",
       "Dep. Variable:                          numwomen   No. Observations:                 2294\n",
       "Model:             ZeroInflatedNegativeBinomialP   Df Residuals:                     2287\n",
       "Method:                                      MLE   Df Model:                            6\n",
       "Date:                           Fri, 17 Aug 2018   Pseudo R-squ.:                  0.1592\n",
       "Time:                                   10:53:35   Log-Likelihood:                -4148.8\n",
       "converged:                                 False   LL-Null:                       -4934.1\n",
       "                                                   LLR p-value:                     0.000\n",
       "=====================================================================================\n",
       "                        coef    std err          z      P>|z|      [0.025      0.975]\n",
       "-------------------------------------------------------------------------------------\n",
       "inflate_const        -7.6529      2.040     -3.752      0.000     -11.650      -3.655\n",
       "Intercept             1.7547      0.158     11.087      0.000       1.445       2.065\n",
       "C(sex)[T.2]          -4.0453      0.085    -47.634      0.000      -4.212      -3.879\n",
       "C(marital)[T.2.0]     0.0245      0.172      0.143      0.886      -0.312       0.361\n",
       "C(marital)[T.3.0]     0.7547      0.107      7.086      0.000       0.546       0.963\n",
       "C(marital)[T.4.0]     1.5211      0.222      6.859      0.000       1.087       1.956\n",
       "C(marital)[T.5.0]     0.9288      0.102      9.078      0.000       0.728       1.129\n",
       "age                   0.0090      0.003      2.904      0.004       0.003       0.015\n",
       "alpha                 2.0570      0.093     22.221      0.000       1.876       2.238\n",
       "=====================================================================================\n",
       "\"\"\""
      ]
     },
     "execution_count": 87,
     "metadata": {},
     "output_type": "execute_result"
    }
   ],
   "source": [
    "from statsmodels.discrete.count_model import ZeroInflatedNegativeBinomialP\n",
    "\n",
    "ZeroInflatedNegativeBinomialP.from_formula('numwomen ~ C(sex) + age + C(marital) + C(sex)', data=sub).fit().summary()"
   ]
  },
  {
   "cell_type": "markdown",
   "metadata": {},
   "source": [
    "## The gamma distribution"
   ]
  },
  {
   "cell_type": "code",
   "execution_count": 91,
   "metadata": {},
   "outputs": [
    {
     "data": {
      "text/html": [
       "<table class=\"simpletable\">\n",
       "<caption>OLS Regression Results</caption>\n",
       "<tr>\n",
       "  <th>Dep. Variable:</th>         <td>realinc</td>     <th>  R-squared:         </th> <td>   0.228</td> \n",
       "</tr>\n",
       "<tr>\n",
       "  <th>Model:</th>                   <td>OLS</td>       <th>  Adj. R-squared:    </th> <td>   0.226</td> \n",
       "</tr>\n",
       "<tr>\n",
       "  <th>Method:</th>             <td>Least Squares</td>  <th>  F-statistic:       </th> <td>   162.1</td> \n",
       "</tr>\n",
       "<tr>\n",
       "  <th>Date:</th>             <td>Fri, 17 Aug 2018</td> <th>  Prob (F-statistic):</th> <td>1.35e-210</td>\n",
       "</tr>\n",
       "<tr>\n",
       "  <th>Time:</th>                 <td>11:16:25</td>     <th>  Log-Likelihood:    </th> <td> -45054.</td> \n",
       "</tr>\n",
       "<tr>\n",
       "  <th>No. Observations:</th>      <td>  3856</td>      <th>  AIC:               </th> <td>9.012e+04</td>\n",
       "</tr>\n",
       "<tr>\n",
       "  <th>Df Residuals:</th>          <td>  3848</td>      <th>  BIC:               </th> <td>9.017e+04</td>\n",
       "</tr>\n",
       "<tr>\n",
       "  <th>Df Model:</th>              <td>     7</td>      <th>                     </th>     <td> </td>    \n",
       "</tr>\n",
       "<tr>\n",
       "  <th>Covariance Type:</th>      <td>nonrobust</td>    <th>                     </th>     <td> </td>    \n",
       "</tr>\n",
       "</table>\n",
       "<table class=\"simpletable\">\n",
       "<tr>\n",
       "          <td></td>             <th>coef</th>     <th>std err</th>      <th>t</th>      <th>P>|t|</th>  <th>[0.025</th>    <th>0.975]</th>  \n",
       "</tr>\n",
       "<tr>\n",
       "  <th>Intercept</th>         <td>-3.101e+04</td> <td> 4412.851</td> <td>   -7.027</td> <td> 0.000</td> <td>-3.97e+04</td> <td>-2.24e+04</td>\n",
       "</tr>\n",
       "<tr>\n",
       "  <th>C(marital)[T.2.0]</th> <td>-1.777e+04</td> <td> 2046.026</td> <td>   -8.687</td> <td> 0.000</td> <td>-2.18e+04</td> <td>-1.38e+04</td>\n",
       "</tr>\n",
       "<tr>\n",
       "  <th>C(marital)[T.3.0]</th> <td>-2.024e+04</td> <td> 1325.847</td> <td>  -15.263</td> <td> 0.000</td> <td>-2.28e+04</td> <td>-1.76e+04</td>\n",
       "</tr>\n",
       "<tr>\n",
       "  <th>C(marital)[T.4.0]</th> <td>-1.918e+04</td> <td> 2667.964</td> <td>   -7.190</td> <td> 0.000</td> <td>-2.44e+04</td> <td> -1.4e+04</td>\n",
       "</tr>\n",
       "<tr>\n",
       "  <th>C(marital)[T.5.0]</th> <td>-1.613e+04</td> <td> 1278.069</td> <td>  -12.624</td> <td> 0.000</td> <td>-1.86e+04</td> <td>-1.36e+04</td>\n",
       "</tr>\n",
       "<tr>\n",
       "  <th>age</th>               <td> 1288.6767</td> <td>  165.960</td> <td>    7.765</td> <td> 0.000</td> <td>  963.299</td> <td> 1614.054</td>\n",
       "</tr>\n",
       "<tr>\n",
       "  <th>I(age ** 2)</th>       <td>  -12.4790</td> <td>    1.622</td> <td>   -7.694</td> <td> 0.000</td> <td>  -15.659</td> <td>   -9.299</td>\n",
       "</tr>\n",
       "<tr>\n",
       "  <th>educ</th>              <td> 3328.1143</td> <td>  146.770</td> <td>   22.676</td> <td> 0.000</td> <td> 3040.360</td> <td> 3615.868</td>\n",
       "</tr>\n",
       "</table>\n",
       "<table class=\"simpletable\">\n",
       "<tr>\n",
       "  <th>Omnibus:</th>       <td>1666.817</td> <th>  Durbin-Watson:     </th> <td>   1.792</td>\n",
       "</tr>\n",
       "<tr>\n",
       "  <th>Prob(Omnibus):</th>  <td> 0.000</td>  <th>  Jarque-Bera (JB):  </th> <td>7327.603</td>\n",
       "</tr>\n",
       "<tr>\n",
       "  <th>Skew:</th>           <td> 2.119</td>  <th>  Prob(JB):          </th> <td>    0.00</td>\n",
       "</tr>\n",
       "<tr>\n",
       "  <th>Kurtosis:</th>       <td> 8.258</td>  <th>  Cond. No.          </th> <td>2.89e+04</td>\n",
       "</tr>\n",
       "</table><br/><br/>Warnings:<br/>[1] Standard Errors assume that the covariance matrix of the errors is correctly specified.<br/>[2] The condition number is large, 2.89e+04. This might indicate that there are<br/>strong multicollinearity or other numerical problems."
      ],
      "text/plain": [
       "<class 'statsmodels.iolib.summary.Summary'>\n",
       "\"\"\"\n",
       "                            OLS Regression Results                            \n",
       "==============================================================================\n",
       "Dep. Variable:                realinc   R-squared:                       0.228\n",
       "Model:                            OLS   Adj. R-squared:                  0.226\n",
       "Method:                 Least Squares   F-statistic:                     162.1\n",
       "Date:                Fri, 17 Aug 2018   Prob (F-statistic):          1.35e-210\n",
       "Time:                        11:16:25   Log-Likelihood:                -45054.\n",
       "No. Observations:                3856   AIC:                         9.012e+04\n",
       "Df Residuals:                    3848   BIC:                         9.017e+04\n",
       "Df Model:                           7                                         \n",
       "Covariance Type:            nonrobust                                         \n",
       "=====================================================================================\n",
       "                        coef    std err          t      P>|t|      [0.025      0.975]\n",
       "-------------------------------------------------------------------------------------\n",
       "Intercept         -3.101e+04   4412.851     -7.027      0.000   -3.97e+04   -2.24e+04\n",
       "C(marital)[T.2.0] -1.777e+04   2046.026     -8.687      0.000   -2.18e+04   -1.38e+04\n",
       "C(marital)[T.3.0] -2.024e+04   1325.847    -15.263      0.000   -2.28e+04   -1.76e+04\n",
       "C(marital)[T.4.0] -1.918e+04   2667.964     -7.190      0.000   -2.44e+04    -1.4e+04\n",
       "C(marital)[T.5.0] -1.613e+04   1278.069    -12.624      0.000   -1.86e+04   -1.36e+04\n",
       "age                1288.6767    165.960      7.765      0.000     963.299    1614.054\n",
       "I(age ** 2)         -12.4790      1.622     -7.694      0.000     -15.659      -9.299\n",
       "educ               3328.1143    146.770     22.676      0.000    3040.360    3615.868\n",
       "==============================================================================\n",
       "Omnibus:                     1666.817   Durbin-Watson:                   1.792\n",
       "Prob(Omnibus):                  0.000   Jarque-Bera (JB):             7327.603\n",
       "Skew:                           2.119   Prob(JB):                         0.00\n",
       "Kurtosis:                       8.258   Cond. No.                     2.89e+04\n",
       "==============================================================================\n",
       "\n",
       "Warnings:\n",
       "[1] Standard Errors assume that the covariance matrix of the errors is correctly specified.\n",
       "[2] The condition number is large, 2.89e+04. This might indicate that there are\n",
       "strong multicollinearity or other numerical problems.\n",
       "\"\"\""
      ]
     },
     "execution_count": 91,
     "metadata": {},
     "output_type": "execute_result"
    }
   ],
   "source": [
    "# slide 34\n",
    "# OLS baseline first \n",
    "variables = ['age', 'year', 'marital', 'id', 'educ', 'realinc']\n",
    "sub = gss_2006[variables].copy()\n",
    "\n",
    "lm_realinc = OLS.from_formula('realinc ~ age + I(age**2) + C(marital) + educ', data=sub).fit()\n",
    "lm_realinc.summary()"
   ]
  },
  {
   "cell_type": "code",
   "execution_count": 104,
   "metadata": {},
   "outputs": [
    {
     "name": "stderr",
     "output_type": "stream",
     "text": [
      "/Users/melindasong/anaconda/envs/py36/lib/python3.6/site-packages/statsmodels/genmod/generalized_linear_model.py:302: DomainWarning: The identity link function does not respect the domain of the Gamma family.\n",
      "  DomainWarning)\n"
     ]
    },
    {
     "data": {
      "text/html": [
       "<table class=\"simpletable\">\n",
       "<caption>Generalized Linear Model Regression Results</caption>\n",
       "<tr>\n",
       "  <th>Dep. Variable:</th>       <td>realinc</td>     <th>  No. Observations:  </th>  <td>  3856</td>  \n",
       "</tr>\n",
       "<tr>\n",
       "  <th>Model:</th>                 <td>GLM</td>       <th>  Df Residuals:      </th>  <td>  3848</td>  \n",
       "</tr>\n",
       "<tr>\n",
       "  <th>Model Family:</th>         <td>Gamma</td>      <th>  Df Model:          </th>  <td>     7</td>  \n",
       "</tr>\n",
       "<tr>\n",
       "  <th>Link Function:</th>      <td>identity</td>     <th>  Scale:             </th> <td>  1.0023</td> \n",
       "</tr>\n",
       "<tr>\n",
       "  <th>Method:</th>               <td>IRLS</td>       <th>  Log-Likelihood:    </th> <td> -43819.</td> \n",
       "</tr>\n",
       "<tr>\n",
       "  <th>Date:</th>           <td>Fri, 17 Aug 2018</td> <th>  Deviance:          </th> <td>  2917.9</td> \n",
       "</tr>\n",
       "<tr>\n",
       "  <th>Time:</th>               <td>13:24:40</td>     <th>  Pearson chi2:      </th> <td>3.86e+03</td> \n",
       "</tr>\n",
       "<tr>\n",
       "  <th>No. Iterations:</th>        <td>100</td>       <th>  Covariance Type:   </th> <td>nonrobust</td>\n",
       "</tr>\n",
       "</table>\n",
       "<table class=\"simpletable\">\n",
       "<tr>\n",
       "          <td></td>             <th>coef</th>     <th>std err</th>      <th>z</th>      <th>P>|z|</th>  <th>[0.025</th>    <th>0.975]</th>  \n",
       "</tr>\n",
       "<tr>\n",
       "  <th>Intercept</th>         <td> 2.934e+04</td> <td> 3125.301</td> <td>    9.389</td> <td> 0.000</td> <td> 2.32e+04</td> <td> 3.55e+04</td>\n",
       "</tr>\n",
       "<tr>\n",
       "  <th>C(marital)[T.2.0]</th> <td>-1.571e+04</td> <td> 1589.101</td> <td>   -9.886</td> <td> 0.000</td> <td>-1.88e+04</td> <td>-1.26e+04</td>\n",
       "</tr>\n",
       "<tr>\n",
       "  <th>C(marital)[T.3.0]</th> <td>-1.461e+04</td> <td> 1080.848</td> <td>  -13.514</td> <td> 0.000</td> <td>-1.67e+04</td> <td>-1.25e+04</td>\n",
       "</tr>\n",
       "<tr>\n",
       "  <th>C(marital)[T.4.0]</th> <td>-2.199e+04</td> <td> 1943.868</td> <td>  -11.312</td> <td> 0.000</td> <td>-2.58e+04</td> <td>-1.82e+04</td>\n",
       "</tr>\n",
       "<tr>\n",
       "  <th>C(marital)[T.5.0]</th> <td>-1.868e+04</td> <td> 1381.218</td> <td>  -13.527</td> <td> 0.000</td> <td>-2.14e+04</td> <td> -1.6e+04</td>\n",
       "</tr>\n",
       "<tr>\n",
       "  <th>age</th>               <td>  479.7254</td> <td>  120.678</td> <td>    3.975</td> <td> 0.000</td> <td>  243.201</td> <td>  716.250</td>\n",
       "</tr>\n",
       "<tr>\n",
       "  <th>I(age ** 2)</th>       <td>   -6.6871</td> <td>    1.165</td> <td>   -5.741</td> <td> 0.000</td> <td>   -8.970</td> <td>   -4.404</td>\n",
       "</tr>\n",
       "<tr>\n",
       "  <th>educ</th>              <td>  417.0962</td> <td>   83.656</td> <td>    4.986</td> <td> 0.000</td> <td>  253.134</td> <td>  581.058</td>\n",
       "</tr>\n",
       "</table>"
      ],
      "text/plain": [
       "<class 'statsmodels.iolib.summary.Summary'>\n",
       "\"\"\"\n",
       "                 Generalized Linear Model Regression Results                  \n",
       "==============================================================================\n",
       "Dep. Variable:                realinc   No. Observations:                 3856\n",
       "Model:                            GLM   Df Residuals:                     3848\n",
       "Model Family:                   Gamma   Df Model:                            7\n",
       "Link Function:               identity   Scale:                          1.0023\n",
       "Method:                          IRLS   Log-Likelihood:                -43819.\n",
       "Date:                Fri, 17 Aug 2018   Deviance:                       2917.9\n",
       "Time:                        13:24:40   Pearson chi2:                 3.86e+03\n",
       "No. Iterations:                   100   Covariance Type:             nonrobust\n",
       "=====================================================================================\n",
       "                        coef    std err          z      P>|z|      [0.025      0.975]\n",
       "-------------------------------------------------------------------------------------\n",
       "Intercept          2.934e+04   3125.301      9.389      0.000    2.32e+04    3.55e+04\n",
       "C(marital)[T.2.0] -1.571e+04   1589.101     -9.886      0.000   -1.88e+04   -1.26e+04\n",
       "C(marital)[T.3.0] -1.461e+04   1080.848    -13.514      0.000   -1.67e+04   -1.25e+04\n",
       "C(marital)[T.4.0] -2.199e+04   1943.868    -11.312      0.000   -2.58e+04   -1.82e+04\n",
       "C(marital)[T.5.0] -1.868e+04   1381.218    -13.527      0.000   -2.14e+04    -1.6e+04\n",
       "age                 479.7254    120.678      3.975      0.000     243.201     716.250\n",
       "I(age ** 2)          -6.6871      1.165     -5.741      0.000      -8.970      -4.404\n",
       "educ                417.0962     83.656      4.986      0.000     253.134     581.058\n",
       "=====================================================================================\n",
       "\"\"\""
      ]
     },
     "execution_count": 104,
     "metadata": {},
     "output_type": "execute_result"
    }
   ],
   "source": [
    "# slide 35\n",
    "\n",
    "gamma_realinc = smf.glm('realinc ~ age + I(age**2) + C(marital) + educ', data=sub, \n",
    "        family=sm.families.Gamma(link = sm.genmod.families.links.identity)).fit()\n",
    "gamma_realinc.summary()"
   ]
  },
  {
   "cell_type": "code",
   "execution_count": 100,
   "metadata": {},
   "outputs": [],
   "source": [
    "# slide 36\n",
    "\n",
    "lm_realinc2 = OLS.from_formula('np.log(realinc) ~ age + I(age**2) + C(marital) + educ', data=sub).fit()"
   ]
  },
  {
   "cell_type": "code",
   "execution_count": 103,
   "metadata": {},
   "outputs": [
    {
     "data": {
      "text/html": [
       "<table class=\"simpletable\">\n",
       "<caption>Generalized Linear Model Regression Results</caption>\n",
       "<tr>\n",
       "  <th>Dep. Variable:</th>       <td>realinc</td>     <th>  No. Observations:  </th>  <td>  3856</td>  \n",
       "</tr>\n",
       "<tr>\n",
       "  <th>Model:</th>                 <td>GLM</td>       <th>  Df Residuals:      </th>  <td>  3848</td>  \n",
       "</tr>\n",
       "<tr>\n",
       "  <th>Model Family:</th>         <td>Gamma</td>      <th>  Df Model:          </th>  <td>     7</td>  \n",
       "</tr>\n",
       "<tr>\n",
       "  <th>Link Function:</th>         <td>log</td>       <th>  Scale:             </th> <td> 0.83920</td> \n",
       "</tr>\n",
       "<tr>\n",
       "  <th>Method:</th>               <td>IRLS</td>       <th>  Log-Likelihood:    </th> <td> -43499.</td> \n",
       "</tr>\n",
       "<tr>\n",
       "  <th>Date:</th>           <td>Fri, 17 Aug 2018</td> <th>  Deviance:          </th> <td>  2564.2</td> \n",
       "</tr>\n",
       "<tr>\n",
       "  <th>Time:</th>               <td>13:09:58</td>     <th>  Pearson chi2:      </th> <td>3.23e+03</td> \n",
       "</tr>\n",
       "<tr>\n",
       "  <th>No. Iterations:</th>        <td>17</td>        <th>  Covariance Type:   </th> <td>nonrobust</td>\n",
       "</tr>\n",
       "</table>\n",
       "<table class=\"simpletable\">\n",
       "<tr>\n",
       "          <td></td>             <th>coef</th>     <th>std err</th>      <th>z</th>      <th>P>|z|</th>  <th>[0.025</th>    <th>0.975]</th>  \n",
       "</tr>\n",
       "<tr>\n",
       "  <th>Intercept</th>         <td>    8.6120</td> <td>    0.141</td> <td>   61.232</td> <td> 0.000</td> <td>    8.336</td> <td>    8.888</td>\n",
       "</tr>\n",
       "<tr>\n",
       "  <th>C(marital)[T.2.0]</th> <td>   -0.6165</td> <td>    0.065</td> <td>   -9.454</td> <td> 0.000</td> <td>   -0.744</td> <td>   -0.489</td>\n",
       "</tr>\n",
       "<tr>\n",
       "  <th>C(marital)[T.3.0]</th> <td>   -0.5652</td> <td>    0.042</td> <td>  -13.376</td> <td> 0.000</td> <td>   -0.648</td> <td>   -0.482</td>\n",
       "</tr>\n",
       "<tr>\n",
       "  <th>C(marital)[T.4.0]</th> <td>   -0.6131</td> <td>    0.085</td> <td>   -7.210</td> <td> 0.000</td> <td>   -0.780</td> <td>   -0.446</td>\n",
       "</tr>\n",
       "<tr>\n",
       "  <th>C(marital)[T.5.0]</th> <td>   -0.4760</td> <td>    0.041</td> <td>  -11.684</td> <td> 0.000</td> <td>   -0.556</td> <td>   -0.396</td>\n",
       "</tr>\n",
       "<tr>\n",
       "  <th>age</th>               <td>    0.0317</td> <td>    0.005</td> <td>    5.984</td> <td> 0.000</td> <td>    0.021</td> <td>    0.042</td>\n",
       "</tr>\n",
       "<tr>\n",
       "  <th>I(age ** 2)</th>       <td>   -0.0003</td> <td> 5.17e-05</td> <td>   -6.279</td> <td> 0.000</td> <td>   -0.000</td> <td>   -0.000</td>\n",
       "</tr>\n",
       "<tr>\n",
       "  <th>educ</th>              <td>    0.0973</td> <td>    0.005</td> <td>   20.795</td> <td> 0.000</td> <td>    0.088</td> <td>    0.106</td>\n",
       "</tr>\n",
       "</table>"
      ],
      "text/plain": [
       "<class 'statsmodels.iolib.summary.Summary'>\n",
       "\"\"\"\n",
       "                 Generalized Linear Model Regression Results                  \n",
       "==============================================================================\n",
       "Dep. Variable:                realinc   No. Observations:                 3856\n",
       "Model:                            GLM   Df Residuals:                     3848\n",
       "Model Family:                   Gamma   Df Model:                            7\n",
       "Link Function:                    log   Scale:                         0.83920\n",
       "Method:                          IRLS   Log-Likelihood:                -43499.\n",
       "Date:                Fri, 17 Aug 2018   Deviance:                       2564.2\n",
       "Time:                        13:09:58   Pearson chi2:                 3.23e+03\n",
       "No. Iterations:                    17   Covariance Type:             nonrobust\n",
       "=====================================================================================\n",
       "                        coef    std err          z      P>|z|      [0.025      0.975]\n",
       "-------------------------------------------------------------------------------------\n",
       "Intercept             8.6120      0.141     61.232      0.000       8.336       8.888\n",
       "C(marital)[T.2.0]    -0.6165      0.065     -9.454      0.000      -0.744      -0.489\n",
       "C(marital)[T.3.0]    -0.5652      0.042    -13.376      0.000      -0.648      -0.482\n",
       "C(marital)[T.4.0]    -0.6131      0.085     -7.210      0.000      -0.780      -0.446\n",
       "C(marital)[T.5.0]    -0.4760      0.041    -11.684      0.000      -0.556      -0.396\n",
       "age                   0.0317      0.005      5.984      0.000       0.021       0.042\n",
       "I(age ** 2)          -0.0003   5.17e-05     -6.279      0.000      -0.000      -0.000\n",
       "educ                  0.0973      0.005     20.795      0.000       0.088       0.106\n",
       "=====================================================================================\n",
       "\"\"\""
      ]
     },
     "execution_count": 103,
     "metadata": {},
     "output_type": "execute_result"
    }
   ],
   "source": [
    "gamma_realinc2 = smf.glm('realinc ~ age + I(age**2) + C(marital) + educ', data=sub, \n",
    "                        family=sm.families.Gamma(link=sm.genmod.families.links.log)).fit()\n",
    "gamma_realinc2.summary()"
   ]
  },
  {
   "cell_type": "code",
   "execution_count": 106,
   "metadata": {},
   "outputs": [
    {
     "data": {
      "text/html": [
       "<div>\n",
       "<style scoped>\n",
       "    .dataframe tbody tr th:only-of-type {\n",
       "        vertical-align: middle;\n",
       "    }\n",
       "\n",
       "    .dataframe tbody tr th {\n",
       "        vertical-align: top;\n",
       "    }\n",
       "\n",
       "    .dataframe thead th {\n",
       "        text-align: right;\n",
       "    }\n",
       "</style>\n",
       "<table border=\"1\" class=\"dataframe\">\n",
       "  <thead>\n",
       "    <tr style=\"text-align: right;\">\n",
       "      <th></th>\n",
       "      <th>OLS</th>\n",
       "      <th>Gamma(identity)</th>\n",
       "      <th>OLS(log)</th>\n",
       "      <th>Gamma(log)</th>\n",
       "    </tr>\n",
       "  </thead>\n",
       "  <tbody>\n",
       "    <tr>\n",
       "      <th>Intercept</th>\n",
       "      <td>-31008.719</td>\n",
       "      <td>29342.726</td>\n",
       "      <td>7.710</td>\n",
       "      <td>8.612</td>\n",
       "    </tr>\n",
       "    <tr>\n",
       "      <th>C(marital)[T.2.0]</th>\n",
       "      <td>-17774.434</td>\n",
       "      <td>-15709.214</td>\n",
       "      <td>-0.758</td>\n",
       "      <td>-0.617</td>\n",
       "    </tr>\n",
       "    <tr>\n",
       "      <th>C(marital)[T.3.0]</th>\n",
       "      <td>-20236.091</td>\n",
       "      <td>-14606.715</td>\n",
       "      <td>-0.689</td>\n",
       "      <td>-0.565</td>\n",
       "    </tr>\n",
       "    <tr>\n",
       "      <th>C(marital)[T.4.0]</th>\n",
       "      <td>-19181.646</td>\n",
       "      <td>-21989.660</td>\n",
       "      <td>-0.823</td>\n",
       "      <td>-0.613</td>\n",
       "    </tr>\n",
       "    <tr>\n",
       "      <th>C(marital)[T.5.0]</th>\n",
       "      <td>-16134.951</td>\n",
       "      <td>-18683.070</td>\n",
       "      <td>-0.643</td>\n",
       "      <td>-0.476</td>\n",
       "    </tr>\n",
       "    <tr>\n",
       "      <th>age</th>\n",
       "      <td>1288.677</td>\n",
       "      <td>479.725</td>\n",
       "      <td>0.050</td>\n",
       "      <td>0.032</td>\n",
       "    </tr>\n",
       "    <tr>\n",
       "      <th>I(age ** 2)</th>\n",
       "      <td>-12.479</td>\n",
       "      <td>-6.687</td>\n",
       "      <td>-0.000</td>\n",
       "      <td>-0.000</td>\n",
       "    </tr>\n",
       "    <tr>\n",
       "      <th>educ</th>\n",
       "      <td>3328.114</td>\n",
       "      <td>417.096</td>\n",
       "      <td>0.111</td>\n",
       "      <td>0.097</td>\n",
       "    </tr>\n",
       "  </tbody>\n",
       "</table>\n",
       "</div>"
      ],
      "text/plain": [
       "                         OLS  Gamma(identity)  OLS(log)  Gamma(log)\n",
       "Intercept         -31008.719        29342.726     7.710       8.612\n",
       "C(marital)[T.2.0] -17774.434       -15709.214    -0.758      -0.617\n",
       "C(marital)[T.3.0] -20236.091       -14606.715    -0.689      -0.565\n",
       "C(marital)[T.4.0] -19181.646       -21989.660    -0.823      -0.613\n",
       "C(marital)[T.5.0] -16134.951       -18683.070    -0.643      -0.476\n",
       "age                 1288.677          479.725     0.050       0.032\n",
       "I(age ** 2)          -12.479           -6.687    -0.000      -0.000\n",
       "educ                3328.114          417.096     0.111       0.097"
      ]
     },
     "execution_count": 106,
     "metadata": {},
     "output_type": "execute_result"
    }
   ],
   "source": [
    "# slide 37\n",
    "coef_comparison = pd.DataFrame({'OLS': lm_realinc.params, \n",
    "                                'Gamma(identity)': gamma_realinc.params,\n",
    "                                'OLS(log)': lm_realinc2.params, \n",
    "                                'Gamma(log)': gamma_realinc2.params})\n",
    "round(coef_comparison, 3)"
   ]
  },
  {
   "cell_type": "markdown",
   "metadata": {},
   "source": [
    "## 2. Tobit regression"
   ]
  },
  {
   "cell_type": "code",
   "execution_count": 108,
   "metadata": {},
   "outputs": [
    {
     "data": {
      "text/html": [
       "<table class=\"simpletable\">\n",
       "<caption>OLS Regression Results</caption>\n",
       "<tr>\n",
       "  <th>Dep. Variable:</th>         <td>wordsum</td>     <th>  R-squared:         </th> <td>   0.245</td>\n",
       "</tr>\n",
       "<tr>\n",
       "  <th>Model:</th>                   <td>OLS</td>       <th>  Adj. R-squared:    </th> <td>   0.242</td>\n",
       "</tr>\n",
       "<tr>\n",
       "  <th>Method:</th>             <td>Least Squares</td>  <th>  F-statistic:       </th> <td>   76.85</td>\n",
       "</tr>\n",
       "<tr>\n",
       "  <th>Date:</th>             <td>Fri, 17 Aug 2018</td> <th>  Prob (F-statistic):</th> <td>7.34e-70</td>\n",
       "</tr>\n",
       "<tr>\n",
       "  <th>Time:</th>                 <td>13:31:25</td>     <th>  Log-Likelihood:    </th> <td> -2337.5</td>\n",
       "</tr>\n",
       "<tr>\n",
       "  <th>No. Observations:</th>      <td>  1189</td>      <th>  AIC:               </th> <td>   4687.</td>\n",
       "</tr>\n",
       "<tr>\n",
       "  <th>Df Residuals:</th>          <td>  1183</td>      <th>  BIC:               </th> <td>   4717.</td>\n",
       "</tr>\n",
       "<tr>\n",
       "  <th>Df Model:</th>              <td>     5</td>      <th>                     </th>     <td> </td>   \n",
       "</tr>\n",
       "<tr>\n",
       "  <th>Covariance Type:</th>      <td>nonrobust</td>    <th>                     </th>     <td> </td>   \n",
       "</tr>\n",
       "</table>\n",
       "<table class=\"simpletable\">\n",
       "<tr>\n",
       "        <td></td>          <th>coef</th>     <th>std err</th>      <th>t</th>      <th>P>|t|</th>  <th>[0.025</th>    <th>0.975]</th>  \n",
       "</tr>\n",
       "<tr>\n",
       "  <th>Intercept</th>    <td>    2.5883</td> <td>    0.282</td> <td>    9.171</td> <td> 0.000</td> <td>    2.035</td> <td>    3.142</td>\n",
       "</tr>\n",
       "<tr>\n",
       "  <th>C(race)[T.2]</th> <td>   -0.8893</td> <td>    0.158</td> <td>   -5.643</td> <td> 0.000</td> <td>   -1.198</td> <td>   -0.580</td>\n",
       "</tr>\n",
       "<tr>\n",
       "  <th>C(race)[T.3]</th> <td>   -0.7830</td> <td>    0.162</td> <td>   -4.837</td> <td> 0.000</td> <td>   -1.101</td> <td>   -0.465</td>\n",
       "</tr>\n",
       "<tr>\n",
       "  <th>age</th>          <td>    0.0092</td> <td>    0.003</td> <td>    3.002</td> <td> 0.003</td> <td>    0.003</td> <td>    0.015</td>\n",
       "</tr>\n",
       "<tr>\n",
       "  <th>educ</th>         <td>    0.2418</td> <td>    0.017</td> <td>   14.348</td> <td> 0.000</td> <td>    0.209</td> <td>    0.275</td>\n",
       "</tr>\n",
       "<tr>\n",
       "  <th>realinc</th>      <td> 3.797e-06</td> <td> 1.64e-06</td> <td>    2.310</td> <td> 0.021</td> <td> 5.72e-07</td> <td> 7.02e-06</td>\n",
       "</tr>\n",
       "</table>\n",
       "<table class=\"simpletable\">\n",
       "<tr>\n",
       "  <th>Omnibus:</th>       <td>41.470</td> <th>  Durbin-Watson:     </th> <td>   1.884</td>\n",
       "</tr>\n",
       "<tr>\n",
       "  <th>Prob(Omnibus):</th> <td> 0.000</td> <th>  Jarque-Bera (JB):  </th> <td>  46.887</td>\n",
       "</tr>\n",
       "<tr>\n",
       "  <th>Skew:</th>          <td>-0.424</td> <th>  Prob(JB):          </th> <td>6.58e-11</td>\n",
       "</tr>\n",
       "<tr>\n",
       "  <th>Kurtosis:</th>      <td> 3.478</td> <th>  Cond. No.          </th> <td>2.75e+05</td>\n",
       "</tr>\n",
       "</table><br/><br/>Warnings:<br/>[1] Standard Errors assume that the covariance matrix of the errors is correctly specified.<br/>[2] The condition number is large, 2.75e+05. This might indicate that there are<br/>strong multicollinearity or other numerical problems."
      ],
      "text/plain": [
       "<class 'statsmodels.iolib.summary.Summary'>\n",
       "\"\"\"\n",
       "                            OLS Regression Results                            \n",
       "==============================================================================\n",
       "Dep. Variable:                wordsum   R-squared:                       0.245\n",
       "Model:                            OLS   Adj. R-squared:                  0.242\n",
       "Method:                 Least Squares   F-statistic:                     76.85\n",
       "Date:                Fri, 17 Aug 2018   Prob (F-statistic):           7.34e-70\n",
       "Time:                        13:31:25   Log-Likelihood:                -2337.5\n",
       "No. Observations:                1189   AIC:                             4687.\n",
       "Df Residuals:                    1183   BIC:                             4717.\n",
       "Df Model:                           5                                         \n",
       "Covariance Type:            nonrobust                                         \n",
       "================================================================================\n",
       "                   coef    std err          t      P>|t|      [0.025      0.975]\n",
       "--------------------------------------------------------------------------------\n",
       "Intercept        2.5883      0.282      9.171      0.000       2.035       3.142\n",
       "C(race)[T.2]    -0.8893      0.158     -5.643      0.000      -1.198      -0.580\n",
       "C(race)[T.3]    -0.7830      0.162     -4.837      0.000      -1.101      -0.465\n",
       "age              0.0092      0.003      3.002      0.003       0.003       0.015\n",
       "educ             0.2418      0.017     14.348      0.000       0.209       0.275\n",
       "realinc       3.797e-06   1.64e-06      2.310      0.021    5.72e-07    7.02e-06\n",
       "==============================================================================\n",
       "Omnibus:                       41.470   Durbin-Watson:                   1.884\n",
       "Prob(Omnibus):                  0.000   Jarque-Bera (JB):               46.887\n",
       "Skew:                          -0.424   Prob(JB):                     6.58e-11\n",
       "Kurtosis:                       3.478   Cond. No.                     2.75e+05\n",
       "==============================================================================\n",
       "\n",
       "Warnings:\n",
       "[1] Standard Errors assume that the covariance matrix of the errors is correctly specified.\n",
       "[2] The condition number is large, 2.75e+05. This might indicate that there are\n",
       "strong multicollinearity or other numerical problems.\n",
       "\"\"\""
      ]
     },
     "execution_count": 108,
     "metadata": {},
     "output_type": "execute_result"
    }
   ],
   "source": [
    "# slide 64\n",
    "# simple OLS model first\n",
    "\n",
    "OLS.from_formula('wordsum ~ age + educ + realinc + C(race)', data=gss_2006).fit().summary()"
   ]
  },
  {
   "cell_type": "code",
   "execution_count": 126,
   "metadata": {},
   "outputs": [],
   "source": [
    "from rpy2.robjects.packages import importr\n",
    "\n",
    "VGAM = importr('VGAM')\n",
    "\n",
    "%load_ext rpy2.ipython"
   ]
  },
  {
   "cell_type": "code",
   "execution_count": 129,
   "metadata": {},
   "outputs": [],
   "source": [
    "d = gss_2006[['wordsum', 'age', 'educ', 'realinc', 'race']].copy()\n",
    "d = d.dropna()"
   ]
  },
  {
   "cell_type": "code",
   "execution_count": 130,
   "metadata": {},
   "outputs": [
    {
     "name": "stderr",
     "output_type": "stream",
     "text": [
      "/Users/melindasong/anaconda/envs/py36/lib/python3.6/site-packages/rpy2/robjects/pandas2ri.py:191: FutureWarning: from_items is deprecated. Please use DataFrame.from_dict(dict(items), ...) instead. DataFrame.from_dict(OrderedDict(items)) may be used to preserve the key order.\n",
      "  res = PandasDataFrame.from_items(items)\n"
     ]
    },
    {
     "data": {
      "text/plain": [
       "\n",
       "Call:\n",
       "vglm(formula = wordsum ~ age + educ + realinc + as.factor(race), \n",
       "    family = tobit(Upper = 10), data = d)\n",
       "\n",
       "\n",
       "Coefficients:\n",
       "   (Intercept):1    (Intercept):2              age             educ \n",
       "    2.433398e+00     5.852309e-01     1.007015e-02     2.521583e-01 \n",
       "         realinc as.factor(race)2 as.factor(race)3 \n",
       "    3.979296e-06    -9.184553e-01    -7.921469e-01 \n",
       "\n",
       "Degrees of Freedom: 2378 Total; 2371 Residual\n",
       "Log-likelihood: -2346.161 \n"
      ]
     },
     "metadata": {},
     "output_type": "display_data"
    }
   ],
   "source": [
    "%%R -i d\n",
    "\n",
    "vglm(formula = wordsum ~ age + educ + realinc + as.factor(race),\n",
    "     family = tobit(Upper = 10), data = d)"
   ]
  },
  {
   "cell_type": "markdown",
   "metadata": {},
   "source": [
    "## Python implementation of tobit\n",
    "\n",
    "https://github.com/jamesdj/tobit"
   ]
  },
  {
   "cell_type": "code",
   "execution_count": 118,
   "metadata": {},
   "outputs": [],
   "source": [
    "from tobit import *"
   ]
  },
  {
   "cell_type": "code",
   "execution_count": 123,
   "metadata": {},
   "outputs": [],
   "source": [
    "d = gss_2006[['wordsum', 'age', 'educ', 'realinc', 'race']].copy()\n",
    "d['race'] = d.race.astype('category')\n",
    "\n",
    "d = d.dropna().reset_index(drop=True)\n",
    "x = d[['age', 'educ', 'realinc', 'race']].copy()\n",
    "y_orig = d['wordsum'].copy()\n",
    "\n",
    "n_quantiles = 10\n",
    "quantile = 100/float(n_quantiles)\n",
    "upper = np.percentile(y_orig, (n_quantiles - 1) * quantile)\n",
    "right = y_orig > upper\n",
    "cens= pd.Series(np.zeros((d.shape[0], )))\n",
    "cens[right] = 1\n",
    "y = y_orig.clip(upper=upper)\n"
   ]
  },
  {
   "cell_type": "code",
   "execution_count": 124,
   "metadata": {},
   "outputs": [
    {
     "ename": "TypeError",
     "evalue": "ufunc 'isnan' not supported for the input types, and the inputs could not be safely coerced to any supported types according to the casting rule ''safe''",
     "output_type": "error",
     "traceback": [
      "\u001b[0;31m---------------------------------------------------------------------------\u001b[0m",
      "\u001b[0;31mTypeError\u001b[0m                                 Traceback (most recent call last)",
      "\u001b[0;32m<ipython-input-124-ff90d90a348b>\u001b[0m in \u001b[0;36m<module>\u001b[0;34m()\u001b[0m\n\u001b[1;32m      1\u001b[0m \u001b[0mtr\u001b[0m \u001b[0;34m=\u001b[0m \u001b[0mTobitModel\u001b[0m\u001b[0;34m(\u001b[0m\u001b[0;34m)\u001b[0m\u001b[0;34m\u001b[0m\u001b[0m\n\u001b[1;32m      2\u001b[0m \u001b[0;34m\u001b[0m\u001b[0m\n\u001b[0;32m----> 3\u001b[0;31m \u001b[0mresult\u001b[0m \u001b[0;34m=\u001b[0m \u001b[0mtr\u001b[0m\u001b[0;34m.\u001b[0m\u001b[0mfit\u001b[0m\u001b[0;34m(\u001b[0m\u001b[0mx\u001b[0m\u001b[0;34m,\u001b[0m \u001b[0my\u001b[0m\u001b[0;34m,\u001b[0m \u001b[0mcens\u001b[0m\u001b[0;34m)\u001b[0m\u001b[0;34m\u001b[0m\u001b[0m\n\u001b[0m",
      "\u001b[0;32m~/Downloads/Adv analytic techniques/Python/tobit.py\u001b[0m in \u001b[0;36mfit\u001b[0;34m(self, x, y, cens, verbose)\u001b[0m\n\u001b[1;32m    148\u001b[0m \u001b[0;34m\u001b[0m\u001b[0m\n\u001b[1;32m    149\u001b[0m         result = minimize(lambda params: tobit_neg_log_likelihood(xs, ys, params), params0, method='BFGS',\n\u001b[0;32m--> 150\u001b[0;31m                           jac=lambda params: tobit_neg_log_likelihood_der(xs, ys, params), options={'disp': verbose})\n\u001b[0m\u001b[1;32m    151\u001b[0m         \u001b[0;32mif\u001b[0m \u001b[0mverbose\u001b[0m\u001b[0;34m:\u001b[0m\u001b[0;34m\u001b[0m\u001b[0m\n\u001b[1;32m    152\u001b[0m             \u001b[0mprint\u001b[0m\u001b[0;34m(\u001b[0m\u001b[0mresult\u001b[0m\u001b[0;34m)\u001b[0m\u001b[0;34m\u001b[0m\u001b[0m\n",
      "\u001b[0;32m~/anaconda/envs/py36/lib/python3.6/site-packages/scipy/optimize/_minimize.py\u001b[0m in \u001b[0;36mminimize\u001b[0;34m(fun, x0, args, method, jac, hess, hessp, bounds, constraints, tol, callback, options)\u001b[0m\n\u001b[1;32m    595\u001b[0m         \u001b[0;32mreturn\u001b[0m \u001b[0m_minimize_cg\u001b[0m\u001b[0;34m(\u001b[0m\u001b[0mfun\u001b[0m\u001b[0;34m,\u001b[0m \u001b[0mx0\u001b[0m\u001b[0;34m,\u001b[0m \u001b[0margs\u001b[0m\u001b[0;34m,\u001b[0m \u001b[0mjac\u001b[0m\u001b[0;34m,\u001b[0m \u001b[0mcallback\u001b[0m\u001b[0;34m,\u001b[0m \u001b[0;34m**\u001b[0m\u001b[0moptions\u001b[0m\u001b[0;34m)\u001b[0m\u001b[0;34m\u001b[0m\u001b[0m\n\u001b[1;32m    596\u001b[0m     \u001b[0;32melif\u001b[0m \u001b[0mmeth\u001b[0m \u001b[0;34m==\u001b[0m \u001b[0;34m'bfgs'\u001b[0m\u001b[0;34m:\u001b[0m\u001b[0;34m\u001b[0m\u001b[0m\n\u001b[0;32m--> 597\u001b[0;31m         \u001b[0;32mreturn\u001b[0m \u001b[0m_minimize_bfgs\u001b[0m\u001b[0;34m(\u001b[0m\u001b[0mfun\u001b[0m\u001b[0;34m,\u001b[0m \u001b[0mx0\u001b[0m\u001b[0;34m,\u001b[0m \u001b[0margs\u001b[0m\u001b[0;34m,\u001b[0m \u001b[0mjac\u001b[0m\u001b[0;34m,\u001b[0m \u001b[0mcallback\u001b[0m\u001b[0;34m,\u001b[0m \u001b[0;34m**\u001b[0m\u001b[0moptions\u001b[0m\u001b[0;34m)\u001b[0m\u001b[0;34m\u001b[0m\u001b[0m\n\u001b[0m\u001b[1;32m    598\u001b[0m     \u001b[0;32melif\u001b[0m \u001b[0mmeth\u001b[0m \u001b[0;34m==\u001b[0m \u001b[0;34m'newton-cg'\u001b[0m\u001b[0;34m:\u001b[0m\u001b[0;34m\u001b[0m\u001b[0m\n\u001b[1;32m    599\u001b[0m         return _minimize_newtoncg(fun, x0, args, jac, hess, hessp, callback,\n",
      "\u001b[0;32m~/anaconda/envs/py36/lib/python3.6/site-packages/scipy/optimize/optimize.py\u001b[0m in \u001b[0;36m_minimize_bfgs\u001b[0;34m(fun, x0, args, jac, callback, gtol, norm, eps, maxiter, disp, return_all, **unknown_options)\u001b[0m\n\u001b[1;32m    961\u001b[0m     \u001b[0;32melse\u001b[0m\u001b[0;34m:\u001b[0m\u001b[0;34m\u001b[0m\u001b[0m\n\u001b[1;32m    962\u001b[0m         \u001b[0mgrad_calls\u001b[0m\u001b[0;34m,\u001b[0m \u001b[0mmyfprime\u001b[0m \u001b[0;34m=\u001b[0m \u001b[0mwrap_function\u001b[0m\u001b[0;34m(\u001b[0m\u001b[0mfprime\u001b[0m\u001b[0;34m,\u001b[0m \u001b[0margs\u001b[0m\u001b[0;34m)\u001b[0m\u001b[0;34m\u001b[0m\u001b[0m\n\u001b[0;32m--> 963\u001b[0;31m     \u001b[0mgfk\u001b[0m \u001b[0;34m=\u001b[0m \u001b[0mmyfprime\u001b[0m\u001b[0;34m(\u001b[0m\u001b[0mx0\u001b[0m\u001b[0;34m)\u001b[0m\u001b[0;34m\u001b[0m\u001b[0m\n\u001b[0m\u001b[1;32m    964\u001b[0m     \u001b[0mk\u001b[0m \u001b[0;34m=\u001b[0m \u001b[0;36m0\u001b[0m\u001b[0;34m\u001b[0m\u001b[0m\n\u001b[1;32m    965\u001b[0m     \u001b[0mN\u001b[0m \u001b[0;34m=\u001b[0m \u001b[0mlen\u001b[0m\u001b[0;34m(\u001b[0m\u001b[0mx0\u001b[0m\u001b[0;34m)\u001b[0m\u001b[0;34m\u001b[0m\u001b[0m\n",
      "\u001b[0;32m~/anaconda/envs/py36/lib/python3.6/site-packages/scipy/optimize/optimize.py\u001b[0m in \u001b[0;36mfunction_wrapper\u001b[0;34m(*wrapper_args)\u001b[0m\n\u001b[1;32m    291\u001b[0m     \u001b[0;32mdef\u001b[0m \u001b[0mfunction_wrapper\u001b[0m\u001b[0;34m(\u001b[0m\u001b[0;34m*\u001b[0m\u001b[0mwrapper_args\u001b[0m\u001b[0;34m)\u001b[0m\u001b[0;34m:\u001b[0m\u001b[0;34m\u001b[0m\u001b[0m\n\u001b[1;32m    292\u001b[0m         \u001b[0mncalls\u001b[0m\u001b[0;34m[\u001b[0m\u001b[0;36m0\u001b[0m\u001b[0;34m]\u001b[0m \u001b[0;34m+=\u001b[0m \u001b[0;36m1\u001b[0m\u001b[0;34m\u001b[0m\u001b[0m\n\u001b[0;32m--> 293\u001b[0;31m         \u001b[0;32mreturn\u001b[0m \u001b[0mfunction\u001b[0m\u001b[0;34m(\u001b[0m\u001b[0;34m*\u001b[0m\u001b[0;34m(\u001b[0m\u001b[0mwrapper_args\u001b[0m \u001b[0;34m+\u001b[0m \u001b[0margs\u001b[0m\u001b[0;34m)\u001b[0m\u001b[0;34m)\u001b[0m\u001b[0;34m\u001b[0m\u001b[0m\n\u001b[0m\u001b[1;32m    294\u001b[0m \u001b[0;34m\u001b[0m\u001b[0m\n\u001b[1;32m    295\u001b[0m     \u001b[0;32mreturn\u001b[0m \u001b[0mncalls\u001b[0m\u001b[0;34m,\u001b[0m \u001b[0mfunction_wrapper\u001b[0m\u001b[0;34m\u001b[0m\u001b[0m\n",
      "\u001b[0;32m~/Downloads/Adv analytic techniques/Python/tobit.py\u001b[0m in \u001b[0;36m<lambda>\u001b[0;34m(params)\u001b[0m\n\u001b[1;32m    148\u001b[0m \u001b[0;34m\u001b[0m\u001b[0m\n\u001b[1;32m    149\u001b[0m         result = minimize(lambda params: tobit_neg_log_likelihood(xs, ys, params), params0, method='BFGS',\n\u001b[0;32m--> 150\u001b[0;31m                           jac=lambda params: tobit_neg_log_likelihood_der(xs, ys, params), options={'disp': verbose})\n\u001b[0m\u001b[1;32m    151\u001b[0m         \u001b[0;32mif\u001b[0m \u001b[0mverbose\u001b[0m\u001b[0;34m:\u001b[0m\u001b[0;34m\u001b[0m\u001b[0m\n\u001b[1;32m    152\u001b[0m             \u001b[0mprint\u001b[0m\u001b[0;34m(\u001b[0m\u001b[0mresult\u001b[0m\u001b[0;34m)\u001b[0m\u001b[0;34m\u001b[0m\u001b[0m\n",
      "\u001b[0;32m~/Downloads/Adv analytic techniques/Python/tobit.py\u001b[0m in \u001b[0;36mtobit_neg_log_likelihood_der\u001b[0;34m(xs, ys, params)\u001b[0m\n\u001b[1;32m     93\u001b[0m     \u001b[0;32mif\u001b[0m \u001b[0my_right\u001b[0m \u001b[0;32mis\u001b[0m \u001b[0;32mnot\u001b[0m \u001b[0;32mNone\u001b[0m\u001b[0;34m:\u001b[0m\u001b[0;34m\u001b[0m\u001b[0m\n\u001b[1;32m     94\u001b[0m         \u001b[0mright_stats\u001b[0m \u001b[0;34m=\u001b[0m \u001b[0;34m(\u001b[0m\u001b[0mnp\u001b[0m\u001b[0;34m.\u001b[0m\u001b[0mdot\u001b[0m\u001b[0;34m(\u001b[0m\u001b[0mx_right\u001b[0m\u001b[0;34m,\u001b[0m \u001b[0mb\u001b[0m\u001b[0;34m)\u001b[0m \u001b[0;34m-\u001b[0m \u001b[0my_right\u001b[0m\u001b[0;34m)\u001b[0m \u001b[0;34m/\u001b[0m \u001b[0ms\u001b[0m\u001b[0;34m\u001b[0m\u001b[0m\n\u001b[0;32m---> 95\u001b[0;31m         \u001b[0mr_pdf\u001b[0m \u001b[0;34m=\u001b[0m \u001b[0mscipy\u001b[0m\u001b[0;34m.\u001b[0m\u001b[0mstats\u001b[0m\u001b[0;34m.\u001b[0m\u001b[0mnorm\u001b[0m\u001b[0;34m.\u001b[0m\u001b[0mlogpdf\u001b[0m\u001b[0;34m(\u001b[0m\u001b[0mright_stats\u001b[0m\u001b[0;34m)\u001b[0m\u001b[0;34m\u001b[0m\u001b[0m\n\u001b[0m\u001b[1;32m     96\u001b[0m         \u001b[0mr_cdf\u001b[0m \u001b[0;34m=\u001b[0m \u001b[0mlog_ndtr\u001b[0m\u001b[0;34m(\u001b[0m\u001b[0mright_stats\u001b[0m\u001b[0;34m)\u001b[0m\u001b[0;34m\u001b[0m\u001b[0m\n\u001b[1;32m     97\u001b[0m         \u001b[0mright_frac\u001b[0m \u001b[0;34m=\u001b[0m \u001b[0mnp\u001b[0m\u001b[0;34m.\u001b[0m\u001b[0mexp\u001b[0m\u001b[0;34m(\u001b[0m\u001b[0mr_pdf\u001b[0m \u001b[0;34m-\u001b[0m \u001b[0mr_cdf\u001b[0m\u001b[0;34m)\u001b[0m\u001b[0;34m\u001b[0m\u001b[0m\n",
      "\u001b[0;32m~/anaconda/envs/py36/lib/python3.6/site-packages/scipy/stats/_distn_infrastructure.py\u001b[0m in \u001b[0;36mlogpdf\u001b[0;34m(self, x, *args, **kwds)\u001b[0m\n\u001b[1;32m   1698\u001b[0m         \u001b[0moutput\u001b[0m \u001b[0;34m=\u001b[0m \u001b[0mempty\u001b[0m\u001b[0;34m(\u001b[0m\u001b[0mshape\u001b[0m\u001b[0;34m(\u001b[0m\u001b[0mcond\u001b[0m\u001b[0;34m)\u001b[0m\u001b[0;34m,\u001b[0m \u001b[0mdtyp\u001b[0m\u001b[0;34m)\u001b[0m\u001b[0;34m\u001b[0m\u001b[0m\n\u001b[1;32m   1699\u001b[0m         \u001b[0moutput\u001b[0m\u001b[0;34m.\u001b[0m\u001b[0mfill\u001b[0m\u001b[0;34m(\u001b[0m\u001b[0mNINF\u001b[0m\u001b[0;34m)\u001b[0m\u001b[0;34m\u001b[0m\u001b[0m\n\u001b[0;32m-> 1700\u001b[0;31m         \u001b[0mputmask\u001b[0m\u001b[0;34m(\u001b[0m\u001b[0moutput\u001b[0m\u001b[0;34m,\u001b[0m \u001b[0;34m(\u001b[0m\u001b[0;36m1\u001b[0m\u001b[0;34m-\u001b[0m\u001b[0mcond0\u001b[0m\u001b[0;34m)\u001b[0m\u001b[0;34m+\u001b[0m\u001b[0mnp\u001b[0m\u001b[0;34m.\u001b[0m\u001b[0misnan\u001b[0m\u001b[0;34m(\u001b[0m\u001b[0mx\u001b[0m\u001b[0;34m)\u001b[0m\u001b[0;34m,\u001b[0m \u001b[0mself\u001b[0m\u001b[0;34m.\u001b[0m\u001b[0mbadvalue\u001b[0m\u001b[0;34m)\u001b[0m\u001b[0;34m\u001b[0m\u001b[0m\n\u001b[0m\u001b[1;32m   1701\u001b[0m         \u001b[0;32mif\u001b[0m \u001b[0mnp\u001b[0m\u001b[0;34m.\u001b[0m\u001b[0many\u001b[0m\u001b[0;34m(\u001b[0m\u001b[0mcond\u001b[0m\u001b[0;34m)\u001b[0m\u001b[0;34m:\u001b[0m\u001b[0;34m\u001b[0m\u001b[0m\n\u001b[1;32m   1702\u001b[0m             \u001b[0mgoodargs\u001b[0m \u001b[0;34m=\u001b[0m \u001b[0margsreduce\u001b[0m\u001b[0;34m(\u001b[0m\u001b[0mcond\u001b[0m\u001b[0;34m,\u001b[0m \u001b[0;34m*\u001b[0m\u001b[0;34m(\u001b[0m\u001b[0;34m(\u001b[0m\u001b[0mx\u001b[0m\u001b[0;34m,\u001b[0m\u001b[0;34m)\u001b[0m\u001b[0;34m+\u001b[0m\u001b[0margs\u001b[0m\u001b[0;34m+\u001b[0m\u001b[0;34m(\u001b[0m\u001b[0mscale\u001b[0m\u001b[0;34m,\u001b[0m\u001b[0;34m)\u001b[0m\u001b[0;34m)\u001b[0m\u001b[0;34m)\u001b[0m\u001b[0;34m\u001b[0m\u001b[0m\n",
      "\u001b[0;31mTypeError\u001b[0m: ufunc 'isnan' not supported for the input types, and the inputs could not be safely coerced to any supported types according to the casting rule ''safe''"
     ]
    }
   ],
   "source": [
    "tr = TobitModel()\n",
    "\n",
    "result = tr.fit(x, y, cens)"
   ]
  },
  {
   "cell_type": "code",
   "execution_count": null,
   "metadata": {},
   "outputs": [],
   "source": []
  }
 ],
 "metadata": {
  "kernelspec": {
   "display_name": "py36",
   "language": "python",
   "name": "py36"
  },
  "language_info": {
   "codemirror_mode": {
    "name": "ipython",
    "version": 3
   },
   "file_extension": ".py",
   "mimetype": "text/x-python",
   "name": "python",
   "nbconvert_exporter": "python",
   "pygments_lexer": "ipython3",
   "version": "3.6.5"
  }
 },
 "nbformat": 4,
 "nbformat_minor": 2
}
