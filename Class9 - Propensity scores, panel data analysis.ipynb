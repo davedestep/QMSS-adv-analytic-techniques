{
 "cells": [
  {
   "cell_type": "markdown",
   "metadata": {},
   "source": [
    "# Advanced quantitative techniques - Class 9 - Propensity scores, first differences, fixed effects, random effects models"
   ]
  },
  {
   "cell_type": "code",
   "execution_count": 1,
   "metadata": {},
   "outputs": [],
   "source": [
    "import pandas as pd\n",
    "import numpy as np\n",
    "import seaborn as sns\n",
    "import matplotlib.pyplot as plt\n",
    "%matplotlib inline\n",
    "import statsmodels.api as sm\n",
    "import statsmodels.formula.api as smf\n",
    "import QMSS as qmss"
   ]
  },
  {
   "cell_type": "markdown",
   "metadata": {},
   "source": [
    "## 1. Propensity score matching"
   ]
  },
  {
   "cell_type": "code",
   "execution_count": 213,
   "metadata": {},
   "outputs": [],
   "source": [
    "# since the GSS_Cum file is quite large, we will only read in the columns that we need\n",
    "GSS = pd.read_csv('Data/GSS_Cum.csv', usecols=['year', 'happy', 'marital', 'born', 'parborn', 'region', 'wordsum', 'educ', 'paeduc', \n",
    "             'madeg', 'incom16', 'sex'])\n",
    "sub = GSS.dropna().copy()"
   ]
  },
  {
   "cell_type": "code",
   "execution_count": 214,
   "metadata": {},
   "outputs": [],
   "source": [
    "sub['n_happy'] = qmss.reverse_this(sub['happy'])\n",
    "sub['dm1'] = sub.marital==1\n",
    "sub['db1'] = sub.born==1\n",
    "sub['df1'] = sub.parborn==0\n",
    "sub['f_region'] = sub.region.astype('category')"
   ]
  },
  {
   "cell_type": "code",
   "execution_count": 19,
   "metadata": {},
   "outputs": [
    {
     "data": {
      "text/html": [
       "<table class=\"simpletable\">\n",
       "<caption>OLS Regression Results</caption>\n",
       "<tr>\n",
       "  <th>Dep. Variable:</th>         <td>n_happy</td>     <th>  R-squared:         </th> <td>   0.057</td>\n",
       "</tr>\n",
       "<tr>\n",
       "  <th>Model:</th>                   <td>OLS</td>       <th>  Adj. R-squared:    </th> <td>   0.054</td>\n",
       "</tr>\n",
       "<tr>\n",
       "  <th>Method:</th>             <td>Least Squares</td>  <th>  F-statistic:       </th> <td>   18.88</td>\n",
       "</tr>\n",
       "<tr>\n",
       "  <th>Date:</th>             <td>Mon, 20 Aug 2018</td> <th>  Prob (F-statistic):</th> <td>5.11e-53</td>\n",
       "</tr>\n",
       "<tr>\n",
       "  <th>Time:</th>                 <td>23:40:48</td>     <th>  Log-Likelihood:    </th> <td> -4553.9</td>\n",
       "</tr>\n",
       "<tr>\n",
       "  <th>No. Observations:</th>      <td>  5028</td>      <th>  AIC:               </th> <td>   9142.</td>\n",
       "</tr>\n",
       "<tr>\n",
       "  <th>Df Residuals:</th>          <td>  5011</td>      <th>  BIC:               </th> <td>   9253.</td>\n",
       "</tr>\n",
       "<tr>\n",
       "  <th>Df Model:</th>              <td>    16</td>      <th>                     </th>     <td> </td>   \n",
       "</tr>\n",
       "<tr>\n",
       "  <th>Covariance Type:</th>      <td>nonrobust</td>    <th>                     </th>     <td> </td>   \n",
       "</tr>\n",
       "</table>\n",
       "<table class=\"simpletable\">\n",
       "<tr>\n",
       "        <td></td>           <th>coef</th>     <th>std err</th>      <th>t</th>      <th>P>|t|</th>  <th>[0.025</th>    <th>0.975]</th>  \n",
       "</tr>\n",
       "<tr>\n",
       "  <th>Intercept</th>     <td>    1.7300</td> <td>    0.067</td> <td>   25.803</td> <td> 0.000</td> <td>    1.599</td> <td>    1.861</td>\n",
       "</tr>\n",
       "<tr>\n",
       "  <th>dm1[T.True]</th>   <td>    0.2640</td> <td>    0.018</td> <td>   15.057</td> <td> 0.000</td> <td>    0.230</td> <td>    0.298</td>\n",
       "</tr>\n",
       "<tr>\n",
       "  <th>db1[T.True]</th>   <td>    0.0476</td> <td>    0.040</td> <td>    1.196</td> <td> 0.232</td> <td>   -0.030</td> <td>    0.126</td>\n",
       "</tr>\n",
       "<tr>\n",
       "  <th>df1[T.True]</th>   <td>   -0.0077</td> <td>    0.029</td> <td>   -0.263</td> <td> 0.792</td> <td>   -0.065</td> <td>    0.050</td>\n",
       "</tr>\n",
       "<tr>\n",
       "  <th>f_region[T.2]</th> <td>   -0.0278</td> <td>    0.046</td> <td>   -0.600</td> <td> 0.548</td> <td>   -0.118</td> <td>    0.063</td>\n",
       "</tr>\n",
       "<tr>\n",
       "  <th>f_region[T.3]</th> <td>   -0.0589</td> <td>    0.044</td> <td>   -1.327</td> <td> 0.185</td> <td>   -0.146</td> <td>    0.028</td>\n",
       "</tr>\n",
       "<tr>\n",
       "  <th>f_region[T.4]</th> <td>   -0.0269</td> <td>    0.049</td> <td>   -0.544</td> <td> 0.587</td> <td>   -0.124</td> <td>    0.070</td>\n",
       "</tr>\n",
       "<tr>\n",
       "  <th>f_region[T.5]</th> <td>    0.0041</td> <td>    0.045</td> <td>    0.091</td> <td> 0.927</td> <td>   -0.084</td> <td>    0.092</td>\n",
       "</tr>\n",
       "<tr>\n",
       "  <th>f_region[T.6]</th> <td>    0.0123</td> <td>    0.054</td> <td>    0.228</td> <td> 0.819</td> <td>   -0.093</td> <td>    0.118</td>\n",
       "</tr>\n",
       "<tr>\n",
       "  <th>f_region[T.7]</th> <td>    0.0488</td> <td>    0.049</td> <td>    0.996</td> <td> 0.319</td> <td>   -0.047</td> <td>    0.145</td>\n",
       "</tr>\n",
       "<tr>\n",
       "  <th>f_region[T.8]</th> <td>    0.0491</td> <td>    0.052</td> <td>    0.954</td> <td> 0.340</td> <td>   -0.052</td> <td>    0.150</td>\n",
       "</tr>\n",
       "<tr>\n",
       "  <th>f_region[T.9]</th> <td>   -0.0152</td> <td>    0.046</td> <td>   -0.331</td> <td> 0.740</td> <td>   -0.105</td> <td>    0.075</td>\n",
       "</tr>\n",
       "<tr>\n",
       "  <th>wordsum</th>       <td>    0.0003</td> <td>    0.005</td> <td>    0.067</td> <td> 0.946</td> <td>   -0.009</td> <td>    0.010</td>\n",
       "</tr>\n",
       "<tr>\n",
       "  <th>educ</th>          <td>    0.0115</td> <td>    0.003</td> <td>    3.375</td> <td> 0.001</td> <td>    0.005</td> <td>    0.018</td>\n",
       "</tr>\n",
       "<tr>\n",
       "  <th>paeduc</th>        <td>   -0.0018</td> <td>    0.003</td> <td>   -0.678</td> <td> 0.498</td> <td>   -0.007</td> <td>    0.003</td>\n",
       "</tr>\n",
       "<tr>\n",
       "  <th>madeg</th>         <td>    0.0237</td> <td>    0.010</td> <td>    2.259</td> <td> 0.024</td> <td>    0.003</td> <td>    0.044</td>\n",
       "</tr>\n",
       "<tr>\n",
       "  <th>incom16</th>       <td>    0.0458</td> <td>    0.011</td> <td>    4.251</td> <td> 0.000</td> <td>    0.025</td> <td>    0.067</td>\n",
       "</tr>\n",
       "</table>\n",
       "<table class=\"simpletable\">\n",
       "<tr>\n",
       "  <th>Omnibus:</th>       <td>116.898</td> <th>  Durbin-Watson:     </th> <td>   1.948</td>\n",
       "</tr>\n",
       "<tr>\n",
       "  <th>Prob(Omnibus):</th> <td> 0.000</td>  <th>  Jarque-Bera (JB):  </th> <td>  70.475</td>\n",
       "</tr>\n",
       "<tr>\n",
       "  <th>Skew:</th>          <td>-0.138</td>  <th>  Prob(JB):          </th> <td>4.97e-16</td>\n",
       "</tr>\n",
       "<tr>\n",
       "  <th>Kurtosis:</th>      <td> 2.490</td>  <th>  Cond. No.          </th> <td>    284.</td>\n",
       "</tr>\n",
       "</table><br/><br/>Warnings:<br/>[1] Standard Errors assume that the covariance matrix of the errors is correctly specified."
      ],
      "text/plain": [
       "<class 'statsmodels.iolib.summary.Summary'>\n",
       "\"\"\"\n",
       "                            OLS Regression Results                            \n",
       "==============================================================================\n",
       "Dep. Variable:                n_happy   R-squared:                       0.057\n",
       "Model:                            OLS   Adj. R-squared:                  0.054\n",
       "Method:                 Least Squares   F-statistic:                     18.88\n",
       "Date:                Mon, 20 Aug 2018   Prob (F-statistic):           5.11e-53\n",
       "Time:                        23:40:48   Log-Likelihood:                -4553.9\n",
       "No. Observations:                5028   AIC:                             9142.\n",
       "Df Residuals:                    5011   BIC:                             9253.\n",
       "Df Model:                          16                                         \n",
       "Covariance Type:            nonrobust                                         \n",
       "=================================================================================\n",
       "                    coef    std err          t      P>|t|      [0.025      0.975]\n",
       "---------------------------------------------------------------------------------\n",
       "Intercept         1.7300      0.067     25.803      0.000       1.599       1.861\n",
       "dm1[T.True]       0.2640      0.018     15.057      0.000       0.230       0.298\n",
       "db1[T.True]       0.0476      0.040      1.196      0.232      -0.030       0.126\n",
       "df1[T.True]      -0.0077      0.029     -0.263      0.792      -0.065       0.050\n",
       "f_region[T.2]    -0.0278      0.046     -0.600      0.548      -0.118       0.063\n",
       "f_region[T.3]    -0.0589      0.044     -1.327      0.185      -0.146       0.028\n",
       "f_region[T.4]    -0.0269      0.049     -0.544      0.587      -0.124       0.070\n",
       "f_region[T.5]     0.0041      0.045      0.091      0.927      -0.084       0.092\n",
       "f_region[T.6]     0.0123      0.054      0.228      0.819      -0.093       0.118\n",
       "f_region[T.7]     0.0488      0.049      0.996      0.319      -0.047       0.145\n",
       "f_region[T.8]     0.0491      0.052      0.954      0.340      -0.052       0.150\n",
       "f_region[T.9]    -0.0152      0.046     -0.331      0.740      -0.105       0.075\n",
       "wordsum           0.0003      0.005      0.067      0.946      -0.009       0.010\n",
       "educ              0.0115      0.003      3.375      0.001       0.005       0.018\n",
       "paeduc           -0.0018      0.003     -0.678      0.498      -0.007       0.003\n",
       "madeg             0.0237      0.010      2.259      0.024       0.003       0.044\n",
       "incom16           0.0458      0.011      4.251      0.000       0.025       0.067\n",
       "==============================================================================\n",
       "Omnibus:                      116.898   Durbin-Watson:                   1.948\n",
       "Prob(Omnibus):                  0.000   Jarque-Bera (JB):               70.475\n",
       "Skew:                          -0.138   Prob(JB):                     4.97e-16\n",
       "Kurtosis:                       2.490   Cond. No.                         284.\n",
       "==============================================================================\n",
       "\n",
       "Warnings:\n",
       "[1] Standard Errors assume that the covariance matrix of the errors is correctly specified.\n",
       "\"\"\""
      ]
     },
     "execution_count": 19,
     "metadata": {},
     "output_type": "execute_result"
    }
   ],
   "source": [
    "from statsmodels.regression.linear_model import OLS\n",
    "\n",
    "# OLS for men\n",
    "OLS.from_formula('n_happy ~ dm1 + wordsum + db1 + df1 + educ + paeduc + madeg + incom16 + f_region', \n",
    "                 data=sub[sub.sex==1]).fit().summary()"
   ]
  },
  {
   "cell_type": "code",
   "execution_count": 22,
   "metadata": {},
   "outputs": [
    {
     "data": {
      "text/html": [
       "<table class=\"simpletable\">\n",
       "<caption>OLS Regression Results</caption>\n",
       "<tr>\n",
       "  <th>Dep. Variable:</th>         <td>n_happy</td>     <th>  R-squared:         </th> <td>   0.069</td> \n",
       "</tr>\n",
       "<tr>\n",
       "  <th>Model:</th>                   <td>OLS</td>       <th>  Adj. R-squared:    </th> <td>   0.067</td> \n",
       "</tr>\n",
       "<tr>\n",
       "  <th>Method:</th>             <td>Least Squares</td>  <th>  F-statistic:       </th> <td>   29.19</td> \n",
       "</tr>\n",
       "<tr>\n",
       "  <th>Date:</th>             <td>Mon, 20 Aug 2018</td> <th>  Prob (F-statistic):</th> <td>7.39e-86</td> \n",
       "</tr>\n",
       "<tr>\n",
       "  <th>Time:</th>                 <td>23:47:02</td>     <th>  Log-Likelihood:    </th> <td> -5673.3</td> \n",
       "</tr>\n",
       "<tr>\n",
       "  <th>No. Observations:</th>      <td>  6278</td>      <th>  AIC:               </th> <td>1.138e+04</td>\n",
       "</tr>\n",
       "<tr>\n",
       "  <th>Df Residuals:</th>          <td>  6261</td>      <th>  BIC:               </th> <td>1.150e+04</td>\n",
       "</tr>\n",
       "<tr>\n",
       "  <th>Df Model:</th>              <td>    16</td>      <th>                     </th>     <td> </td>    \n",
       "</tr>\n",
       "<tr>\n",
       "  <th>Covariance Type:</th>      <td>nonrobust</td>    <th>                     </th>     <td> </td>    \n",
       "</tr>\n",
       "</table>\n",
       "<table class=\"simpletable\">\n",
       "<tr>\n",
       "         <td></td>           <th>coef</th>     <th>std err</th>      <th>t</th>      <th>P>|t|</th>  <th>[0.025</th>    <th>0.975]</th>  \n",
       "</tr>\n",
       "<tr>\n",
       "  <th>Intercept</th>      <td>    1.6008</td> <td>    0.061</td> <td>   26.064</td> <td> 0.000</td> <td>    1.480</td> <td>    1.721</td>\n",
       "</tr>\n",
       "<tr>\n",
       "  <th>dm1[T.True]</th>    <td>    0.2824</td> <td>    0.015</td> <td>   18.568</td> <td> 0.000</td> <td>    0.253</td> <td>    0.312</td>\n",
       "</tr>\n",
       "<tr>\n",
       "  <th>db1[T.True]</th>    <td>    0.1439</td> <td>    0.037</td> <td>    3.928</td> <td> 0.000</td> <td>    0.072</td> <td>    0.216</td>\n",
       "</tr>\n",
       "<tr>\n",
       "  <th>df1[T.True]</th>    <td>   -0.0311</td> <td>    0.027</td> <td>   -1.170</td> <td> 0.242</td> <td>   -0.083</td> <td>    0.021</td>\n",
       "</tr>\n",
       "<tr>\n",
       "  <th>C(region)[T.2]</th> <td>   -0.0315</td> <td>    0.039</td> <td>   -0.804</td> <td> 0.422</td> <td>   -0.108</td> <td>    0.045</td>\n",
       "</tr>\n",
       "<tr>\n",
       "  <th>C(region)[T.3]</th> <td>    0.0132</td> <td>    0.038</td> <td>    0.348</td> <td> 0.728</td> <td>   -0.061</td> <td>    0.088</td>\n",
       "</tr>\n",
       "<tr>\n",
       "  <th>C(region)[T.4]</th> <td>    0.0232</td> <td>    0.043</td> <td>    0.545</td> <td> 0.586</td> <td>   -0.060</td> <td>    0.107</td>\n",
       "</tr>\n",
       "<tr>\n",
       "  <th>C(region)[T.5]</th> <td>    0.0093</td> <td>    0.038</td> <td>    0.245</td> <td> 0.807</td> <td>   -0.065</td> <td>    0.084</td>\n",
       "</tr>\n",
       "<tr>\n",
       "  <th>C(region)[T.6]</th> <td>    0.0712</td> <td>    0.045</td> <td>    1.578</td> <td> 0.115</td> <td>   -0.017</td> <td>    0.160</td>\n",
       "</tr>\n",
       "<tr>\n",
       "  <th>C(region)[T.7]</th> <td>   -0.0043</td> <td>    0.042</td> <td>   -0.102</td> <td> 0.919</td> <td>   -0.087</td> <td>    0.078</td>\n",
       "</tr>\n",
       "<tr>\n",
       "  <th>C(region)[T.8]</th> <td>    0.0092</td> <td>    0.044</td> <td>    0.208</td> <td> 0.835</td> <td>   -0.078</td> <td>    0.096</td>\n",
       "</tr>\n",
       "<tr>\n",
       "  <th>C(region)[T.9]</th> <td>   -0.0046</td> <td>    0.039</td> <td>   -0.118</td> <td> 0.906</td> <td>   -0.082</td> <td>    0.073</td>\n",
       "</tr>\n",
       "<tr>\n",
       "  <th>wordsum</th>        <td>    0.0019</td> <td>    0.004</td> <td>    0.454</td> <td> 0.650</td> <td>   -0.006</td> <td>    0.010</td>\n",
       "</tr>\n",
       "<tr>\n",
       "  <th>educ</th>           <td>    0.0146</td> <td>    0.003</td> <td>    4.336</td> <td> 0.000</td> <td>    0.008</td> <td>    0.021</td>\n",
       "</tr>\n",
       "<tr>\n",
       "  <th>paeduc</th>         <td>    0.0046</td> <td>    0.002</td> <td>    1.955</td> <td> 0.051</td> <td>-1.25e-05</td> <td>    0.009</td>\n",
       "</tr>\n",
       "<tr>\n",
       "  <th>madeg</th>          <td>    0.0051</td> <td>    0.010</td> <td>    0.531</td> <td> 0.595</td> <td>   -0.014</td> <td>    0.024</td>\n",
       "</tr>\n",
       "<tr>\n",
       "  <th>incom16</th>        <td>    0.0382</td> <td>    0.010</td> <td>    3.871</td> <td> 0.000</td> <td>    0.019</td> <td>    0.058</td>\n",
       "</tr>\n",
       "</table>\n",
       "<table class=\"simpletable\">\n",
       "<tr>\n",
       "  <th>Omnibus:</th>       <td>179.616</td> <th>  Durbin-Watson:     </th> <td>   1.983</td>\n",
       "</tr>\n",
       "<tr>\n",
       "  <th>Prob(Omnibus):</th> <td> 0.000</td>  <th>  Jarque-Bera (JB):  </th> <td> 105.553</td>\n",
       "</tr>\n",
       "<tr>\n",
       "  <th>Skew:</th>          <td>-0.163</td>  <th>  Prob(JB):          </th> <td>1.20e-23</td>\n",
       "</tr>\n",
       "<tr>\n",
       "  <th>Kurtosis:</th>      <td> 2.455</td>  <th>  Cond. No.          </th> <td>    266.</td>\n",
       "</tr>\n",
       "</table><br/><br/>Warnings:<br/>[1] Standard Errors assume that the covariance matrix of the errors is correctly specified."
      ],
      "text/plain": [
       "<class 'statsmodels.iolib.summary.Summary'>\n",
       "\"\"\"\n",
       "                            OLS Regression Results                            \n",
       "==============================================================================\n",
       "Dep. Variable:                n_happy   R-squared:                       0.069\n",
       "Model:                            OLS   Adj. R-squared:                  0.067\n",
       "Method:                 Least Squares   F-statistic:                     29.19\n",
       "Date:                Mon, 20 Aug 2018   Prob (F-statistic):           7.39e-86\n",
       "Time:                        23:47:02   Log-Likelihood:                -5673.3\n",
       "No. Observations:                6278   AIC:                         1.138e+04\n",
       "Df Residuals:                    6261   BIC:                         1.150e+04\n",
       "Df Model:                          16                                         \n",
       "Covariance Type:            nonrobust                                         \n",
       "==================================================================================\n",
       "                     coef    std err          t      P>|t|      [0.025      0.975]\n",
       "----------------------------------------------------------------------------------\n",
       "Intercept          1.6008      0.061     26.064      0.000       1.480       1.721\n",
       "dm1[T.True]        0.2824      0.015     18.568      0.000       0.253       0.312\n",
       "db1[T.True]        0.1439      0.037      3.928      0.000       0.072       0.216\n",
       "df1[T.True]       -0.0311      0.027     -1.170      0.242      -0.083       0.021\n",
       "C(region)[T.2]    -0.0315      0.039     -0.804      0.422      -0.108       0.045\n",
       "C(region)[T.3]     0.0132      0.038      0.348      0.728      -0.061       0.088\n",
       "C(region)[T.4]     0.0232      0.043      0.545      0.586      -0.060       0.107\n",
       "C(region)[T.5]     0.0093      0.038      0.245      0.807      -0.065       0.084\n",
       "C(region)[T.6]     0.0712      0.045      1.578      0.115      -0.017       0.160\n",
       "C(region)[T.7]    -0.0043      0.042     -0.102      0.919      -0.087       0.078\n",
       "C(region)[T.8]     0.0092      0.044      0.208      0.835      -0.078       0.096\n",
       "C(region)[T.9]    -0.0046      0.039     -0.118      0.906      -0.082       0.073\n",
       "wordsum            0.0019      0.004      0.454      0.650      -0.006       0.010\n",
       "educ               0.0146      0.003      4.336      0.000       0.008       0.021\n",
       "paeduc             0.0046      0.002      1.955      0.051   -1.25e-05       0.009\n",
       "madeg              0.0051      0.010      0.531      0.595      -0.014       0.024\n",
       "incom16            0.0382      0.010      3.871      0.000       0.019       0.058\n",
       "==============================================================================\n",
       "Omnibus:                      179.616   Durbin-Watson:                   1.983\n",
       "Prob(Omnibus):                  0.000   Jarque-Bera (JB):              105.553\n",
       "Skew:                          -0.163   Prob(JB):                     1.20e-23\n",
       "Kurtosis:                       2.455   Cond. No.                         266.\n",
       "==============================================================================\n",
       "\n",
       "Warnings:\n",
       "[1] Standard Errors assume that the covariance matrix of the errors is correctly specified.\n",
       "\"\"\""
      ]
     },
     "execution_count": 22,
     "metadata": {},
     "output_type": "execute_result"
    }
   ],
   "source": [
    "# OLS for women\n",
    "OLS.from_formula('n_happy ~ dm1 + wordsum + db1 + df1 + educ + paeduc + madeg + incom16 + f_region', \n",
    "                 data=sub[sub.sex==2]).fit().summary()"
   ]
  },
  {
   "cell_type": "code",
   "execution_count": 65,
   "metadata": {},
   "outputs": [
    {
     "data": {
      "text/html": [
       "<table class=\"simpletable\">\n",
       "<caption>OLS Regression Results</caption>\n",
       "<tr>\n",
       "  <th>Dep. Variable:</th>         <td>n_happy</td>     <th>  R-squared:         </th> <td>   0.061</td> \n",
       "</tr>\n",
       "<tr>\n",
       "  <th>Model:</th>                   <td>OLS</td>       <th>  Adj. R-squared:    </th> <td>   0.060</td> \n",
       "</tr>\n",
       "<tr>\n",
       "  <th>Method:</th>             <td>Least Squares</td>  <th>  F-statistic:       </th> <td>   45.88</td> \n",
       "</tr>\n",
       "<tr>\n",
       "  <th>Date:</th>             <td>Tue, 21 Aug 2018</td> <th>  Prob (F-statistic):</th> <td>4.19e-141</td>\n",
       "</tr>\n",
       "<tr>\n",
       "  <th>Time:</th>                 <td>15:13:08</td>     <th>  Log-Likelihood:    </th> <td> -10247.</td> \n",
       "</tr>\n",
       "<tr>\n",
       "  <th>No. Observations:</th>      <td> 11306</td>      <th>  AIC:               </th> <td>2.053e+04</td>\n",
       "</tr>\n",
       "<tr>\n",
       "  <th>Df Residuals:</th>          <td> 11289</td>      <th>  BIC:               </th> <td>2.065e+04</td>\n",
       "</tr>\n",
       "<tr>\n",
       "  <th>Df Model:</th>              <td>    16</td>      <th>                     </th>     <td> </td>    \n",
       "</tr>\n",
       "<tr>\n",
       "  <th>Covariance Type:</th>      <td>nonrobust</td>    <th>                     </th>     <td> </td>    \n",
       "</tr>\n",
       "</table>\n",
       "<table class=\"simpletable\">\n",
       "<tr>\n",
       "        <td></td>           <th>coef</th>     <th>std err</th>      <th>t</th>      <th>P>|t|</th>  <th>[0.025</th>    <th>0.975]</th>  \n",
       "</tr>\n",
       "<tr>\n",
       "  <th>Intercept</th>     <td>    1.6689</td> <td>    0.045</td> <td>   36.956</td> <td> 0.000</td> <td>    1.580</td> <td>    1.757</td>\n",
       "</tr>\n",
       "<tr>\n",
       "  <th>dm1[T.True]</th>   <td>    0.2720</td> <td>    0.011</td> <td>   23.757</td> <td> 0.000</td> <td>    0.250</td> <td>    0.294</td>\n",
       "</tr>\n",
       "<tr>\n",
       "  <th>db1[T.True]</th>   <td>    0.0984</td> <td>    0.027</td> <td>    3.649</td> <td> 0.000</td> <td>    0.046</td> <td>    0.151</td>\n",
       "</tr>\n",
       "<tr>\n",
       "  <th>df1[T.True]</th>   <td>   -0.0206</td> <td>    0.020</td> <td>   -1.045</td> <td> 0.296</td> <td>   -0.059</td> <td>    0.018</td>\n",
       "</tr>\n",
       "<tr>\n",
       "  <th>f_region[T.2]</th> <td>   -0.0302</td> <td>    0.030</td> <td>   -1.010</td> <td> 0.313</td> <td>   -0.089</td> <td>    0.028</td>\n",
       "</tr>\n",
       "<tr>\n",
       "  <th>f_region[T.3]</th> <td>   -0.0214</td> <td>    0.029</td> <td>   -0.741</td> <td> 0.459</td> <td>   -0.078</td> <td>    0.035</td>\n",
       "</tr>\n",
       "<tr>\n",
       "  <th>f_region[T.4]</th> <td>   -0.0013</td> <td>    0.032</td> <td>   -0.039</td> <td> 0.969</td> <td>   -0.065</td> <td>    0.062</td>\n",
       "</tr>\n",
       "<tr>\n",
       "  <th>f_region[T.5]</th> <td>    0.0070</td> <td>    0.029</td> <td>    0.242</td> <td> 0.808</td> <td>   -0.050</td> <td>    0.064</td>\n",
       "</tr>\n",
       "<tr>\n",
       "  <th>f_region[T.6]</th> <td>    0.0485</td> <td>    0.035</td> <td>    1.402</td> <td> 0.161</td> <td>   -0.019</td> <td>    0.116</td>\n",
       "</tr>\n",
       "<tr>\n",
       "  <th>f_region[T.7]</th> <td>    0.0190</td> <td>    0.032</td> <td>    0.594</td> <td> 0.553</td> <td>   -0.044</td> <td>    0.082</td>\n",
       "</tr>\n",
       "<tr>\n",
       "  <th>f_region[T.8]</th> <td>    0.0257</td> <td>    0.034</td> <td>    0.766</td> <td> 0.444</td> <td>   -0.040</td> <td>    0.092</td>\n",
       "</tr>\n",
       "<tr>\n",
       "  <th>f_region[T.9]</th> <td>   -0.0107</td> <td>    0.030</td> <td>   -0.359</td> <td> 0.719</td> <td>   -0.069</td> <td>    0.048</td>\n",
       "</tr>\n",
       "<tr>\n",
       "  <th>wordsum</th>       <td>    0.0024</td> <td>    0.003</td> <td>    0.746</td> <td> 0.456</td> <td>   -0.004</td> <td>    0.009</td>\n",
       "</tr>\n",
       "<tr>\n",
       "  <th>educ</th>          <td>    0.0121</td> <td>    0.002</td> <td>    5.079</td> <td> 0.000</td> <td>    0.007</td> <td>    0.017</td>\n",
       "</tr>\n",
       "<tr>\n",
       "  <th>paeduc</th>        <td>    0.0019</td> <td>    0.002</td> <td>    1.093</td> <td> 0.274</td> <td>   -0.002</td> <td>    0.005</td>\n",
       "</tr>\n",
       "<tr>\n",
       "  <th>madeg</th>         <td>    0.0131</td> <td>    0.007</td> <td>    1.862</td> <td> 0.063</td> <td>   -0.001</td> <td>    0.027</td>\n",
       "</tr>\n",
       "<tr>\n",
       "  <th>incom16</th>       <td>    0.0416</td> <td>    0.007</td> <td>    5.705</td> <td> 0.000</td> <td>    0.027</td> <td>    0.056</td>\n",
       "</tr>\n",
       "</table>\n",
       "<table class=\"simpletable\">\n",
       "<tr>\n",
       "  <th>Omnibus:</th>       <td>303.971</td> <th>  Durbin-Watson:     </th> <td>   1.955</td>\n",
       "</tr>\n",
       "<tr>\n",
       "  <th>Prob(Omnibus):</th> <td> 0.000</td>  <th>  Jarque-Bera (JB):  </th> <td> 177.749</td>\n",
       "</tr>\n",
       "<tr>\n",
       "  <th>Skew:</th>          <td>-0.150</td>  <th>  Prob(JB):          </th> <td>2.52e-39</td>\n",
       "</tr>\n",
       "<tr>\n",
       "  <th>Kurtosis:</th>      <td> 2.464</td>  <th>  Cond. No.          </th> <td>    274.</td>\n",
       "</tr>\n",
       "</table><br/><br/>Warnings:<br/>[1] Standard Errors assume that the covariance matrix of the errors is correctly specified."
      ],
      "text/plain": [
       "<class 'statsmodels.iolib.summary.Summary'>\n",
       "\"\"\"\n",
       "                            OLS Regression Results                            \n",
       "==============================================================================\n",
       "Dep. Variable:                n_happy   R-squared:                       0.061\n",
       "Model:                            OLS   Adj. R-squared:                  0.060\n",
       "Method:                 Least Squares   F-statistic:                     45.88\n",
       "Date:                Tue, 21 Aug 2018   Prob (F-statistic):          4.19e-141\n",
       "Time:                        15:13:08   Log-Likelihood:                -10247.\n",
       "No. Observations:               11306   AIC:                         2.053e+04\n",
       "Df Residuals:                   11289   BIC:                         2.065e+04\n",
       "Df Model:                          16                                         \n",
       "Covariance Type:            nonrobust                                         \n",
       "=================================================================================\n",
       "                    coef    std err          t      P>|t|      [0.025      0.975]\n",
       "---------------------------------------------------------------------------------\n",
       "Intercept         1.6689      0.045     36.956      0.000       1.580       1.757\n",
       "dm1[T.True]       0.2720      0.011     23.757      0.000       0.250       0.294\n",
       "db1[T.True]       0.0984      0.027      3.649      0.000       0.046       0.151\n",
       "df1[T.True]      -0.0206      0.020     -1.045      0.296      -0.059       0.018\n",
       "f_region[T.2]    -0.0302      0.030     -1.010      0.313      -0.089       0.028\n",
       "f_region[T.3]    -0.0214      0.029     -0.741      0.459      -0.078       0.035\n",
       "f_region[T.4]    -0.0013      0.032     -0.039      0.969      -0.065       0.062\n",
       "f_region[T.5]     0.0070      0.029      0.242      0.808      -0.050       0.064\n",
       "f_region[T.6]     0.0485      0.035      1.402      0.161      -0.019       0.116\n",
       "f_region[T.7]     0.0190      0.032      0.594      0.553      -0.044       0.082\n",
       "f_region[T.8]     0.0257      0.034      0.766      0.444      -0.040       0.092\n",
       "f_region[T.9]    -0.0107      0.030     -0.359      0.719      -0.069       0.048\n",
       "wordsum           0.0024      0.003      0.746      0.456      -0.004       0.009\n",
       "educ              0.0121      0.002      5.079      0.000       0.007       0.017\n",
       "paeduc            0.0019      0.002      1.093      0.274      -0.002       0.005\n",
       "madeg             0.0131      0.007      1.862      0.063      -0.001       0.027\n",
       "incom16           0.0416      0.007      5.705      0.000       0.027       0.056\n",
       "==============================================================================\n",
       "Omnibus:                      303.971   Durbin-Watson:                   1.955\n",
       "Prob(Omnibus):                  0.000   Jarque-Bera (JB):              177.749\n",
       "Skew:                          -0.150   Prob(JB):                     2.52e-39\n",
       "Kurtosis:                       2.464   Cond. No.                         274.\n",
       "==============================================================================\n",
       "\n",
       "Warnings:\n",
       "[1] Standard Errors assume that the covariance matrix of the errors is correctly specified.\n",
       "\"\"\""
      ]
     },
     "execution_count": 65,
     "metadata": {},
     "output_type": "execute_result"
    }
   ],
   "source": [
    "# OLS overall\n",
    "ols_all = OLS.from_formula('n_happy ~ dm1 + wordsum + db1 + df1 + educ + paeduc + madeg + incom16 + f_region', data=sub).fit()\n",
    "ols_all.summary()"
   ]
  },
  {
   "cell_type": "markdown",
   "metadata": {},
   "source": [
    "### Propensity score matching"
   ]
  },
  {
   "cell_type": "code",
   "execution_count": 23,
   "metadata": {},
   "outputs": [],
   "source": [
    "propensity_model = smf.glm('dm1 ~ wordsum + db1 + df1 + educ + paeduc + madeg + incom16 + f_region', \n",
    "                          data=sub, family=sm.families.Binomial()).fit()"
   ]
  },
  {
   "cell_type": "code",
   "execution_count": 24,
   "metadata": {},
   "outputs": [],
   "source": [
    "Y = sub.n_happy\n",
    "Tr = sub.dm1\n",
    "pscore = propensity_model.fittedvalues"
   ]
  },
  {
   "cell_type": "code",
   "execution_count": 33,
   "metadata": {},
   "outputs": [],
   "source": [
    "test = sub[sub.dm1==True].copy()\n",
    "control = sub[sub.dm1!=True].copy()\n",
    "test['dm1'] = 1\n",
    "control['dm1'] = 0"
   ]
  },
  {
   "cell_type": "code",
   "execution_count": 43,
   "metadata": {},
   "outputs": [
    {
     "name": "stdout",
     "output_type": "stream",
     "text": [
      "Formula:\n",
      "dm1 ~ educ+paeduc+madeg+incom16+wordsum+db1+df1+f_region\n",
      "n majority: 6323\n",
      "n minority: 4983\n"
     ]
    }
   ],
   "source": [
    "import warnings\n",
    "warnings.filterwarnings('ignore')\n",
    "from pymatch.Matcher import Matcher\n",
    "m = Matcher(test, control, yvar='dm1', exclude=['n_happy', 'happy', 'year', 'marital', 'sex', 'born', 'parborn', 'region'])"
   ]
  },
  {
   "cell_type": "code",
   "execution_count": 59,
   "metadata": {},
   "outputs": [],
   "source": [
    "np.random.seed(11)\n",
    "\n",
    "m.predict_scores()"
   ]
  },
  {
   "cell_type": "code",
   "execution_count": 62,
   "metadata": {},
   "outputs": [],
   "source": [
    "m.match(method='min', nmatches=1, threshold=0.0001)"
   ]
  },
  {
   "cell_type": "code",
   "execution_count": 63,
   "metadata": {},
   "outputs": [
    {
     "data": {
      "text/html": [
       "<div>\n",
       "<style scoped>\n",
       "    .dataframe tbody tr th:only-of-type {\n",
       "        vertical-align: middle;\n",
       "    }\n",
       "\n",
       "    .dataframe tbody tr th {\n",
       "        vertical-align: top;\n",
       "    }\n",
       "\n",
       "    .dataframe thead th {\n",
       "        text-align: right;\n",
       "    }\n",
       "</style>\n",
       "<table border=\"1\" class=\"dataframe\">\n",
       "  <thead>\n",
       "    <tr style=\"text-align: right;\">\n",
       "      <th></th>\n",
       "      <th>year</th>\n",
       "      <th>marital</th>\n",
       "      <th>educ</th>\n",
       "      <th>paeduc</th>\n",
       "      <th>madeg</th>\n",
       "      <th>sex</th>\n",
       "      <th>incom16</th>\n",
       "      <th>born</th>\n",
       "      <th>parborn</th>\n",
       "      <th>region</th>\n",
       "      <th>happy</th>\n",
       "      <th>wordsum</th>\n",
       "      <th>n_happy</th>\n",
       "      <th>dm1</th>\n",
       "      <th>db1</th>\n",
       "      <th>df1</th>\n",
       "      <th>f_region</th>\n",
       "      <th>scores</th>\n",
       "      <th>match_id</th>\n",
       "      <th>record_id</th>\n",
       "    </tr>\n",
       "  </thead>\n",
       "  <tbody>\n",
       "    <tr>\n",
       "      <th>0</th>\n",
       "      <td>1978</td>\n",
       "      <td>1.0</td>\n",
       "      <td>12.0</td>\n",
       "      <td>12.0</td>\n",
       "      <td>1.0</td>\n",
       "      <td>2</td>\n",
       "      <td>3.0</td>\n",
       "      <td>1.0</td>\n",
       "      <td>0.0</td>\n",
       "      <td>1</td>\n",
       "      <td>2.0</td>\n",
       "      <td>10.0</td>\n",
       "      <td>2.0</td>\n",
       "      <td>1</td>\n",
       "      <td>True</td>\n",
       "      <td>True</td>\n",
       "      <td>1</td>\n",
       "      <td>0.554023</td>\n",
       "      <td>0</td>\n",
       "      <td>0</td>\n",
       "    </tr>\n",
       "    <tr>\n",
       "      <th>9203</th>\n",
       "      <td>1993</td>\n",
       "      <td>3.0</td>\n",
       "      <td>16.0</td>\n",
       "      <td>12.0</td>\n",
       "      <td>1.0</td>\n",
       "      <td>1</td>\n",
       "      <td>2.0</td>\n",
       "      <td>1.0</td>\n",
       "      <td>0.0</td>\n",
       "      <td>3</td>\n",
       "      <td>1.0</td>\n",
       "      <td>8.0</td>\n",
       "      <td>3.0</td>\n",
       "      <td>0</td>\n",
       "      <td>True</td>\n",
       "      <td>True</td>\n",
       "      <td>3</td>\n",
       "      <td>0.554004</td>\n",
       "      <td>0</td>\n",
       "      <td>9203</td>\n",
       "    </tr>\n",
       "    <tr>\n",
       "      <th>1</th>\n",
       "      <td>1978</td>\n",
       "      <td>1.0</td>\n",
       "      <td>12.0</td>\n",
       "      <td>9.0</td>\n",
       "      <td>0.0</td>\n",
       "      <td>2</td>\n",
       "      <td>3.0</td>\n",
       "      <td>1.0</td>\n",
       "      <td>0.0</td>\n",
       "      <td>1</td>\n",
       "      <td>1.0</td>\n",
       "      <td>9.0</td>\n",
       "      <td>3.0</td>\n",
       "      <td>1</td>\n",
       "      <td>True</td>\n",
       "      <td>True</td>\n",
       "      <td>1</td>\n",
       "      <td>0.588760</td>\n",
       "      <td>1</td>\n",
       "      <td>1</td>\n",
       "    </tr>\n",
       "    <tr>\n",
       "      <th>7207</th>\n",
       "      <td>1984</td>\n",
       "      <td>4.0</td>\n",
       "      <td>11.0</td>\n",
       "      <td>0.0</td>\n",
       "      <td>0.0</td>\n",
       "      <td>2</td>\n",
       "      <td>1.0</td>\n",
       "      <td>1.0</td>\n",
       "      <td>0.0</td>\n",
       "      <td>2</td>\n",
       "      <td>2.0</td>\n",
       "      <td>5.0</td>\n",
       "      <td>2.0</td>\n",
       "      <td>0</td>\n",
       "      <td>True</td>\n",
       "      <td>True</td>\n",
       "      <td>2</td>\n",
       "      <td>0.588748</td>\n",
       "      <td>1</td>\n",
       "      <td>7207</td>\n",
       "    </tr>\n",
       "    <tr>\n",
       "      <th>2</th>\n",
       "      <td>1978</td>\n",
       "      <td>1.0</td>\n",
       "      <td>16.0</td>\n",
       "      <td>16.0</td>\n",
       "      <td>1.0</td>\n",
       "      <td>2</td>\n",
       "      <td>4.0</td>\n",
       "      <td>1.0</td>\n",
       "      <td>0.0</td>\n",
       "      <td>1</td>\n",
       "      <td>2.0</td>\n",
       "      <td>8.0</td>\n",
       "      <td>2.0</td>\n",
       "      <td>1</td>\n",
       "      <td>True</td>\n",
       "      <td>True</td>\n",
       "      <td>1</td>\n",
       "      <td>0.507895</td>\n",
       "      <td>2</td>\n",
       "      <td>2</td>\n",
       "    </tr>\n",
       "    <tr>\n",
       "      <th>9876</th>\n",
       "      <td>2006</td>\n",
       "      <td>3.0</td>\n",
       "      <td>17.0</td>\n",
       "      <td>8.0</td>\n",
       "      <td>1.0</td>\n",
       "      <td>1</td>\n",
       "      <td>4.0</td>\n",
       "      <td>1.0</td>\n",
       "      <td>0.0</td>\n",
       "      <td>1</td>\n",
       "      <td>2.0</td>\n",
       "      <td>5.0</td>\n",
       "      <td>2.0</td>\n",
       "      <td>0</td>\n",
       "      <td>True</td>\n",
       "      <td>True</td>\n",
       "      <td>1</td>\n",
       "      <td>0.507984</td>\n",
       "      <td>2</td>\n",
       "      <td>9876</td>\n",
       "    </tr>\n",
       "    <tr>\n",
       "      <th>3</th>\n",
       "      <td>1978</td>\n",
       "      <td>1.0</td>\n",
       "      <td>17.0</td>\n",
       "      <td>12.0</td>\n",
       "      <td>0.0</td>\n",
       "      <td>1</td>\n",
       "      <td>3.0</td>\n",
       "      <td>1.0</td>\n",
       "      <td>0.0</td>\n",
       "      <td>1</td>\n",
       "      <td>1.0</td>\n",
       "      <td>6.0</td>\n",
       "      <td>3.0</td>\n",
       "      <td>1</td>\n",
       "      <td>True</td>\n",
       "      <td>True</td>\n",
       "      <td>1</td>\n",
       "      <td>0.561958</td>\n",
       "      <td>3</td>\n",
       "      <td>3</td>\n",
       "    </tr>\n",
       "    <tr>\n",
       "      <th>9795</th>\n",
       "      <td>2006</td>\n",
       "      <td>4.0</td>\n",
       "      <td>16.0</td>\n",
       "      <td>14.0</td>\n",
       "      <td>1.0</td>\n",
       "      <td>1</td>\n",
       "      <td>2.0</td>\n",
       "      <td>1.0</td>\n",
       "      <td>0.0</td>\n",
       "      <td>5</td>\n",
       "      <td>1.0</td>\n",
       "      <td>8.0</td>\n",
       "      <td>3.0</td>\n",
       "      <td>0</td>\n",
       "      <td>True</td>\n",
       "      <td>True</td>\n",
       "      <td>5</td>\n",
       "      <td>0.561900</td>\n",
       "      <td>3</td>\n",
       "      <td>9795</td>\n",
       "    </tr>\n",
       "    <tr>\n",
       "      <th>4</th>\n",
       "      <td>1978</td>\n",
       "      <td>1.0</td>\n",
       "      <td>18.0</td>\n",
       "      <td>8.0</td>\n",
       "      <td>1.0</td>\n",
       "      <td>1</td>\n",
       "      <td>3.0</td>\n",
       "      <td>1.0</td>\n",
       "      <td>0.0</td>\n",
       "      <td>1</td>\n",
       "      <td>3.0</td>\n",
       "      <td>9.0</td>\n",
       "      <td>1.0</td>\n",
       "      <td>1</td>\n",
       "      <td>True</td>\n",
       "      <td>True</td>\n",
       "      <td>1</td>\n",
       "      <td>0.604096</td>\n",
       "      <td>4</td>\n",
       "      <td>4</td>\n",
       "    </tr>\n",
       "    <tr>\n",
       "      <th>7012</th>\n",
       "      <td>1982</td>\n",
       "      <td>2.0</td>\n",
       "      <td>17.0</td>\n",
       "      <td>8.0</td>\n",
       "      <td>0.0</td>\n",
       "      <td>2</td>\n",
       "      <td>3.0</td>\n",
       "      <td>1.0</td>\n",
       "      <td>0.0</td>\n",
       "      <td>9</td>\n",
       "      <td>2.0</td>\n",
       "      <td>10.0</td>\n",
       "      <td>2.0</td>\n",
       "      <td>0</td>\n",
       "      <td>True</td>\n",
       "      <td>True</td>\n",
       "      <td>9</td>\n",
       "      <td>0.604111</td>\n",
       "      <td>4</td>\n",
       "      <td>7012</td>\n",
       "    </tr>\n",
       "  </tbody>\n",
       "</table>\n",
       "</div>"
      ],
      "text/plain": [
       "      year  marital  educ  paeduc  madeg  sex  incom16  born  parborn  region  \\\n",
       "0     1978      1.0  12.0    12.0    1.0    2      3.0   1.0      0.0       1   \n",
       "9203  1993      3.0  16.0    12.0    1.0    1      2.0   1.0      0.0       3   \n",
       "1     1978      1.0  12.0     9.0    0.0    2      3.0   1.0      0.0       1   \n",
       "7207  1984      4.0  11.0     0.0    0.0    2      1.0   1.0      0.0       2   \n",
       "2     1978      1.0  16.0    16.0    1.0    2      4.0   1.0      0.0       1   \n",
       "9876  2006      3.0  17.0     8.0    1.0    1      4.0   1.0      0.0       1   \n",
       "3     1978      1.0  17.0    12.0    0.0    1      3.0   1.0      0.0       1   \n",
       "9795  2006      4.0  16.0    14.0    1.0    1      2.0   1.0      0.0       5   \n",
       "4     1978      1.0  18.0     8.0    1.0    1      3.0   1.0      0.0       1   \n",
       "7012  1982      2.0  17.0     8.0    0.0    2      3.0   1.0      0.0       9   \n",
       "\n",
       "      happy  wordsum  n_happy  dm1   db1   df1 f_region    scores  match_id  \\\n",
       "0       2.0     10.0      2.0    1  True  True        1  0.554023         0   \n",
       "9203    1.0      8.0      3.0    0  True  True        3  0.554004         0   \n",
       "1       1.0      9.0      3.0    1  True  True        1  0.588760         1   \n",
       "7207    2.0      5.0      2.0    0  True  True        2  0.588748         1   \n",
       "2       2.0      8.0      2.0    1  True  True        1  0.507895         2   \n",
       "9876    2.0      5.0      2.0    0  True  True        1  0.507984         2   \n",
       "3       1.0      6.0      3.0    1  True  True        1  0.561958         3   \n",
       "9795    1.0      8.0      3.0    0  True  True        5  0.561900         3   \n",
       "4       3.0      9.0      1.0    1  True  True        1  0.604096         4   \n",
       "7012    2.0     10.0      2.0    0  True  True        9  0.604111         4   \n",
       "\n",
       "      record_id  \n",
       "0             0  \n",
       "9203       9203  \n",
       "1             1  \n",
       "7207       7207  \n",
       "2             2  \n",
       "9876       9876  \n",
       "3             3  \n",
       "9795       9795  \n",
       "4             4  \n",
       "7012       7012  "
      ]
     },
     "execution_count": 63,
     "metadata": {},
     "output_type": "execute_result"
    }
   ],
   "source": [
    "m.matched_data.sort_values('match_id').head(10)"
   ]
  },
  {
   "cell_type": "code",
   "execution_count": 64,
   "metadata": {},
   "outputs": [
    {
     "data": {
      "image/png": "[encoded data removed]",
      "text/plain": [
       "<Figure size 864x360 with 2 Axes>"
      ]
     },
     "metadata": {},
     "output_type": "display_data"
    },
    {
     "data": {
      "image/png": "[encoded data removed]",
      "text/plain": [
       "<Figure size 864x360 with 2 Axes>"
      ]
     },
     "metadata": {},
     "output_type": "display_data"
    },
    {
     "data": {
      "image/png": "[encoded data removed]",
      "text/plain": [
       "<Figure size 864x360 with 2 Axes>"
      ]
     },
     "metadata": {},
     "output_type": "display_data"
    },
    {
     "data": {
      "image/png": "[encoded data removed]",
      "text/plain": [
       "<Figure size 864x360 with 2 Axes>"
      ]
     },
     "metadata": {},
     "output_type": "display_data"
    },
    {
     "data": {
      "image/png": "[encoded data removed]",
      "text/plain": [
       "<Figure size 864x360 with 2 Axes>"
      ]
     },
     "metadata": {},
     "output_type": "display_data"
    }
   ],
   "source": [
    "cc = m.compare_continuous(return_table=True)"
   ]
  },
  {
   "cell_type": "code",
   "execution_count": 51,
   "metadata": {},
   "outputs": [
    {
     "data": {
      "text/html": [
       "<div>\n",
       "<style scoped>\n",
       "    .dataframe tbody tr th:only-of-type {\n",
       "        vertical-align: middle;\n",
       "    }\n",
       "\n",
       "    .dataframe tbody tr th {\n",
       "        vertical-align: top;\n",
       "    }\n",
       "\n",
       "    .dataframe thead th {\n",
       "        text-align: right;\n",
       "    }\n",
       "</style>\n",
       "<table border=\"1\" class=\"dataframe\">\n",
       "  <thead>\n",
       "    <tr style=\"text-align: right;\">\n",
       "      <th></th>\n",
       "      <th>var</th>\n",
       "      <th>ks_before</th>\n",
       "      <th>ks_after</th>\n",
       "      <th>grouped_chisqr_before</th>\n",
       "      <th>grouped_chisqr_after</th>\n",
       "      <th>std_median_diff_before</th>\n",
       "      <th>std_median_diff_after</th>\n",
       "      <th>std_mean_diff_before</th>\n",
       "      <th>std_mean_diff_after</th>\n",
       "    </tr>\n",
       "  </thead>\n",
       "  <tbody>\n",
       "    <tr>\n",
       "      <th>0</th>\n",
       "      <td>educ</td>\n",
       "      <td>0.0</td>\n",
       "      <td>0.000</td>\n",
       "      <td>0.005</td>\n",
       "      <td>0.432</td>\n",
       "      <td>0.0</td>\n",
       "      <td>0.0</td>\n",
       "      <td>0.039506</td>\n",
       "      <td>-0.016529</td>\n",
       "    </tr>\n",
       "    <tr>\n",
       "      <th>1</th>\n",
       "      <td>paeduc</td>\n",
       "      <td>0.0</td>\n",
       "      <td>0.000</td>\n",
       "      <td>0.000</td>\n",
       "      <td>0.025</td>\n",
       "      <td>0.0</td>\n",
       "      <td>0.0</td>\n",
       "      <td>-0.118965</td>\n",
       "      <td>-0.012646</td>\n",
       "    </tr>\n",
       "    <tr>\n",
       "      <th>2</th>\n",
       "      <td>madeg</td>\n",
       "      <td>0.0</td>\n",
       "      <td>0.319</td>\n",
       "      <td>1.000</td>\n",
       "      <td>1.000</td>\n",
       "      <td>0.0</td>\n",
       "      <td>0.0</td>\n",
       "      <td>-0.147639</td>\n",
       "      <td>0.019101</td>\n",
       "    </tr>\n",
       "    <tr>\n",
       "      <th>3</th>\n",
       "      <td>incom16</td>\n",
       "      <td>0.0</td>\n",
       "      <td>0.017</td>\n",
       "      <td>1.000</td>\n",
       "      <td>1.000</td>\n",
       "      <td>0.0</td>\n",
       "      <td>0.0</td>\n",
       "      <td>-0.107163</td>\n",
       "      <td>-0.047018</td>\n",
       "    </tr>\n",
       "    <tr>\n",
       "      <th>4</th>\n",
       "      <td>wordsum</td>\n",
       "      <td>0.0</td>\n",
       "      <td>0.664</td>\n",
       "      <td>1.000</td>\n",
       "      <td>1.000</td>\n",
       "      <td>0.0</td>\n",
       "      <td>0.0</td>\n",
       "      <td>0.097986</td>\n",
       "      <td>-0.019674</td>\n",
       "    </tr>\n",
       "  </tbody>\n",
       "</table>\n",
       "</div>"
      ],
      "text/plain": [
       "       var  ks_before  ks_after  grouped_chisqr_before  grouped_chisqr_after  \\\n",
       "0     educ        0.0     0.000                  0.005                 0.432   \n",
       "1   paeduc        0.0     0.000                  0.000                 0.025   \n",
       "2    madeg        0.0     0.319                  1.000                 1.000   \n",
       "3  incom16        0.0     0.017                  1.000                 1.000   \n",
       "4  wordsum        0.0     0.664                  1.000                 1.000   \n",
       "\n",
       "   std_median_diff_before  std_median_diff_after  std_mean_diff_before  \\\n",
       "0                     0.0                    0.0              0.039506   \n",
       "1                     0.0                    0.0             -0.118965   \n",
       "2                     0.0                    0.0             -0.147639   \n",
       "3                     0.0                    0.0             -0.107163   \n",
       "4                     0.0                    0.0              0.097986   \n",
       "\n",
       "   std_mean_diff_after  \n",
       "0            -0.016529  \n",
       "1            -0.012646  \n",
       "2             0.019101  \n",
       "3            -0.047018  \n",
       "4            -0.019674  "
      ]
     },
     "execution_count": 51,
     "metadata": {},
     "output_type": "execute_result"
    }
   ],
   "source": [
    "cc"
   ]
  },
  {
   "cell_type": "code",
   "execution_count": 56,
   "metadata": {},
   "outputs": [
    {
     "data": {
      "image/png": "[encoded data removed]",
      "text/plain": [
       "<Figure size 720x360 with 1 Axes>"
      ]
     },
     "metadata": {},
     "output_type": "display_data"
    },
    {
     "data": {
      "image/png": "[encoded data removed]",
      "text/plain": [
       "<Figure size 720x360 with 1 Axes>"
      ]
     },
     "metadata": {},
     "output_type": "display_data"
    },
    {
     "data": {
      "image/png": "[encoded data removed]",
      "text/plain": [
       "<Figure size 720x360 with 1 Axes>"
      ]
     },
     "metadata": {},
     "output_type": "display_data"
    }
   ],
   "source": [
    "categorical_results = m.compare_categorical(return_table=True)"
   ]
  },
  {
   "cell_type": "code",
   "execution_count": 57,
   "metadata": {},
   "outputs": [
    {
     "data": {
      "text/html": [
       "<div>\n",
       "<style scoped>\n",
       "    .dataframe tbody tr th:only-of-type {\n",
       "        vertical-align: middle;\n",
       "    }\n",
       "\n",
       "    .dataframe tbody tr th {\n",
       "        vertical-align: top;\n",
       "    }\n",
       "\n",
       "    .dataframe thead th {\n",
       "        text-align: right;\n",
       "    }\n",
       "</style>\n",
       "<table border=\"1\" class=\"dataframe\">\n",
       "  <thead>\n",
       "    <tr style=\"text-align: right;\">\n",
       "      <th></th>\n",
       "      <th>var</th>\n",
       "      <th>before</th>\n",
       "      <th>after</th>\n",
       "    </tr>\n",
       "  </thead>\n",
       "  <tbody>\n",
       "    <tr>\n",
       "      <th>0</th>\n",
       "      <td>db1</td>\n",
       "      <td>0.001798</td>\n",
       "      <td>0.010091</td>\n",
       "    </tr>\n",
       "    <tr>\n",
       "      <th>1</th>\n",
       "      <td>df1</td>\n",
       "      <td>0.391360</td>\n",
       "      <td>0.058294</td>\n",
       "    </tr>\n",
       "    <tr>\n",
       "      <th>2</th>\n",
       "      <td>f_region</td>\n",
       "      <td>0.460638</td>\n",
       "      <td>0.009532</td>\n",
       "    </tr>\n",
       "  </tbody>\n",
       "</table>\n",
       "</div>"
      ],
      "text/plain": [
       "        var    before     after\n",
       "0       db1  0.001798  0.010091\n",
       "1       df1  0.391360  0.058294\n",
       "2  f_region  0.460638  0.009532"
      ]
     },
     "execution_count": 57,
     "metadata": {},
     "output_type": "execute_result"
    }
   ],
   "source": [
    "categorical_results"
   ]
  },
  {
   "cell_type": "markdown",
   "metadata": {},
   "source": [
    "### Estimate the size of the treatment on the treated"
   ]
  },
  {
   "cell_type": "markdown",
   "metadata": {},
   "source": [
    "`pymatch` doesn't have a function to produce a summary output for the estimated ATT. To get this, we can use another Python library called `causalinference`   \n",
    "\n",
    "(slide 20)"
   ]
  },
  {
   "cell_type": "code",
   "execution_count": 215,
   "metadata": {},
   "outputs": [],
   "source": [
    "from causalinference import CausalModel\n",
    "\n",
    "Y = sub.n_happy.values\n",
    "\n",
    "D = sub.dm1.values\n",
    "\n",
    "X = sub[['wordsum', 'db1', 'df1', 'educ', 'paeduc', 'madeg', 'incom16', 'f_region']].values\n",
    "X = np.array(X, dtype=np.float32)\n",
    "\n",
    "causal = CausalModel(Y, D, X)"
   ]
  },
  {
   "cell_type": "code",
   "execution_count": 219,
   "metadata": {},
   "outputs": [
    {
     "name": "stdout",
     "output_type": "stream",
     "text": [
      "\n",
      "Treatment Effect Estimates: OLS\n",
      "\n",
      "                     Est.       S.e.          z      P>|z|      [95% Conf. int.]\n",
      "--------------------------------------------------------------------------------\n",
      "           ATE      0.273      0.011     23.803      0.000      0.251      0.296\n",
      "           ATC      0.271      0.012     23.519      0.000      0.248      0.293\n",
      "           ATT      0.275      0.012     23.690      0.000      0.252      0.298\n",
      "\n"
     ]
    }
   ],
   "source": [
    "causal.est_via_ols()\n",
    "print(causal.estimates)"
   ]
  },
  {
   "cell_type": "markdown",
   "metadata": {},
   "source": [
    "## 2. A first differences example - financial satisfaction"
   ]
  },
  {
   "cell_type": "code",
   "execution_count": 5,
   "metadata": {},
   "outputs": [],
   "source": [
    "panel = pd.read_csv('Data/panel-for-R.csv')\n",
    "variables = ['idnum', 'panelwave', 'satfin', 'realinc', 'marital']\n",
    "sub = panel[variables].copy()"
   ]
  },
  {
   "cell_type": "code",
   "execution_count": 7,
   "metadata": {},
   "outputs": [],
   "source": [
    "# slide 30\n",
    "\n",
    "# recoding `satfin`\n",
    "sub['n_satfin'] = qmss.reverse_this(sub.satfin)"
   ]
  },
  {
   "cell_type": "code",
   "execution_count": 8,
   "metadata": {},
   "outputs": [
    {
     "data": {
      "text/plain": [
       "2.0    2102\n",
       "3.0    1375\n",
       "1.0    1320\n",
       "Name: n_satfin, dtype: int64"
      ]
     },
     "execution_count": 8,
     "metadata": {},
     "output_type": "execute_result"
    }
   ],
   "source": [
    "sub.n_satfin.value_counts()"
   ]
  },
  {
   "cell_type": "code",
   "execution_count": 9,
   "metadata": {},
   "outputs": [
    {
     "data": {
      "text/plain": [
       "2.0    2102\n",
       "1.0    1375\n",
       "3.0    1320\n",
       "Name: satfin, dtype: int64"
      ]
     },
     "execution_count": 9,
     "metadata": {},
     "output_type": "execute_result"
    }
   ],
   "source": [
    "sub.satfin.value_counts()"
   ]
  },
  {
   "cell_type": "code",
   "execution_count": 11,
   "metadata": {},
   "outputs": [],
   "source": [
    "#slide 31\n",
    "\n",
    "sub['realinc10k'] = sub.realinc/10000\n",
    "\n",
    "pd_sub = sub[['idnum', 'panelwave', 'n_satfin', 'realinc10k']]\n",
    "\n",
    "# convert to multiindex dataframe for time series models\n",
    "pd_sub.set_index(['idnum', 'panelwave'], inplace=True, drop=False)"
   ]
  },
  {
   "cell_type": "code",
   "execution_count": 14,
   "metadata": {},
   "outputs": [
    {
     "name": "stderr",
     "output_type": "stream",
     "text": [
      "/Users/melindasong/anaconda/envs/py36/lib/python3.6/site-packages/linearmodels/utility.py:496: MissingValueWarning: \n",
      "Inputs contain missing values. Dropping rows with missing observations.\n",
      "  warnings.warn(missing_value_warning_msg, MissingValueWarning)\n"
     ]
    },
    {
     "data": {
      "text/html": [
       "<table class=\"simpletable\">\n",
       "<caption>PooledOLS Estimation Summary</caption>\n",
       "<tr>\n",
       "  <th>Dep. Variable:</th>        <td>n_satfin</td>     <th>  R-squared:         </th>    <td>0.0948</td>  \n",
       "</tr>\n",
       "<tr>\n",
       "  <th>Estimator:</th>            <td>PooledOLS</td>    <th>  R-squared (Between):</th>   <td>0.1199</td>  \n",
       "</tr>\n",
       "<tr>\n",
       "  <th>No. Observations:</th>       <td>4269</td>       <th>  R-squared (Within):</th>    <td>0.0117</td>  \n",
       "</tr>\n",
       "<tr>\n",
       "  <th>Date:</th>             <td>Wed, Aug 15 2018</td> <th>  R-squared (Overall):</th>   <td>0.0948</td>  \n",
       "</tr>\n",
       "<tr>\n",
       "  <th>Time:</th>                 <td>22:48:50</td>     <th>  Log-likelihood     </th>    <td>-4620.0</td> \n",
       "</tr>\n",
       "<tr>\n",
       "  <th>Cov. Estimator:</th>       <td>Clustered</td>    <th>                     </th>       <td></td>     \n",
       "</tr>\n",
       "<tr>\n",
       "  <th></th>                          <td></td>         <th>  F-statistic:       </th>    <td>446.80</td>  \n",
       "</tr>\n",
       "<tr>\n",
       "  <th>Entities:</th>               <td>1879</td>       <th>  P-value            </th>    <td>0.0000</td>  \n",
       "</tr>\n",
       "<tr>\n",
       "  <th>Avg Obs:</th>               <td>2.2720</td>      <th>  Distribution:      </th>   <td>F(1,4267)</td>\n",
       "</tr>\n",
       "<tr>\n",
       "  <th>Min Obs:</th>               <td>1.0000</td>      <th>                     </th>       <td></td>     \n",
       "</tr>\n",
       "<tr>\n",
       "  <th>Max Obs:</th>               <td>3.0000</td>      <th>  F-statistic (robust):</th>  <td>318.02</td>  \n",
       "</tr>\n",
       "<tr>\n",
       "  <th></th>                          <td></td>         <th>  P-value            </th>    <td>0.0000</td>  \n",
       "</tr>\n",
       "<tr>\n",
       "  <th>Time periods:</th>             <td>3</td>        <th>  Distribution:      </th>   <td>F(1,4267)</td>\n",
       "</tr>\n",
       "<tr>\n",
       "  <th>Avg Obs:</th>               <td>1423.0</td>      <th>                     </th>       <td></td>     \n",
       "</tr>\n",
       "<tr>\n",
       "  <th>Min Obs:</th>               <td>1148.0</td>      <th>                     </th>       <td></td>     \n",
       "</tr>\n",
       "<tr>\n",
       "  <th>Max Obs:</th>               <td>1714.0</td>      <th>                     </th>       <td></td>     \n",
       "</tr>\n",
       "<tr>\n",
       "  <th></th>                          <td></td>         <th>                     </th>       <td></td>     \n",
       "</tr>\n",
       "</table>\n",
       "<table class=\"simpletable\">\n",
       "<caption>Parameter Estimates</caption>\n",
       "<tr>\n",
       "       <td></td>      <th>Parameter</th> <th>Std. Err.</th> <th>T-stat</th> <th>P-value</th> <th>Lower CI</th> <th>Upper CI</th>\n",
       "</tr>\n",
       "<tr>\n",
       "  <th>Intercept</th>   <td>1.7597</td>    <td>0.0201</td>   <td>87.573</td> <td>0.0000</td>   <td>1.7203</td>   <td>1.7991</td> \n",
       "</tr>\n",
       "<tr>\n",
       "  <th>realinc10k</th>  <td>0.0694</td>    <td>0.0039</td>   <td>17.833</td> <td>0.0000</td>   <td>0.0618</td>   <td>0.0770</td> \n",
       "</tr>\n",
       "</table><br/>id: 0x1c1d7c30f0"
      ],
      "text/plain": [
       "                          PooledOLS Estimation Summary                          \n",
       "================================================================================\n",
       "Dep. Variable:               n_satfin   R-squared:                        0.0948\n",
       "Estimator:                  PooledOLS   R-squared (Between):              0.1199\n",
       "No. Observations:                4269   R-squared (Within):               0.0117\n",
       "Date:                Wed, Aug 15 2018   R-squared (Overall):              0.0948\n",
       "Time:                        22:48:50   Log-likelihood                   -4620.0\n",
       "Cov. Estimator:             Clustered                                           \n",
       "                                        F-statistic:                      446.80\n",
       "Entities:                        1879   P-value                           0.0000\n",
       "Avg Obs:                       2.2720   Distribution:                  F(1,4267)\n",
       "Min Obs:                       1.0000                                           \n",
       "Max Obs:                       3.0000   F-statistic (robust):             318.02\n",
       "                                        P-value                           0.0000\n",
       "Time periods:                       3   Distribution:                  F(1,4267)\n",
       "Avg Obs:                       1423.0                                           \n",
       "Min Obs:                       1148.0                                           \n",
       "Max Obs:                       1714.0                                           \n",
       "                                                                                \n",
       "                             Parameter Estimates                              \n",
       "==============================================================================\n",
       "            Parameter  Std. Err.     T-stat    P-value    Lower CI    Upper CI\n",
       "------------------------------------------------------------------------------\n",
       "Intercept      1.7597     0.0201     87.573     0.0000      1.7203      1.7991\n",
       "realinc10k     0.0694     0.0039     17.833     0.0000      0.0618      0.0770\n",
       "==============================================================================\n",
       "PanelResults, id: 0x1c1d7c30f0"
      ]
     },
     "execution_count": 14,
     "metadata": {},
     "output_type": "execute_result"
    }
   ],
   "source": [
    "from linearmodels import PooledOLS\n",
    "\n",
    "ols_satfin = PooledOLS.from_formula('n_satfin ~ 1 + realinc10k', data=pd_sub).fit(cov_type = 'clustered', cluster_entity = True)\n",
    "ols_satfin"
   ]
  },
  {
   "cell_type": "code",
   "execution_count": 16,
   "metadata": {},
   "outputs": [
    {
     "name": "stderr",
     "output_type": "stream",
     "text": [
      "/Users/melindasong/anaconda/envs/py36/lib/python3.6/site-packages/linearmodels/utility.py:496: MissingValueWarning: \n",
      "Inputs contain missing values. Dropping rows with missing observations.\n",
      "  warnings.warn(missing_value_warning_msg, MissingValueWarning)\n"
     ]
    },
    {
     "data": {
      "text/html": [
       "<table class=\"simpletable\">\n",
       "<caption>PooledOLS Estimation Summary</caption>\n",
       "<tr>\n",
       "  <th>Dep. Variable:</th>        <td>n_satfin</td>     <th>  R-squared:         </th>    <td>0.0963</td>  \n",
       "</tr>\n",
       "<tr>\n",
       "  <th>Estimator:</th>            <td>PooledOLS</td>    <th>  R-squared (Between):</th>   <td>0.1227</td>  \n",
       "</tr>\n",
       "<tr>\n",
       "  <th>No. Observations:</th>       <td>4269</td>       <th>  R-squared (Within):</th>    <td>0.0130</td>  \n",
       "</tr>\n",
       "<tr>\n",
       "  <th>Date:</th>             <td>Wed, Aug 15 2018</td> <th>  R-squared (Overall):</th>   <td>0.0963</td>  \n",
       "</tr>\n",
       "<tr>\n",
       "  <th>Time:</th>                 <td>23:02:24</td>     <th>  Log-likelihood     </th>    <td>-4616.6</td> \n",
       "</tr>\n",
       "<tr>\n",
       "  <th>Cov. Estimator:</th>      <td>Unadjusted</td>    <th>                     </th>       <td></td>     \n",
       "</tr>\n",
       "<tr>\n",
       "  <th></th>                          <td></td>         <th>  F-statistic:       </th>    <td>151.43</td>  \n",
       "</tr>\n",
       "<tr>\n",
       "  <th>Entities:</th>               <td>1879</td>       <th>  P-value            </th>    <td>0.0000</td>  \n",
       "</tr>\n",
       "<tr>\n",
       "  <th>Avg Obs:</th>               <td>2.2720</td>      <th>  Distribution:      </th>   <td>F(3,4265)</td>\n",
       "</tr>\n",
       "<tr>\n",
       "  <th>Min Obs:</th>               <td>1.0000</td>      <th>                     </th>       <td></td>     \n",
       "</tr>\n",
       "<tr>\n",
       "  <th>Max Obs:</th>               <td>3.0000</td>      <th>  F-statistic (robust):</th>  <td>151.43</td>  \n",
       "</tr>\n",
       "<tr>\n",
       "  <th></th>                          <td></td>         <th>  P-value            </th>    <td>0.0000</td>  \n",
       "</tr>\n",
       "<tr>\n",
       "  <th>Time periods:</th>             <td>3</td>        <th>  Distribution:      </th>   <td>F(3,4265)</td>\n",
       "</tr>\n",
       "<tr>\n",
       "  <th>Avg Obs:</th>               <td>1423.0</td>      <th>                     </th>       <td></td>     \n",
       "</tr>\n",
       "<tr>\n",
       "  <th>Min Obs:</th>               <td>1148.0</td>      <th>                     </th>       <td></td>     \n",
       "</tr>\n",
       "<tr>\n",
       "  <th>Max Obs:</th>               <td>1714.0</td>      <th>                     </th>       <td></td>     \n",
       "</tr>\n",
       "<tr>\n",
       "  <th></th>                          <td></td>         <th>                     </th>       <td></td>     \n",
       "</tr>\n",
       "</table>\n",
       "<table class=\"simpletable\">\n",
       "<caption>Parameter Estimates</caption>\n",
       "<tr>\n",
       "           <td></td>           <th>Parameter</th> <th>Std. Err.</th> <th>T-stat</th>  <th>P-value</th> <th>Lower CI</th> <th>Upper CI</th>\n",
       "</tr>\n",
       "<tr>\n",
       "  <th>Intercept</th>            <td>1.7944</td>    <td>0.0206</td>   <td>87.182</td>  <td>0.0000</td>   <td>1.7540</td>   <td>1.8347</td> \n",
       "</tr>\n",
       "<tr>\n",
       "  <th>C(panelwave)[T.2.0]</th>  <td>-0.0547</td>   <td>0.0257</td>   <td>-2.1277</td> <td>0.0334</td>   <td>-0.1050</td>  <td>-0.0043</td>\n",
       "</tr>\n",
       "<tr>\n",
       "  <th>C(panelwave)[T.3.0]</th>  <td>-0.0631</td>   <td>0.0272</td>   <td>-2.3172</td> <td>0.0205</td>   <td>-0.1165</td>  <td>-0.0097</td>\n",
       "</tr>\n",
       "<tr>\n",
       "  <th>realinc10k</th>           <td>0.0695</td>    <td>0.0033</td>   <td>21.154</td>  <td>0.0000</td>   <td>0.0630</td>   <td>0.0759</td> \n",
       "</tr>\n",
       "</table><br/>id: 0x1c1d78d4e0"
      ],
      "text/plain": [
       "                          PooledOLS Estimation Summary                          \n",
       "================================================================================\n",
       "Dep. Variable:               n_satfin   R-squared:                        0.0963\n",
       "Estimator:                  PooledOLS   R-squared (Between):              0.1227\n",
       "No. Observations:                4269   R-squared (Within):               0.0130\n",
       "Date:                Wed, Aug 15 2018   R-squared (Overall):              0.0963\n",
       "Time:                        23:02:24   Log-likelihood                   -4616.6\n",
       "Cov. Estimator:            Unadjusted                                           \n",
       "                                        F-statistic:                      151.43\n",
       "Entities:                        1879   P-value                           0.0000\n",
       "Avg Obs:                       2.2720   Distribution:                  F(3,4265)\n",
       "Min Obs:                       1.0000                                           \n",
       "Max Obs:                       3.0000   F-statistic (robust):             151.43\n",
       "                                        P-value                           0.0000\n",
       "Time periods:                       3   Distribution:                  F(3,4265)\n",
       "Avg Obs:                       1423.0                                           \n",
       "Min Obs:                       1148.0                                           \n",
       "Max Obs:                       1714.0                                           \n",
       "                                                                                \n",
       "                                  Parameter Estimates                                  \n",
       "=======================================================================================\n",
       "                     Parameter  Std. Err.     T-stat    P-value    Lower CI    Upper CI\n",
       "---------------------------------------------------------------------------------------\n",
       "Intercept               1.7944     0.0206     87.182     0.0000      1.7540      1.8347\n",
       "C(panelwave)[T.2.0]    -0.0547     0.0257    -2.1277     0.0334     -0.1050     -0.0043\n",
       "C(panelwave)[T.3.0]    -0.0631     0.0272    -2.3172     0.0205     -0.1165     -0.0097\n",
       "realinc10k              0.0695     0.0033     21.154     0.0000      0.0630      0.0759\n",
       "=======================================================================================\n",
       "PanelResults, id: 0x1c1d78d4e0"
      ]
     },
     "execution_count": 16,
     "metadata": {},
     "output_type": "execute_result"
    }
   ],
   "source": [
    "# slide 49\n",
    "\n",
    "pooled_satfin = PooledOLS.from_formula('n_satfin ~ 1 + realinc10k + C(panelwave)', data=pd_sub).fit()\n",
    "pooled_satfin"
   ]
  },
  {
   "cell_type": "code",
   "execution_count": 17,
   "metadata": {},
   "outputs": [
    {
     "name": "stderr",
     "output_type": "stream",
     "text": [
      "/Users/melindasong/anaconda/envs/py36/lib/python3.6/site-packages/linearmodels/utility.py:496: MissingValueWarning: \n",
      "Inputs contain missing values. Dropping rows with missing observations.\n",
      "  warnings.warn(missing_value_warning_msg, MissingValueWarning)\n"
     ]
    },
    {
     "ename": "ValueError",
     "evalue": "Constants are not allowed in first difference regressions.",
     "output_type": "error",
     "traceback": [
      "\u001b[0;31m---------------------------------------------------------------------------\u001b[0m",
      "\u001b[0;31mValueError\u001b[0m                                Traceback (most recent call last)",
      "\u001b[0;32m<ipython-input-17-876e3abef523>\u001b[0m in \u001b[0;36m<module>\u001b[0;34m()\u001b[0m\n\u001b[1;32m      1\u001b[0m \u001b[0;32mfrom\u001b[0m \u001b[0mlinearmodels\u001b[0m \u001b[0;32mimport\u001b[0m \u001b[0mFirstDifferenceOLS\u001b[0m\u001b[0;34m\u001b[0m\u001b[0m\n\u001b[1;32m      2\u001b[0m \u001b[0;34m\u001b[0m\u001b[0m\n\u001b[0;32m----> 3\u001b[0;31m \u001b[0mfd_satfin\u001b[0m \u001b[0;34m=\u001b[0m \u001b[0mFirstDifferenceOLS\u001b[0m\u001b[0;34m.\u001b[0m\u001b[0mfrom_formula\u001b[0m\u001b[0;34m(\u001b[0m\u001b[0;34m'n_satfin ~ realinc10k + C(panelwave)'\u001b[0m\u001b[0;34m,\u001b[0m \u001b[0mdata\u001b[0m\u001b[0;34m=\u001b[0m\u001b[0mpd_sub\u001b[0m\u001b[0;34m)\u001b[0m\u001b[0;34m.\u001b[0m\u001b[0mfit\u001b[0m\u001b[0;34m(\u001b[0m\u001b[0;34m)\u001b[0m\u001b[0;34m\u001b[0m\u001b[0m\n\u001b[0m\u001b[1;32m      4\u001b[0m \u001b[0mfd_satfin\u001b[0m\u001b[0;34m\u001b[0m\u001b[0m\n",
      "\u001b[0;32m~/anaconda/envs/py36/lib/python3.6/site-packages/linearmodels/panel/model.py\u001b[0m in \u001b[0;36mfrom_formula\u001b[0;34m(cls, formula, data, weights)\u001b[0m\n\u001b[1;32m   1653\u001b[0m         \u001b[0mparser\u001b[0m \u001b[0;34m=\u001b[0m \u001b[0mPanelFormulaParser\u001b[0m\u001b[0;34m(\u001b[0m\u001b[0mformula\u001b[0m\u001b[0;34m,\u001b[0m \u001b[0mdata\u001b[0m\u001b[0;34m)\u001b[0m\u001b[0;34m\u001b[0m\u001b[0m\n\u001b[1;32m   1654\u001b[0m         \u001b[0mdependent\u001b[0m\u001b[0;34m,\u001b[0m \u001b[0mexog\u001b[0m \u001b[0;34m=\u001b[0m \u001b[0mparser\u001b[0m\u001b[0;34m.\u001b[0m\u001b[0mdata\u001b[0m\u001b[0;34m\u001b[0m\u001b[0m\n\u001b[0;32m-> 1655\u001b[0;31m         \u001b[0mmod\u001b[0m \u001b[0;34m=\u001b[0m \u001b[0mcls\u001b[0m\u001b[0;34m(\u001b[0m\u001b[0mdependent\u001b[0m\u001b[0;34m,\u001b[0m \u001b[0mexog\u001b[0m\u001b[0;34m,\u001b[0m \u001b[0mweights\u001b[0m\u001b[0;34m=\u001b[0m\u001b[0mweights\u001b[0m\u001b[0;34m)\u001b[0m\u001b[0;34m\u001b[0m\u001b[0m\n\u001b[0m\u001b[1;32m   1656\u001b[0m         \u001b[0mmod\u001b[0m\u001b[0;34m.\u001b[0m\u001b[0mformula\u001b[0m \u001b[0;34m=\u001b[0m \u001b[0mformula\u001b[0m\u001b[0;34m\u001b[0m\u001b[0m\n\u001b[1;32m   1657\u001b[0m         \u001b[0;32mreturn\u001b[0m \u001b[0mmod\u001b[0m\u001b[0;34m\u001b[0m\u001b[0m\n",
      "\u001b[0;32m~/anaconda/envs/py36/lib/python3.6/site-packages/linearmodels/panel/model.py\u001b[0m in \u001b[0;36m__init__\u001b[0;34m(self, dependent, exog, weights)\u001b[0m\n\u001b[1;32m   1467\u001b[0m         \u001b[0msuper\u001b[0m\u001b[0;34m(\u001b[0m\u001b[0mFirstDifferenceOLS\u001b[0m\u001b[0;34m,\u001b[0m \u001b[0mself\u001b[0m\u001b[0;34m)\u001b[0m\u001b[0;34m.\u001b[0m\u001b[0m__init__\u001b[0m\u001b[0;34m(\u001b[0m\u001b[0mdependent\u001b[0m\u001b[0;34m,\u001b[0m \u001b[0mexog\u001b[0m\u001b[0;34m,\u001b[0m \u001b[0mweights\u001b[0m\u001b[0;34m=\u001b[0m\u001b[0mweights\u001b[0m\u001b[0;34m)\u001b[0m\u001b[0;34m\u001b[0m\u001b[0m\n\u001b[1;32m   1468\u001b[0m         \u001b[0;32mif\u001b[0m \u001b[0mself\u001b[0m\u001b[0;34m.\u001b[0m\u001b[0m_constant\u001b[0m\u001b[0;34m:\u001b[0m\u001b[0;34m\u001b[0m\u001b[0m\n\u001b[0;32m-> 1469\u001b[0;31m             \u001b[0;32mraise\u001b[0m \u001b[0mValueError\u001b[0m\u001b[0;34m(\u001b[0m\u001b[0;34m'Constants are not allowed in first difference regressions.'\u001b[0m\u001b[0;34m)\u001b[0m\u001b[0;34m\u001b[0m\u001b[0m\n\u001b[0m\u001b[1;32m   1470\u001b[0m         \u001b[0;32mif\u001b[0m \u001b[0mself\u001b[0m\u001b[0;34m.\u001b[0m\u001b[0mdependent\u001b[0m\u001b[0;34m.\u001b[0m\u001b[0mnobs\u001b[0m \u001b[0;34m<\u001b[0m \u001b[0;36m2\u001b[0m\u001b[0;34m:\u001b[0m\u001b[0;34m\u001b[0m\u001b[0m\n\u001b[1;32m   1471\u001b[0m             \u001b[0;32mraise\u001b[0m \u001b[0mValueError\u001b[0m\u001b[0;34m(\u001b[0m\u001b[0;34m'Panel must have at least 2 time periods'\u001b[0m\u001b[0;34m)\u001b[0m\u001b[0;34m\u001b[0m\u001b[0m\n",
      "\u001b[0;31mValueError\u001b[0m: Constants are not allowed in first difference regressions."
     ]
    }
   ],
   "source": [
    "from linearmodels import FirstDifferenceOLS\n",
    "\n",
    "fd_satfin = FirstDifferenceOLS.from_formula('n_satfin ~ realinc10k + C(panelwave)', data=pd_sub).fit()\n",
    "fd_satfin"
   ]
  },
  {
   "cell_type": "markdown",
   "metadata": {},
   "source": [
    "Skipping slides 57-67 that are for teaching purposes only"
   ]
  },
  {
   "cell_type": "markdown",
   "metadata": {},
   "source": [
    "### Multivariate fixed effects models"
   ]
  },
  {
   "cell_type": "markdown",
   "metadata": {},
   "source": [
    "Use `PanelOLS` from the `linearmodels` module to estimate fixed effects. Add `EntityEffects` to the formula to include entity (fixed) effects in the model. "
   ]
  },
  {
   "cell_type": "code",
   "execution_count": 23,
   "metadata": {},
   "outputs": [
    {
     "name": "stderr",
     "output_type": "stream",
     "text": [
      "/Users/melindasong/anaconda/envs/py36/lib/python3.6/site-packages/linearmodels/utility.py:496: MissingValueWarning: \n",
      "Inputs contain missing values. Dropping rows with missing observations.\n",
      "  warnings.warn(missing_value_warning_msg, MissingValueWarning)\n"
     ]
    },
    {
     "data": {
      "text/html": [
       "<table class=\"simpletable\">\n",
       "<caption>PanelOLS Estimation Summary</caption>\n",
       "<tr>\n",
       "  <th>Dep. Variable:</th>        <td>n_satfin</td>     <th>  R-squared:         </th>    <td>0.0219</td>  \n",
       "</tr>\n",
       "<tr>\n",
       "  <th>Estimator:</th>            <td>PanelOLS</td>     <th>  R-squared (Between):</th>   <td>0.1001</td>  \n",
       "</tr>\n",
       "<tr>\n",
       "  <th>No. Observations:</th>       <td>4269</td>       <th>  R-squared (Within):</th>    <td>0.0219</td>  \n",
       "</tr>\n",
       "<tr>\n",
       "  <th>Date:</th>             <td>Wed, Aug 15 2018</td> <th>  R-squared (Overall):</th>   <td>0.0814</td>  \n",
       "</tr>\n",
       "<tr>\n",
       "  <th>Time:</th>                 <td>23:13:58</td>     <th>  Log-likelihood     </th>    <td>-2192.7</td> \n",
       "</tr>\n",
       "<tr>\n",
       "  <th>Cov. Estimator:</th>      <td>Unadjusted</td>    <th>                     </th>       <td></td>     \n",
       "</tr>\n",
       "<tr>\n",
       "  <th></th>                          <td></td>         <th>  F-statistic:       </th>    <td>17.808</td>  \n",
       "</tr>\n",
       "<tr>\n",
       "  <th>Entities:</th>               <td>1879</td>       <th>  P-value            </th>    <td>0.0000</td>  \n",
       "</tr>\n",
       "<tr>\n",
       "  <th>Avg Obs:</th>               <td>2.2720</td>      <th>  Distribution:      </th>   <td>F(3,2387)</td>\n",
       "</tr>\n",
       "<tr>\n",
       "  <th>Min Obs:</th>               <td>1.0000</td>      <th>                     </th>       <td></td>     \n",
       "</tr>\n",
       "<tr>\n",
       "  <th>Max Obs:</th>               <td>3.0000</td>      <th>  F-statistic (robust):</th>  <td>17.808</td>  \n",
       "</tr>\n",
       "<tr>\n",
       "  <th></th>                          <td></td>         <th>  P-value            </th>    <td>0.0000</td>  \n",
       "</tr>\n",
       "<tr>\n",
       "  <th>Time periods:</th>             <td>3</td>        <th>  Distribution:      </th>   <td>F(3,2387)</td>\n",
       "</tr>\n",
       "<tr>\n",
       "  <th>Avg Obs:</th>               <td>1423.0</td>      <th>                     </th>       <td></td>     \n",
       "</tr>\n",
       "<tr>\n",
       "  <th>Min Obs:</th>               <td>1148.0</td>      <th>                     </th>       <td></td>     \n",
       "</tr>\n",
       "<tr>\n",
       "  <th>Max Obs:</th>               <td>1714.0</td>      <th>                     </th>       <td></td>     \n",
       "</tr>\n",
       "<tr>\n",
       "  <th></th>                          <td></td>         <th>                     </th>       <td></td>     \n",
       "</tr>\n",
       "</table>\n",
       "<table class=\"simpletable\">\n",
       "<caption>Parameter Estimates</caption>\n",
       "<tr>\n",
       "           <td></td>           <th>Parameter</th> <th>Std. Err.</th> <th>T-stat</th>  <th>P-value</th> <th>Lower CI</th> <th>Upper CI</th>\n",
       "</tr>\n",
       "<tr>\n",
       "  <th>Intercept</th>            <td>1.8779</td>    <td>0.0252</td>   <td>74.483</td>  <td>0.0000</td>   <td>1.8285</td>   <td>1.9274</td> \n",
       "</tr>\n",
       "<tr>\n",
       "  <th>C(panelwave)[T.2.0]</th>  <td>-0.0373</td>   <td>0.0214</td>   <td>-1.7493</td> <td>0.0804</td>   <td>-0.0792</td>  <td>0.0045</td> \n",
       "</tr>\n",
       "<tr>\n",
       "  <th>C(panelwave)[T.3.0]</th>  <td>-0.0416</td>   <td>0.0229</td>   <td>-1.8152</td> <td>0.0696</td>   <td>-0.0865</td>  <td>0.0033</td> \n",
       "</tr>\n",
       "<tr>\n",
       "  <th>realinc10k</th>           <td>0.0422</td>    <td>0.0060</td>   <td>6.9770</td>  <td>0.0000</td>   <td>0.0303</td>   <td>0.0540</td> \n",
       "</tr>\n",
       "</table><br/><br/>F-test for Poolability: 2.6856<br/>P-value: 0.0000<br/>Distribution: F(1878,2387)<br/><br/>Included effects: Entity<br/>id: 0x1c1fb99ef0"
      ],
      "text/plain": [
       "                          PanelOLS Estimation Summary                           \n",
       "================================================================================\n",
       "Dep. Variable:               n_satfin   R-squared:                        0.0219\n",
       "Estimator:                   PanelOLS   R-squared (Between):              0.1001\n",
       "No. Observations:                4269   R-squared (Within):               0.0219\n",
       "Date:                Wed, Aug 15 2018   R-squared (Overall):              0.0814\n",
       "Time:                        23:13:58   Log-likelihood                   -2192.7\n",
       "Cov. Estimator:            Unadjusted                                           \n",
       "                                        F-statistic:                      17.808\n",
       "Entities:                        1879   P-value                           0.0000\n",
       "Avg Obs:                       2.2720   Distribution:                  F(3,2387)\n",
       "Min Obs:                       1.0000                                           \n",
       "Max Obs:                       3.0000   F-statistic (robust):             17.808\n",
       "                                        P-value                           0.0000\n",
       "Time periods:                       3   Distribution:                  F(3,2387)\n",
       "Avg Obs:                       1423.0                                           \n",
       "Min Obs:                       1148.0                                           \n",
       "Max Obs:                       1714.0                                           \n",
       "                                                                                \n",
       "                                  Parameter Estimates                                  \n",
       "=======================================================================================\n",
       "                     Parameter  Std. Err.     T-stat    P-value    Lower CI    Upper CI\n",
       "---------------------------------------------------------------------------------------\n",
       "Intercept               1.8779     0.0252     74.483     0.0000      1.8285      1.9274\n",
       "C(panelwave)[T.2.0]    -0.0373     0.0214    -1.7493     0.0804     -0.0792      0.0045\n",
       "C(panelwave)[T.3.0]    -0.0416     0.0229    -1.8152     0.0696     -0.0865      0.0033\n",
       "realinc10k              0.0422     0.0060     6.9770     0.0000      0.0303      0.0540\n",
       "=======================================================================================\n",
       "\n",
       "F-test for Poolability: 2.6856\n",
       "P-value: 0.0000\n",
       "Distribution: F(1878,2387)\n",
       "\n",
       "Included effects: Entity\n",
       "PanelEffectsResults, id: 0x1c1fb99ef0"
      ]
     },
     "execution_count": 23,
     "metadata": {},
     "output_type": "execute_result"
    }
   ],
   "source": [
    "# slide 73 \n",
    "\n",
    "from linearmodels import PanelOLS\n",
    "fe_satfin2 = PanelOLS.from_formula('n_satfin ~ 1 + realinc10k + C(panelwave) + EntityEffects', data = pd_sub).fit()\n",
    "fe_satfin2"
   ]
  },
  {
   "cell_type": "markdown",
   "metadata": {},
   "source": [
    "## Random effects vs. fixed effects"
   ]
  },
  {
   "cell_type": "code",
   "execution_count": 37,
   "metadata": {},
   "outputs": [
    {
     "data": {
      "text/plain": [
       "0.0    2455\n",
       "1.0    2353\n",
       "Name: married, dtype: int64"
      ]
     },
     "execution_count": 37,
     "metadata": {},
     "output_type": "execute_result"
    }
   ],
   "source": [
    "# slide 98\n",
    "\n",
    "variables = ['idnum', 'panelwave', 'marital', 'marhomo']\n",
    "pd_sub = panel[variables].copy()\n",
    "\n",
    "pd_sub['married'] = np.where(pd.isnull(pd_sub.marital), np.nan, \n",
    "                            np.where(pd_sub.marital==1, 1, 0))\n",
    "\n",
    "pd_sub.married.value_counts()"
   ]
  },
  {
   "cell_type": "code",
   "execution_count": 38,
   "metadata": {},
   "outputs": [],
   "source": [
    "# create first difference columns for 'married' and 'marhomo'\n",
    "pd_sub['d_married'] = pd_sub.groupby('idnum')['married'].diff()\n",
    "pd_sub['d_marhomo'] = pd_sub.groupby('idnum')['marhomo'].diff()"
   ]
  },
  {
   "cell_type": "code",
   "execution_count": 39,
   "metadata": {},
   "outputs": [
    {
     "data": {
      "text/plain": [
       " 0.0    2573\n",
       " 1.0     118\n",
       "-1.0     117\n",
       "Name: d_married, dtype: int64"
      ]
     },
     "execution_count": 39,
     "metadata": {},
     "output_type": "execute_result"
    }
   ],
   "source": [
    "pd_sub.d_married.value_counts()"
   ]
  },
  {
   "cell_type": "code",
   "execution_count": 40,
   "metadata": {},
   "outputs": [
    {
     "data": {
      "text/plain": [
       " 0.0    987\n",
       "-1.0    332\n",
       " 1.0    285\n",
       "-2.0    109\n",
       " 2.0     61\n",
       "-3.0     45\n",
       " 3.0     30\n",
       " 4.0     16\n",
       "-4.0     12\n",
       "Name: d_marhomo, dtype: int64"
      ]
     },
     "execution_count": 40,
     "metadata": {},
     "output_type": "execute_result"
    }
   ],
   "source": [
    "# slide 99\n",
    "pd_sub.d_marhomo.value_counts()"
   ]
  },
  {
   "cell_type": "code",
   "execution_count": 41,
   "metadata": {},
   "outputs": [],
   "source": [
    "pd_sub = pd_sub.set_index(['idnum', 'panelwave'], drop=False)"
   ]
  },
  {
   "cell_type": "markdown",
   "metadata": {},
   "source": [
    "### The naive (cross-sectional) OLS"
   ]
  },
  {
   "cell_type": "code",
   "execution_count": 42,
   "metadata": {},
   "outputs": [
    {
     "name": "stderr",
     "output_type": "stream",
     "text": [
      "/Users/melindasong/anaconda/envs/py36/lib/python3.6/site-packages/linearmodels/utility.py:496: MissingValueWarning: \n",
      "Inputs contain missing values. Dropping rows with missing observations.\n",
      "  warnings.warn(missing_value_warning_msg, MissingValueWarning)\n"
     ]
    },
    {
     "data": {
      "text/html": [
       "<table class=\"simpletable\">\n",
       "<caption>PooledOLS Estimation Summary</caption>\n",
       "<tr>\n",
       "  <th>Dep. Variable:</th>         <td>marhomo</td>     <th>  R-squared:         </th>    <td>0.0161</td>  \n",
       "</tr>\n",
       "<tr>\n",
       "  <th>Estimator:</th>            <td>PooledOLS</td>    <th>  R-squared (Between):</th>   <td>0.0194</td>  \n",
       "</tr>\n",
       "<tr>\n",
       "  <th>No. Observations:</th>       <td>3232</td>       <th>  R-squared (Within):</th>    <td>0.0084</td>  \n",
       "</tr>\n",
       "<tr>\n",
       "  <th>Date:</th>             <td>Thu, Aug 16 2018</td> <th>  R-squared (Overall):</th>   <td>0.0161</td>  \n",
       "</tr>\n",
       "<tr>\n",
       "  <th>Time:</th>                 <td>11:48:56</td>     <th>  Log-likelihood     </th>    <td>-5877.4</td> \n",
       "</tr>\n",
       "<tr>\n",
       "  <th>Cov. Estimator:</th>       <td>Clustered</td>    <th>                     </th>       <td></td>     \n",
       "</tr>\n",
       "<tr>\n",
       "  <th></th>                          <td></td>         <th>  F-statistic:       </th>    <td>17.610</td>  \n",
       "</tr>\n",
       "<tr>\n",
       "  <th>Entities:</th>               <td>1352</td>       <th>  P-value            </th>    <td>0.0000</td>  \n",
       "</tr>\n",
       "<tr>\n",
       "  <th>Avg Obs:</th>               <td>2.3905</td>      <th>  Distribution:      </th>   <td>F(3,3228)</td>\n",
       "</tr>\n",
       "<tr>\n",
       "  <th>Min Obs:</th>               <td>1.0000</td>      <th>                     </th>       <td></td>     \n",
       "</tr>\n",
       "<tr>\n",
       "  <th>Max Obs:</th>               <td>3.0000</td>      <th>  F-statistic (robust):</th>  <td>12.784</td>  \n",
       "</tr>\n",
       "<tr>\n",
       "  <th></th>                          <td></td>         <th>  P-value            </th>    <td>0.0000</td>  \n",
       "</tr>\n",
       "<tr>\n",
       "  <th>Time periods:</th>             <td>3</td>        <th>  Distribution:      </th>   <td>F(3,3228)</td>\n",
       "</tr>\n",
       "<tr>\n",
       "  <th>Avg Obs:</th>               <td>1077.3</td>      <th>                     </th>       <td></td>     \n",
       "</tr>\n",
       "<tr>\n",
       "  <th>Min Obs:</th>               <td>854.00</td>      <th>                     </th>       <td></td>     \n",
       "</tr>\n",
       "<tr>\n",
       "  <th>Max Obs:</th>               <td>1346.0</td>      <th>                     </th>       <td></td>     \n",
       "</tr>\n",
       "<tr>\n",
       "  <th></th>                          <td></td>         <th>                     </th>       <td></td>     \n",
       "</tr>\n",
       "</table>\n",
       "<table class=\"simpletable\">\n",
       "<caption>Parameter Estimates</caption>\n",
       "<tr>\n",
       "           <td></td>           <th>Parameter</th> <th>Std. Err.</th> <th>T-stat</th>  <th>P-value</th> <th>Lower CI</th> <th>Upper CI</th>\n",
       "</tr>\n",
       "<tr>\n",
       "  <th>Intercept</th>            <td>3.2090</td>    <td>0.0542</td>   <td>59.198</td>  <td>0.0000</td>   <td>3.1027</td>   <td>3.3153</td> \n",
       "</tr>\n",
       "<tr>\n",
       "  <th>C(panelwave)[T.2.0]</th>  <td>-0.0975</td>   <td>0.0379</td>   <td>-2.5718</td> <td>0.0102</td>   <td>-0.1718</td>  <td>-0.0232</td>\n",
       "</tr>\n",
       "<tr>\n",
       "  <th>C(panelwave)[T.3.0]</th>  <td>-0.1898</td>   <td>0.0463</td>   <td>-4.0999</td> <td>0.0000</td>   <td>-0.2805</td>  <td>-0.0990</td>\n",
       "</tr>\n",
       "<tr>\n",
       "  <th>married</th>              <td>0.3547</td>    <td>0.0735</td>   <td>4.8256</td>  <td>0.0000</td>   <td>0.2106</td>   <td>0.4988</td> \n",
       "</tr>\n",
       "</table><br/>id: 0x1c1755c780"
      ],
      "text/plain": [
       "                          PooledOLS Estimation Summary                          \n",
       "================================================================================\n",
       "Dep. Variable:                marhomo   R-squared:                        0.0161\n",
       "Estimator:                  PooledOLS   R-squared (Between):              0.0194\n",
       "No. Observations:                3232   R-squared (Within):               0.0084\n",
       "Date:                Thu, Aug 16 2018   R-squared (Overall):              0.0161\n",
       "Time:                        11:48:56   Log-likelihood                   -5877.4\n",
       "Cov. Estimator:             Clustered                                           \n",
       "                                        F-statistic:                      17.610\n",
       "Entities:                        1352   P-value                           0.0000\n",
       "Avg Obs:                       2.3905   Distribution:                  F(3,3228)\n",
       "Min Obs:                       1.0000                                           \n",
       "Max Obs:                       3.0000   F-statistic (robust):             12.784\n",
       "                                        P-value                           0.0000\n",
       "Time periods:                       3   Distribution:                  F(3,3228)\n",
       "Avg Obs:                       1077.3                                           \n",
       "Min Obs:                       854.00                                           \n",
       "Max Obs:                       1346.0                                           \n",
       "                                                                                \n",
       "                                  Parameter Estimates                                  \n",
       "=======================================================================================\n",
       "                     Parameter  Std. Err.     T-stat    P-value    Lower CI    Upper CI\n",
       "---------------------------------------------------------------------------------------\n",
       "Intercept               3.2090     0.0542     59.198     0.0000      3.1027      3.3153\n",
       "C(panelwave)[T.2.0]    -0.0975     0.0379    -2.5718     0.0102     -0.1718     -0.0232\n",
       "C(panelwave)[T.3.0]    -0.1898     0.0463    -4.0999     0.0000     -0.2805     -0.0990\n",
       "married                 0.3547     0.0735     4.8256     0.0000      0.2106      0.4988\n",
       "=======================================================================================\n",
       "PanelResults, id: 0x1c1755c780"
      ]
     },
     "execution_count": 42,
     "metadata": {},
     "output_type": "execute_result"
    }
   ],
   "source": [
    "# slide 101\n",
    "\n",
    "ols_marhomo = PooledOLS.from_formula('marhomo ~ 1 + married + C(panelwave)', data=pd_sub).fit(cov_type = 'clustered', cluster_entity = True)\n",
    "ols_marhomo"
   ]
  },
  {
   "cell_type": "markdown",
   "metadata": {},
   "source": [
    "### The fixed effects approach"
   ]
  },
  {
   "cell_type": "code",
   "execution_count": 54,
   "metadata": {},
   "outputs": [
    {
     "name": "stderr",
     "output_type": "stream",
     "text": [
      "/Users/melindasong/anaconda/envs/py36/lib/python3.6/site-packages/linearmodels/utility.py:496: MissingValueWarning: \n",
      "Inputs contain missing values. Dropping rows with missing observations.\n",
      "  warnings.warn(missing_value_warning_msg, MissingValueWarning)\n"
     ]
    },
    {
     "data": {
      "text/html": [
       "<table class=\"simpletable\">\n",
       "<caption>PanelOLS Estimation Summary</caption>\n",
       "<tr>\n",
       "  <th>Dep. Variable:</th>         <td>marhomo</td>     <th>  R-squared:         </th>    <td>0.0120</td>  \n",
       "</tr>\n",
       "<tr>\n",
       "  <th>Estimator:</th>            <td>PanelOLS</td>     <th>  R-squared (Between):</th>   <td>0.0104</td>  \n",
       "</tr>\n",
       "<tr>\n",
       "  <th>No. Observations:</th>       <td>3232</td>       <th>  R-squared (Within):</th>    <td>0.0120</td>  \n",
       "</tr>\n",
       "<tr>\n",
       "  <th>Date:</th>             <td>Thu, Aug 16 2018</td> <th>  R-squared (Overall):</th>   <td>0.0100</td>  \n",
       "</tr>\n",
       "<tr>\n",
       "  <th>Time:</th>                 <td>11:55:24</td>     <th>  Log-likelihood     </th>    <td>-3091.0</td> \n",
       "</tr>\n",
       "<tr>\n",
       "  <th>Cov. Estimator:</th>      <td>Unadjusted</td>    <th>                     </th>       <td></td>     \n",
       "</tr>\n",
       "<tr>\n",
       "  <th></th>                          <td></td>         <th>  F-statistic:       </th>    <td>7.6189</td>  \n",
       "</tr>\n",
       "<tr>\n",
       "  <th>Entities:</th>               <td>1352</td>       <th>  P-value            </th>    <td>0.0000</td>  \n",
       "</tr>\n",
       "<tr>\n",
       "  <th>Avg Obs:</th>               <td>2.3905</td>      <th>  Distribution:      </th>   <td>F(3,1877)</td>\n",
       "</tr>\n",
       "<tr>\n",
       "  <th>Min Obs:</th>               <td>1.0000</td>      <th>                     </th>       <td></td>     \n",
       "</tr>\n",
       "<tr>\n",
       "  <th>Max Obs:</th>               <td>3.0000</td>      <th>  F-statistic (robust):</th>  <td>7.6189</td>  \n",
       "</tr>\n",
       "<tr>\n",
       "  <th></th>                          <td></td>         <th>  P-value            </th>    <td>0.0000</td>  \n",
       "</tr>\n",
       "<tr>\n",
       "  <th>Time periods:</th>             <td>3</td>        <th>  Distribution:      </th>   <td>F(3,1877)</td>\n",
       "</tr>\n",
       "<tr>\n",
       "  <th>Avg Obs:</th>               <td>1077.3</td>      <th>                     </th>       <td></td>     \n",
       "</tr>\n",
       "<tr>\n",
       "  <th>Min Obs:</th>               <td>854.00</td>      <th>                     </th>       <td></td>     \n",
       "</tr>\n",
       "<tr>\n",
       "  <th>Max Obs:</th>               <td>1346.0</td>      <th>                     </th>       <td></td>     \n",
       "</tr>\n",
       "<tr>\n",
       "  <th></th>                          <td></td>         <th>                     </th>       <td></td>     \n",
       "</tr>\n",
       "</table>\n",
       "<table class=\"simpletable\">\n",
       "<caption>Parameter Estimates</caption>\n",
       "<tr>\n",
       "           <td></td>           <th>Parameter</th> <th>Std. Err.</th> <th>T-stat</th>  <th>P-value</th> <th>Lower CI</th> <th>Upper CI</th>\n",
       "</tr>\n",
       "<tr>\n",
       "  <th>Intercept</th>            <td>3.3134</td>    <td>0.0502</td>   <td>65.994</td>  <td>0.0000</td>   <td>3.2149</td>   <td>3.4119</td> \n",
       "</tr>\n",
       "<tr>\n",
       "  <th>C(panelwave)[T.2.0]</th>  <td>-0.0763</td>   <td>0.0364</td>   <td>-2.0947</td> <td>0.0363</td>   <td>-0.1477</td>  <td>-0.0049</td>\n",
       "</tr>\n",
       "<tr>\n",
       "  <th>C(panelwave)[T.3.0]</th>  <td>-0.1803</td>   <td>0.0392</td>   <td>-4.6016</td> <td>0.0000</td>   <td>-0.2571</td>  <td>-0.1034</td>\n",
       "</tr>\n",
       "<tr>\n",
       "  <th>married</th>              <td>0.1204</td>    <td>0.0915</td>   <td>1.3151</td>  <td>0.1886</td>   <td>-0.0591</td>  <td>0.2999</td> \n",
       "</tr>\n",
       "</table><br/><br/>F-test for Poolability: 6.4029<br/>P-value: 0.0000<br/>Distribution: F(1351,1877)<br/><br/>Included effects: Entity<br/>id: 0x1c1756d240"
      ],
      "text/plain": [
       "                          PanelOLS Estimation Summary                           \n",
       "================================================================================\n",
       "Dep. Variable:                marhomo   R-squared:                        0.0120\n",
       "Estimator:                   PanelOLS   R-squared (Between):              0.0104\n",
       "No. Observations:                3232   R-squared (Within):               0.0120\n",
       "Date:                Thu, Aug 16 2018   R-squared (Overall):              0.0100\n",
       "Time:                        11:55:24   Log-likelihood                   -3091.0\n",
       "Cov. Estimator:            Unadjusted                                           \n",
       "                                        F-statistic:                      7.6189\n",
       "Entities:                        1352   P-value                           0.0000\n",
       "Avg Obs:                       2.3905   Distribution:                  F(3,1877)\n",
       "Min Obs:                       1.0000                                           \n",
       "Max Obs:                       3.0000   F-statistic (robust):             7.6189\n",
       "                                        P-value                           0.0000\n",
       "Time periods:                       3   Distribution:                  F(3,1877)\n",
       "Avg Obs:                       1077.3                                           \n",
       "Min Obs:                       854.00                                           \n",
       "Max Obs:                       1346.0                                           \n",
       "                                                                                \n",
       "                                  Parameter Estimates                                  \n",
       "=======================================================================================\n",
       "                     Parameter  Std. Err.     T-stat    P-value    Lower CI    Upper CI\n",
       "---------------------------------------------------------------------------------------\n",
       "Intercept               3.3134     0.0502     65.994     0.0000      3.2149      3.4119\n",
       "C(panelwave)[T.2.0]    -0.0763     0.0364    -2.0947     0.0363     -0.1477     -0.0049\n",
       "C(panelwave)[T.3.0]    -0.1803     0.0392    -4.6016     0.0000     -0.2571     -0.1034\n",
       "married                 0.1204     0.0915     1.3151     0.1886     -0.0591      0.2999\n",
       "=======================================================================================\n",
       "\n",
       "F-test for Poolability: 6.4029\n",
       "P-value: 0.0000\n",
       "Distribution: F(1351,1877)\n",
       "\n",
       "Included effects: Entity\n",
       "PanelEffectsResults, id: 0x1c1756d240"
      ]
     },
     "execution_count": 54,
     "metadata": {},
     "output_type": "execute_result"
    }
   ],
   "source": [
    "# slide 104\n",
    "\n",
    "fe_marhomo = PanelOLS.from_formula('marhomo ~ 1 + married + C(panelwave) + EntityEffects', data=pd_sub).fit()\n",
    "fe_marhomo"
   ]
  },
  {
   "cell_type": "code",
   "execution_count": 59,
   "metadata": {},
   "outputs": [
    {
     "name": "stdout",
     "output_type": "stream",
     "text": [
      "sigma_u = 1.35681\n",
      "sigma_e = 0.62966\n",
      "rho = 0.8228\n"
     ]
    }
   ],
   "source": [
    "print('sigma_u =', round(np.sqrt(fe_marhomo.variance_decomposition[0]), 5))\n",
    "print('sigma_e =', round(np.sqrt(fe_marhomo.variance_decomposition[1]), 5))\n",
    "print('rho =', round(fe_marhomo.variance_decomposition[2], 5))"
   ]
  },
  {
   "cell_type": "markdown",
   "metadata": {},
   "source": [
    "### The random effects approach"
   ]
  },
  {
   "cell_type": "code",
   "execution_count": 65,
   "metadata": {},
   "outputs": [
    {
     "name": "stderr",
     "output_type": "stream",
     "text": [
      "/Users/melindasong/anaconda/envs/py36/lib/python3.6/site-packages/linearmodels/utility.py:496: MissingValueWarning: \n",
      "Inputs contain missing values. Dropping rows with missing observations.\n",
      "  warnings.warn(missing_value_warning_msg, MissingValueWarning)\n"
     ]
    },
    {
     "data": {
      "text/plain": [
       "Effects                   1.533741\n",
       "Residual                  0.682683\n",
       "Percent due to Effects    0.691989\n",
       "Name: Variance Decomposition, dtype: float64"
      ]
     },
     "execution_count": 65,
     "metadata": {},
     "output_type": "execute_result"
    }
   ],
   "source": [
    "# slide 115\n",
    "\n",
    "from linearmodels import RandomEffects\n",
    "\n",
    "re_marhomo = RandomEffects.from_formula('marhomo ~ 1 + married + C(panelwave)', data=pd_sub).fit()\n",
    "re_marhomo.variance_decomposition"
   ]
  },
  {
   "cell_type": "code",
   "execution_count": 66,
   "metadata": {},
   "outputs": [
    {
     "data": {
      "text/html": [
       "<table class=\"simpletable\">\n",
       "<caption>RandomEffects Estimation Summary</caption>\n",
       "<tr>\n",
       "  <th>Dep. Variable:</th>         <td>marhomo</td>     <th>  R-squared:         </th>    <td>0.0731</td>  \n",
       "</tr>\n",
       "<tr>\n",
       "  <th>Estimator:</th>          <td>RandomEffects</td>  <th>  R-squared (Between):</th>   <td>0.0178</td>  \n",
       "</tr>\n",
       "<tr>\n",
       "  <th>No. Observations:</th>       <td>3232</td>       <th>  R-squared (Within):</th>    <td>0.0105</td>  \n",
       "</tr>\n",
       "<tr>\n",
       "  <th>Date:</th>             <td>Thu, Aug 16 2018</td> <th>  R-squared (Overall):</th>   <td>0.0154</td>  \n",
       "</tr>\n",
       "<tr>\n",
       "  <th>Time:</th>                 <td>13:32:29</td>     <th>  Log-likelihood     </th>    <td>-3969.7</td> \n",
       "</tr>\n",
       "<tr>\n",
       "  <th>Cov. Estimator:</th>      <td>Unadjusted</td>    <th>                     </th>       <td></td>     \n",
       "</tr>\n",
       "<tr>\n",
       "  <th></th>                          <td></td>         <th>  F-statistic:       </th>    <td>84.867</td>  \n",
       "</tr>\n",
       "<tr>\n",
       "  <th>Entities:</th>               <td>1352</td>       <th>  P-value            </th>    <td>0.0000</td>  \n",
       "</tr>\n",
       "<tr>\n",
       "  <th>Avg Obs:</th>               <td>2.3905</td>      <th>  Distribution:      </th>   <td>F(3,3228)</td>\n",
       "</tr>\n",
       "<tr>\n",
       "  <th>Min Obs:</th>               <td>1.0000</td>      <th>                     </th>       <td></td>     \n",
       "</tr>\n",
       "<tr>\n",
       "  <th>Max Obs:</th>               <td>3.0000</td>      <th>  F-statistic (robust):</th>  <td>14.563</td>  \n",
       "</tr>\n",
       "<tr>\n",
       "  <th></th>                          <td></td>         <th>  P-value            </th>    <td>0.0000</td>  \n",
       "</tr>\n",
       "<tr>\n",
       "  <th>Time periods:</th>             <td>3</td>        <th>  Distribution:      </th>   <td>F(3,3228)</td>\n",
       "</tr>\n",
       "<tr>\n",
       "  <th>Avg Obs:</th>               <td>1077.3</td>      <th>                     </th>       <td></td>     \n",
       "</tr>\n",
       "<tr>\n",
       "  <th>Min Obs:</th>               <td>854.00</td>      <th>                     </th>       <td></td>     \n",
       "</tr>\n",
       "<tr>\n",
       "  <th>Max Obs:</th>               <td>1346.0</td>      <th>                     </th>       <td></td>     \n",
       "</tr>\n",
       "<tr>\n",
       "  <th></th>                          <td></td>         <th>                     </th>       <td></td>     \n",
       "</tr>\n",
       "</table>\n",
       "<table class=\"simpletable\">\n",
       "<caption>Parameter Estimates</caption>\n",
       "<tr>\n",
       "           <td></td>           <th>Parameter</th> <th>Std. Err.</th> <th>T-stat</th>  <th>P-value</th> <th>Lower CI</th> <th>Upper CI</th>\n",
       "</tr>\n",
       "<tr>\n",
       "  <th>Intercept</th>            <td>3.2447</td>    <td>0.0491</td>   <td>66.092</td>  <td>0.0000</td>   <td>3.1485</td>   <td>3.3410</td> \n",
       "</tr>\n",
       "<tr>\n",
       "  <th>C(panelwave)[T.2.0]</th>  <td>-0.0823</td>   <td>0.0358</td>   <td>-2.2998</td> <td>0.0215</td>   <td>-0.1525</td>  <td>-0.0121</td>\n",
       "</tr>\n",
       "<tr>\n",
       "  <th>C(panelwave)[T.3.0]</th>  <td>-0.1838</td>   <td>0.0384</td>   <td>-4.7841</td> <td>0.0000</td>   <td>-0.2591</td>  <td>-0.1085</td>\n",
       "</tr>\n",
       "<tr>\n",
       "  <th>married</th>              <td>0.2763</td>    <td>0.0594</td>   <td>4.6483</td>  <td>0.0000</td>   <td>0.1597</td>   <td>0.3928</td> \n",
       "</tr>\n",
       "</table><br/>id: 0x1c177a6f98"
      ],
      "text/plain": [
       "                        RandomEffects Estimation Summary                        \n",
       "================================================================================\n",
       "Dep. Variable:                marhomo   R-squared:                        0.0731\n",
       "Estimator:              RandomEffects   R-squared (Between):              0.0178\n",
       "No. Observations:                3232   R-squared (Within):               0.0105\n",
       "Date:                Thu, Aug 16 2018   R-squared (Overall):              0.0154\n",
       "Time:                        13:32:29   Log-likelihood                   -3969.7\n",
       "Cov. Estimator:            Unadjusted                                           \n",
       "                                        F-statistic:                      84.867\n",
       "Entities:                        1352   P-value                           0.0000\n",
       "Avg Obs:                       2.3905   Distribution:                  F(3,3228)\n",
       "Min Obs:                       1.0000                                           \n",
       "Max Obs:                       3.0000   F-statistic (robust):             14.563\n",
       "                                        P-value                           0.0000\n",
       "Time periods:                       3   Distribution:                  F(3,3228)\n",
       "Avg Obs:                       1077.3                                           \n",
       "Min Obs:                       854.00                                           \n",
       "Max Obs:                       1346.0                                           \n",
       "                                                                                \n",
       "                                  Parameter Estimates                                  \n",
       "=======================================================================================\n",
       "                     Parameter  Std. Err.     T-stat    P-value    Lower CI    Upper CI\n",
       "---------------------------------------------------------------------------------------\n",
       "Intercept               3.2447     0.0491     66.092     0.0000      3.1485      3.3410\n",
       "C(panelwave)[T.2.0]    -0.0823     0.0358    -2.2998     0.0215     -0.1525     -0.0121\n",
       "C(panelwave)[T.3.0]    -0.1838     0.0384    -4.7841     0.0000     -0.2591     -0.1085\n",
       "married                 0.2763     0.0594     4.6483     0.0000      0.1597      0.3928\n",
       "=======================================================================================\n",
       "RandomEffectsResults, id: 0x1c177a6f98"
      ]
     },
     "execution_count": 66,
     "metadata": {},
     "output_type": "execute_result"
    }
   ],
   "source": [
    "re_marhomo"
   ]
  },
  {
   "cell_type": "code",
   "execution_count": 63,
   "metadata": {},
   "outputs": [
    {
     "name": "stdout",
     "output_type": "stream",
     "text": [
      "Total sum of squares:  2381.2507995349124\n",
      "Residual sum of squares:  2207.1659582172542\n"
     ]
    }
   ],
   "source": [
    "print('Total sum of squares: ', re_marhomo.total_ss)\n",
    "print('Residual sum of squares: ', re_marhomo.resid_ss)"
   ]
  },
  {
   "cell_type": "code",
   "execution_count": 67,
   "metadata": {},
   "outputs": [
    {
     "name": "stdout",
     "output_type": "stream",
     "text": [
      "sigma_u = 1.23844\n",
      "sigma_e = 0.82625\n",
      "rho = 0.69199\n"
     ]
    }
   ],
   "source": [
    "print('sigma_u =', round(np.sqrt(re_marhomo.variance_decomposition[0]), 5))\n",
    "print('sigma_e =', round(np.sqrt(re_marhomo.variance_decomposition[1]), 5))\n",
    "print('rho =', round(re_marhomo.variance_decomposition[2], 5))"
   ]
  },
  {
   "cell_type": "markdown",
   "metadata": {},
   "source": [
    "### The Hausman test"
   ]
  },
  {
   "cell_type": "markdown",
   "metadata": {},
   "source": [
    "The Hausman test can be performed using the following function borrowed from https://github.com/sglyon/econtools/blob/master/Python/econtools/metrics.py  \n",
    "(The function had to be revised slightly because `statsmodels.regression.linear_panel.PanelLMRandomResults` has been deprecated.)"
   ]
  },
  {
   "cell_type": "code",
   "execution_count": 72,
   "metadata": {},
   "outputs": [],
   "source": [
    "import numpy.linalg as la\n",
    "from scipy import stats\n",
    "\n",
    "def hausman(fe, re):\n",
    "    \"\"\"\n",
    "    Compute hausman test for fixed effects/random effects models\n",
    "    b = beta_fe\n",
    "    B = beta_re\n",
    "    From theory we have that b is always consistent, but B is consistent\n",
    "    under the alternative hypothesis and efficient under the null.\n",
    "    The test statistic is computed as\n",
    "    z = (b - B)' [V_b - v_B^{-1}](b - B)\n",
    "    The statistic is distributed z \\sim \\chi^2(k), where k is the number\n",
    "    of regressors in the model.\n",
    "    Parameters\n",
    "    ==========\n",
    "    fe : statsmodels.regression.linear_panel.PanelLMWithinResults\n",
    "        The results obtained by using sm.PanelLM with the\n",
    "        method='within' option.\n",
    "    re : statsmodels.regression.linear_panel.PanelLMRandomResults\n",
    "        The results obtained by using sm.PanelLM with the\n",
    "        method='swar' option.\n",
    "    Returns\n",
    "    =======\n",
    "    chi2 : float\n",
    "        The test statistic\n",
    "    df : int\n",
    "        The number of degrees of freedom for the distribution of the\n",
    "        test statistic\n",
    "    pval : float\n",
    "        The p-value associated with the null hypothesis\n",
    "    Notes\n",
    "    =====\n",
    "    The null hypothesis supports the claim that the random effects\n",
    "    estimator is \"better\". If we reject this hypothesis it is the same\n",
    "    as saying we should be using fixed effects because there are\n",
    "    systematic differences in the coefficients.\n",
    "    \"\"\"\n",
    "\n",
    "    # Pull data out\n",
    "    b = fe.params.values\n",
    "    B = re.params.values\n",
    "    v_b = fe.cov.values\n",
    "    v_B = re.cov.values\n",
    "\n",
    "    # NOTE: find df. fe should toss time-invariant variables, but it\n",
    "    #       doesn't. It does return garbage so we use that to filter\n",
    "    df = b[np.abs(b) < 1e8].size\n",
    "\n",
    "    # compute test statistic and associated p-value\n",
    "    chi2 = np.dot((b - B).T, la.inv(v_b - v_B).dot(b - B))\n",
    "    pval = stats.chi2.sf(chi2, df)\n",
    "\n",
    "    return chi2, df, pval"
   ]
  },
  {
   "cell_type": "code",
   "execution_count": 73,
   "metadata": {},
   "outputs": [
    {
     "data": {
      "text/plain": [
       "(6.085873153637998, 4, 0.19282634278405492)"
      ]
     },
     "execution_count": 73,
     "metadata": {},
     "output_type": "execute_result"
    }
   ],
   "source": [
    "hausman(fe_marhomo, re_marhomo)"
   ]
  },
  {
   "cell_type": "markdown",
   "metadata": {},
   "source": [
    "### A bigger random effects model with additional variables"
   ]
  },
  {
   "cell_type": "code",
   "execution_count": 82,
   "metadata": {},
   "outputs": [
    {
     "name": "stderr",
     "output_type": "stream",
     "text": [
      "/Users/melindasong/anaconda/envs/py36/lib/python3.6/site-packages/linearmodels/utility.py:496: MissingValueWarning: \n",
      "Inputs contain missing values. Dropping rows with missing observations.\n",
      "  warnings.warn(missing_value_warning_msg, MissingValueWarning)\n"
     ]
    },
    {
     "data": {
      "text/html": [
       "<table class=\"simpletable\">\n",
       "<caption>RandomEffects Estimation Summary</caption>\n",
       "<tr>\n",
       "  <th>Dep. Variable:</th>         <td>marhomo</td>     <th>  R-squared:         </th>    <td>0.0811</td>  \n",
       "</tr>\n",
       "<tr>\n",
       "  <th>Estimator:</th>          <td>RandomEffects</td>  <th>  R-squared (Between):</th>   <td>0.0450</td>  \n",
       "</tr>\n",
       "<tr>\n",
       "  <th>No. Observations:</th>       <td>3232</td>       <th>  R-squared (Within):</th>    <td>0.0044</td>  \n",
       "</tr>\n",
       "<tr>\n",
       "  <th>Date:</th>             <td>Thu, Aug 16 2018</td> <th>  R-squared (Overall):</th>   <td>0.0385</td>  \n",
       "</tr>\n",
       "<tr>\n",
       "  <th>Time:</th>                 <td>13:46:46</td>     <th>  Log-likelihood     </th>    <td>-3973.5</td> \n",
       "</tr>\n",
       "<tr>\n",
       "  <th>Cov. Estimator:</th>      <td>Unadjusted</td>    <th>                     </th>       <td></td>     \n",
       "</tr>\n",
       "<tr>\n",
       "  <th></th>                          <td></td>         <th>  F-statistic:       </th>    <td>56.959</td>  \n",
       "</tr>\n",
       "<tr>\n",
       "  <th>Entities:</th>               <td>1352</td>       <th>  P-value            </th>    <td>0.0000</td>  \n",
       "</tr>\n",
       "<tr>\n",
       "  <th>Avg Obs:</th>               <td>2.3905</td>      <th>  Distribution:      </th>   <td>F(5,3226)</td>\n",
       "</tr>\n",
       "<tr>\n",
       "  <th>Min Obs:</th>               <td>1.0000</td>      <th>                     </th>       <td></td>     \n",
       "</tr>\n",
       "<tr>\n",
       "  <th>Max Obs:</th>               <td>3.0000</td>      <th>  F-statistic (robust):</th>  <td>14.384</td>  \n",
       "</tr>\n",
       "<tr>\n",
       "  <th></th>                          <td></td>         <th>  P-value            </th>    <td>0.0000</td>  \n",
       "</tr>\n",
       "<tr>\n",
       "  <th>Time periods:</th>             <td>3</td>        <th>  Distribution:      </th>   <td>F(5,3226)</td>\n",
       "</tr>\n",
       "<tr>\n",
       "  <th>Avg Obs:</th>               <td>1077.3</td>      <th>                     </th>       <td></td>     \n",
       "</tr>\n",
       "<tr>\n",
       "  <th>Min Obs:</th>               <td>854.00</td>      <th>                     </th>       <td></td>     \n",
       "</tr>\n",
       "<tr>\n",
       "  <th>Max Obs:</th>               <td>1346.0</td>      <th>                     </th>       <td></td>     \n",
       "</tr>\n",
       "<tr>\n",
       "  <th></th>                          <td></td>         <th>                     </th>       <td></td>     \n",
       "</tr>\n",
       "</table>\n",
       "<table class=\"simpletable\">\n",
       "<caption>Parameter Estimates</caption>\n",
       "<tr>\n",
       "           <td></td>           <th>Parameter</th> <th>Std. Err.</th> <th>T-stat</th>  <th>P-value</th> <th>Lower CI</th> <th>Upper CI</th>\n",
       "</tr>\n",
       "<tr>\n",
       "  <th>Intercept</th>            <td>3.4117</td>    <td>0.1259</td>   <td>27.090</td>  <td>0.0000</td>   <td>3.1647</td>   <td>3.6586</td> \n",
       "</tr>\n",
       "<tr>\n",
       "  <th>C(panelwave)[T.2.0]</th>  <td>-0.0805</td>   <td>0.0358</td>   <td>-2.2456</td> <td>0.0248</td>   <td>-0.1507</td>  <td>-0.0102</td>\n",
       "</tr>\n",
       "<tr>\n",
       "  <th>C(panelwave)[T.3.0]</th>  <td>-0.1816</td>   <td>0.0385</td>   <td>-4.7215</td> <td>0.0000</td>   <td>-0.2570</td>  <td>-0.1062</td>\n",
       "</tr>\n",
       "<tr>\n",
       "  <th>married</th>              <td>0.3092</td>    <td>0.0594</td>   <td>5.2013</td>  <td>0.0000</td>   <td>0.1926</td>   <td>0.4257</td> \n",
       "</tr>\n",
       "<tr>\n",
       "  <th>sex</th>                  <td>-0.1592</td>   <td>0.0731</td>   <td>-2.1781</td> <td>0.0295</td>   <td>-0.3024</td>  <td>-0.0159</td>\n",
       "</tr>\n",
       "<tr>\n",
       "  <th>black</th>                <td>0.4899</td>    <td>0.1006</td>   <td>4.8712</td>  <td>0.0000</td>   <td>0.2927</td>   <td>0.6871</td> \n",
       "</tr>\n",
       "</table><br/>id: 0x1c1770dbe0"
      ],
      "text/plain": [
       "                        RandomEffects Estimation Summary                        \n",
       "================================================================================\n",
       "Dep. Variable:                marhomo   R-squared:                        0.0811\n",
       "Estimator:              RandomEffects   R-squared (Between):              0.0450\n",
       "No. Observations:                3232   R-squared (Within):               0.0044\n",
       "Date:                Thu, Aug 16 2018   R-squared (Overall):              0.0385\n",
       "Time:                        13:46:46   Log-likelihood                   -3973.5\n",
       "Cov. Estimator:            Unadjusted                                           \n",
       "                                        F-statistic:                      56.959\n",
       "Entities:                        1352   P-value                           0.0000\n",
       "Avg Obs:                       2.3905   Distribution:                  F(5,3226)\n",
       "Min Obs:                       1.0000                                           \n",
       "Max Obs:                       3.0000   F-statistic (robust):             14.384\n",
       "                                        P-value                           0.0000\n",
       "Time periods:                       3   Distribution:                  F(5,3226)\n",
       "Avg Obs:                       1077.3                                           \n",
       "Min Obs:                       854.00                                           \n",
       "Max Obs:                       1346.0                                           \n",
       "                                                                                \n",
       "                                  Parameter Estimates                                  \n",
       "=======================================================================================\n",
       "                     Parameter  Std. Err.     T-stat    P-value    Lower CI    Upper CI\n",
       "---------------------------------------------------------------------------------------\n",
       "Intercept               3.4117     0.1259     27.090     0.0000      3.1647      3.6586\n",
       "C(panelwave)[T.2.0]    -0.0805     0.0358    -2.2456     0.0248     -0.1507     -0.0102\n",
       "C(panelwave)[T.3.0]    -0.1816     0.0385    -4.7215     0.0000     -0.2570     -0.1062\n",
       "married                 0.3092     0.0594     5.2013     0.0000      0.1926      0.4257\n",
       "sex                    -0.1592     0.0731    -2.1781     0.0295     -0.3024     -0.0159\n",
       "black                   0.4899     0.1006     4.8712     0.0000      0.2927      0.6871\n",
       "=======================================================================================\n",
       "RandomEffectsResults, id: 0x1c1770dbe0"
      ]
     },
     "execution_count": 82,
     "metadata": {},
     "output_type": "execute_result"
    }
   ],
   "source": [
    "# Add on the \"black\" and \"sex\" variables:\n",
    "panel.set_index(['idnum', 'panelwave'], drop=False, inplace=True)\n",
    "\n",
    "pd_sub['black'] = np.where(pd.isnull(panel.race), np.nan, \n",
    "                          np.where(panel.race==2, 1, 0))\n",
    "pd_sub['sex'] = panel.sex\n",
    "\n",
    "re_marhomo2 = RandomEffects.from_formula('marhomo ~ 1 + married + C(panelwave) + sex + black', data=pd_sub).fit()\n",
    "re_marhomo2"
   ]
  },
  {
   "cell_type": "code",
   "execution_count": 83,
   "metadata": {},
   "outputs": [
    {
     "name": "stdout",
     "output_type": "stream",
     "text": [
      "Total sum of squares:  2407.6320599945225\n",
      "Residual sum of squares:  2212.325042514517\n"
     ]
    }
   ],
   "source": [
    "print('Total sum of squares: ', re_marhomo2.total_ss)\n",
    "print('Residual sum of squares: ', re_marhomo2.resid_ss)"
   ]
  },
  {
   "cell_type": "code",
   "execution_count": 84,
   "metadata": {},
   "outputs": [
    {
     "name": "stdout",
     "output_type": "stream",
     "text": [
      "sigma_u = 1.2168\n",
      "sigma_e = 0.8247\n",
      "rho = 0.68523\n"
     ]
    }
   ],
   "source": [
    "print('sigma_u =', round(np.sqrt(re_marhomo2.variance_decomposition[0]), 5))\n",
    "print('sigma_e =', round(np.sqrt(re_marhomo2.variance_decomposition[1]), 5))\n",
    "print('rho =', round(re_marhomo2.variance_decomposition[2], 5))"
   ]
  },
  {
   "cell_type": "code",
   "execution_count": 116,
   "metadata": {},
   "outputs": [
    {
     "name": "stderr",
     "output_type": "stream",
     "text": [
      "/Users/melindasong/anaconda/envs/py36/lib/python3.6/site-packages/linearmodels/utility.py:496: MissingValueWarning: \n",
      "Inputs contain missing values. Dropping rows with missing observations.\n",
      "  warnings.warn(missing_value_warning_msg, MissingValueWarning)\n"
     ]
    },
    {
     "data": {
      "text/html": [
       "<table class=\"simpletable\">\n",
       "<caption>PanelOLS Estimation Summary</caption>\n",
       "<tr>\n",
       "  <th>Dep. Variable:</th>        <td>d_marhomo</td>    <th>  R-squared:         </th>    <td>0.0078</td> \n",
       "</tr>\n",
       "<tr>\n",
       "  <th>Estimator:</th>            <td>PanelOLS</td>     <th>  R-squared (Between):</th>   <td>-0.0081</td>\n",
       "</tr>\n",
       "<tr>\n",
       "  <th>No. Observations:</th>       <td>1875</td>       <th>  R-squared (Within):</th>    <td>0.0078</td> \n",
       "</tr>\n",
       "<tr>\n",
       "  <th>Date:</th>             <td>Thu, Aug 16 2018</td> <th>  R-squared (Overall):</th>   <td>0.0012</td> \n",
       "</tr>\n",
       "<tr>\n",
       "  <th>Time:</th>                 <td>14:18:49</td>     <th>  Log-likelihood     </th>    <td>-2446.8</td>\n",
       "</tr>\n",
       "<tr>\n",
       "  <th>Cov. Estimator:</th>       <td>Clustered</td>    <th>                     </th>       <td></td>    \n",
       "</tr>\n",
       "<tr>\n",
       "  <th></th>                          <td></td>         <th>  F-statistic:       </th>    <td>6.5960</td> \n",
       "</tr>\n",
       "<tr>\n",
       "  <th>Entities:</th>               <td>1031</td>       <th>  P-value            </th>    <td>0.0104</td> \n",
       "</tr>\n",
       "<tr>\n",
       "  <th>Avg Obs:</th>               <td>1.8186</td>      <th>  Distribution:      </th>   <td>F(1,843)</td>\n",
       "</tr>\n",
       "<tr>\n",
       "  <th>Min Obs:</th>               <td>1.0000</td>      <th>                     </th>       <td></td>    \n",
       "</tr>\n",
       "<tr>\n",
       "  <th>Max Obs:</th>               <td>2.0000</td>      <th>  F-statistic (robust):</th>  <td>5.8324</td> \n",
       "</tr>\n",
       "<tr>\n",
       "  <th></th>                          <td></td>         <th>  P-value            </th>    <td>0.0159</td> \n",
       "</tr>\n",
       "<tr>\n",
       "  <th>Time periods:</th>             <td>2</td>        <th>  Distribution:      </th>   <td>F(1,843)</td>\n",
       "</tr>\n",
       "<tr>\n",
       "  <th>Avg Obs:</th>               <td>937.50</td>      <th>                     </th>       <td></td>    \n",
       "</tr>\n",
       "<tr>\n",
       "  <th>Min Obs:</th>               <td>848.00</td>      <th>                     </th>       <td></td>    \n",
       "</tr>\n",
       "<tr>\n",
       "  <th>Max Obs:</th>               <td>1027.0</td>      <th>                     </th>       <td></td>    \n",
       "</tr>\n",
       "<tr>\n",
       "  <th></th>                          <td></td>         <th>                     </th>       <td></td>    \n",
       "</tr>\n",
       "</table>\n",
       "<table class=\"simpletable\">\n",
       "<caption>Parameter Estimates</caption>\n",
       "<tr>\n",
       "      <td></td>      <th>Parameter</th> <th>Std. Err.</th> <th>T-stat</th>  <th>P-value</th> <th>Lower CI</th> <th>Upper CI</th>\n",
       "</tr>\n",
       "<tr>\n",
       "  <th>Intercept</th>  <td>-0.0931</td>   <td>0.0004</td>   <td>-261.74</td> <td>0.0000</td>   <td>-0.0938</td>  <td>-0.0924</td>\n",
       "</tr>\n",
       "<tr>\n",
       "  <th>d_married</th>  <td>0.4028</td>    <td>0.1668</td>   <td>2.4150</td>  <td>0.0159</td>   <td>0.0754</td>   <td>0.7301</td> \n",
       "</tr>\n",
       "</table><br/><br/>F-test for Poolability: 0.4951<br/>P-value: 1.0000<br/>Distribution: F(1030,843)<br/><br/>Included effects: Entity<br/>id: 0x1c18361a20"
      ],
      "text/plain": [
       "                          PanelOLS Estimation Summary                           \n",
       "================================================================================\n",
       "Dep. Variable:              d_marhomo   R-squared:                        0.0078\n",
       "Estimator:                   PanelOLS   R-squared (Between):             -0.0081\n",
       "No. Observations:                1875   R-squared (Within):               0.0078\n",
       "Date:                Thu, Aug 16 2018   R-squared (Overall):              0.0012\n",
       "Time:                        14:18:49   Log-likelihood                   -2446.8\n",
       "Cov. Estimator:             Clustered                                           \n",
       "                                        F-statistic:                      6.5960\n",
       "Entities:                        1031   P-value                           0.0104\n",
       "Avg Obs:                       1.8186   Distribution:                   F(1,843)\n",
       "Min Obs:                       1.0000                                           \n",
       "Max Obs:                       2.0000   F-statistic (robust):             5.8324\n",
       "                                        P-value                           0.0159\n",
       "Time periods:                       2   Distribution:                   F(1,843)\n",
       "Avg Obs:                       937.50                                           \n",
       "Min Obs:                       848.00                                           \n",
       "Max Obs:                       1027.0                                           \n",
       "                                                                                \n",
       "                             Parameter Estimates                              \n",
       "==============================================================================\n",
       "            Parameter  Std. Err.     T-stat    P-value    Lower CI    Upper CI\n",
       "------------------------------------------------------------------------------\n",
       "Intercept     -0.0931     0.0004    -261.74     0.0000     -0.0938     -0.0924\n",
       "d_married      0.4028     0.1668     2.4150     0.0159      0.0754      0.7301\n",
       "==============================================================================\n",
       "\n",
       "F-test for Poolability: 0.4951\n",
       "P-value: 1.0000\n",
       "Distribution: F(1030,843)\n",
       "\n",
       "Included effects: Entity\n",
       "PanelEffectsResults, id: 0x1c18361a20"
      ]
     },
     "execution_count": 116,
     "metadata": {},
     "output_type": "execute_result"
    }
   ],
   "source": [
    "# slide 126 SUPPOSED TO USED FIRST DIFFERENCE OLS\n",
    "fd_marhomo = PanelOLS.from_formula('d_marhomo ~ 1 + d_married + EntityEffects', data=pd_sub).fit(cov_type = 'clustered', cluster_entity = True)\n",
    "fd_marhomo"
   ]
  },
  {
   "cell_type": "code",
   "execution_count": 108,
   "metadata": {},
   "outputs": [
    {
     "name": "stderr",
     "output_type": "stream",
     "text": [
      "/Users/melindasong/anaconda/envs/py36/lib/python3.6/site-packages/linearmodels/utility.py:496: MissingValueWarning: \n",
      "Inputs contain missing values. Dropping rows with missing observations.\n",
      "  warnings.warn(missing_value_warning_msg, MissingValueWarning)\n",
      "/Users/melindasong/anaconda/envs/py36/lib/python3.6/site-packages/linearmodels/panel/model.py:1567: FutureWarning: \n",
      "Panel is deprecated and will be removed in a future version.\n",
      "The recommended way to represent these types of 3-dimensional data are with a MultiIndex on a DataFrame, via the Panel.to_frame() method\n",
      "Alternatively, you can use the xarray package http://xarray.pydata.org/en/stable/.\n",
      "Pandas provides a `.to_xarray()` method to help automate this conversion.\n",
      "\n",
      "  y = self.dependent.first_difference()\n",
      "/Users/melindasong/anaconda/envs/py36/lib/python3.6/site-packages/linearmodels/panel/data.py:568: FutureWarning: \n",
      "Panel is deprecated and will be removed in a future version.\n",
      "The recommended way to represent these types of 3-dimensional data are with a MultiIndex on a DataFrame, via the Panel.to_frame() method\n",
      "Alternatively, you can use the xarray package http://xarray.pydata.org/en/stable/.\n",
      "Pandas provides a `.to_xarray()` method to help automate this conversion.\n",
      "\n",
      "  diffs = diffs.swapaxes(1, 2).to_frame(filter_observations=False)\n",
      "/Users/melindasong/anaconda/envs/py36/lib/python3.6/site-packages/linearmodels/panel/model.py:1572: FutureWarning: \n",
      "Panel is deprecated and will be removed in a future version.\n",
      "The recommended way to represent these types of 3-dimensional data are with a MultiIndex on a DataFrame, via the Panel.to_frame() method\n",
      "Alternatively, you can use the xarray package http://xarray.pydata.org/en/stable/.\n",
      "Pandas provides a `.to_xarray()` method to help automate this conversion.\n",
      "\n",
      "  x = self.exog.first_difference().values2d\n"
     ]
    },
    {
     "data": {
      "text/html": [
       "<table class=\"simpletable\">\n",
       "<caption>FirstDifferenceOLS Estimation Summary</caption>\n",
       "<tr>\n",
       "  <th>Dep. Variable:</th>         <td>d_marhomo</td>     <th>  R-squared:         </th>    <td>0.0078</td> \n",
       "</tr>\n",
       "<tr>\n",
       "  <th>Estimator:</th>        <td>FirstDifferenceOLS</td> <th>  R-squared (Between):</th>   <td>-0.0083</td>\n",
       "</tr>\n",
       "<tr>\n",
       "  <th>No. Observations:</th>         <td>844</td>        <th>  R-squared (Within):</th>    <td>0.0078</td> \n",
       "</tr>\n",
       "<tr>\n",
       "  <th>Date:</th>              <td>Thu, Aug 16 2018</td>  <th>  R-squared (Overall):</th>   <td>0.0011</td> \n",
       "</tr>\n",
       "<tr>\n",
       "  <th>Time:</th>                  <td>14:14:55</td>      <th>  Log-likelihood     </th>    <td>-1730.7</td>\n",
       "</tr>\n",
       "<tr>\n",
       "  <th>Cov. Estimator:</th>       <td>Unadjusted</td>     <th>                     </th>       <td></td>    \n",
       "</tr>\n",
       "<tr>\n",
       "  <th></th>                           <td></td>          <th>  F-statistic:       </th>    <td>6.5960</td> \n",
       "</tr>\n",
       "<tr>\n",
       "  <th>Entities:</th>                <td>1031</td>        <th>  P-value            </th>    <td>0.0104</td> \n",
       "</tr>\n",
       "<tr>\n",
       "  <th>Avg Obs:</th>                <td>1.8186</td>       <th>  Distribution:      </th>   <td>F(1,843)</td>\n",
       "</tr>\n",
       "<tr>\n",
       "  <th>Min Obs:</th>                <td>1.0000</td>       <th>                     </th>       <td></td>    \n",
       "</tr>\n",
       "<tr>\n",
       "  <th>Max Obs:</th>                <td>2.0000</td>       <th>  F-statistic (robust):</th>  <td>6.5960</td> \n",
       "</tr>\n",
       "<tr>\n",
       "  <th></th>                           <td></td>          <th>  P-value            </th>    <td>0.0104</td> \n",
       "</tr>\n",
       "<tr>\n",
       "  <th>Time periods:</th>              <td>2</td>         <th>  Distribution:      </th>   <td>F(1,843)</td>\n",
       "</tr>\n",
       "<tr>\n",
       "  <th>Avg Obs:</th>                <td>937.50</td>       <th>                     </th>       <td></td>    \n",
       "</tr>\n",
       "<tr>\n",
       "  <th>Min Obs:</th>                <td>848.00</td>       <th>                     </th>       <td></td>    \n",
       "</tr>\n",
       "<tr>\n",
       "  <th>Max Obs:</th>                <td>1027.0</td>       <th>                     </th>       <td></td>    \n",
       "</tr>\n",
       "<tr>\n",
       "  <th></th>                           <td></td>          <th>                     </th>       <td></td>    \n",
       "</tr>\n",
       "</table>\n",
       "<table class=\"simpletable\">\n",
       "<caption>Parameter Estimates</caption>\n",
       "<tr>\n",
       "      <td></td>      <th>Parameter</th> <th>Std. Err.</th> <th>T-stat</th> <th>P-value</th> <th>Lower CI</th> <th>Upper CI</th>\n",
       "</tr>\n",
       "<tr>\n",
       "  <th>d_married</th>  <td>0.4028</td>    <td>0.1568</td>   <td>2.5683</td> <td>0.0104</td>   <td>0.0950</td>   <td>0.7106</td> \n",
       "</tr>\n",
       "</table><br/>id: 0x1c16d50828"
      ],
      "text/plain": [
       "                     FirstDifferenceOLS Estimation Summary                      \n",
       "================================================================================\n",
       "Dep. Variable:              d_marhomo   R-squared:                        0.0078\n",
       "Estimator:         FirstDifferenceOLS   R-squared (Between):             -0.0083\n",
       "No. Observations:                 844   R-squared (Within):               0.0078\n",
       "Date:                Thu, Aug 16 2018   R-squared (Overall):              0.0011\n",
       "Time:                        14:14:55   Log-likelihood                   -1730.7\n",
       "Cov. Estimator:            Unadjusted                                           \n",
       "                                        F-statistic:                      6.5960\n",
       "Entities:                        1031   P-value                           0.0104\n",
       "Avg Obs:                       1.8186   Distribution:                   F(1,843)\n",
       "Min Obs:                       1.0000                                           \n",
       "Max Obs:                       2.0000   F-statistic (robust):             6.5960\n",
       "                                        P-value                           0.0104\n",
       "Time periods:                       2   Distribution:                   F(1,843)\n",
       "Avg Obs:                       937.50                                           \n",
       "Min Obs:                       848.00                                           \n",
       "Max Obs:                       1027.0                                           \n",
       "                                                                                \n",
       "                             Parameter Estimates                              \n",
       "==============================================================================\n",
       "            Parameter  Std. Err.     T-stat    P-value    Lower CI    Upper CI\n",
       "------------------------------------------------------------------------------\n",
       "d_married      0.4028     0.1568     2.5683     0.0104      0.0950      0.7106\n",
       "==============================================================================\n",
       "PanelResults, id: 0x1c16d50828"
      ]
     },
     "execution_count": 108,
     "metadata": {},
     "output_type": "execute_result"
    }
   ],
   "source": [
    "FirstDifferenceOLS.from_formula('d_marhomo ~ d_married', data=pd_sub).fit()"
   ]
  },
  {
   "cell_type": "code",
   "execution_count": 88,
   "metadata": {},
   "outputs": [
    {
     "name": "stderr",
     "output_type": "stream",
     "text": [
      "/Users/melindasong/anaconda/envs/py36/lib/python3.6/site-packages/linearmodels/utility.py:496: MissingValueWarning: \n",
      "Inputs contain missing values. Dropping rows with missing observations.\n",
      "  warnings.warn(missing_value_warning_msg, MissingValueWarning)\n"
     ]
    },
    {
     "ename": "ValueError",
     "evalue": "Panel must have at least 2 time periods",
     "output_type": "error",
     "traceback": [
      "\u001b[0;31m---------------------------------------------------------------------------\u001b[0m",
      "\u001b[0;31mValueError\u001b[0m                                Traceback (most recent call last)",
      "\u001b[0;32m<ipython-input-88-e70eb1ddd6ac>\u001b[0m in \u001b[0;36m<module>\u001b[0;34m()\u001b[0m\n\u001b[0;32m----> 1\u001b[0;31m \u001b[0mFirstDifferenceOLS\u001b[0m\u001b[0;34m.\u001b[0m\u001b[0mfrom_formula\u001b[0m\u001b[0;34m(\u001b[0m\u001b[0;34m'd_marhomo ~ d_married'\u001b[0m\u001b[0;34m,\u001b[0m \u001b[0mdata\u001b[0m\u001b[0;34m=\u001b[0m\u001b[0mpd_sub\u001b[0m\u001b[0;34m[\u001b[0m\u001b[0mpd_sub\u001b[0m\u001b[0;34m.\u001b[0m\u001b[0mpanelwave\u001b[0m\u001b[0;34m==\u001b[0m\u001b[0;36m3\u001b[0m\u001b[0;34m]\u001b[0m\u001b[0;34m)\u001b[0m\u001b[0;34m.\u001b[0m\u001b[0mfit\u001b[0m\u001b[0;34m(\u001b[0m\u001b[0;34m)\u001b[0m\u001b[0;34m\u001b[0m\u001b[0m\n\u001b[0m",
      "\u001b[0;32m~/anaconda/envs/py36/lib/python3.6/site-packages/linearmodels/panel/model.py\u001b[0m in \u001b[0;36mfrom_formula\u001b[0;34m(cls, formula, data, weights)\u001b[0m\n\u001b[1;32m   1653\u001b[0m         \u001b[0mparser\u001b[0m \u001b[0;34m=\u001b[0m \u001b[0mPanelFormulaParser\u001b[0m\u001b[0;34m(\u001b[0m\u001b[0mformula\u001b[0m\u001b[0;34m,\u001b[0m \u001b[0mdata\u001b[0m\u001b[0;34m)\u001b[0m\u001b[0;34m\u001b[0m\u001b[0m\n\u001b[1;32m   1654\u001b[0m         \u001b[0mdependent\u001b[0m\u001b[0;34m,\u001b[0m \u001b[0mexog\u001b[0m \u001b[0;34m=\u001b[0m \u001b[0mparser\u001b[0m\u001b[0;34m.\u001b[0m\u001b[0mdata\u001b[0m\u001b[0;34m\u001b[0m\u001b[0m\n\u001b[0;32m-> 1655\u001b[0;31m         \u001b[0mmod\u001b[0m \u001b[0;34m=\u001b[0m \u001b[0mcls\u001b[0m\u001b[0;34m(\u001b[0m\u001b[0mdependent\u001b[0m\u001b[0;34m,\u001b[0m \u001b[0mexog\u001b[0m\u001b[0;34m,\u001b[0m \u001b[0mweights\u001b[0m\u001b[0;34m=\u001b[0m\u001b[0mweights\u001b[0m\u001b[0;34m)\u001b[0m\u001b[0;34m\u001b[0m\u001b[0m\n\u001b[0m\u001b[1;32m   1656\u001b[0m         \u001b[0mmod\u001b[0m\u001b[0;34m.\u001b[0m\u001b[0mformula\u001b[0m \u001b[0;34m=\u001b[0m \u001b[0mformula\u001b[0m\u001b[0;34m\u001b[0m\u001b[0m\n\u001b[1;32m   1657\u001b[0m         \u001b[0;32mreturn\u001b[0m \u001b[0mmod\u001b[0m\u001b[0;34m\u001b[0m\u001b[0m\n",
      "\u001b[0;32m~/anaconda/envs/py36/lib/python3.6/site-packages/linearmodels/panel/model.py\u001b[0m in \u001b[0;36m__init__\u001b[0;34m(self, dependent, exog, weights)\u001b[0m\n\u001b[1;32m   1469\u001b[0m             \u001b[0;32mraise\u001b[0m \u001b[0mValueError\u001b[0m\u001b[0;34m(\u001b[0m\u001b[0;34m'Constants are not allowed in first difference regressions.'\u001b[0m\u001b[0;34m)\u001b[0m\u001b[0;34m\u001b[0m\u001b[0m\n\u001b[1;32m   1470\u001b[0m         \u001b[0;32mif\u001b[0m \u001b[0mself\u001b[0m\u001b[0;34m.\u001b[0m\u001b[0mdependent\u001b[0m\u001b[0;34m.\u001b[0m\u001b[0mnobs\u001b[0m \u001b[0;34m<\u001b[0m \u001b[0;36m2\u001b[0m\u001b[0;34m:\u001b[0m\u001b[0;34m\u001b[0m\u001b[0m\n\u001b[0;32m-> 1471\u001b[0;31m             \u001b[0;32mraise\u001b[0m \u001b[0mValueError\u001b[0m\u001b[0;34m(\u001b[0m\u001b[0;34m'Panel must have at least 2 time periods'\u001b[0m\u001b[0;34m)\u001b[0m\u001b[0;34m\u001b[0m\u001b[0m\n\u001b[0m\u001b[1;32m   1472\u001b[0m \u001b[0;34m\u001b[0m\u001b[0m\n\u001b[1;32m   1473\u001b[0m     \u001b[0;32mdef\u001b[0m \u001b[0m_choose_cov\u001b[0m\u001b[0;34m(\u001b[0m\u001b[0mself\u001b[0m\u001b[0;34m,\u001b[0m \u001b[0mcov_type\u001b[0m\u001b[0;34m,\u001b[0m \u001b[0;34m**\u001b[0m\u001b[0mcov_config\u001b[0m\u001b[0;34m)\u001b[0m\u001b[0;34m:\u001b[0m\u001b[0;34m\u001b[0m\u001b[0m\n",
      "\u001b[0;31mValueError\u001b[0m: Panel must have at least 2 time periods"
     ]
    }
   ],
   "source": [
    "FirstDifferenceOLS.from_formula('d_marhomo ~ d_married', data=pd_sub[pd_sub.panelwave==3]).fit()"
   ]
  },
  {
   "cell_type": "code",
   "execution_count": null,
   "metadata": {},
   "outputs": [],
   "source": []
  }
 ],
 "metadata": {
  "kernelspec": {
   "display_name": "py36",
   "language": "python",
   "name": "py36"
  },
  "language_info": {
   "codemirror_mode": {
    "name": "ipython",
    "version": 3
   },
   "file_extension": ".py",
   "mimetype": "text/x-python",
   "name": "python",
   "nbconvert_exporter": "python",
   "pygments_lexer": "ipython3",
   "version": "3.6.5"
  }
 },
 "nbformat": 4,
 "nbformat_minor": 2
}
