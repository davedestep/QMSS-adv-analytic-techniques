{
 "cells": [
  {
   "cell_type": "markdown",
   "metadata": {},
   "source": [
    "# Advanced quantitative techniques - Class 5 - Comparing texts"
   ]
  },
  {
   "cell_type": "code",
   "execution_count": 3,
   "metadata": {},
   "outputs": [],
   "source": [
    "import pandas as pd\n",
    "import numpy as np\n",
    "import nltk\n",
    "import matplotlib.pyplot as plt\n",
    "%matplotlib inline\n",
    "import statsmodels.api as sm\n",
    "import statsmodels.formula.api as smf"
   ]
  },
  {
   "cell_type": "markdown",
   "metadata": {},
   "source": [
    "## Document-Term-Matrix"
   ]
  },
  {
   "cell_type": "code",
   "execution_count": 95,
   "metadata": {},
   "outputs": [],
   "source": [
    "# create dictionary with keys being file name and values being the content of the speech\n",
    "\n",
    "files = ['Trump.Inaug.2017', 'Obama.Inaug.2009']\n",
    "paper_words = {}\n",
    "\n",
    "for d in files: \n",
    "    file_path = 'Data/' + str(d) + '.txt'\n",
    "    with open(file_path, 'rb') as f:\n",
    "        f = [f.read().decode('utf8', 'ignore').replace('\\r\\n', \" \").replace('\\ufeff', '')]\n",
    "        paper_words[d] = f"
   ]
  },
  {
   "cell_type": "markdown",
   "metadata": {},
   "source": [
    "The `shorttext` package provides a preprocessing tool that performs the following text preprocessing all in one go: \n",
    "- remove special characters\n",
    "- remove numerals\n",
    "- convert all alphabets to lower cases\n",
    "- remove stopwords\n",
    "- stem the words using Porter stemmer\n",
    "\n",
    "This package relies on the spaCy package among others. Although spaCy should be automatically installed when you install `shorttext`, you may have to download spaCy's 'en' data separately. This can be done in terminal using the command `python -m spacy download en`"
   ]
  },
  {
   "cell_type": "code",
   "execution_count": 96,
   "metadata": {},
   "outputs": [],
   "source": [
    "from shorttext.utils import standard_text_preprocessor_1\n",
    "preprocessor1 = standard_text_preprocessor_1()\n",
    "\n",
    "# get corpus into the right format to be preprocessed\n",
    "docids = sorted(paper_words.keys())\n",
    "addresses = [a for docid in docids for a in paper_words[docid]]\n",
    "\n",
    "# apply preprocessing\n",
    "corpus = [preprocessor1(a).split(' ') for a in addresses]\n",
    "\n",
    "# remove empty characters\n",
    "corpus = [[w for w in d if w != ''] for d in corpus]"
   ]
  },
  {
   "cell_type": "markdown",
   "metadata": {},
   "source": [
    "We can also use `shorttext` to create the document term matrix. "
   ]
  },
  {
   "cell_type": "code",
   "execution_count": 72,
   "metadata": {},
   "outputs": [],
   "source": [
    "from shorttext.utils import DocumentTermMatrix\n",
    "\n",
    "dtm = DocumentTermMatrix(corpus)\n",
    "dtm_df = dtm.generate_dtm_dataframe()\n",
    "dtm_df.index = docids"
   ]
  },
  {
   "cell_type": "code",
   "execution_count": 136,
   "metadata": {},
   "outputs": [
    {
     "data": {
      "text/html": [
       "<div>\n",
       "<style scoped>\n",
       "    .dataframe tbody tr th:only-of-type {\n",
       "        vertical-align: middle;\n",
       "    }\n",
       "\n",
       "    .dataframe tbody tr th {\n",
       "        vertical-align: top;\n",
       "    }\n",
       "\n",
       "    .dataframe thead th {\n",
       "        text-align: right;\n",
       "    }\n",
       "</style>\n",
       "<table border=\"1\" class=\"dataframe\">\n",
       "  <thead>\n",
       "    <tr style=\"text-align: right;\">\n",
       "      <th></th>\n",
       "      <th>Obama.Inaug.2009</th>\n",
       "      <th>Trump.Inaug.2017</th>\n",
       "    </tr>\n",
       "  </thead>\n",
       "  <tbody>\n",
       "    <tr>\n",
       "      <th>abroad</th>\n",
       "      <td>1.0</td>\n",
       "      <td>0.0</td>\n",
       "    </tr>\n",
       "    <tr>\n",
       "      <th>absolut</th>\n",
       "      <td>1.0</td>\n",
       "      <td>0.0</td>\n",
       "    </tr>\n",
       "    <tr>\n",
       "      <th>act</th>\n",
       "      <td>5.0</td>\n",
       "      <td>0.0</td>\n",
       "    </tr>\n",
       "    <tr>\n",
       "      <th>action</th>\n",
       "      <td>1.0</td>\n",
       "      <td>2.0</td>\n",
       "    </tr>\n",
       "    <tr>\n",
       "      <th>advanc</th>\n",
       "      <td>2.0</td>\n",
       "      <td>0.0</td>\n",
       "    </tr>\n",
       "    <tr>\n",
       "      <th>affirm</th>\n",
       "      <td>1.0</td>\n",
       "      <td>0.0</td>\n",
       "    </tr>\n",
       "    <tr>\n",
       "      <th>afford</th>\n",
       "      <td>1.0</td>\n",
       "      <td>0.0</td>\n",
       "    </tr>\n",
       "    <tr>\n",
       "      <th>africa</th>\n",
       "      <td>1.0</td>\n",
       "      <td>0.0</td>\n",
       "    </tr>\n",
       "    <tr>\n",
       "      <th>ago</th>\n",
       "      <td>1.0</td>\n",
       "      <td>0.0</td>\n",
       "    </tr>\n",
       "    <tr>\n",
       "      <th>agre</th>\n",
       "      <td>1.0</td>\n",
       "      <td>0.0</td>\n",
       "    </tr>\n",
       "  </tbody>\n",
       "</table>\n",
       "</div>"
      ],
      "text/plain": [
       "         Obama.Inaug.2009  Trump.Inaug.2017\n",
       "abroad                1.0               0.0\n",
       "absolut               1.0               0.0\n",
       "act                   5.0               0.0\n",
       "action                1.0               2.0\n",
       "advanc                2.0               0.0\n",
       "affirm                1.0               0.0\n",
       "afford                1.0               0.0\n",
       "africa                1.0               0.0\n",
       "ago                   1.0               0.0\n",
       "agre                  1.0               0.0"
      ]
     },
     "execution_count": 136,
     "metadata": {},
     "output_type": "execute_result"
    }
   ],
   "source": [
    "dtm_df.T.head(10)"
   ]
  },
  {
   "cell_type": "markdown",
   "metadata": {},
   "source": [
    "## Wordclouds"
   ]
  },
  {
   "cell_type": "code",
   "execution_count": 161,
   "metadata": {},
   "outputs": [
    {
     "data": {
      "text/plain": [
       "(-0.5, 399.5, 199.5, -0.5)"
      ]
     },
     "execution_count": 161,
     "metadata": {},
     "output_type": "execute_result"
    },
    {
     "data": {
      "image/png": "[encoded data removed]",
      "text/plain": [
       "<Figure size 432x288 with 1 Axes>"
      ]
     },
     "metadata": {},
     "output_type": "display_data"
    }
   ],
   "source": [
    "# slide 11\n",
    "from wordcloud import WordCloud\n",
    "Obama = ' '.join(corpus[0])\n",
    "wordcloud = WordCloud(background_color=\"white\", max_font_size=40).generate(Obama)\n",
    "plt.imshow(wordcloud)\n",
    "plt.axis(\"off\")  "
   ]
  },
  {
   "cell_type": "code",
   "execution_count": 159,
   "metadata": {},
   "outputs": [
    {
     "data": {
      "text/plain": [
       "(-0.5, 399.5, 199.5, -0.5)"
      ]
     },
     "execution_count": 159,
     "metadata": {},
     "output_type": "execute_result"
    },
    {
     "data": {
      "image/png": "[encoded data removed]",
      "text/plain": [
       "<Figure size 432x288 with 1 Axes>"
      ]
     },
     "metadata": {},
     "output_type": "display_data"
    }
   ],
   "source": [
    "Trump = ' '.join(corpus[1])\n",
    "wordcloud = WordCloud(background_color=\"white\", max_font_size=40).generate(Trump)\n",
    "plt.imshow(wordcloud)\n",
    "plt.axis(\"off\")  "
   ]
  },
  {
   "cell_type": "markdown",
   "metadata": {},
   "source": [
    "## Most distinctive words for each speaker"
   ]
  },
  {
   "cell_type": "code",
   "execution_count": 73,
   "metadata": {},
   "outputs": [],
   "source": [
    "dtm_T = dtm_df.T\n",
    "\n",
    "# Allow words to be a column instead of the index\n",
    "dtm_T.reset_index(drop=False, inplace=True)\n",
    "dtm_T.rename(columns={'index': 'words'}, inplace=True)"
   ]
  },
  {
   "cell_type": "code",
   "execution_count": 74,
   "metadata": {},
   "outputs": [],
   "source": [
    "dtm_T['Obama_prop'] = dtm_T['Obama.Inaug.2009'].apply(lambda x: x/dtm_T['Obama.Inaug.2009'].sum())\n",
    "dtm_T['Trump_prop'] = dtm_T['Trump.Inaug.2017'].apply(lambda x: x/dtm_T['Trump.Inaug.2017'].sum())\n",
    "\n",
    "dtm_T['Obama_over_Trump'] = dtm_T.Obama_prop - dtm_T.Trump_prop"
   ]
  },
  {
   "cell_type": "markdown",
   "metadata": {},
   "source": [
    "#### Most Obama-esque words"
   ]
  },
  {
   "cell_type": "code",
   "execution_count": 75,
   "metadata": {},
   "outputs": [
    {
     "data": {
      "text/html": [
       "<div>\n",
       "<style scoped>\n",
       "    .dataframe tbody tr th:only-of-type {\n",
       "        vertical-align: middle;\n",
       "    }\n",
       "\n",
       "    .dataframe tbody tr th {\n",
       "        vertical-align: top;\n",
       "    }\n",
       "\n",
       "    .dataframe thead th {\n",
       "        text-align: right;\n",
       "    }\n",
       "</style>\n",
       "<table border=\"1\" class=\"dataframe\">\n",
       "  <thead>\n",
       "    <tr style=\"text-align: right;\">\n",
       "      <th></th>\n",
       "      <th>words</th>\n",
       "      <th>Obama.Inaug.2009</th>\n",
       "      <th>Trump.Inaug.2017</th>\n",
       "      <th>Obama_prop</th>\n",
       "      <th>Trump_prop</th>\n",
       "      <th>Obama_over_Trump</th>\n",
       "    </tr>\n",
       "  </thead>\n",
       "  <tbody>\n",
       "    <tr>\n",
       "      <th>577</th>\n",
       "      <td>us</td>\n",
       "      <td>21.0</td>\n",
       "      <td>2.0</td>\n",
       "      <td>0.020792</td>\n",
       "      <td>0.002865</td>\n",
       "      <td>0.017927</td>\n",
       "    </tr>\n",
       "    <tr>\n",
       "      <th>348</th>\n",
       "      <td>must</td>\n",
       "      <td>16.0</td>\n",
       "      <td>3.0</td>\n",
       "      <td>0.015842</td>\n",
       "      <td>0.004298</td>\n",
       "      <td>0.011544</td>\n",
       "    </tr>\n",
       "    <tr>\n",
       "      <th>546</th>\n",
       "      <td>time</td>\n",
       "      <td>11.0</td>\n",
       "      <td>2.0</td>\n",
       "      <td>0.010891</td>\n",
       "      <td>0.002865</td>\n",
       "      <td>0.008026</td>\n",
       "    </tr>\n",
       "    <tr>\n",
       "      <th>440</th>\n",
       "      <td>requir</td>\n",
       "      <td>8.0</td>\n",
       "      <td>0.0</td>\n",
       "      <td>0.007921</td>\n",
       "      <td>0.000000</td>\n",
       "      <td>0.007921</td>\n",
       "    </tr>\n",
       "    <tr>\n",
       "      <th>226</th>\n",
       "      <td>generat</td>\n",
       "      <td>7.0</td>\n",
       "      <td>0.0</td>\n",
       "      <td>0.006931</td>\n",
       "      <td>0.000000</td>\n",
       "      <td>0.006931</td>\n",
       "    </tr>\n",
       "    <tr>\n",
       "      <th>289</th>\n",
       "      <td>know</td>\n",
       "      <td>7.0</td>\n",
       "      <td>0.0</td>\n",
       "      <td>0.006931</td>\n",
       "      <td>0.000000</td>\n",
       "      <td>0.006931</td>\n",
       "    </tr>\n",
       "    <tr>\n",
       "      <th>179</th>\n",
       "      <td>equal</td>\n",
       "      <td>7.0</td>\n",
       "      <td>0.0</td>\n",
       "      <td>0.006931</td>\n",
       "      <td>0.000000</td>\n",
       "      <td>0.006931</td>\n",
       "    </tr>\n",
       "    <tr>\n",
       "      <th>507</th>\n",
       "      <td>still</td>\n",
       "      <td>6.0</td>\n",
       "      <td>0.0</td>\n",
       "      <td>0.005941</td>\n",
       "      <td>0.000000</td>\n",
       "      <td>0.005941</td>\n",
       "    </tr>\n",
       "    <tr>\n",
       "      <th>283</th>\n",
       "      <td>journey</td>\n",
       "      <td>6.0</td>\n",
       "      <td>0.0</td>\n",
       "      <td>0.005941</td>\n",
       "      <td>0.000000</td>\n",
       "      <td>0.005941</td>\n",
       "    </tr>\n",
       "    <tr>\n",
       "      <th>220</th>\n",
       "      <td>freedom</td>\n",
       "      <td>7.0</td>\n",
       "      <td>1.0</td>\n",
       "      <td>0.006931</td>\n",
       "      <td>0.001433</td>\n",
       "      <td>0.005498</td>\n",
       "    </tr>\n",
       "  </tbody>\n",
       "</table>\n",
       "</div>"
      ],
      "text/plain": [
       "       words  Obama.Inaug.2009  Trump.Inaug.2017  Obama_prop  Trump_prop  \\\n",
       "577       us              21.0               2.0    0.020792    0.002865   \n",
       "348     must              16.0               3.0    0.015842    0.004298   \n",
       "546     time              11.0               2.0    0.010891    0.002865   \n",
       "440   requir               8.0               0.0    0.007921    0.000000   \n",
       "226  generat               7.0               0.0    0.006931    0.000000   \n",
       "289     know               7.0               0.0    0.006931    0.000000   \n",
       "179    equal               7.0               0.0    0.006931    0.000000   \n",
       "507    still               6.0               0.0    0.005941    0.000000   \n",
       "283  journey               6.0               0.0    0.005941    0.000000   \n",
       "220  freedom               7.0               1.0    0.006931    0.001433   \n",
       "\n",
       "     Obama_over_Trump  \n",
       "577          0.017927  \n",
       "348          0.011544  \n",
       "546          0.008026  \n",
       "440          0.007921  \n",
       "226          0.006931  \n",
       "289          0.006931  \n",
       "179          0.006931  \n",
       "507          0.005941  \n",
       "283          0.005941  \n",
       "220          0.005498  "
      ]
     },
     "execution_count": 75,
     "metadata": {},
     "output_type": "execute_result"
    }
   ],
   "source": [
    "# slide 14\n",
    "dtm_T.sort_values('Obama_over_Trump', ascending=False, inplace=True)\n",
    "dtm_T.head(10)"
   ]
  },
  {
   "cell_type": "markdown",
   "metadata": {},
   "source": [
    "#### Most Trumpian words"
   ]
  },
  {
   "cell_type": "code",
   "execution_count": 209,
   "metadata": {},
   "outputs": [
    {
     "data": {
      "text/html": [
       "<div>\n",
       "<style scoped>\n",
       "    .dataframe tbody tr th:only-of-type {\n",
       "        vertical-align: middle;\n",
       "    }\n",
       "\n",
       "    .dataframe tbody tr th {\n",
       "        vertical-align: top;\n",
       "    }\n",
       "\n",
       "    .dataframe thead th {\n",
       "        text-align: right;\n",
       "    }\n",
       "</style>\n",
       "<table border=\"1\" class=\"dataframe\">\n",
       "  <thead>\n",
       "    <tr style=\"text-align: right;\">\n",
       "      <th></th>\n",
       "      <th>words</th>\n",
       "      <th>Obama.Inaug.2009</th>\n",
       "      <th>Trump.Inaug.2017</th>\n",
       "      <th>Obama_prop</th>\n",
       "      <th>Trump_prop</th>\n",
       "      <th>Obama_over_Trump</th>\n",
       "    </tr>\n",
       "  </thead>\n",
       "  <tbody>\n",
       "    <tr>\n",
       "      <th>15</th>\n",
       "      <td>america</td>\n",
       "      <td>9.0</td>\n",
       "      <td>18.0</td>\n",
       "      <td>0.008911</td>\n",
       "      <td>0.025788</td>\n",
       "      <td>-0.016877</td>\n",
       "    </tr>\n",
       "    <tr>\n",
       "      <th>16</th>\n",
       "      <td>american</td>\n",
       "      <td>10.0</td>\n",
       "      <td>16.0</td>\n",
       "      <td>0.009901</td>\n",
       "      <td>0.022923</td>\n",
       "      <td>-0.013022</td>\n",
       "    </tr>\n",
       "    <tr>\n",
       "      <th>112</th>\n",
       "      <td>countri</td>\n",
       "      <td>7.0</td>\n",
       "      <td>12.0</td>\n",
       "      <td>0.006931</td>\n",
       "      <td>0.017192</td>\n",
       "      <td>-0.010261</td>\n",
       "    </tr>\n",
       "    <tr>\n",
       "      <th>351</th>\n",
       "      <td>nation</td>\n",
       "      <td>9.0</td>\n",
       "      <td>13.0</td>\n",
       "      <td>0.008911</td>\n",
       "      <td>0.018625</td>\n",
       "      <td>-0.009714</td>\n",
       "    </tr>\n",
       "    <tr>\n",
       "      <th>410</th>\n",
       "      <td>protect</td>\n",
       "      <td>1.0</td>\n",
       "      <td>7.0</td>\n",
       "      <td>0.000990</td>\n",
       "      <td>0.010029</td>\n",
       "      <td>-0.009039</td>\n",
       "    </tr>\n",
       "    <tr>\n",
       "      <th>622</th>\n",
       "      <td>back</td>\n",
       "      <td>0.0</td>\n",
       "      <td>6.0</td>\n",
       "      <td>0.000000</td>\n",
       "      <td>0.008596</td>\n",
       "      <td>-0.008596</td>\n",
       "    </tr>\n",
       "    <tr>\n",
       "      <th>152</th>\n",
       "      <td>dream</td>\n",
       "      <td>1.0</td>\n",
       "      <td>6.0</td>\n",
       "      <td>0.000990</td>\n",
       "      <td>0.008596</td>\n",
       "      <td>-0.007606</td>\n",
       "    </tr>\n",
       "    <tr>\n",
       "      <th>611</th>\n",
       "      <td>across</td>\n",
       "      <td>0.0</td>\n",
       "      <td>5.0</td>\n",
       "      <td>0.000000</td>\n",
       "      <td>0.007163</td>\n",
       "      <td>-0.007163</td>\n",
       "    </tr>\n",
       "    <tr>\n",
       "      <th>363</th>\n",
       "      <td>one</td>\n",
       "      <td>6.0</td>\n",
       "      <td>9.0</td>\n",
       "      <td>0.005941</td>\n",
       "      <td>0.012894</td>\n",
       "      <td>-0.006953</td>\n",
       "    </tr>\n",
       "    <tr>\n",
       "      <th>355</th>\n",
       "      <td>never</td>\n",
       "      <td>2.0</td>\n",
       "      <td>6.0</td>\n",
       "      <td>0.001980</td>\n",
       "      <td>0.008596</td>\n",
       "      <td>-0.006616</td>\n",
       "    </tr>\n",
       "  </tbody>\n",
       "</table>\n",
       "</div>"
      ],
      "text/plain": [
       "        words  Obama.Inaug.2009  Trump.Inaug.2017  Obama_prop  Trump_prop  \\\n",
       "15    america               9.0              18.0    0.008911    0.025788   \n",
       "16   american              10.0              16.0    0.009901    0.022923   \n",
       "112   countri               7.0              12.0    0.006931    0.017192   \n",
       "351    nation               9.0              13.0    0.008911    0.018625   \n",
       "410   protect               1.0               7.0    0.000990    0.010029   \n",
       "622      back               0.0               6.0    0.000000    0.008596   \n",
       "152     dream               1.0               6.0    0.000990    0.008596   \n",
       "611    across               0.0               5.0    0.000000    0.007163   \n",
       "363       one               6.0               9.0    0.005941    0.012894   \n",
       "355     never               2.0               6.0    0.001980    0.008596   \n",
       "\n",
       "     Obama_over_Trump  \n",
       "15          -0.016877  \n",
       "16          -0.013022  \n",
       "112         -0.010261  \n",
       "351         -0.009714  \n",
       "410         -0.009039  \n",
       "622         -0.008596  \n",
       "152         -0.007606  \n",
       "611         -0.007163  \n",
       "363         -0.006953  \n",
       "355         -0.006616  "
      ]
     },
     "execution_count": 209,
     "metadata": {},
     "output_type": "execute_result"
    }
   ],
   "source": [
    "# slide 15\n",
    "dtm_T.sort_values('Obama_over_Trump', inplace=True)\n",
    "dtm_T.head(10)"
   ]
  },
  {
   "cell_type": "code",
   "execution_count": 76,
   "metadata": {},
   "outputs": [],
   "source": [
    "dtm_T.reset_index(drop=True, inplace=True)"
   ]
  },
  {
   "cell_type": "code",
   "execution_count": 224,
   "metadata": {},
   "outputs": [
    {
     "data": {
      "image/png": "[encoded data removed]",
      "text/plain": [
       "<Figure size 432x288 with 1 Axes>"
      ]
     },
     "metadata": {},
     "output_type": "display_data"
    }
   ],
   "source": [
    "fig, ax = plt.subplots()\n",
    "plt.scatter(dtm_T.Obama_prop, dtm_T.Trump_prop)\n",
    "plt.xlim(0, 0.025)\n",
    "plt.ylim(0, 0.03)\n",
    "\n",
    "for i, txt in enumerate(dtm_T.words):\n",
    "    ax.annotate(txt, (dtm_T.Obama_prop[i], dtm_T.Trump_prop[i]))"
   ]
  },
  {
   "cell_type": "markdown",
   "metadata": {},
   "source": [
    "## Similarities"
   ]
  },
  {
   "cell_type": "markdown",
   "metadata": {},
   "source": [
    "Results below are a little different from results obtained in R, possibly because the Python method identified 851 words whereas the R method identified 796. "
   ]
  },
  {
   "cell_type": "code",
   "execution_count": 77,
   "metadata": {},
   "outputs": [
    {
     "data": {
      "text/plain": [
       "array([[1.        , 0.52002326],\n",
       "       [0.52002326, 1.        ]])"
      ]
     },
     "execution_count": 77,
     "metadata": {},
     "output_type": "execute_result"
    }
   ],
   "source": [
    "# slide 34\n",
    "from sklearn.metrics.pairwise import cosine_similarity\n",
    "\n",
    "cosine_similarity(dtm_df)"
   ]
  },
  {
   "cell_type": "code",
   "execution_count": 245,
   "metadata": {},
   "outputs": [
    {
     "data": {
      "text/html": [
       "<div>\n",
       "<style scoped>\n",
       "    .dataframe tbody tr th:only-of-type {\n",
       "        vertical-align: middle;\n",
       "    }\n",
       "\n",
       "    .dataframe tbody tr th {\n",
       "        vertical-align: top;\n",
       "    }\n",
       "\n",
       "    .dataframe thead th {\n",
       "        text-align: right;\n",
       "    }\n",
       "</style>\n",
       "<table border=\"1\" class=\"dataframe\">\n",
       "  <thead>\n",
       "    <tr style=\"text-align: right;\">\n",
       "      <th></th>\n",
       "      <th>Obama.Inaug.2009</th>\n",
       "      <th>Trump.Inaug.2017</th>\n",
       "    </tr>\n",
       "  </thead>\n",
       "  <tbody>\n",
       "    <tr>\n",
       "      <th>Obama.Inaug.2009</th>\n",
       "      <td>1.000000</td>\n",
       "      <td>0.334503</td>\n",
       "    </tr>\n",
       "    <tr>\n",
       "      <th>Trump.Inaug.2017</th>\n",
       "      <td>0.334503</td>\n",
       "      <td>1.000000</td>\n",
       "    </tr>\n",
       "  </tbody>\n",
       "</table>\n",
       "</div>"
      ],
      "text/plain": [
       "                  Obama.Inaug.2009  Trump.Inaug.2017\n",
       "Obama.Inaug.2009          1.000000          0.334503\n",
       "Trump.Inaug.2017          0.334503          1.000000"
      ]
     },
     "execution_count": 245,
     "metadata": {},
     "output_type": "execute_result"
    }
   ],
   "source": [
    "dtm_df.T.corr(method='pearson')"
   ]
  },
  {
   "cell_type": "code",
   "execution_count": 246,
   "metadata": {},
   "outputs": [
    {
     "data": {
      "text/html": [
       "<div>\n",
       "<style scoped>\n",
       "    .dataframe tbody tr th:only-of-type {\n",
       "        vertical-align: middle;\n",
       "    }\n",
       "\n",
       "    .dataframe tbody tr th {\n",
       "        vertical-align: top;\n",
       "    }\n",
       "\n",
       "    .dataframe thead th {\n",
       "        text-align: right;\n",
       "    }\n",
       "</style>\n",
       "<table border=\"1\" class=\"dataframe\">\n",
       "  <thead>\n",
       "    <tr style=\"text-align: right;\">\n",
       "      <th></th>\n",
       "      <th>Obama.Inaug.2009</th>\n",
       "      <th>Trump.Inaug.2017</th>\n",
       "    </tr>\n",
       "  </thead>\n",
       "  <tbody>\n",
       "    <tr>\n",
       "      <th>Obama.Inaug.2009</th>\n",
       "      <td>1.000000</td>\n",
       "      <td>-0.320442</td>\n",
       "    </tr>\n",
       "    <tr>\n",
       "      <th>Trump.Inaug.2017</th>\n",
       "      <td>-0.320442</td>\n",
       "      <td>1.000000</td>\n",
       "    </tr>\n",
       "  </tbody>\n",
       "</table>\n",
       "</div>"
      ],
      "text/plain": [
       "                  Obama.Inaug.2009  Trump.Inaug.2017\n",
       "Obama.Inaug.2009          1.000000         -0.320442\n",
       "Trump.Inaug.2017         -0.320442          1.000000"
      ]
     },
     "execution_count": 246,
     "metadata": {},
     "output_type": "execute_result"
    }
   ],
   "source": [
    "dtm_df.T.corr(method='spearman')"
   ]
  },
  {
   "cell_type": "code",
   "execution_count": 254,
   "metadata": {},
   "outputs": [
    {
     "data": {
      "text/plain": [
       "(985.9172561072357,\n",
       " 0.0008121694135871572,\n",
       " 850,\n",
       " array([[0.59133489, 0.59133489, 2.95667447, ..., 0.59133489, 0.59133489,\n",
       "         0.59133489],\n",
       "        [0.40866511, 0.40866511, 2.04332553, ..., 0.40866511, 0.40866511,\n",
       "         0.40866511]]))"
      ]
     },
     "execution_count": 254,
     "metadata": {},
     "output_type": "execute_result"
    }
   ],
   "source": [
    "from scipy.stats import chi2_contingency\n",
    "\n",
    "chi2_contingency(dtm_df)"
   ]
  },
  {
   "cell_type": "markdown",
   "metadata": {},
   "source": [
    "### Regression models"
   ]
  },
  {
   "cell_type": "code",
   "execution_count": 267,
   "metadata": {},
   "outputs": [],
   "source": [
    "# Rename columns to avoid errors in regression model specification\n",
    "dtm_T2 = dtm_T.rename(columns={'Trump.Inaug.2017': 'Trump17', 'Obama.Inaug.2009': 'Obama09'})"
   ]
  },
  {
   "cell_type": "code",
   "execution_count": 268,
   "metadata": {},
   "outputs": [
    {
     "data": {
      "text/html": [
       "<table class=\"simpletable\">\n",
       "<caption>OLS Regression Results</caption>\n",
       "<tr>\n",
       "  <th>Dep. Variable:</th>         <td>Trump17</td>     <th>  R-squared:         </th> <td>   0.112</td>\n",
       "</tr>\n",
       "<tr>\n",
       "  <th>Model:</th>                   <td>OLS</td>       <th>  Adj. R-squared:    </th> <td>   0.111</td>\n",
       "</tr>\n",
       "<tr>\n",
       "  <th>Method:</th>             <td>Least Squares</td>  <th>  F-statistic:       </th> <td>   107.0</td>\n",
       "</tr>\n",
       "<tr>\n",
       "  <th>Date:</th>             <td>Sun, 19 Aug 2018</td> <th>  Prob (F-statistic):</th> <td>1.08e-23</td>\n",
       "</tr>\n",
       "<tr>\n",
       "  <th>Time:</th>                 <td>00:53:37</td>     <th>  Log-Likelihood:    </th> <td> -1497.8</td>\n",
       "</tr>\n",
       "<tr>\n",
       "  <th>No. Observations:</th>      <td>   851</td>      <th>  AIC:               </th> <td>   3000.</td>\n",
       "</tr>\n",
       "<tr>\n",
       "  <th>Df Residuals:</th>          <td>   849</td>      <th>  BIC:               </th> <td>   3009.</td>\n",
       "</tr>\n",
       "<tr>\n",
       "  <th>Df Model:</th>              <td>     1</td>      <th>                     </th>     <td> </td>   \n",
       "</tr>\n",
       "<tr>\n",
       "  <th>Covariance Type:</th>      <td>nonrobust</td>    <th>                     </th>     <td> </td>   \n",
       "</tr>\n",
       "</table>\n",
       "<table class=\"simpletable\">\n",
       "<tr>\n",
       "      <td></td>         <th>coef</th>     <th>std err</th>      <th>t</th>      <th>P>|t|</th>  <th>[0.025</th>    <th>0.975]</th>  \n",
       "</tr>\n",
       "<tr>\n",
       "  <th>Intercept</th> <td>    0.4583</td> <td>    0.060</td> <td>    7.688</td> <td> 0.000</td> <td>    0.341</td> <td>    0.575</td>\n",
       "</tr>\n",
       "<tr>\n",
       "  <th>Obama09</th>   <td>    0.3049</td> <td>    0.029</td> <td>   10.342</td> <td> 0.000</td> <td>    0.247</td> <td>    0.363</td>\n",
       "</tr>\n",
       "</table>\n",
       "<table class=\"simpletable\">\n",
       "<tr>\n",
       "  <th>Omnibus:</th>       <td>737.303</td> <th>  Durbin-Watson:     </th> <td>   0.083</td> \n",
       "</tr>\n",
       "<tr>\n",
       "  <th>Prob(Omnibus):</th> <td> 0.000</td>  <th>  Jarque-Bera (JB):  </th> <td>28689.931</td>\n",
       "</tr>\n",
       "<tr>\n",
       "  <th>Skew:</th>          <td> 3.736</td>  <th>  Prob(JB):          </th> <td>    0.00</td> \n",
       "</tr>\n",
       "<tr>\n",
       "  <th>Kurtosis:</th>      <td>30.446</td>  <th>  Cond. No.          </th> <td>    2.74</td> \n",
       "</tr>\n",
       "</table><br/><br/>Warnings:<br/>[1] Standard Errors assume that the covariance matrix of the errors is correctly specified."
      ],
      "text/plain": [
       "<class 'statsmodels.iolib.summary.Summary'>\n",
       "\"\"\"\n",
       "                            OLS Regression Results                            \n",
       "==============================================================================\n",
       "Dep. Variable:                Trump17   R-squared:                       0.112\n",
       "Model:                            OLS   Adj. R-squared:                  0.111\n",
       "Method:                 Least Squares   F-statistic:                     107.0\n",
       "Date:                Sun, 19 Aug 2018   Prob (F-statistic):           1.08e-23\n",
       "Time:                        00:53:37   Log-Likelihood:                -1497.8\n",
       "No. Observations:                 851   AIC:                             3000.\n",
       "Df Residuals:                     849   BIC:                             3009.\n",
       "Df Model:                           1                                         \n",
       "Covariance Type:            nonrobust                                         \n",
       "==============================================================================\n",
       "                 coef    std err          t      P>|t|      [0.025      0.975]\n",
       "------------------------------------------------------------------------------\n",
       "Intercept      0.4583      0.060      7.688      0.000       0.341       0.575\n",
       "Obama09        0.3049      0.029     10.342      0.000       0.247       0.363\n",
       "==============================================================================\n",
       "Omnibus:                      737.303   Durbin-Watson:                   0.083\n",
       "Prob(Omnibus):                  0.000   Jarque-Bera (JB):            28689.931\n",
       "Skew:                           3.736   Prob(JB):                         0.00\n",
       "Kurtosis:                      30.446   Cond. No.                         2.74\n",
       "==============================================================================\n",
       "\n",
       "Warnings:\n",
       "[1] Standard Errors assume that the covariance matrix of the errors is correctly specified.\n",
       "\"\"\""
      ]
     },
     "execution_count": 268,
     "metadata": {},
     "output_type": "execute_result"
    }
   ],
   "source": [
    "from statsmodels.regression.linear_model import OLS\n",
    "\n",
    "m1a = OLS.from_formula('Trump17 ~ Obama09', data=dtm_T2).fit()\n",
    "m1a.summary()"
   ]
  },
  {
   "cell_type": "code",
   "execution_count": 269,
   "metadata": {},
   "outputs": [
    {
     "data": {
      "text/html": [
       "<table class=\"simpletable\">\n",
       "<caption>OLS Regression Results</caption>\n",
       "<tr>\n",
       "  <th>Dep. Variable:</th>         <td>Trump17</td>     <th>  R-squared:         </th> <td>   0.116</td>\n",
       "</tr>\n",
       "<tr>\n",
       "  <th>Model:</th>                   <td>OLS</td>       <th>  Adj. R-squared:    </th> <td>   0.114</td>\n",
       "</tr>\n",
       "<tr>\n",
       "  <th>Method:</th>             <td>Least Squares</td>  <th>  F-statistic:       </th> <td>   55.56</td>\n",
       "</tr>\n",
       "<tr>\n",
       "  <th>Date:</th>             <td>Sun, 19 Aug 2018</td> <th>  Prob (F-statistic):</th> <td>2.11e-23</td>\n",
       "</tr>\n",
       "<tr>\n",
       "  <th>Time:</th>                 <td>00:54:35</td>     <th>  Log-Likelihood:    </th> <td> -1495.9</td>\n",
       "</tr>\n",
       "<tr>\n",
       "  <th>No. Observations:</th>      <td>   851</td>      <th>  AIC:               </th> <td>   2998.</td>\n",
       "</tr>\n",
       "<tr>\n",
       "  <th>Df Residuals:</th>          <td>   848</td>      <th>  BIC:               </th> <td>   3012.</td>\n",
       "</tr>\n",
       "<tr>\n",
       "  <th>Df Model:</th>              <td>     2</td>      <th>                     </th>     <td> </td>   \n",
       "</tr>\n",
       "<tr>\n",
       "  <th>Covariance Type:</th>      <td>nonrobust</td>    <th>                     </th>     <td> </td>   \n",
       "</tr>\n",
       "</table>\n",
       "<table class=\"simpletable\">\n",
       "<tr>\n",
       "         <td></td>            <th>coef</th>     <th>std err</th>      <th>t</th>      <th>P>|t|</th>  <th>[0.025</th>    <th>0.975]</th>  \n",
       "</tr>\n",
       "<tr>\n",
       "  <th>Intercept</th>       <td>    0.5286</td> <td>    0.070</td> <td>    7.599</td> <td> 0.000</td> <td>    0.392</td> <td>    0.665</td>\n",
       "</tr>\n",
       "<tr>\n",
       "  <th>Obama09</th>         <td>    0.2164</td> <td>    0.054</td> <td>    4.003</td> <td> 0.000</td> <td>    0.110</td> <td>    0.323</td>\n",
       "</tr>\n",
       "<tr>\n",
       "  <th>I(Obama09 ** 2)</th> <td>    0.0085</td> <td>    0.004</td> <td>    1.951</td> <td> 0.051</td> <td>-5.17e-05</td> <td>    0.017</td>\n",
       "</tr>\n",
       "</table>\n",
       "<table class=\"simpletable\">\n",
       "<tr>\n",
       "  <th>Omnibus:</th>       <td>739.661</td> <th>  Durbin-Watson:     </th> <td>   0.092</td> \n",
       "</tr>\n",
       "<tr>\n",
       "  <th>Prob(Omnibus):</th> <td> 0.000</td>  <th>  Jarque-Bera (JB):  </th> <td>30816.034</td>\n",
       "</tr>\n",
       "<tr>\n",
       "  <th>Skew:</th>          <td> 3.726</td>  <th>  Prob(JB):          </th> <td>    0.00</td> \n",
       "</tr>\n",
       "<tr>\n",
       "  <th>Kurtosis:</th>      <td>31.523</td>  <th>  Cond. No.          </th> <td>    35.3</td> \n",
       "</tr>\n",
       "</table><br/><br/>Warnings:<br/>[1] Standard Errors assume that the covariance matrix of the errors is correctly specified."
      ],
      "text/plain": [
       "<class 'statsmodels.iolib.summary.Summary'>\n",
       "\"\"\"\n",
       "                            OLS Regression Results                            \n",
       "==============================================================================\n",
       "Dep. Variable:                Trump17   R-squared:                       0.116\n",
       "Model:                            OLS   Adj. R-squared:                  0.114\n",
       "Method:                 Least Squares   F-statistic:                     55.56\n",
       "Date:                Sun, 19 Aug 2018   Prob (F-statistic):           2.11e-23\n",
       "Time:                        00:54:35   Log-Likelihood:                -1495.9\n",
       "No. Observations:                 851   AIC:                             2998.\n",
       "Df Residuals:                     848   BIC:                             3012.\n",
       "Df Model:                           2                                         \n",
       "Covariance Type:            nonrobust                                         \n",
       "===================================================================================\n",
       "                      coef    std err          t      P>|t|      [0.025      0.975]\n",
       "-----------------------------------------------------------------------------------\n",
       "Intercept           0.5286      0.070      7.599      0.000       0.392       0.665\n",
       "Obama09             0.2164      0.054      4.003      0.000       0.110       0.323\n",
       "I(Obama09 ** 2)     0.0085      0.004      1.951      0.051   -5.17e-05       0.017\n",
       "==============================================================================\n",
       "Omnibus:                      739.661   Durbin-Watson:                   0.092\n",
       "Prob(Omnibus):                  0.000   Jarque-Bera (JB):            30816.034\n",
       "Skew:                           3.726   Prob(JB):                         0.00\n",
       "Kurtosis:                      31.523   Cond. No.                         35.3\n",
       "==============================================================================\n",
       "\n",
       "Warnings:\n",
       "[1] Standard Errors assume that the covariance matrix of the errors is correctly specified.\n",
       "\"\"\""
      ]
     },
     "execution_count": 269,
     "metadata": {},
     "output_type": "execute_result"
    }
   ],
   "source": [
    "m1b = OLS.from_formula('Trump17 ~ Obama09 + I(Obama09**2)', data=dtm_T2).fit()\n",
    "m1b.summary()"
   ]
  },
  {
   "cell_type": "code",
   "execution_count": 270,
   "metadata": {},
   "outputs": [
    {
     "data": {
      "text/html": [
       "<table class=\"simpletable\">\n",
       "<caption>OLS Regression Results</caption>\n",
       "<tr>\n",
       "  <th>Dep. Variable:</th>       <td>Trump_prop</td>    <th>  R-squared:         </th> <td>   0.112</td>\n",
       "</tr>\n",
       "<tr>\n",
       "  <th>Model:</th>                   <td>OLS</td>       <th>  Adj. R-squared:    </th> <td>   0.111</td>\n",
       "</tr>\n",
       "<tr>\n",
       "  <th>Method:</th>             <td>Least Squares</td>  <th>  F-statistic:       </th> <td>   107.0</td>\n",
       "</tr>\n",
       "<tr>\n",
       "  <th>Date:</th>             <td>Sun, 19 Aug 2018</td> <th>  Prob (F-statistic):</th> <td>1.08e-23</td>\n",
       "</tr>\n",
       "<tr>\n",
       "  <th>Time:</th>                 <td>00:57:30</td>     <th>  Log-Likelihood:    </th> <td>  4074.8</td>\n",
       "</tr>\n",
       "<tr>\n",
       "  <th>No. Observations:</th>      <td>   851</td>      <th>  AIC:               </th> <td>  -8146.</td>\n",
       "</tr>\n",
       "<tr>\n",
       "  <th>Df Residuals:</th>          <td>   849</td>      <th>  BIC:               </th> <td>  -8136.</td>\n",
       "</tr>\n",
       "<tr>\n",
       "  <th>Df Model:</th>              <td>     1</td>      <th>                     </th>     <td> </td>   \n",
       "</tr>\n",
       "<tr>\n",
       "  <th>Covariance Type:</th>      <td>nonrobust</td>    <th>                     </th>     <td> </td>   \n",
       "</tr>\n",
       "</table>\n",
       "<table class=\"simpletable\">\n",
       "<tr>\n",
       "       <td></td>         <th>coef</th>     <th>std err</th>      <th>t</th>      <th>P>|t|</th>  <th>[0.025</th>    <th>0.975]</th>  \n",
       "</tr>\n",
       "<tr>\n",
       "  <th>Intercept</th>  <td>    0.0007</td> <td> 8.54e-05</td> <td>    7.688</td> <td> 0.000</td> <td>    0.000</td> <td>    0.001</td>\n",
       "</tr>\n",
       "<tr>\n",
       "  <th>Obama_prop</th> <td>    0.4412</td> <td>    0.043</td> <td>   10.342</td> <td> 0.000</td> <td>    0.357</td> <td>    0.525</td>\n",
       "</tr>\n",
       "</table>\n",
       "<table class=\"simpletable\">\n",
       "<tr>\n",
       "  <th>Omnibus:</th>       <td>737.303</td> <th>  Durbin-Watson:     </th> <td>   0.083</td> \n",
       "</tr>\n",
       "<tr>\n",
       "  <th>Prob(Omnibus):</th> <td> 0.000</td>  <th>  Jarque-Bera (JB):  </th> <td>28689.931</td>\n",
       "</tr>\n",
       "<tr>\n",
       "  <th>Skew:</th>          <td> 3.736</td>  <th>  Prob(JB):          </th> <td>    0.00</td> \n",
       "</tr>\n",
       "<tr>\n",
       "  <th>Kurtosis:</th>      <td>30.446</td>  <th>  Cond. No.          </th> <td>    617.</td> \n",
       "</tr>\n",
       "</table><br/><br/>Warnings:<br/>[1] Standard Errors assume that the covariance matrix of the errors is correctly specified."
      ],
      "text/plain": [
       "<class 'statsmodels.iolib.summary.Summary'>\n",
       "\"\"\"\n",
       "                            OLS Regression Results                            \n",
       "==============================================================================\n",
       "Dep. Variable:             Trump_prop   R-squared:                       0.112\n",
       "Model:                            OLS   Adj. R-squared:                  0.111\n",
       "Method:                 Least Squares   F-statistic:                     107.0\n",
       "Date:                Sun, 19 Aug 2018   Prob (F-statistic):           1.08e-23\n",
       "Time:                        00:57:30   Log-Likelihood:                 4074.8\n",
       "No. Observations:                 851   AIC:                            -8146.\n",
       "Df Residuals:                     849   BIC:                            -8136.\n",
       "Df Model:                           1                                         \n",
       "Covariance Type:            nonrobust                                         \n",
       "==============================================================================\n",
       "                 coef    std err          t      P>|t|      [0.025      0.975]\n",
       "------------------------------------------------------------------------------\n",
       "Intercept      0.0007   8.54e-05      7.688      0.000       0.000       0.001\n",
       "Obama_prop     0.4412      0.043     10.342      0.000       0.357       0.525\n",
       "==============================================================================\n",
       "Omnibus:                      737.303   Durbin-Watson:                   0.083\n",
       "Prob(Omnibus):                  0.000   Jarque-Bera (JB):            28689.931\n",
       "Skew:                           3.736   Prob(JB):                         0.00\n",
       "Kurtosis:                      30.446   Cond. No.                         617.\n",
       "==============================================================================\n",
       "\n",
       "Warnings:\n",
       "[1] Standard Errors assume that the covariance matrix of the errors is correctly specified.\n",
       "\"\"\""
      ]
     },
     "execution_count": 270,
     "metadata": {},
     "output_type": "execute_result"
    }
   ],
   "source": [
    "m2a = OLS.from_formula('Trump_prop ~ Obama_prop', data=dtm_T).fit()\n",
    "m2a.summary()"
   ]
  },
  {
   "cell_type": "code",
   "execution_count": 271,
   "metadata": {},
   "outputs": [
    {
     "data": {
      "text/html": [
       "<table class=\"simpletable\">\n",
       "<caption>OLS Regression Results</caption>\n",
       "<tr>\n",
       "  <th>Dep. Variable:</th>       <td>Trump_prop</td>    <th>  R-squared:         </th> <td>   0.116</td>\n",
       "</tr>\n",
       "<tr>\n",
       "  <th>Model:</th>                   <td>OLS</td>       <th>  Adj. R-squared:    </th> <td>   0.114</td>\n",
       "</tr>\n",
       "<tr>\n",
       "  <th>Method:</th>             <td>Least Squares</td>  <th>  F-statistic:       </th> <td>   55.56</td>\n",
       "</tr>\n",
       "<tr>\n",
       "  <th>Date:</th>             <td>Sun, 19 Aug 2018</td> <th>  Prob (F-statistic):</th> <td>2.11e-23</td>\n",
       "</tr>\n",
       "<tr>\n",
       "  <th>Time:</th>                 <td>00:58:15</td>     <th>  Log-Likelihood:    </th> <td>  4076.7</td>\n",
       "</tr>\n",
       "<tr>\n",
       "  <th>No. Observations:</th>      <td>   851</td>      <th>  AIC:               </th> <td>  -8147.</td>\n",
       "</tr>\n",
       "<tr>\n",
       "  <th>Df Residuals:</th>          <td>   848</td>      <th>  BIC:               </th> <td>  -8133.</td>\n",
       "</tr>\n",
       "<tr>\n",
       "  <th>Df Model:</th>              <td>     2</td>      <th>                     </th>     <td> </td>   \n",
       "</tr>\n",
       "<tr>\n",
       "  <th>Covariance Type:</th>      <td>nonrobust</td>    <th>                     </th>     <td> </td>   \n",
       "</tr>\n",
       "</table>\n",
       "<table class=\"simpletable\">\n",
       "<tr>\n",
       "           <td></td>             <th>coef</th>     <th>std err</th>      <th>t</th>      <th>P>|t|</th>  <th>[0.025</th>    <th>0.975]</th>  \n",
       "</tr>\n",
       "<tr>\n",
       "  <th>Intercept</th>          <td>    0.0008</td> <td> 9.97e-05</td> <td>    7.599</td> <td> 0.000</td> <td>    0.001</td> <td>    0.001</td>\n",
       "</tr>\n",
       "<tr>\n",
       "  <th>Obama_prop</th>         <td>    0.3132</td> <td>    0.078</td> <td>    4.003</td> <td> 0.000</td> <td>    0.160</td> <td>    0.467</td>\n",
       "</tr>\n",
       "<tr>\n",
       "  <th>I(Obama_prop ** 2)</th> <td>   12.4345</td> <td>    6.374</td> <td>    1.951</td> <td> 0.051</td> <td>   -0.075</td> <td>   24.945</td>\n",
       "</tr>\n",
       "</table>\n",
       "<table class=\"simpletable\">\n",
       "<tr>\n",
       "  <th>Omnibus:</th>       <td>739.661</td> <th>  Durbin-Watson:     </th> <td>   0.092</td> \n",
       "</tr>\n",
       "<tr>\n",
       "  <th>Prob(Omnibus):</th> <td> 0.000</td>  <th>  Jarque-Bera (JB):  </th> <td>30816.034</td>\n",
       "</tr>\n",
       "<tr>\n",
       "  <th>Skew:</th>          <td> 3.726</td>  <th>  Prob(JB):          </th> <td>    0.00</td> \n",
       "</tr>\n",
       "<tr>\n",
       "  <th>Kurtosis:</th>      <td>31.523</td>  <th>  Cond. No.          </th> <td>9.23e+04</td> \n",
       "</tr>\n",
       "</table><br/><br/>Warnings:<br/>[1] Standard Errors assume that the covariance matrix of the errors is correctly specified.<br/>[2] The condition number is large, 9.23e+04. This might indicate that there are<br/>strong multicollinearity or other numerical problems."
      ],
      "text/plain": [
       "<class 'statsmodels.iolib.summary.Summary'>\n",
       "\"\"\"\n",
       "                            OLS Regression Results                            \n",
       "==============================================================================\n",
       "Dep. Variable:             Trump_prop   R-squared:                       0.116\n",
       "Model:                            OLS   Adj. R-squared:                  0.114\n",
       "Method:                 Least Squares   F-statistic:                     55.56\n",
       "Date:                Sun, 19 Aug 2018   Prob (F-statistic):           2.11e-23\n",
       "Time:                        00:58:15   Log-Likelihood:                 4076.7\n",
       "No. Observations:                 851   AIC:                            -8147.\n",
       "Df Residuals:                     848   BIC:                            -8133.\n",
       "Df Model:                           2                                         \n",
       "Covariance Type:            nonrobust                                         \n",
       "======================================================================================\n",
       "                         coef    std err          t      P>|t|      [0.025      0.975]\n",
       "--------------------------------------------------------------------------------------\n",
       "Intercept              0.0008   9.97e-05      7.599      0.000       0.001       0.001\n",
       "Obama_prop             0.3132      0.078      4.003      0.000       0.160       0.467\n",
       "I(Obama_prop ** 2)    12.4345      6.374      1.951      0.051      -0.075      24.945\n",
       "==============================================================================\n",
       "Omnibus:                      739.661   Durbin-Watson:                   0.092\n",
       "Prob(Omnibus):                  0.000   Jarque-Bera (JB):            30816.034\n",
       "Skew:                           3.726   Prob(JB):                         0.00\n",
       "Kurtosis:                      31.523   Cond. No.                     9.23e+04\n",
       "==============================================================================\n",
       "\n",
       "Warnings:\n",
       "[1] Standard Errors assume that the covariance matrix of the errors is correctly specified.\n",
       "[2] The condition number is large, 9.23e+04. This might indicate that there are\n",
       "strong multicollinearity or other numerical problems.\n",
       "\"\"\""
      ]
     },
     "execution_count": 271,
     "metadata": {},
     "output_type": "execute_result"
    }
   ],
   "source": [
    "m2b = OLS.from_formula('Trump_prop ~ Obama_prop + I(Obama_prop**2)', data=dtm_T).fit()\n",
    "m2b.summary()"
   ]
  },
  {
   "cell_type": "markdown",
   "metadata": {},
   "source": [
    "## Term frequency, inverse document frequency (tfidf)"
   ]
  },
  {
   "cell_type": "code",
   "execution_count": 290,
   "metadata": {},
   "outputs": [
    {
     "data": {
      "text/html": [
       "<div>\n",
       "<style scoped>\n",
       "    .dataframe tbody tr th:only-of-type {\n",
       "        vertical-align: middle;\n",
       "    }\n",
       "\n",
       "    .dataframe tbody tr th {\n",
       "        vertical-align: top;\n",
       "    }\n",
       "\n",
       "    .dataframe thead th {\n",
       "        text-align: right;\n",
       "    }\n",
       "</style>\n",
       "<table border=\"1\" class=\"dataframe\">\n",
       "  <thead>\n",
       "    <tr style=\"text-align: right;\">\n",
       "      <th></th>\n",
       "      <th>Obama.Inaug.2009</th>\n",
       "      <th>Trump.Inaug.2017</th>\n",
       "    </tr>\n",
       "  </thead>\n",
       "  <tbody>\n",
       "    <tr>\n",
       "      <th>abroad</th>\n",
       "      <td>0.693147</td>\n",
       "      <td>0.00000</td>\n",
       "    </tr>\n",
       "    <tr>\n",
       "      <th>absolut</th>\n",
       "      <td>0.693147</td>\n",
       "      <td>0.00000</td>\n",
       "    </tr>\n",
       "    <tr>\n",
       "      <th>act</th>\n",
       "      <td>-4.581454</td>\n",
       "      <td>-0.00000</td>\n",
       "    </tr>\n",
       "    <tr>\n",
       "      <th>action</th>\n",
       "      <td>-0.405465</td>\n",
       "      <td>-0.81093</td>\n",
       "    </tr>\n",
       "    <tr>\n",
       "      <th>advanc</th>\n",
       "      <td>0.000000</td>\n",
       "      <td>0.00000</td>\n",
       "    </tr>\n",
       "    <tr>\n",
       "      <th>affirm</th>\n",
       "      <td>0.693147</td>\n",
       "      <td>0.00000</td>\n",
       "    </tr>\n",
       "    <tr>\n",
       "      <th>afford</th>\n",
       "      <td>0.693147</td>\n",
       "      <td>0.00000</td>\n",
       "    </tr>\n",
       "    <tr>\n",
       "      <th>africa</th>\n",
       "      <td>0.693147</td>\n",
       "      <td>0.00000</td>\n",
       "    </tr>\n",
       "    <tr>\n",
       "      <th>ago</th>\n",
       "      <td>0.693147</td>\n",
       "      <td>0.00000</td>\n",
       "    </tr>\n",
       "    <tr>\n",
       "      <th>agre</th>\n",
       "      <td>0.693147</td>\n",
       "      <td>0.00000</td>\n",
       "    </tr>\n",
       "  </tbody>\n",
       "</table>\n",
       "</div>"
      ],
      "text/plain": [
       "         Obama.Inaug.2009  Trump.Inaug.2017\n",
       "abroad           0.693147           0.00000\n",
       "absolut          0.693147           0.00000\n",
       "act             -4.581454          -0.00000\n",
       "action          -0.405465          -0.81093\n",
       "advanc           0.000000           0.00000\n",
       "affirm           0.693147           0.00000\n",
       "afford           0.693147           0.00000\n",
       "africa           0.693147           0.00000\n",
       "ago              0.693147           0.00000\n",
       "agre             0.693147           0.00000"
      ]
     },
     "execution_count": 290,
     "metadata": {},
     "output_type": "execute_result"
    }
   ],
   "source": [
    "# slide 44\n",
    "\n",
    "idf = np.log(dtm_df.shape[0]/dtm_df.sum(axis=0))\n",
    "\n",
    "tfidf = dtm_df * idf\n",
    "\n",
    "tfidf.T.head(10)"
   ]
  },
  {
   "cell_type": "code",
   "execution_count": 291,
   "metadata": {},
   "outputs": [
    {
     "data": {
      "text/html": [
       "<div>\n",
       "<style scoped>\n",
       "    .dataframe tbody tr th:only-of-type {\n",
       "        vertical-align: middle;\n",
       "    }\n",
       "\n",
       "    .dataframe tbody tr th {\n",
       "        vertical-align: top;\n",
       "    }\n",
       "\n",
       "    .dataframe thead th {\n",
       "        text-align: right;\n",
       "    }\n",
       "</style>\n",
       "<table border=\"1\" class=\"dataframe\">\n",
       "  <thead>\n",
       "    <tr style=\"text-align: right;\">\n",
       "      <th></th>\n",
       "      <th>Obama.Inaug.2009</th>\n",
       "      <th>Trump.Inaug.2017</th>\n",
       "    </tr>\n",
       "  </thead>\n",
       "  <tbody>\n",
       "    <tr>\n",
       "      <th>Obama.Inaug.2009</th>\n",
       "      <td>1.000000</td>\n",
       "      <td>0.661791</td>\n",
       "    </tr>\n",
       "    <tr>\n",
       "      <th>Trump.Inaug.2017</th>\n",
       "      <td>0.661791</td>\n",
       "      <td>1.000000</td>\n",
       "    </tr>\n",
       "  </tbody>\n",
       "</table>\n",
       "</div>"
      ],
      "text/plain": [
       "                  Obama.Inaug.2009  Trump.Inaug.2017\n",
       "Obama.Inaug.2009          1.000000          0.661791\n",
       "Trump.Inaug.2017          0.661791          1.000000"
      ]
     },
     "execution_count": 291,
     "metadata": {},
     "output_type": "execute_result"
    }
   ],
   "source": [
    "tfidf.T.corr(method='pearson')"
   ]
  },
  {
   "cell_type": "markdown",
   "metadata": {},
   "source": [
    "## Another example - comparing three graduate programs"
   ]
  },
  {
   "cell_type": "markdown",
   "metadata": {},
   "source": [
    "Note that the program descriptions have been updated since the time when Greg obtained his examples, so some of the results might be different from what appears on the lecture slides."
   ]
  },
  {
   "cell_type": "code",
   "execution_count": 3,
   "metadata": {},
   "outputs": [],
   "source": [
    "files = ['QMSS', 'A3SR', 'AQR']\n",
    "docs = {}\n",
    "\n",
    "for d in files: \n",
    "    file_path = 'Data/' + str(d) + '.txt'\n",
    "    with open(file_path, 'rb') as f:\n",
    "        f = [f.read().decode('utf8', 'ignore').replace('\\n', \" \")]\n",
    "        docs[d] = f"
   ]
  },
  {
   "cell_type": "code",
   "execution_count": 4,
   "metadata": {},
   "outputs": [
    {
     "data": {
      "text/plain": [
       "{'QMSS': [\"Quantitative Methods in the Social Sciences (QMSS) is a free-standing Master's or Arts program within the Graduate School of Arts and Sciences at Columbia University, associated with the Institute for Social and Economic Research and Policy. It is an innovative, flexible, interdisciplinary social science degree that focuses on quantitative research techniques and strategies. The program integrates the perspectives and research methods of eight social science disciplines: Economics, History, Political Science, Psychology, Sociology, Computer Science, and Statistics.  QMSS provides students with rigorous training in quantitative research, with an emphasis on written and oral communication about research techniques and findings. These skills prepare QMSS graduates to enter (or further) an analytical or research career or to continue their education in a PhD program.  Having drawn students in varied fields from more than 30 countries, QMSS students bring a unique range of experience and expertise to the program. Each year approximately half of the incoming cohort is comprised of international students. The majority of incoming students are returning to academic study after several years of post-baccalaureate work experience, but each year a handful of students join QMSS directly from undergraduate programs. While most students enroll full-time, some students maintain careers or other endeavors, completing the program on a part-time basis in order to apply the skills they acquire through the program directly to their work.\"],\n",
       " 'A3SR': ['According to the National Center for Education Statistics, the number of jobs in statistics and data science has nearly tripled in the past five years – and the American Statistical Association says there are still not enough statistics graduates to meet this demand. As a student in this program, you will acquire highly marketable advanced analytic skills for a wide range of challenging and rewarding data-intensive careers in the social, behavioral, and health sciences. In particular, students in this program will  Build a strong foundation in statistical research techniques and apply them to address critical issues in contemporary social, behavioral, health science and policy research. Prepare for a career as an applied statistician and data scientist in the private or public sector, working in fields such as psychology, education, political science, public policy, media research, or healthcare. Prepare for further academic study in a variety of disciplines that require or focus on quantitative analysis. Key Program Features Students in this program will have the opportunity to tailor their studies in one of the following three concentrations   DATA SCIENCE FOR SOCIAL IMPACT, one of the first degree programs in the world to focus on the real-world challenges of using data to inform policy and practice, prepares students to build research-practice partnerships, become knowledgeable of ethical concerns surrounding data collection and use, and communicate effectively and succinctly research findings and their implications.  Students will be well-positioned to work in a wide variety of careers at the intersection of data and society or to pursue doctoral studies in the social, behavioral, or health sciences.  COMPUTATIONAL METHODS provides more rigorous training in methodological theory and development, and is particularly appropriate for students who wish to progress to PhD programs in statistics, economics, or computer science.  GENERAL APPLIED STATISTICS offers maximal flexibility, allowing students to customize their programs of study by selecting from a broad set of statistics and related courses.  Students from this track will be well-positioned to pursue careers in industry, research, adn doctoral programs that are consistent with their coursework and internship experiences.'],\n",
       " 'AQR': [\"The Master's Degree program in Applied Quantitative Research (AQR) is designed to be innovative, flexible, and interdisciplinary—training students in cutting-edge quantitative techniques and strategies as applied in contemporary social science research. The program brings together a group of students with quantitatively-focused interests and career ambitions to provide them with rigorous training in quantitative techniques and applied statistical analysis. The structure of the program is designed to improve students' understanding of quantitative research and prepare them for a number of possible careers in the private or public sector, as well as for further academic study.  Graduates of the program will acquire the tools necessary for a variety of professional endeavors. A large percentage of graduates of the program will take up research positions in non-profit and government agencies at the federal, state, and local levels, while some will enter careers in evaluation, marketing or finance, using the tools developed through the program for analysis of data. Other graduates will enter doctoral programs in the social sciences at top universities in the United States and abroad. The tools that students develop through the AQR program will allow them to find employment opportunities in a number of traditional or emerging fields requiring the use of advanced statistical training.\"]}"
      ]
     },
     "execution_count": 4,
     "metadata": {},
     "output_type": "execute_result"
    }
   ],
   "source": [
    "docs"
   ]
  },
  {
   "cell_type": "code",
   "execution_count": 9,
   "metadata": {},
   "outputs": [],
   "source": [
    "#import string\n",
    "\n",
    "from nltk.corpus import stopwords\n",
    "stop = stopwords.words('english')\n",
    "\n",
    "from nltk.stem import PorterStemmer\n",
    "stemmer = PorterStemmer()\n",
    "\n",
    "processed_docs = {}\n",
    "for program, text in docs.items():\n",
    "    # convert list to string\n",
    "    text = ' '.join(text)\n",
    "    \n",
    "    # to lower case\n",
    "    text = text.lower()\n",
    "    \n",
    "    # remove punctuations\n",
    "    ## specifying the punctations to remove because we want to keep hyphenated words\n",
    "    text = \"\".join(c for c in text.strip() if c not in ('!','.',':', ',', '(', ')', \"'\"))\n",
    "    \n",
    "    # this would be the method to use if you want to remove all punctuations:\n",
    "    # translator = str.maketrans('', '', string.punctuation)\n",
    "    # text = text.translate(translator)\n",
    "    \n",
    "    # remove stopwords\n",
    "    text = [word for word in text.split() if word not in stop]\n",
    "    \n",
    "    # remove specific words\n",
    "    remove_words = ['department', 'email']\n",
    "    text = [word for word in text if word not in remove_words]\n",
    "    text = ' '.join(text)\n",
    "    \n",
    "    # substitute words\n",
    "    text = text.replace('qualitative research', 'QDA')\n",
    "    text = text.replace('qualitative studies', 'QDA')\n",
    "    text = text.replace('qualitative analysis', 'QDA')\n",
    "    text = text.replace('research methods', 'research_methods')\n",
    "    \n",
    "    # stem document\n",
    "    stemmed_text = [stemmer.stem(word) for word in text.split()]\n",
    "    text = ' '.join(stemmed_text)\n",
    "    \n",
    "    processed_docs[program] = text"
   ]
  },
  {
   "cell_type": "code",
   "execution_count": 10,
   "metadata": {},
   "outputs": [],
   "source": [
    "docids = sorted(processed_docs.keys())\n",
    "\n",
    "corpus = [[word for word in processed_docs[docid].split()] for docid in docids]"
   ]
  },
  {
   "cell_type": "code",
   "execution_count": 11,
   "metadata": {},
   "outputs": [],
   "source": [
    "dtm = DocumentTermMatrix(corpus)\n",
    "dtm_df = dtm.generate_dtm_dataframe()\n",
    "dtm_df.index = docids"
   ]
  },
  {
   "cell_type": "code",
   "execution_count": 12,
   "metadata": {},
   "outputs": [
    {
     "data": {
      "text/html": [
       "<div>\n",
       "<style scoped>\n",
       "    .dataframe tbody tr th:only-of-type {\n",
       "        vertical-align: middle;\n",
       "    }\n",
       "\n",
       "    .dataframe tbody tr th {\n",
       "        vertical-align: top;\n",
       "    }\n",
       "\n",
       "    .dataframe thead th {\n",
       "        text-align: right;\n",
       "    }\n",
       "</style>\n",
       "<table border=\"1\" class=\"dataframe\">\n",
       "  <thead>\n",
       "    <tr style=\"text-align: right;\">\n",
       "      <th></th>\n",
       "      <th>academ</th>\n",
       "      <th>accord</th>\n",
       "      <th>acquir</th>\n",
       "      <th>address</th>\n",
       "      <th>adn</th>\n",
       "      <th>advanc</th>\n",
       "      <th>allow</th>\n",
       "      <th>american</th>\n",
       "      <th>analysi</th>\n",
       "      <th>analyt</th>\n",
       "      <th>...</th>\n",
       "      <th>research_method</th>\n",
       "      <th>return</th>\n",
       "      <th>school</th>\n",
       "      <th>sever</th>\n",
       "      <th>sociolog</th>\n",
       "      <th>undergradu</th>\n",
       "      <th>uniqu</th>\n",
       "      <th>vari</th>\n",
       "      <th>within</th>\n",
       "      <th>written</th>\n",
       "    </tr>\n",
       "  </thead>\n",
       "  <tbody>\n",
       "    <tr>\n",
       "      <th>A3SR</th>\n",
       "      <td>1.0</td>\n",
       "      <td>1.0</td>\n",
       "      <td>1.0</td>\n",
       "      <td>1.0</td>\n",
       "      <td>1.0</td>\n",
       "      <td>1.0</td>\n",
       "      <td>1.0</td>\n",
       "      <td>1.0</td>\n",
       "      <td>1.0</td>\n",
       "      <td>1.0</td>\n",
       "      <td>...</td>\n",
       "      <td>0.0</td>\n",
       "      <td>0.0</td>\n",
       "      <td>0.0</td>\n",
       "      <td>0.0</td>\n",
       "      <td>0.0</td>\n",
       "      <td>0.0</td>\n",
       "      <td>0.0</td>\n",
       "      <td>0.0</td>\n",
       "      <td>0.0</td>\n",
       "      <td>0.0</td>\n",
       "    </tr>\n",
       "    <tr>\n",
       "      <th>AQR</th>\n",
       "      <td>1.0</td>\n",
       "      <td>0.0</td>\n",
       "      <td>1.0</td>\n",
       "      <td>0.0</td>\n",
       "      <td>0.0</td>\n",
       "      <td>1.0</td>\n",
       "      <td>1.0</td>\n",
       "      <td>0.0</td>\n",
       "      <td>2.0</td>\n",
       "      <td>0.0</td>\n",
       "      <td>...</td>\n",
       "      <td>0.0</td>\n",
       "      <td>0.0</td>\n",
       "      <td>0.0</td>\n",
       "      <td>0.0</td>\n",
       "      <td>0.0</td>\n",
       "      <td>0.0</td>\n",
       "      <td>0.0</td>\n",
       "      <td>0.0</td>\n",
       "      <td>0.0</td>\n",
       "      <td>0.0</td>\n",
       "    </tr>\n",
       "    <tr>\n",
       "      <th>QMSS</th>\n",
       "      <td>1.0</td>\n",
       "      <td>0.0</td>\n",
       "      <td>1.0</td>\n",
       "      <td>0.0</td>\n",
       "      <td>0.0</td>\n",
       "      <td>0.0</td>\n",
       "      <td>0.0</td>\n",
       "      <td>0.0</td>\n",
       "      <td>0.0</td>\n",
       "      <td>1.0</td>\n",
       "      <td>...</td>\n",
       "      <td>1.0</td>\n",
       "      <td>1.0</td>\n",
       "      <td>1.0</td>\n",
       "      <td>1.0</td>\n",
       "      <td>1.0</td>\n",
       "      <td>1.0</td>\n",
       "      <td>1.0</td>\n",
       "      <td>1.0</td>\n",
       "      <td>1.0</td>\n",
       "      <td>1.0</td>\n",
       "    </tr>\n",
       "  </tbody>\n",
       "</table>\n",
       "<p>3 rows × 227 columns</p>\n",
       "</div>"
      ],
      "text/plain": [
       "      academ  accord  acquir  address  adn  advanc  allow  american  analysi  \\\n",
       "A3SR     1.0     1.0     1.0      1.0  1.0     1.0    1.0       1.0      1.0   \n",
       "AQR      1.0     0.0     1.0      0.0  0.0     1.0    1.0       0.0      2.0   \n",
       "QMSS     1.0     0.0     1.0      0.0  0.0     0.0    0.0       0.0      0.0   \n",
       "\n",
       "      analyt   ...     research_method  return  school  sever  sociolog  \\\n",
       "A3SR     1.0   ...                 0.0     0.0     0.0    0.0       0.0   \n",
       "AQR      0.0   ...                 0.0     0.0     0.0    0.0       0.0   \n",
       "QMSS     1.0   ...                 1.0     1.0     1.0    1.0       1.0   \n",
       "\n",
       "      undergradu  uniqu  vari  within  written  \n",
       "A3SR         0.0    0.0   0.0     0.0      0.0  \n",
       "AQR          0.0    0.0   0.0     0.0      0.0  \n",
       "QMSS         1.0    1.0   1.0     1.0      1.0  \n",
       "\n",
       "[3 rows x 227 columns]"
      ]
     },
     "execution_count": 12,
     "metadata": {},
     "output_type": "execute_result"
    }
   ],
   "source": [
    "dtm_df"
   ]
  },
  {
   "cell_type": "markdown",
   "metadata": {},
   "source": [
    "### Frequent terms"
   ]
  },
  {
   "cell_type": "code",
   "execution_count": 13,
   "metadata": {},
   "outputs": [
    {
     "data": {
      "text/plain": [
       "['program', 'research', 'scienc', 'social', 'statist', 'student']"
      ]
     },
     "execution_count": 13,
     "metadata": {},
     "output_type": "execute_result"
    }
   ],
   "source": [
    "# frequent terms in corpus\n",
    "[c for c in dtm_df.columns if dtm_df[c].sum()>=10]"
   ]
  },
  {
   "cell_type": "code",
   "execution_count": 14,
   "metadata": {},
   "outputs": [
    {
     "data": {
      "text/plain": [
       "['data', 'program', 'research', 'scienc', 'statist', 'student']"
      ]
     },
     "execution_count": 14,
     "metadata": {},
     "output_type": "execute_result"
    }
   ],
   "source": [
    "# frequent terms in A3SR\n",
    "[c for c in dtm_df.columns if dtm_df.loc['A3SR', c].sum()>=5]"
   ]
  },
  {
   "cell_type": "code",
   "execution_count": 15,
   "metadata": {},
   "outputs": [
    {
     "data": {
      "text/plain": [
       "['program']"
      ]
     },
     "execution_count": 15,
     "metadata": {},
     "output_type": "execute_result"
    }
   ],
   "source": [
    "# frequent terms in AQR\n",
    "[c for c in dtm_df.columns if dtm_df.loc['AQR', c].sum()>=5]"
   ]
  },
  {
   "cell_type": "code",
   "execution_count": 16,
   "metadata": {},
   "outputs": [
    {
     "data": {
      "text/plain": [
       "['program', 'research', 'scienc', 'student', 'qmss']"
      ]
     },
     "execution_count": 16,
     "metadata": {},
     "output_type": "execute_result"
    }
   ],
   "source": [
    "# frequent terms in QMSS\n",
    "[c for c in dtm_df.columns if dtm_df.loc['QMSS', c].sum()>=5]"
   ]
  },
  {
   "cell_type": "code",
   "execution_count": 17,
   "metadata": {},
   "outputs": [
    {
     "data": {
      "text/html": [
       "<div>\n",
       "<style scoped>\n",
       "    .dataframe tbody tr th:only-of-type {\n",
       "        vertical-align: middle;\n",
       "    }\n",
       "\n",
       "    .dataframe tbody tr th {\n",
       "        vertical-align: top;\n",
       "    }\n",
       "\n",
       "    .dataframe thead th {\n",
       "        text-align: right;\n",
       "    }\n",
       "</style>\n",
       "<table border=\"1\" class=\"dataframe\">\n",
       "  <thead>\n",
       "    <tr style=\"text-align: right;\">\n",
       "      <th></th>\n",
       "      <th>A3SR</th>\n",
       "      <th>AQR</th>\n",
       "      <th>QMSS</th>\n",
       "    </tr>\n",
       "  </thead>\n",
       "  <tbody>\n",
       "    <tr>\n",
       "      <th>academ</th>\n",
       "      <td>1.0</td>\n",
       "      <td>1.0</td>\n",
       "      <td>1.0</td>\n",
       "    </tr>\n",
       "    <tr>\n",
       "      <th>accord</th>\n",
       "      <td>1.0</td>\n",
       "      <td>0.0</td>\n",
       "      <td>0.0</td>\n",
       "    </tr>\n",
       "    <tr>\n",
       "      <th>acquir</th>\n",
       "      <td>1.0</td>\n",
       "      <td>1.0</td>\n",
       "      <td>1.0</td>\n",
       "    </tr>\n",
       "    <tr>\n",
       "      <th>address</th>\n",
       "      <td>1.0</td>\n",
       "      <td>0.0</td>\n",
       "      <td>0.0</td>\n",
       "    </tr>\n",
       "    <tr>\n",
       "      <th>adn</th>\n",
       "      <td>1.0</td>\n",
       "      <td>0.0</td>\n",
       "      <td>0.0</td>\n",
       "    </tr>\n",
       "  </tbody>\n",
       "</table>\n",
       "</div>"
      ],
      "text/plain": [
       "         A3SR  AQR  QMSS\n",
       "academ    1.0  1.0   1.0\n",
       "accord    1.0  0.0   0.0\n",
       "acquir    1.0  1.0   1.0\n",
       "address   1.0  0.0   0.0\n",
       "adn       1.0  0.0   0.0"
      ]
     },
     "execution_count": 17,
     "metadata": {},
     "output_type": "execute_result"
    }
   ],
   "source": [
    "# slide 60\n",
    "dtm_df.T.head()"
   ]
  },
  {
   "cell_type": "markdown",
   "metadata": {},
   "source": [
    "## Measures of similarity"
   ]
  },
  {
   "cell_type": "code",
   "execution_count": 440,
   "metadata": {},
   "outputs": [
    {
     "data": {
      "text/html": [
       "<div>\n",
       "<style scoped>\n",
       "    .dataframe tbody tr th:only-of-type {\n",
       "        vertical-align: middle;\n",
       "    }\n",
       "\n",
       "    .dataframe tbody tr th {\n",
       "        vertical-align: top;\n",
       "    }\n",
       "\n",
       "    .dataframe thead th {\n",
       "        text-align: right;\n",
       "    }\n",
       "</style>\n",
       "<table border=\"1\" class=\"dataframe\">\n",
       "  <thead>\n",
       "    <tr style=\"text-align: right;\">\n",
       "      <th></th>\n",
       "      <th>A3SR</th>\n",
       "      <th>AQR</th>\n",
       "      <th>QMSS</th>\n",
       "    </tr>\n",
       "  </thead>\n",
       "  <tbody>\n",
       "    <tr>\n",
       "      <th>A3SR</th>\n",
       "      <td>1.000000</td>\n",
       "      <td>0.453771</td>\n",
       "      <td>0.478894</td>\n",
       "    </tr>\n",
       "    <tr>\n",
       "      <th>AQR</th>\n",
       "      <td>0.453771</td>\n",
       "      <td>1.000000</td>\n",
       "      <td>0.481453</td>\n",
       "    </tr>\n",
       "    <tr>\n",
       "      <th>QMSS</th>\n",
       "      <td>0.478894</td>\n",
       "      <td>0.481453</td>\n",
       "      <td>1.000000</td>\n",
       "    </tr>\n",
       "  </tbody>\n",
       "</table>\n",
       "</div>"
      ],
      "text/plain": [
       "          A3SR       AQR      QMSS\n",
       "A3SR  1.000000  0.453771  0.478894\n",
       "AQR   0.453771  1.000000  0.481453\n",
       "QMSS  0.478894  0.481453  1.000000"
      ]
     },
     "execution_count": 440,
     "metadata": {},
     "output_type": "execute_result"
    }
   ],
   "source": [
    "# slide 61\n",
    "dtm_df.T.corr(method='pearson')"
   ]
  },
  {
   "cell_type": "code",
   "execution_count": 442,
   "metadata": {},
   "outputs": [
    {
     "data": {
      "text/plain": [
       "array([[1.        , 0.60484469, 0.6210183 ],\n",
       "       [0.60484469, 1.        , 0.60259728],\n",
       "       [0.6210183 , 0.60259728, 1.        ]])"
      ]
     },
     "execution_count": 442,
     "metadata": {},
     "output_type": "execute_result"
    }
   ],
   "source": [
    "cosine_similarity(dtm_df)"
   ]
  },
  {
   "cell_type": "code",
   "execution_count": 447,
   "metadata": {},
   "outputs": [
    {
     "data": {
      "text/plain": [
       "(449.19538049705903, 0.5284153484650135, 452)"
      ]
     },
     "execution_count": 447,
     "metadata": {},
     "output_type": "execute_result"
    }
   ],
   "source": [
    "chi2_contingency(dtm_df.T)[:3]"
   ]
  },
  {
   "cell_type": "markdown",
   "metadata": {},
   "source": [
    "## Making the matrix more dense "
   ]
  },
  {
   "cell_type": "code",
   "execution_count": 461,
   "metadata": {},
   "outputs": [
    {
     "data": {
      "text/html": [
       "<div>\n",
       "<style scoped>\n",
       "    .dataframe tbody tr th:only-of-type {\n",
       "        vertical-align: middle;\n",
       "    }\n",
       "\n",
       "    .dataframe tbody tr th {\n",
       "        vertical-align: top;\n",
       "    }\n",
       "\n",
       "    .dataframe thead th {\n",
       "        text-align: right;\n",
       "    }\n",
       "</style>\n",
       "<table border=\"1\" class=\"dataframe\">\n",
       "  <thead>\n",
       "    <tr style=\"text-align: right;\">\n",
       "      <th></th>\n",
       "      <th>academ</th>\n",
       "      <th>acquir</th>\n",
       "      <th>advanc</th>\n",
       "      <th>allow</th>\n",
       "      <th>analysi</th>\n",
       "      <th>analyt</th>\n",
       "      <th>appli</th>\n",
       "      <th>associ</th>\n",
       "      <th>behavior</th>\n",
       "      <th>build</th>\n",
       "      <th>...</th>\n",
       "      <th>innov</th>\n",
       "      <th>master</th>\n",
       "      <th>state</th>\n",
       "      <th>strategi</th>\n",
       "      <th>tool</th>\n",
       "      <th>univers</th>\n",
       "      <th>art</th>\n",
       "      <th>directli</th>\n",
       "      <th>incom</th>\n",
       "      <th>qmss</th>\n",
       "    </tr>\n",
       "  </thead>\n",
       "  <tbody>\n",
       "    <tr>\n",
       "      <th>A3SR</th>\n",
       "      <td>1.0</td>\n",
       "      <td>1.0</td>\n",
       "      <td>1.0</td>\n",
       "      <td>1.0</td>\n",
       "      <td>1.0</td>\n",
       "      <td>1.0</td>\n",
       "      <td>3.0</td>\n",
       "      <td>1.0</td>\n",
       "      <td>3.0</td>\n",
       "      <td>2.0</td>\n",
       "      <td>...</td>\n",
       "      <td>0.0</td>\n",
       "      <td>0.0</td>\n",
       "      <td>0.0</td>\n",
       "      <td>0.0</td>\n",
       "      <td>0.0</td>\n",
       "      <td>0.0</td>\n",
       "      <td>0.0</td>\n",
       "      <td>0.0</td>\n",
       "      <td>0.0</td>\n",
       "      <td>0.0</td>\n",
       "    </tr>\n",
       "    <tr>\n",
       "      <th>AQR</th>\n",
       "      <td>1.0</td>\n",
       "      <td>1.0</td>\n",
       "      <td>1.0</td>\n",
       "      <td>1.0</td>\n",
       "      <td>2.0</td>\n",
       "      <td>0.0</td>\n",
       "      <td>3.0</td>\n",
       "      <td>0.0</td>\n",
       "      <td>0.0</td>\n",
       "      <td>0.0</td>\n",
       "      <td>...</td>\n",
       "      <td>1.0</td>\n",
       "      <td>1.0</td>\n",
       "      <td>2.0</td>\n",
       "      <td>1.0</td>\n",
       "      <td>3.0</td>\n",
       "      <td>1.0</td>\n",
       "      <td>0.0</td>\n",
       "      <td>0.0</td>\n",
       "      <td>0.0</td>\n",
       "      <td>0.0</td>\n",
       "    </tr>\n",
       "    <tr>\n",
       "      <th>QMSS</th>\n",
       "      <td>1.0</td>\n",
       "      <td>1.0</td>\n",
       "      <td>0.0</td>\n",
       "      <td>0.0</td>\n",
       "      <td>0.0</td>\n",
       "      <td>1.0</td>\n",
       "      <td>1.0</td>\n",
       "      <td>1.0</td>\n",
       "      <td>0.0</td>\n",
       "      <td>0.0</td>\n",
       "      <td>...</td>\n",
       "      <td>1.0</td>\n",
       "      <td>1.0</td>\n",
       "      <td>0.0</td>\n",
       "      <td>1.0</td>\n",
       "      <td>0.0</td>\n",
       "      <td>1.0</td>\n",
       "      <td>2.0</td>\n",
       "      <td>2.0</td>\n",
       "      <td>2.0</td>\n",
       "      <td>5.0</td>\n",
       "    </tr>\n",
       "  </tbody>\n",
       "</table>\n",
       "<p>3 rows × 79 columns</p>\n",
       "</div>"
      ],
      "text/plain": [
       "      academ  acquir  advanc  allow  analysi  analyt  appli  associ  behavior  \\\n",
       "A3SR     1.0     1.0     1.0    1.0      1.0     1.0    3.0     1.0       3.0   \n",
       "AQR      1.0     1.0     1.0    1.0      2.0     0.0    3.0     0.0       0.0   \n",
       "QMSS     1.0     1.0     0.0    0.0      0.0     1.0    1.0     1.0       0.0   \n",
       "\n",
       "      build  ...   innov  master  state  strategi  tool  univers  art  \\\n",
       "A3SR    2.0  ...     0.0     0.0    0.0       0.0   0.0      0.0  0.0   \n",
       "AQR     0.0  ...     1.0     1.0    2.0       1.0   3.0      1.0  0.0   \n",
       "QMSS    0.0  ...     1.0     1.0    0.0       1.0   0.0      1.0  2.0   \n",
       "\n",
       "      directli  incom  qmss  \n",
       "A3SR       0.0    0.0   0.0  \n",
       "AQR        0.0    0.0   0.0  \n",
       "QMSS       2.0    2.0   5.0  \n",
       "\n",
       "[3 rows x 79 columns]"
      ]
     },
     "execution_count": 461,
     "metadata": {},
     "output_type": "execute_result"
    }
   ],
   "source": [
    "# get words that appear more than once in the corpus\n",
    "dtm_df.loc[:, dtm_df.sum(axis=0)>1]"
   ]
  },
  {
   "cell_type": "markdown",
   "metadata": {},
   "source": [
    "## Weighting the matrix by tf-idf"
   ]
  },
  {
   "cell_type": "code",
   "execution_count": 18,
   "metadata": {},
   "outputs": [
    {
     "data": {
      "text/html": [
       "<div>\n",
       "<style scoped>\n",
       "    .dataframe tbody tr th:only-of-type {\n",
       "        vertical-align: middle;\n",
       "    }\n",
       "\n",
       "    .dataframe tbody tr th {\n",
       "        vertical-align: top;\n",
       "    }\n",
       "\n",
       "    .dataframe thead th {\n",
       "        text-align: right;\n",
       "    }\n",
       "</style>\n",
       "<table border=\"1\" class=\"dataframe\">\n",
       "  <thead>\n",
       "    <tr style=\"text-align: right;\">\n",
       "      <th></th>\n",
       "      <th>academ</th>\n",
       "      <th>accord</th>\n",
       "      <th>acquir</th>\n",
       "      <th>address</th>\n",
       "      <th>adn</th>\n",
       "      <th>advanc</th>\n",
       "      <th>allow</th>\n",
       "      <th>american</th>\n",
       "      <th>analysi</th>\n",
       "      <th>analyt</th>\n",
       "      <th>...</th>\n",
       "      <th>research_method</th>\n",
       "      <th>return</th>\n",
       "      <th>school</th>\n",
       "      <th>sever</th>\n",
       "      <th>sociolog</th>\n",
       "      <th>undergradu</th>\n",
       "      <th>uniqu</th>\n",
       "      <th>vari</th>\n",
       "      <th>within</th>\n",
       "      <th>written</th>\n",
       "    </tr>\n",
       "  </thead>\n",
       "  <tbody>\n",
       "    <tr>\n",
       "      <th>A3SR</th>\n",
       "      <td>0.0</td>\n",
       "      <td>1.098612</td>\n",
       "      <td>0.0</td>\n",
       "      <td>1.098612</td>\n",
       "      <td>1.098612</td>\n",
       "      <td>0.405465</td>\n",
       "      <td>0.405465</td>\n",
       "      <td>1.098612</td>\n",
       "      <td>0.0</td>\n",
       "      <td>0.405465</td>\n",
       "      <td>...</td>\n",
       "      <td>0.000000</td>\n",
       "      <td>0.000000</td>\n",
       "      <td>0.000000</td>\n",
       "      <td>0.000000</td>\n",
       "      <td>0.000000</td>\n",
       "      <td>0.000000</td>\n",
       "      <td>0.000000</td>\n",
       "      <td>0.000000</td>\n",
       "      <td>0.000000</td>\n",
       "      <td>0.000000</td>\n",
       "    </tr>\n",
       "    <tr>\n",
       "      <th>AQR</th>\n",
       "      <td>0.0</td>\n",
       "      <td>0.000000</td>\n",
       "      <td>0.0</td>\n",
       "      <td>0.000000</td>\n",
       "      <td>0.000000</td>\n",
       "      <td>0.405465</td>\n",
       "      <td>0.405465</td>\n",
       "      <td>0.000000</td>\n",
       "      <td>0.0</td>\n",
       "      <td>0.000000</td>\n",
       "      <td>...</td>\n",
       "      <td>0.000000</td>\n",
       "      <td>0.000000</td>\n",
       "      <td>0.000000</td>\n",
       "      <td>0.000000</td>\n",
       "      <td>0.000000</td>\n",
       "      <td>0.000000</td>\n",
       "      <td>0.000000</td>\n",
       "      <td>0.000000</td>\n",
       "      <td>0.000000</td>\n",
       "      <td>0.000000</td>\n",
       "    </tr>\n",
       "    <tr>\n",
       "      <th>QMSS</th>\n",
       "      <td>0.0</td>\n",
       "      <td>0.000000</td>\n",
       "      <td>0.0</td>\n",
       "      <td>0.000000</td>\n",
       "      <td>0.000000</td>\n",
       "      <td>0.000000</td>\n",
       "      <td>0.000000</td>\n",
       "      <td>0.000000</td>\n",
       "      <td>0.0</td>\n",
       "      <td>0.405465</td>\n",
       "      <td>...</td>\n",
       "      <td>1.098612</td>\n",
       "      <td>1.098612</td>\n",
       "      <td>1.098612</td>\n",
       "      <td>1.098612</td>\n",
       "      <td>1.098612</td>\n",
       "      <td>1.098612</td>\n",
       "      <td>1.098612</td>\n",
       "      <td>1.098612</td>\n",
       "      <td>1.098612</td>\n",
       "      <td>1.098612</td>\n",
       "    </tr>\n",
       "  </tbody>\n",
       "</table>\n",
       "<p>3 rows × 227 columns</p>\n",
       "</div>"
      ],
      "text/plain": [
       "      academ    accord  acquir   address       adn    advanc     allow  \\\n",
       "A3SR     0.0  1.098612     0.0  1.098612  1.098612  0.405465  0.405465   \n",
       "AQR      0.0  0.000000     0.0  0.000000  0.000000  0.405465  0.405465   \n",
       "QMSS     0.0  0.000000     0.0  0.000000  0.000000  0.000000  0.000000   \n",
       "\n",
       "      american  analysi    analyt    ...     research_method    return  \\\n",
       "A3SR  1.098612      0.0  0.405465    ...            0.000000  0.000000   \n",
       "AQR   0.000000      0.0  0.000000    ...            0.000000  0.000000   \n",
       "QMSS  0.000000      0.0  0.405465    ...            1.098612  1.098612   \n",
       "\n",
       "        school     sever  sociolog  undergradu     uniqu      vari    within  \\\n",
       "A3SR  0.000000  0.000000  0.000000    0.000000  0.000000  0.000000  0.000000   \n",
       "AQR   0.000000  0.000000  0.000000    0.000000  0.000000  0.000000  0.000000   \n",
       "QMSS  1.098612  1.098612  1.098612    1.098612  1.098612  1.098612  1.098612   \n",
       "\n",
       "       written  \n",
       "A3SR  0.000000  \n",
       "AQR   0.000000  \n",
       "QMSS  1.098612  \n",
       "\n",
       "[3 rows x 227 columns]"
      ]
     },
     "execution_count": 18,
     "metadata": {},
     "output_type": "execute_result"
    }
   ],
   "source": [
    "idf = np.log(dtm_df.shape[0]/dtm_df.sum(axis=0))\n",
    "tfidf = dtm_df * idf\n",
    "tfidf"
   ]
  },
  {
   "cell_type": "code",
   "execution_count": 31,
   "metadata": {},
   "outputs": [
    {
     "data": {
      "text/plain": [
       "Index(['societi', 'key', 'partnership', 'particular', 'offer', 'nearli',\n",
       "       'nation', 'methodolog', 'meet', 'media'],\n",
       "      dtype='object')"
      ]
     },
     "execution_count": 31,
     "metadata": {},
     "output_type": "execute_result"
    }
   ],
   "source": [
    "# top 10 terms per document by tf-idf\n",
    "tfidf.T.sort_values('A3SR', ascending=False)['A3SR'][:10].index"
   ]
  },
  {
   "cell_type": "code",
   "execution_count": 30,
   "metadata": {},
   "outputs": [
    {
     "data": {
      "text/plain": [
       "Index(['togeth', 'cutting-edg', 'employ', 'percentag', 'evalu', 'feder',\n",
       "       'financ', 'govern', 'group', 'improv'],\n",
       "      dtype='object')"
      ]
     },
     "execution_count": 30,
     "metadata": {},
     "output_type": "execute_result"
    }
   ],
   "source": [
    "tfidf.T.sort_values('AQR', ascending=False)['AQR'][:10].index"
   ]
  },
  {
   "cell_type": "code",
   "execution_count": 29,
   "metadata": {},
   "outputs": [
    {
     "data": {
      "text/plain": [
       "Index(['written', 'emphasi', 'institut', 'histori', 'hand', 'half', 'full-tim',\n",
       "       'free-stand', 'focus', 'expertis'],\n",
       "      dtype='object')"
      ]
     },
     "execution_count": 29,
     "metadata": {},
     "output_type": "execute_result"
    }
   ],
   "source": [
    "tfidf.T.sort_values('QMSS', ascending=False)['QMSS'][:10].index"
   ]
  },
  {
   "cell_type": "markdown",
   "metadata": {},
   "source": [
    "## Relative frequencies"
   ]
  },
  {
   "cell_type": "code",
   "execution_count": 32,
   "metadata": {},
   "outputs": [
    {
     "data": {
      "text/html": [
       "<div>\n",
       "<style scoped>\n",
       "    .dataframe tbody tr th:only-of-type {\n",
       "        vertical-align: middle;\n",
       "    }\n",
       "\n",
       "    .dataframe tbody tr th {\n",
       "        vertical-align: top;\n",
       "    }\n",
       "\n",
       "    .dataframe thead th {\n",
       "        text-align: right;\n",
       "    }\n",
       "</style>\n",
       "<table border=\"1\" class=\"dataframe\">\n",
       "  <thead>\n",
       "    <tr style=\"text-align: right;\">\n",
       "      <th></th>\n",
       "      <th>academ</th>\n",
       "      <th>accord</th>\n",
       "      <th>acquir</th>\n",
       "      <th>address</th>\n",
       "      <th>adn</th>\n",
       "      <th>advanc</th>\n",
       "      <th>allow</th>\n",
       "      <th>american</th>\n",
       "      <th>analysi</th>\n",
       "      <th>analyt</th>\n",
       "      <th>...</th>\n",
       "      <th>research_method</th>\n",
       "      <th>return</th>\n",
       "      <th>school</th>\n",
       "      <th>sever</th>\n",
       "      <th>sociolog</th>\n",
       "      <th>undergradu</th>\n",
       "      <th>uniqu</th>\n",
       "      <th>vari</th>\n",
       "      <th>within</th>\n",
       "      <th>written</th>\n",
       "    </tr>\n",
       "  </thead>\n",
       "  <tbody>\n",
       "    <tr>\n",
       "      <th>A3SR</th>\n",
       "      <td>1.0</td>\n",
       "      <td>1.0</td>\n",
       "      <td>1.0</td>\n",
       "      <td>1.0</td>\n",
       "      <td>1.0</td>\n",
       "      <td>1.0</td>\n",
       "      <td>1.0</td>\n",
       "      <td>1.0</td>\n",
       "      <td>1.0</td>\n",
       "      <td>1.0</td>\n",
       "      <td>...</td>\n",
       "      <td>0.0</td>\n",
       "      <td>0.0</td>\n",
       "      <td>0.0</td>\n",
       "      <td>0.0</td>\n",
       "      <td>0.0</td>\n",
       "      <td>0.0</td>\n",
       "      <td>0.0</td>\n",
       "      <td>0.0</td>\n",
       "      <td>0.0</td>\n",
       "      <td>0.0</td>\n",
       "    </tr>\n",
       "    <tr>\n",
       "      <th>AQR</th>\n",
       "      <td>1.0</td>\n",
       "      <td>0.0</td>\n",
       "      <td>1.0</td>\n",
       "      <td>0.0</td>\n",
       "      <td>0.0</td>\n",
       "      <td>1.0</td>\n",
       "      <td>1.0</td>\n",
       "      <td>0.0</td>\n",
       "      <td>2.0</td>\n",
       "      <td>0.0</td>\n",
       "      <td>...</td>\n",
       "      <td>0.0</td>\n",
       "      <td>0.0</td>\n",
       "      <td>0.0</td>\n",
       "      <td>0.0</td>\n",
       "      <td>0.0</td>\n",
       "      <td>0.0</td>\n",
       "      <td>0.0</td>\n",
       "      <td>0.0</td>\n",
       "      <td>0.0</td>\n",
       "      <td>0.0</td>\n",
       "    </tr>\n",
       "    <tr>\n",
       "      <th>QMSS</th>\n",
       "      <td>1.0</td>\n",
       "      <td>0.0</td>\n",
       "      <td>1.0</td>\n",
       "      <td>0.0</td>\n",
       "      <td>0.0</td>\n",
       "      <td>0.0</td>\n",
       "      <td>0.0</td>\n",
       "      <td>0.0</td>\n",
       "      <td>0.0</td>\n",
       "      <td>1.0</td>\n",
       "      <td>...</td>\n",
       "      <td>1.0</td>\n",
       "      <td>1.0</td>\n",
       "      <td>1.0</td>\n",
       "      <td>1.0</td>\n",
       "      <td>1.0</td>\n",
       "      <td>1.0</td>\n",
       "      <td>1.0</td>\n",
       "      <td>1.0</td>\n",
       "      <td>1.0</td>\n",
       "      <td>1.0</td>\n",
       "    </tr>\n",
       "  </tbody>\n",
       "</table>\n",
       "<p>3 rows × 227 columns</p>\n",
       "</div>"
      ],
      "text/plain": [
       "      academ  accord  acquir  address  adn  advanc  allow  american  analysi  \\\n",
       "A3SR     1.0     1.0     1.0      1.0  1.0     1.0    1.0       1.0      1.0   \n",
       "AQR      1.0     0.0     1.0      0.0  0.0     1.0    1.0       0.0      2.0   \n",
       "QMSS     1.0     0.0     1.0      0.0  0.0     0.0    0.0       0.0      0.0   \n",
       "\n",
       "      analyt   ...     research_method  return  school  sever  sociolog  \\\n",
       "A3SR     1.0   ...                 0.0     0.0     0.0    0.0       0.0   \n",
       "AQR      0.0   ...                 0.0     0.0     0.0    0.0       0.0   \n",
       "QMSS     1.0   ...                 1.0     1.0     1.0    1.0       1.0   \n",
       "\n",
       "      undergradu  uniqu  vari  within  written  \n",
       "A3SR         0.0    0.0   0.0     0.0      0.0  \n",
       "AQR          0.0    0.0   0.0     0.0      0.0  \n",
       "QMSS         1.0    1.0   1.0     1.0      1.0  \n",
       "\n",
       "[3 rows x 227 columns]"
      ]
     },
     "execution_count": 32,
     "metadata": {},
     "output_type": "execute_result"
    }
   ],
   "source": [
    "dtm_df.head()"
   ]
  },
  {
   "cell_type": "code",
   "execution_count": 33,
   "metadata": {},
   "outputs": [
    {
     "data": {
      "text/html": [
       "<div>\n",
       "<style scoped>\n",
       "    .dataframe tbody tr th:only-of-type {\n",
       "        vertical-align: middle;\n",
       "    }\n",
       "\n",
       "    .dataframe tbody tr th {\n",
       "        vertical-align: top;\n",
       "    }\n",
       "\n",
       "    .dataframe thead th {\n",
       "        text-align: right;\n",
       "    }\n",
       "</style>\n",
       "<table border=\"1\" class=\"dataframe\">\n",
       "  <thead>\n",
       "    <tr style=\"text-align: right;\">\n",
       "      <th></th>\n",
       "      <th>A3SR</th>\n",
       "      <th>AQR</th>\n",
       "      <th>QMSS</th>\n",
       "    </tr>\n",
       "  </thead>\n",
       "  <tbody>\n",
       "    <tr>\n",
       "      <th>academ</th>\n",
       "      <td>0.004831</td>\n",
       "      <td>0.008475</td>\n",
       "      <td>0.007407</td>\n",
       "    </tr>\n",
       "    <tr>\n",
       "      <th>accord</th>\n",
       "      <td>0.004831</td>\n",
       "      <td>0.000000</td>\n",
       "      <td>0.000000</td>\n",
       "    </tr>\n",
       "    <tr>\n",
       "      <th>acquir</th>\n",
       "      <td>0.004831</td>\n",
       "      <td>0.008475</td>\n",
       "      <td>0.007407</td>\n",
       "    </tr>\n",
       "    <tr>\n",
       "      <th>address</th>\n",
       "      <td>0.004831</td>\n",
       "      <td>0.000000</td>\n",
       "      <td>0.000000</td>\n",
       "    </tr>\n",
       "    <tr>\n",
       "      <th>adn</th>\n",
       "      <td>0.004831</td>\n",
       "      <td>0.000000</td>\n",
       "      <td>0.000000</td>\n",
       "    </tr>\n",
       "  </tbody>\n",
       "</table>\n",
       "</div>"
      ],
      "text/plain": [
       "             A3SR       AQR      QMSS\n",
       "academ   0.004831  0.008475  0.007407\n",
       "accord   0.004831  0.000000  0.000000\n",
       "acquir   0.004831  0.008475  0.007407\n",
       "address  0.004831  0.000000  0.000000\n",
       "adn      0.004831  0.000000  0.000000"
      ]
     },
     "execution_count": 33,
     "metadata": {},
     "output_type": "execute_result"
    }
   ],
   "source": [
    "dtm_T_freq = dtm_df.T\n",
    "dtm_T_freq['A3SR'] = dtm_T_freq['A3SR'].apply(lambda x: x/dtm_T_freq['A3SR'].sum())\n",
    "dtm_T_freq['AQR'] = dtm_T_freq['AQR'].apply(lambda x: x/dtm_T_freq['AQR'].sum())\n",
    "dtm_T_freq['QMSS'] = dtm_T_freq['QMSS'].apply(lambda x: x/dtm_T_freq['QMSS'].sum())\n",
    "\n",
    "dtm_T_freq.head()"
   ]
  },
  {
   "cell_type": "markdown",
   "metadata": {},
   "source": [
    "#### Words most like QMSS and least like A3SR"
   ]
  },
  {
   "cell_type": "code",
   "execution_count": 35,
   "metadata": {},
   "outputs": [
    {
     "data": {
      "text/html": [
       "<div>\n",
       "<style scoped>\n",
       "    .dataframe tbody tr th:only-of-type {\n",
       "        vertical-align: middle;\n",
       "    }\n",
       "\n",
       "    .dataframe tbody tr th {\n",
       "        vertical-align: top;\n",
       "    }\n",
       "\n",
       "    .dataframe thead th {\n",
       "        text-align: right;\n",
       "    }\n",
       "</style>\n",
       "<table border=\"1\" class=\"dataframe\">\n",
       "  <thead>\n",
       "    <tr style=\"text-align: right;\">\n",
       "      <th></th>\n",
       "      <th>A3SR</th>\n",
       "      <th>AQR</th>\n",
       "      <th>QMSS</th>\n",
       "      <th>ratio</th>\n",
       "    </tr>\n",
       "  </thead>\n",
       "  <tbody>\n",
       "    <tr>\n",
       "      <th>qmss</th>\n",
       "      <td>0.000000</td>\n",
       "      <td>0.000000</td>\n",
       "      <td>0.037037</td>\n",
       "      <td>0.037037</td>\n",
       "    </tr>\n",
       "    <tr>\n",
       "      <th>student</th>\n",
       "      <td>0.038647</td>\n",
       "      <td>0.033898</td>\n",
       "      <td>0.059259</td>\n",
       "      <td>0.020612</td>\n",
       "    </tr>\n",
       "    <tr>\n",
       "      <th>quantit</th>\n",
       "      <td>0.004831</td>\n",
       "      <td>0.033898</td>\n",
       "      <td>0.022222</td>\n",
       "      <td>0.017391</td>\n",
       "    </tr>\n",
       "    <tr>\n",
       "      <th>year</th>\n",
       "      <td>0.004831</td>\n",
       "      <td>0.000000</td>\n",
       "      <td>0.022222</td>\n",
       "      <td>0.017391</td>\n",
       "    </tr>\n",
       "    <tr>\n",
       "      <th>incom</th>\n",
       "      <td>0.000000</td>\n",
       "      <td>0.000000</td>\n",
       "      <td>0.014815</td>\n",
       "      <td>0.014815</td>\n",
       "    </tr>\n",
       "    <tr>\n",
       "      <th>directli</th>\n",
       "      <td>0.000000</td>\n",
       "      <td>0.000000</td>\n",
       "      <td>0.014815</td>\n",
       "      <td>0.014815</td>\n",
       "    </tr>\n",
       "    <tr>\n",
       "      <th>art</th>\n",
       "      <td>0.000000</td>\n",
       "      <td>0.000000</td>\n",
       "      <td>0.014815</td>\n",
       "      <td>0.014815</td>\n",
       "    </tr>\n",
       "    <tr>\n",
       "      <th>program</th>\n",
       "      <td>0.038647</td>\n",
       "      <td>0.067797</td>\n",
       "      <td>0.051852</td>\n",
       "      <td>0.013205</td>\n",
       "    </tr>\n",
       "    <tr>\n",
       "      <th>research</th>\n",
       "      <td>0.024155</td>\n",
       "      <td>0.033898</td>\n",
       "      <td>0.037037</td>\n",
       "      <td>0.012882</td>\n",
       "    </tr>\n",
       "    <tr>\n",
       "      <th>scienc</th>\n",
       "      <td>0.033816</td>\n",
       "      <td>0.016949</td>\n",
       "      <td>0.044444</td>\n",
       "      <td>0.010628</td>\n",
       "    </tr>\n",
       "    <tr>\n",
       "      <th>social</th>\n",
       "      <td>0.019324</td>\n",
       "      <td>0.016949</td>\n",
       "      <td>0.029630</td>\n",
       "      <td>0.010306</td>\n",
       "    </tr>\n",
       "    <tr>\n",
       "      <th>econom</th>\n",
       "      <td>0.004831</td>\n",
       "      <td>0.000000</td>\n",
       "      <td>0.014815</td>\n",
       "      <td>0.009984</td>\n",
       "    </tr>\n",
       "    <tr>\n",
       "      <th>experi</th>\n",
       "      <td>0.004831</td>\n",
       "      <td>0.000000</td>\n",
       "      <td>0.014815</td>\n",
       "      <td>0.009984</td>\n",
       "    </tr>\n",
       "    <tr>\n",
       "      <th>skill</th>\n",
       "      <td>0.004831</td>\n",
       "      <td>0.000000</td>\n",
       "      <td>0.014815</td>\n",
       "      <td>0.009984</td>\n",
       "    </tr>\n",
       "    <tr>\n",
       "      <th>techniqu</th>\n",
       "      <td>0.004831</td>\n",
       "      <td>0.016949</td>\n",
       "      <td>0.014815</td>\n",
       "      <td>0.009984</td>\n",
       "    </tr>\n",
       "  </tbody>\n",
       "</table>\n",
       "</div>"
      ],
      "text/plain": [
       "              A3SR       AQR      QMSS     ratio\n",
       "qmss      0.000000  0.000000  0.037037  0.037037\n",
       "student   0.038647  0.033898  0.059259  0.020612\n",
       "quantit   0.004831  0.033898  0.022222  0.017391\n",
       "year      0.004831  0.000000  0.022222  0.017391\n",
       "incom     0.000000  0.000000  0.014815  0.014815\n",
       "directli  0.000000  0.000000  0.014815  0.014815\n",
       "art       0.000000  0.000000  0.014815  0.014815\n",
       "program   0.038647  0.067797  0.051852  0.013205\n",
       "research  0.024155  0.033898  0.037037  0.012882\n",
       "scienc    0.033816  0.016949  0.044444  0.010628\n",
       "social    0.019324  0.016949  0.029630  0.010306\n",
       "econom    0.004831  0.000000  0.014815  0.009984\n",
       "experi    0.004831  0.000000  0.014815  0.009984\n",
       "skill     0.004831  0.000000  0.014815  0.009984\n",
       "techniqu  0.004831  0.016949  0.014815  0.009984"
      ]
     },
     "execution_count": 35,
     "metadata": {},
     "output_type": "execute_result"
    }
   ],
   "source": [
    "dtm_T_freq['ratio'] = dtm_T_freq.QMSS - dtm_T_freq.A3SR\n",
    "sort_QMSS = dtm_T_freq.sort_values('ratio', ascending=False)\n",
    "sort_QMSS.head(15)"
   ]
  },
  {
   "cell_type": "markdown",
   "metadata": {},
   "source": [
    "#### Words most like A3SR and least like QMSS"
   ]
  },
  {
   "cell_type": "code",
   "execution_count": 37,
   "metadata": {},
   "outputs": [
    {
     "data": {
      "text/html": [
       "<div>\n",
       "<style scoped>\n",
       "    .dataframe tbody tr th:only-of-type {\n",
       "        vertical-align: middle;\n",
       "    }\n",
       "\n",
       "    .dataframe tbody tr th {\n",
       "        vertical-align: top;\n",
       "    }\n",
       "\n",
       "    .dataframe thead th {\n",
       "        text-align: right;\n",
       "    }\n",
       "</style>\n",
       "<table border=\"1\" class=\"dataframe\">\n",
       "  <thead>\n",
       "    <tr style=\"text-align: right;\">\n",
       "      <th></th>\n",
       "      <th>A3SR</th>\n",
       "      <th>AQR</th>\n",
       "      <th>QMSS</th>\n",
       "      <th>ratio</th>\n",
       "    </tr>\n",
       "  </thead>\n",
       "  <tbody>\n",
       "    <tr>\n",
       "      <th>statist</th>\n",
       "      <td>0.038647</td>\n",
       "      <td>0.016949</td>\n",
       "      <td>0.007407</td>\n",
       "      <td>-0.031240</td>\n",
       "    </tr>\n",
       "    <tr>\n",
       "      <th>data</th>\n",
       "      <td>0.028986</td>\n",
       "      <td>0.008475</td>\n",
       "      <td>0.000000</td>\n",
       "      <td>-0.028986</td>\n",
       "    </tr>\n",
       "    <tr>\n",
       "      <th>behavior</th>\n",
       "      <td>0.014493</td>\n",
       "      <td>0.000000</td>\n",
       "      <td>0.000000</td>\n",
       "      <td>-0.014493</td>\n",
       "    </tr>\n",
       "    <tr>\n",
       "      <th>health</th>\n",
       "      <td>0.014493</td>\n",
       "      <td>0.000000</td>\n",
       "      <td>0.000000</td>\n",
       "      <td>-0.014493</td>\n",
       "    </tr>\n",
       "    <tr>\n",
       "      <th>studi</th>\n",
       "      <td>0.019324</td>\n",
       "      <td>0.008475</td>\n",
       "      <td>0.007407</td>\n",
       "      <td>-0.011916</td>\n",
       "    </tr>\n",
       "    <tr>\n",
       "      <th>well-posit</th>\n",
       "      <td>0.009662</td>\n",
       "      <td>0.000000</td>\n",
       "      <td>0.000000</td>\n",
       "      <td>-0.009662</td>\n",
       "    </tr>\n",
       "    <tr>\n",
       "      <th>doctor</th>\n",
       "      <td>0.009662</td>\n",
       "      <td>0.008475</td>\n",
       "      <td>0.000000</td>\n",
       "      <td>-0.009662</td>\n",
       "    </tr>\n",
       "    <tr>\n",
       "      <th>one</th>\n",
       "      <td>0.009662</td>\n",
       "      <td>0.000000</td>\n",
       "      <td>0.000000</td>\n",
       "      <td>-0.009662</td>\n",
       "    </tr>\n",
       "    <tr>\n",
       "      <th>wide</th>\n",
       "      <td>0.009662</td>\n",
       "      <td>0.000000</td>\n",
       "      <td>0.000000</td>\n",
       "      <td>-0.009662</td>\n",
       "    </tr>\n",
       "    <tr>\n",
       "      <th>challeng</th>\n",
       "      <td>0.009662</td>\n",
       "      <td>0.000000</td>\n",
       "      <td>0.000000</td>\n",
       "      <td>-0.009662</td>\n",
       "    </tr>\n",
       "    <tr>\n",
       "      <th>pursu</th>\n",
       "      <td>0.009662</td>\n",
       "      <td>0.000000</td>\n",
       "      <td>0.000000</td>\n",
       "      <td>-0.009662</td>\n",
       "    </tr>\n",
       "    <tr>\n",
       "      <th>build</th>\n",
       "      <td>0.009662</td>\n",
       "      <td>0.000000</td>\n",
       "      <td>0.000000</td>\n",
       "      <td>-0.009662</td>\n",
       "    </tr>\n",
       "    <tr>\n",
       "      <th>focu</th>\n",
       "      <td>0.009662</td>\n",
       "      <td>0.000000</td>\n",
       "      <td>0.000000</td>\n",
       "      <td>-0.009662</td>\n",
       "    </tr>\n",
       "    <tr>\n",
       "      <th>public</th>\n",
       "      <td>0.009662</td>\n",
       "      <td>0.008475</td>\n",
       "      <td>0.000000</td>\n",
       "      <td>-0.009662</td>\n",
       "    </tr>\n",
       "    <tr>\n",
       "      <th>varieti</th>\n",
       "      <td>0.009662</td>\n",
       "      <td>0.008475</td>\n",
       "      <td>0.000000</td>\n",
       "      <td>-0.009662</td>\n",
       "    </tr>\n",
       "  </tbody>\n",
       "</table>\n",
       "</div>"
      ],
      "text/plain": [
       "                A3SR       AQR      QMSS     ratio\n",
       "statist     0.038647  0.016949  0.007407 -0.031240\n",
       "data        0.028986  0.008475  0.000000 -0.028986\n",
       "behavior    0.014493  0.000000  0.000000 -0.014493\n",
       "health      0.014493  0.000000  0.000000 -0.014493\n",
       "studi       0.019324  0.008475  0.007407 -0.011916\n",
       "well-posit  0.009662  0.000000  0.000000 -0.009662\n",
       "doctor      0.009662  0.008475  0.000000 -0.009662\n",
       "one         0.009662  0.000000  0.000000 -0.009662\n",
       "wide        0.009662  0.000000  0.000000 -0.009662\n",
       "challeng    0.009662  0.000000  0.000000 -0.009662\n",
       "pursu       0.009662  0.000000  0.000000 -0.009662\n",
       "build       0.009662  0.000000  0.000000 -0.009662\n",
       "focu        0.009662  0.000000  0.000000 -0.009662\n",
       "public      0.009662  0.008475  0.000000 -0.009662\n",
       "varieti     0.009662  0.008475  0.000000 -0.009662"
      ]
     },
     "execution_count": 37,
     "metadata": {},
     "output_type": "execute_result"
    }
   ],
   "source": [
    "sort_A3SR = dtm_T_freq.sort_values('ratio')\n",
    "sort_A3SR.head(15)"
   ]
  },
  {
   "cell_type": "markdown",
   "metadata": {},
   "source": [
    "## Using clustering to determine authorship"
   ]
  },
  {
   "cell_type": "code",
   "execution_count": 99,
   "metadata": {},
   "outputs": [],
   "source": [
    "import os\n",
    "files = os.listdir('Data/sous/')\n",
    "\n",
    "files.remove('.DS_Store')"
   ]
  },
  {
   "cell_type": "code",
   "execution_count": 100,
   "metadata": {},
   "outputs": [],
   "source": [
    "sous = {}\n",
    "\n",
    "for d in files: \n",
    "    file_path = 'Data/sous/' + str(d)\n",
    "    with open(file_path, 'rb') as f:\n",
    "        f = [f.read().decode('utf8', 'ignore').replace('\\n', \" \").replace('\\r', '')]\n",
    "        sous[d] = f"
   ]
  },
  {
   "cell_type": "code",
   "execution_count": 106,
   "metadata": {},
   "outputs": [],
   "source": [
    "docids = sorted(sous.keys())\n",
    "addresses = [a for docid in docids for a in sous[docid]]\n",
    "\n",
    "from shorttext.utils import standard_text_preprocessor_1\n",
    "preprocessor1 = standard_text_preprocessor_1()\n",
    "\n",
    "# apply preprocessing\n",
    "corpus = [preprocessor1(a).split(' ') for a in addresses]\n",
    "\n",
    "corpus = [[w for w in d if w != ''] for d in corpus]"
   ]
  },
  {
   "cell_type": "code",
   "execution_count": 108,
   "metadata": {},
   "outputs": [],
   "source": [
    "dtm = DocumentTermMatrix(corpus)\n",
    "dtm_df = dtm.generate_dtm_dataframe()\n",
    "dtm_df.index = docids"
   ]
  },
  {
   "cell_type": "code",
   "execution_count": 109,
   "metadata": {},
   "outputs": [],
   "source": [
    "dist = 1 - cosine_similarity(dtm_df)"
   ]
  },
  {
   "cell_type": "code",
   "execution_count": 110,
   "metadata": {},
   "outputs": [
    {
     "data": {
      "image/png": "[encoded data removed]",
      "text/plain": [
       "<Figure size 1080x1440 with 1 Axes>"
      ]
     },
     "metadata": {},
     "output_type": "display_data"
    }
   ],
   "source": [
    "from scipy.cluster.hierarchy import ward, dendrogram\n",
    "\n",
    "linkage_matrix = ward(dist)\n",
    "\n",
    "fig, ax = plt.subplots(figsize=(15, 20)) # set size\n",
    "ax = dendrogram(linkage_matrix, orientation=\"right\", labels=docids)"
   ]
  },
  {
   "cell_type": "code",
   "execution_count": null,
   "metadata": {},
   "outputs": [],
   "source": []
  }
 ],
 "metadata": {
  "kernelspec": {
   "display_name": "py36",
   "language": "python",
   "name": "py36"
  },
  "language_info": {
   "codemirror_mode": {
    "name": "ipython",
    "version": 3
   },
   "file_extension": ".py",
   "mimetype": "text/x-python",
   "name": "python",
   "nbconvert_exporter": "python",
   "pygments_lexer": "ipython3",
   "version": "3.6.5"
  }
 },
 "nbformat": 4,
 "nbformat_minor": 2
}
